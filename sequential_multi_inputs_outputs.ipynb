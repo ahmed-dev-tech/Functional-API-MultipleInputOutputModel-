{
  "nbformat": 4,
  "nbformat_minor": 0,
  "metadata": {
    "kernelspec": {
      "display_name": "Python 3",
      "language": "python",
      "name": "python3"
    },
    "language_info": {
      "codemirror_mode": {
        "name": "ipython",
        "version": 3
      },
      "file_extension": ".py",
      "mimetype": "text/x-python",
      "name": "python",
      "nbconvert_exporter": "python",
      "pygments_lexer": "ipython3",
      "version": "3.7.1"
    },
    "colab": {
      "name": "sequential_multi_inputs_outputs.ipynb",
      "provenance": [],
      "collapsed_sections": [
        "Vw_mtaCSKURC",
        "m5zoXn36KURd",
        "FCXImgxwKURi",
        "LogIRCGRKURr",
        "2D5WmZvkKURz",
        "XEKAybugKUSD",
        "9rOpqQVNKUSO",
        "1fn43vXfKUSj",
        "wQunv2imKUTH",
        "lLnXno5vKUUH",
        "hT_nP5czKUUe",
        "gZ615uKaKUUv",
        "yclV6KiFKUU3",
        "cMYjnJDIKUVC"
      ],
      "toc_visible": true,
      "include_colab_link": true
    }
  },
  "cells": [
    {
      "cell_type": "markdown",
      "metadata": {
        "id": "view-in-github",
        "colab_type": "text"
      },
      "source": [
        "<a href=\"https://colab.research.google.com/github/ahmed-dev-tech/Functional-API-MultipleInputOutputModel-/blob/main/sequential_multi_inputs_outputs.ipynb\" target=\"_parent\"><img src=\"https://colab.research.google.com/assets/colab-badge.svg\" alt=\"Open In Colab\"/></a>"
      ]
    },
    {
      "cell_type": "code",
      "metadata": {
        "scrolled": false,
        "id": "teOpfw0hKUQh",
        "colab": {
          "base_uri": "https://localhost:8080/"
        },
        "outputId": "f504b591-9d2b-47ec-868b-c2fe0a7c0cdc"
      },
      "source": [
        "import tensorflow as tf\n",
        "print(tf.__version__)"
      ],
      "execution_count": null,
      "outputs": [
        {
          "output_type": "stream",
          "text": [
            "2.4.0\n"
          ],
          "name": "stdout"
        }
      ]
    },
    {
      "cell_type": "markdown",
      "metadata": {
        "id": "2U6iIpalKUQr"
      },
      "source": [
        "# The Keras functional API"
      ]
    },
    {
      "cell_type": "markdown",
      "metadata": {
        "id": "jIoR--DrKUQs"
      },
      "source": [
        " ## Coding tutorials\n",
        " #### [1. Multiple inputs and outputs](#coding_tutorial_1)\n",
        " #### [2. Tensors and Variables](#coding_tutorial_2)\n",
        " #### [3. Accessing model layers](#coding_tutorial_3)\n",
        " #### [4. Freezing layers](#coding_tutorial_4)"
      ]
    },
    {
      "cell_type": "markdown",
      "metadata": {
        "id": "qhZ0R9arKUQt"
      },
      "source": [
        "***\n",
        "<a id=\"coding_tutorial_1\"></a>\n",
        "## Multiple inputs and outputs"
      ]
    },
    {
      "cell_type": "code",
      "metadata": {
        "scrolled": false,
        "id": "Atjv7GqMKUQu"
      },
      "source": [
        "import numpy as np\n",
        "import pandas as pd\n",
        "import matplotlib.pyplot as plt\n",
        "%matplotlib inline"
      ],
      "execution_count": null,
      "outputs": []
    },
    {
      "cell_type": "markdown",
      "metadata": {
        "id": "CCNmLCsKKUQy"
      },
      "source": [
        "#### Load the acute inflammations dataset\n",
        "\n",
        "The `acute inflammations` was created by a medical expert as a data set to test the expert system, which will perform the presumptive diagnosis of two diseases of the urinary system. You can find out more about the dataset [here](https://archive.ics.uci.edu/ml/datasets/Acute+Inflammations).\n",
        "\n",
        "Attribute information:\n",
        "\n",
        "Inputs:\n",
        "- Temperature of patient : 35C-42C\n",
        "- Occurrence of nausea : yes/no\n",
        "- Lumbar pain : yes/no\n",
        "- Urine pushing (continuous need for urination) : yes/no\n",
        "- Micturition pains : yes/no\n",
        "- Burning of urethra, itch, swelling of urethra outlet : yes/no\n",
        "\n",
        "Outputs:\n",
        "- decision 1: Inflammation of urinary bladder : yes/no\n",
        "- decision 2: Nephritis of renal pelvis origin : yes/no"
      ]
    },
    {
      "cell_type": "markdown",
      "metadata": {
        "id": "BsE7ATcyKV7E"
      },
      "source": [
        "#### Import the data\n",
        "\n",
        "The dataset required for this tutorial can be downloaded from the following link:\n",
        "\n",
        "https://drive.google.com/open?id=1CDPQSqpI7OjNIgOERWaI-BlQMI6vjzb9\n",
        "\n",
        "You should store this file in Drive for use in this Colab notebook."
      ]
    },
    {
      "cell_type": "markdown",
      "metadata": {
        "id": "mldOoZD-KUQ0"
      },
      "source": [
        "#### Load the data"
      ]
    },
    {
      "cell_type": "code",
      "metadata": {
        "id": "uM2ETK5qKXDq",
        "colab": {
          "base_uri": "https://localhost:8080/"
        },
        "outputId": "a0b4c784-03c6-48f0-8c87-1a2aeb68fb00"
      },
      "source": [
        "# Run this cell to connect to your Drive folder\n",
        "\n",
        "from google.colab import drive\n",
        "drive.mount('/content/gdrive')"
      ],
      "execution_count": null,
      "outputs": [
        {
          "output_type": "stream",
          "text": [
            "Mounted at /content/gdrive\n"
          ],
          "name": "stdout"
        }
      ]
    },
    {
      "cell_type": "code",
      "metadata": {
        "scrolled": false,
        "id": "__6I4CYqKUQ1"
      },
      "source": [
        "# Load the dataset\n",
        "\n",
        "from sklearn.model_selection import train_test_split\n",
        "\n",
        "pd_dat = pd.read_csv('/content/gdrive/MyDrive/datasets/diagnosis.csv')\n",
        "dataset = pd_dat.values"
      ],
      "execution_count": null,
      "outputs": []
    },
    {
      "cell_type": "code",
      "metadata": {
        "scrolled": false,
        "id": "-wVA5JI8KUQ5"
      },
      "source": [
        "# Build train and test data splits\n",
        "\n",
        "X_train, X_test, Y_train, Y_test = train_test_split(dataset[:,:6], dataset[:,6:], test_size=0.33)"
      ],
      "execution_count": null,
      "outputs": []
    },
    {
      "cell_type": "code",
      "metadata": {
        "scrolled": false,
        "id": "K03GPQNZKUQ9"
      },
      "source": [
        "# Assign training and testing inputs/outputs\n",
        "\n",
        "temp_train, nocc_train, lumbp_train, up_train, mict_train, bis_train = np.transpose(X_train)\n",
        "temp_test, nocc_test, lumbp_test, up_test, mict_test, bis_test = np.transpose(X_test)\n",
        "\n",
        "inflam_train, nephr_train = Y_train[:, 0], Y_train[:, 1]\n",
        "inflam_test, nephr_test = Y_test[:, 0], Y_test[:, 1]"
      ],
      "execution_count": null,
      "outputs": []
    },
    {
      "cell_type": "markdown",
      "metadata": {
        "id": "Vw_mtaCSKURC"
      },
      "source": [
        "#### Build the model"
      ]
    },
    {
      "cell_type": "code",
      "metadata": {
        "scrolled": false,
        "id": "Xjtuk2OmKURE"
      },
      "source": [
        "# Build the input layers\n",
        "from tensorflow.keras import Input,layers\n",
        "inp_shape=(1,)\n",
        "temperature=Input(shape=inp_shape,name=\"temp\")\n",
        "nausea_occurence=Input(shape=inp_shape,name=\"nocc\")\n",
        "lumbar_pain=Input(shape=inp_shape,name=\"lumbp\")\n",
        "urine_pushing=Input(shape=inp_shape,name=\"up\")\n",
        "micturition_pains=Input(shape=inp_shape,name=\"mict\")\n",
        "bis=Input(shape=inp_shape,name=\"bis\")"
      ],
      "execution_count": null,
      "outputs": []
    },
    {
      "cell_type": "code",
      "metadata": {
        "scrolled": true,
        "id": "rJDt1D0LKURI"
      },
      "source": [
        "# Create a list of all the inputs\n",
        "\n",
        "list_inputs = [temperature, nausea_occurence, lumbar_pain, urine_pushing, \n",
        "               micturition_pains, bis]"
      ],
      "execution_count": null,
      "outputs": []
    },
    {
      "cell_type": "code",
      "metadata": {
        "scrolled": false,
        "id": "P41WGVnqKURM"
      },
      "source": [
        "# Merge all input features into a single large vector\n",
        "\n",
        "x = layers.concatenate(list_inputs)"
      ],
      "execution_count": null,
      "outputs": []
    },
    {
      "cell_type": "code",
      "metadata": {
        "colab": {
          "base_uri": "https://localhost:8080/"
        },
        "id": "bv2VsjVlGMEG",
        "outputId": "b0f92275-88b1-4e2b-b89e-e4e53803cfd7"
      },
      "source": [
        "x"
      ],
      "execution_count": null,
      "outputs": [
        {
          "output_type": "execute_result",
          "data": {
            "text/plain": [
              "<KerasTensor: shape=(None, 6) dtype=float32 (created by layer 'concatenate_4')>"
            ]
          },
          "metadata": {
            "tags": []
          },
          "execution_count": 46
        }
      ]
    },
    {
      "cell_type": "code",
      "metadata": {
        "scrolled": false,
        "id": "BKZOJR-PKURR"
      },
      "source": [
        "# Use a logistic regression classifier for disease prediction\n",
        "from tensorflow.keras.layers import Dense\n",
        "inflammation_pred=Dense(1, activation='sigmoid', name='inflam')(x)\n",
        "nephritis_pred=Dense(1, activation='sigmoid', name=\"nephriti\")(x)\n"
      ],
      "execution_count": null,
      "outputs": []
    },
    {
      "cell_type": "code",
      "metadata": {
        "scrolled": true,
        "id": "M2tESqXWKURV"
      },
      "source": [
        "# Create a list of all the outputs\n",
        "\n",
        "list_outputs = [inflammation_pred, nephritis_pred]"
      ],
      "execution_count": null,
      "outputs": []
    },
    {
      "cell_type": "code",
      "metadata": {
        "scrolled": false,
        "id": "AZFVEYX8KURZ"
      },
      "source": [
        "# Create the model object\n",
        "model=tf.keras.Model(inputs=list_inputs,outputs=list_outputs)\n"
      ],
      "execution_count": 61,
      "outputs": []
    },
    {
      "cell_type": "markdown",
      "metadata": {
        "id": "m5zoXn36KURd"
      },
      "source": [
        "#### Plot the model"
      ]
    },
    {
      "cell_type": "code",
      "metadata": {
        "scrolled": false,
        "id": "b3-_VOYiKURe",
        "colab": {
          "base_uri": "https://localhost:8080/",
          "height": 147
        },
        "outputId": "7e6f1fa0-5001-4fb3-f48e-4b8f69544878"
      },
      "source": [
        "# Display the multiple input/output model\n",
        "tf.keras.utils.plot_model(model,'multi_inp_out.jpg',show_shapes=True)\n"
      ],
      "execution_count": null,
      "outputs": [
        {
          "output_type": "execute_result",
          "data": {
            "image/jpeg": "[encoded data removed]",
            "text/plain": [
              "<IPython.core.display.Image object>"
            ]
          },
          "metadata": {
            "tags": []
          },
          "execution_count": 52
        }
      ]
    },
    {
      "cell_type": "markdown",
      "metadata": {
        "id": "FCXImgxwKURi"
      },
      "source": [
        "#### Compile the model"
      ]
    },
    {
      "cell_type": "code",
      "metadata": {
        "scrolled": true,
        "id": "MpGzpAeYKURn"
      },
      "source": [
        "# Compile the model\n",
        "model.compile(optimizer=tf.keras.optimizers.RMSprop(1e-3),loss=['binary_crossentropy','binary_crossentropy'],\n",
        "              metrics=['acc','mse'],\n",
        "              loss_weights=[1.,0.2])\n"
      ],
      "execution_count": 62,
      "outputs": []
    },
    {
      "cell_type": "markdown",
      "metadata": {
        "id": "LogIRCGRKURr"
      },
      "source": [
        "#### Fit the model "
      ]
    },
    {
      "cell_type": "code",
      "metadata": {
        "scrolled": false,
        "id": "WVDztBCHKURs"
      },
      "source": [
        "# Define training inputs and outputs\n",
        "\n",
        "inputs_train = {'temp': temp_train, 'nocc': nocc_train, 'lumbp': lumbp_train,\n",
        "                'up': up_train, 'mict': mict_train, 'bis': bis_train}\n",
        "\n",
        "outputs_train = {'inflam': inflam_train, 'nephriti': nephr_train}"
      ],
      "execution_count": 63,
      "outputs": []
    },
    {
      "cell_type": "code",
      "metadata": {
        "id": "JOQsDTHAdHIz"
      },
      "source": [
        "vx=[temp_test, nocc_test, lumbp_test, up_test, mict_test, bis_test]\r\n",
        "vy=[inflam_test, nephr_test]"
      ],
      "execution_count": 65,
      "outputs": []
    },
    {
      "cell_type": "code",
      "metadata": {
        "id": "Nd9z2B7NKURw",
        "colab": {
          "base_uri": "https://localhost:8080/"
        },
        "outputId": "eafb5f3e-5673-4c95-e5bb-dfbb591a13cb"
      },
      "source": [
        "# Train the model\n",
        "history=model.fit(inputs_train,outputs_train,epochs=1000,verbose=2,batch_size=128,validation_data=(vx,vy))\n"
      ],
      "execution_count": 69,
      "outputs": [
        {
          "output_type": "stream",
          "text": [
            "Epoch 1/1000\n",
            "1/1 - 0s - loss: 0.1690 - inflam_loss: 0.1449 - nephriti_loss: 0.1202 - inflam_acc: 1.0000 - inflam_mse: 0.0284 - nephriti_acc: 1.0000 - nephriti_mse: 0.0182 - val_loss: 0.1839 - val_inflam_loss: 0.1583 - val_nephriti_loss: 0.1279 - val_inflam_acc: 1.0000 - val_inflam_mse: 0.0332 - val_nephriti_acc: 1.0000 - val_nephriti_mse: 0.0188\n",
            "Epoch 2/1000\n",
            "1/1 - 0s - loss: 0.1689 - inflam_loss: 0.1449 - nephriti_loss: 0.1201 - inflam_acc: 1.0000 - inflam_mse: 0.0283 - nephriti_acc: 1.0000 - nephriti_mse: 0.0181 - val_loss: 0.1851 - val_inflam_loss: 0.1595 - val_nephriti_loss: 0.1279 - val_inflam_acc: 1.0000 - val_inflam_mse: 0.0339 - val_nephriti_acc: 1.0000 - val_nephriti_mse: 0.0188\n",
            "Epoch 3/1000\n",
            "1/1 - 0s - loss: 0.1688 - inflam_loss: 0.1448 - nephriti_loss: 0.1201 - inflam_acc: 1.0000 - inflam_mse: 0.0283 - nephriti_acc: 1.0000 - nephriti_mse: 0.0182 - val_loss: 0.1837 - val_inflam_loss: 0.1582 - val_nephriti_loss: 0.1278 - val_inflam_acc: 1.0000 - val_inflam_mse: 0.0331 - val_nephriti_acc: 1.0000 - val_nephriti_mse: 0.0187\n",
            "Epoch 4/1000\n",
            "1/1 - 0s - loss: 0.1687 - inflam_loss: 0.1447 - nephriti_loss: 0.1200 - inflam_acc: 1.0000 - inflam_mse: 0.0282 - nephriti_acc: 1.0000 - nephriti_mse: 0.0181 - val_loss: 0.1849 - val_inflam_loss: 0.1594 - val_nephriti_loss: 0.1278 - val_inflam_acc: 1.0000 - val_inflam_mse: 0.0338 - val_nephriti_acc: 1.0000 - val_nephriti_mse: 0.0188\n",
            "Epoch 5/1000\n",
            "1/1 - 0s - loss: 0.1686 - inflam_loss: 0.1446 - nephriti_loss: 0.1200 - inflam_acc: 1.0000 - inflam_mse: 0.0283 - nephriti_acc: 1.0000 - nephriti_mse: 0.0182 - val_loss: 0.1835 - val_inflam_loss: 0.1580 - val_nephriti_loss: 0.1276 - val_inflam_acc: 1.0000 - val_inflam_mse: 0.0331 - val_nephriti_acc: 1.0000 - val_nephriti_mse: 0.0187\n",
            "Epoch 6/1000\n",
            "1/1 - 0s - loss: 0.1685 - inflam_loss: 0.1445 - nephriti_loss: 0.1199 - inflam_acc: 1.0000 - inflam_mse: 0.0282 - nephriti_acc: 1.0000 - nephriti_mse: 0.0181 - val_loss: 0.1847 - val_inflam_loss: 0.1592 - val_nephriti_loss: 0.1276 - val_inflam_acc: 1.0000 - val_inflam_mse: 0.0338 - val_nephriti_acc: 1.0000 - val_nephriti_mse: 0.0188\n",
            "Epoch 7/1000\n",
            "1/1 - 0s - loss: 0.1684 - inflam_loss: 0.1445 - nephriti_loss: 0.1199 - inflam_acc: 1.0000 - inflam_mse: 0.0282 - nephriti_acc: 1.0000 - nephriti_mse: 0.0182 - val_loss: 0.1833 - val_inflam_loss: 0.1578 - val_nephriti_loss: 0.1275 - val_inflam_acc: 1.0000 - val_inflam_mse: 0.0330 - val_nephriti_acc: 1.0000 - val_nephriti_mse: 0.0187\n",
            "Epoch 8/1000\n",
            "1/1 - 0s - loss: 0.1683 - inflam_loss: 0.1444 - nephriti_loss: 0.1198 - inflam_acc: 1.0000 - inflam_mse: 0.0281 - nephriti_acc: 1.0000 - nephriti_mse: 0.0181 - val_loss: 0.1845 - val_inflam_loss: 0.1590 - val_nephriti_loss: 0.1275 - val_inflam_acc: 1.0000 - val_inflam_mse: 0.0337 - val_nephriti_acc: 1.0000 - val_nephriti_mse: 0.0188\n",
            "Epoch 9/1000\n",
            "1/1 - 0s - loss: 0.1683 - inflam_loss: 0.1443 - nephriti_loss: 0.1197 - inflam_acc: 1.0000 - inflam_mse: 0.0282 - nephriti_acc: 1.0000 - nephriti_mse: 0.0181 - val_loss: 0.1831 - val_inflam_loss: 0.1577 - val_nephriti_loss: 0.1274 - val_inflam_acc: 1.0000 - val_inflam_mse: 0.0330 - val_nephriti_acc: 1.0000 - val_nephriti_mse: 0.0186\n",
            "Epoch 10/1000\n",
            "1/1 - 0s - loss: 0.1682 - inflam_loss: 0.1442 - nephriti_loss: 0.1197 - inflam_acc: 1.0000 - inflam_mse: 0.0281 - nephriti_acc: 1.0000 - nephriti_mse: 0.0180 - val_loss: 0.1843 - val_inflam_loss: 0.1589 - val_nephriti_loss: 0.1274 - val_inflam_acc: 1.0000 - val_inflam_mse: 0.0337 - val_nephriti_acc: 1.0000 - val_nephriti_mse: 0.0187\n",
            "Epoch 11/1000\n",
            "1/1 - 0s - loss: 0.1681 - inflam_loss: 0.1442 - nephriti_loss: 0.1196 - inflam_acc: 1.0000 - inflam_mse: 0.0281 - nephriti_acc: 1.0000 - nephriti_mse: 0.0181 - val_loss: 0.1829 - val_inflam_loss: 0.1575 - val_nephriti_loss: 0.1273 - val_inflam_acc: 1.0000 - val_inflam_mse: 0.0329 - val_nephriti_acc: 1.0000 - val_nephriti_mse: 0.0186\n",
            "Epoch 12/1000\n",
            "1/1 - 0s - loss: 0.1680 - inflam_loss: 0.1441 - nephriti_loss: 0.1196 - inflam_acc: 1.0000 - inflam_mse: 0.0280 - nephriti_acc: 1.0000 - nephriti_mse: 0.0180 - val_loss: 0.1841 - val_inflam_loss: 0.1587 - val_nephriti_loss: 0.1273 - val_inflam_acc: 1.0000 - val_inflam_mse: 0.0336 - val_nephriti_acc: 1.0000 - val_nephriti_mse: 0.0187\n",
            "Epoch 13/1000\n",
            "1/1 - 0s - loss: 0.1679 - inflam_loss: 0.1440 - nephriti_loss: 0.1195 - inflam_acc: 1.0000 - inflam_mse: 0.0281 - nephriti_acc: 1.0000 - nephriti_mse: 0.0181 - val_loss: 0.1827 - val_inflam_loss: 0.1573 - val_nephriti_loss: 0.1271 - val_inflam_acc: 1.0000 - val_inflam_mse: 0.0329 - val_nephriti_acc: 1.0000 - val_nephriti_mse: 0.0186\n",
            "Epoch 14/1000\n",
            "1/1 - 0s - loss: 0.1678 - inflam_loss: 0.1439 - nephriti_loss: 0.1195 - inflam_acc: 1.0000 - inflam_mse: 0.0280 - nephriti_acc: 1.0000 - nephriti_mse: 0.0180 - val_loss: 0.1839 - val_inflam_loss: 0.1585 - val_nephriti_loss: 0.1271 - val_inflam_acc: 1.0000 - val_inflam_mse: 0.0336 - val_nephriti_acc: 1.0000 - val_nephriti_mse: 0.0187\n",
            "Epoch 15/1000\n",
            "1/1 - 0s - loss: 0.1677 - inflam_loss: 0.1438 - nephriti_loss: 0.1194 - inflam_acc: 1.0000 - inflam_mse: 0.0281 - nephriti_acc: 1.0000 - nephriti_mse: 0.0180 - val_loss: 0.1826 - val_inflam_loss: 0.1572 - val_nephriti_loss: 0.1270 - val_inflam_acc: 1.0000 - val_inflam_mse: 0.0328 - val_nephriti_acc: 1.0000 - val_nephriti_mse: 0.0186\n",
            "Epoch 16/1000\n",
            "1/1 - 0s - loss: 0.1676 - inflam_loss: 0.1438 - nephriti_loss: 0.1193 - inflam_acc: 1.0000 - inflam_mse: 0.0280 - nephriti_acc: 1.0000 - nephriti_mse: 0.0179 - val_loss: 0.1837 - val_inflam_loss: 0.1583 - val_nephriti_loss: 0.1270 - val_inflam_acc: 1.0000 - val_inflam_mse: 0.0335 - val_nephriti_acc: 1.0000 - val_nephriti_mse: 0.0186\n",
            "Epoch 17/1000\n",
            "1/1 - 0s - loss: 0.1675 - inflam_loss: 0.1437 - nephriti_loss: 0.1193 - inflam_acc: 1.0000 - inflam_mse: 0.0280 - nephriti_acc: 1.0000 - nephriti_mse: 0.0180 - val_loss: 0.1824 - val_inflam_loss: 0.1570 - val_nephriti_loss: 0.1269 - val_inflam_acc: 1.0000 - val_inflam_mse: 0.0328 - val_nephriti_acc: 1.0000 - val_nephriti_mse: 0.0185\n",
            "Epoch 18/1000\n",
            "1/1 - 0s - loss: 0.1675 - inflam_loss: 0.1436 - nephriti_loss: 0.1192 - inflam_acc: 1.0000 - inflam_mse: 0.0279 - nephriti_acc: 1.0000 - nephriti_mse: 0.0179 - val_loss: 0.1836 - val_inflam_loss: 0.1582 - val_nephriti_loss: 0.1269 - val_inflam_acc: 1.0000 - val_inflam_mse: 0.0335 - val_nephriti_acc: 1.0000 - val_nephriti_mse: 0.0186\n",
            "Epoch 19/1000\n",
            "1/1 - 0s - loss: 0.1674 - inflam_loss: 0.1435 - nephriti_loss: 0.1192 - inflam_acc: 1.0000 - inflam_mse: 0.0280 - nephriti_acc: 1.0000 - nephriti_mse: 0.0180 - val_loss: 0.1822 - val_inflam_loss: 0.1568 - val_nephriti_loss: 0.1268 - val_inflam_acc: 1.0000 - val_inflam_mse: 0.0327 - val_nephriti_acc: 1.0000 - val_nephriti_mse: 0.0185\n",
            "Epoch 20/1000\n",
            "1/1 - 0s - loss: 0.1673 - inflam_loss: 0.1435 - nephriti_loss: 0.1191 - inflam_acc: 1.0000 - inflam_mse: 0.0279 - nephriti_acc: 1.0000 - nephriti_mse: 0.0179 - val_loss: 0.1834 - val_inflam_loss: 0.1580 - val_nephriti_loss: 0.1268 - val_inflam_acc: 1.0000 - val_inflam_mse: 0.0334 - val_nephriti_acc: 1.0000 - val_nephriti_mse: 0.0186\n",
            "Epoch 21/1000\n",
            "1/1 - 0s - loss: 0.1672 - inflam_loss: 0.1434 - nephriti_loss: 0.1191 - inflam_acc: 1.0000 - inflam_mse: 0.0279 - nephriti_acc: 1.0000 - nephriti_mse: 0.0180 - val_loss: 0.1820 - val_inflam_loss: 0.1566 - val_nephriti_loss: 0.1267 - val_inflam_acc: 1.0000 - val_inflam_mse: 0.0327 - val_nephriti_acc: 1.0000 - val_nephriti_mse: 0.0185\n",
            "Epoch 22/1000\n",
            "1/1 - 0s - loss: 0.1671 - inflam_loss: 0.1433 - nephriti_loss: 0.1190 - inflam_acc: 1.0000 - inflam_mse: 0.0278 - nephriti_acc: 1.0000 - nephriti_mse: 0.0179 - val_loss: 0.1832 - val_inflam_loss: 0.1578 - val_nephriti_loss: 0.1267 - val_inflam_acc: 1.0000 - val_inflam_mse: 0.0334 - val_nephriti_acc: 1.0000 - val_nephriti_mse: 0.0185\n",
            "Epoch 23/1000\n",
            "1/1 - 0s - loss: 0.1670 - inflam_loss: 0.1432 - nephriti_loss: 0.1189 - inflam_acc: 1.0000 - inflam_mse: 0.0279 - nephriti_acc: 1.0000 - nephriti_mse: 0.0179 - val_loss: 0.1818 - val_inflam_loss: 0.1565 - val_nephriti_loss: 0.1265 - val_inflam_acc: 1.0000 - val_inflam_mse: 0.0326 - val_nephriti_acc: 1.0000 - val_nephriti_mse: 0.0184\n",
            "Epoch 24/1000\n",
            "1/1 - 0s - loss: 0.1669 - inflam_loss: 0.1432 - nephriti_loss: 0.1189 - inflam_acc: 1.0000 - inflam_mse: 0.0278 - nephriti_acc: 1.0000 - nephriti_mse: 0.0178 - val_loss: 0.1830 - val_inflam_loss: 0.1577 - val_nephriti_loss: 0.1265 - val_inflam_acc: 1.0000 - val_inflam_mse: 0.0333 - val_nephriti_acc: 1.0000 - val_nephriti_mse: 0.0185\n",
            "Epoch 25/1000\n",
            "1/1 - 0s - loss: 0.1668 - inflam_loss: 0.1431 - nephriti_loss: 0.1188 - inflam_acc: 1.0000 - inflam_mse: 0.0278 - nephriti_acc: 1.0000 - nephriti_mse: 0.0179 - val_loss: 0.1816 - val_inflam_loss: 0.1563 - val_nephriti_loss: 0.1264 - val_inflam_acc: 1.0000 - val_inflam_mse: 0.0326 - val_nephriti_acc: 1.0000 - val_nephriti_mse: 0.0184\n",
            "Epoch 26/1000\n",
            "1/1 - 0s - loss: 0.1668 - inflam_loss: 0.1430 - nephriti_loss: 0.1188 - inflam_acc: 1.0000 - inflam_mse: 0.0277 - nephriti_acc: 1.0000 - nephriti_mse: 0.0178 - val_loss: 0.1828 - val_inflam_loss: 0.1575 - val_nephriti_loss: 0.1264 - val_inflam_acc: 1.0000 - val_inflam_mse: 0.0333 - val_nephriti_acc: 1.0000 - val_nephriti_mse: 0.0185\n",
            "Epoch 27/1000\n",
            "1/1 - 0s - loss: 0.1667 - inflam_loss: 0.1429 - nephriti_loss: 0.1187 - inflam_acc: 1.0000 - inflam_mse: 0.0278 - nephriti_acc: 1.0000 - nephriti_mse: 0.0179 - val_loss: 0.1814 - val_inflam_loss: 0.1561 - val_nephriti_loss: 0.1263 - val_inflam_acc: 1.0000 - val_inflam_mse: 0.0325 - val_nephriti_acc: 1.0000 - val_nephriti_mse: 0.0184\n",
            "Epoch 28/1000\n",
            "1/1 - 0s - loss: 0.1666 - inflam_loss: 0.1428 - nephriti_loss: 0.1187 - inflam_acc: 1.0000 - inflam_mse: 0.0277 - nephriti_acc: 1.0000 - nephriti_mse: 0.0178 - val_loss: 0.1826 - val_inflam_loss: 0.1573 - val_nephriti_loss: 0.1263 - val_inflam_acc: 1.0000 - val_inflam_mse: 0.0332 - val_nephriti_acc: 1.0000 - val_nephriti_mse: 0.0185\n",
            "Epoch 29/1000\n",
            "1/1 - 0s - loss: 0.1665 - inflam_loss: 0.1428 - nephriti_loss: 0.1186 - inflam_acc: 1.0000 - inflam_mse: 0.0278 - nephriti_acc: 1.0000 - nephriti_mse: 0.0178 - val_loss: 0.1812 - val_inflam_loss: 0.1560 - val_nephriti_loss: 0.1262 - val_inflam_acc: 1.0000 - val_inflam_mse: 0.0325 - val_nephriti_acc: 1.0000 - val_nephriti_mse: 0.0184\n",
            "Epoch 30/1000\n",
            "1/1 - 0s - loss: 0.1664 - inflam_loss: 0.1427 - nephriti_loss: 0.1185 - inflam_acc: 1.0000 - inflam_mse: 0.0277 - nephriti_acc: 1.0000 - nephriti_mse: 0.0177 - val_loss: 0.1824 - val_inflam_loss: 0.1572 - val_nephriti_loss: 0.1262 - val_inflam_acc: 1.0000 - val_inflam_mse: 0.0332 - val_nephriti_acc: 1.0000 - val_nephriti_mse: 0.0184\n",
            "Epoch 31/1000\n",
            "1/1 - 0s - loss: 0.1663 - inflam_loss: 0.1426 - nephriti_loss: 0.1185 - inflam_acc: 1.0000 - inflam_mse: 0.0277 - nephriti_acc: 1.0000 - nephriti_mse: 0.0178 - val_loss: 0.1810 - val_inflam_loss: 0.1558 - val_nephriti_loss: 0.1261 - val_inflam_acc: 1.0000 - val_inflam_mse: 0.0324 - val_nephriti_acc: 1.0000 - val_nephriti_mse: 0.0183\n",
            "Epoch 32/1000\n",
            "1/1 - 0s - loss: 0.1662 - inflam_loss: 0.1425 - nephriti_loss: 0.1184 - inflam_acc: 1.0000 - inflam_mse: 0.0276 - nephriti_acc: 1.0000 - nephriti_mse: 0.0177 - val_loss: 0.1822 - val_inflam_loss: 0.1570 - val_nephriti_loss: 0.1260 - val_inflam_acc: 1.0000 - val_inflam_mse: 0.0331 - val_nephriti_acc: 1.0000 - val_nephriti_mse: 0.0184\n",
            "Epoch 33/1000\n",
            "1/1 - 0s - loss: 0.1661 - inflam_loss: 0.1425 - nephriti_loss: 0.1184 - inflam_acc: 1.0000 - inflam_mse: 0.0277 - nephriti_acc: 1.0000 - nephriti_mse: 0.0178 - val_loss: 0.1808 - val_inflam_loss: 0.1556 - val_nephriti_loss: 0.1259 - val_inflam_acc: 1.0000 - val_inflam_mse: 0.0324 - val_nephriti_acc: 1.0000 - val_nephriti_mse: 0.0183\n",
            "Epoch 34/1000\n",
            "1/1 - 0s - loss: 0.1660 - inflam_loss: 0.1424 - nephriti_loss: 0.1183 - inflam_acc: 1.0000 - inflam_mse: 0.0276 - nephriti_acc: 1.0000 - nephriti_mse: 0.0177 - val_loss: 0.1820 - val_inflam_loss: 0.1568 - val_nephriti_loss: 0.1259 - val_inflam_acc: 1.0000 - val_inflam_mse: 0.0331 - val_nephriti_acc: 1.0000 - val_nephriti_mse: 0.0184\n",
            "Epoch 35/1000\n",
            "1/1 - 0s - loss: 0.1660 - inflam_loss: 0.1423 - nephriti_loss: 0.1183 - inflam_acc: 1.0000 - inflam_mse: 0.0276 - nephriti_acc: 1.0000 - nephriti_mse: 0.0178 - val_loss: 0.1806 - val_inflam_loss: 0.1555 - val_nephriti_loss: 0.1258 - val_inflam_acc: 1.0000 - val_inflam_mse: 0.0323 - val_nephriti_acc: 1.0000 - val_nephriti_mse: 0.0183\n",
            "Epoch 36/1000\n",
            "1/1 - 0s - loss: 0.1659 - inflam_loss: 0.1422 - nephriti_loss: 0.1182 - inflam_acc: 1.0000 - inflam_mse: 0.0275 - nephriti_acc: 1.0000 - nephriti_mse: 0.0177 - val_loss: 0.1818 - val_inflam_loss: 0.1567 - val_nephriti_loss: 0.1258 - val_inflam_acc: 1.0000 - val_inflam_mse: 0.0330 - val_nephriti_acc: 1.0000 - val_nephriti_mse: 0.0183\n",
            "Epoch 37/1000\n",
            "1/1 - 0s - loss: 0.1658 - inflam_loss: 0.1422 - nephriti_loss: 0.1182 - inflam_acc: 1.0000 - inflam_mse: 0.0276 - nephriti_acc: 1.0000 - nephriti_mse: 0.0177 - val_loss: 0.1804 - val_inflam_loss: 0.1553 - val_nephriti_loss: 0.1257 - val_inflam_acc: 1.0000 - val_inflam_mse: 0.0323 - val_nephriti_acc: 1.0000 - val_nephriti_mse: 0.0182\n",
            "Epoch 38/1000\n",
            "1/1 - 0s - loss: 0.1657 - inflam_loss: 0.1421 - nephriti_loss: 0.1181 - inflam_acc: 1.0000 - inflam_mse: 0.0275 - nephriti_acc: 1.0000 - nephriti_mse: 0.0176 - val_loss: 0.1816 - val_inflam_loss: 0.1565 - val_nephriti_loss: 0.1257 - val_inflam_acc: 1.0000 - val_inflam_mse: 0.0330 - val_nephriti_acc: 1.0000 - val_nephriti_mse: 0.0183\n",
            "Epoch 39/1000\n",
            "1/1 - 0s - loss: 0.1656 - inflam_loss: 0.1420 - nephriti_loss: 0.1180 - inflam_acc: 1.0000 - inflam_mse: 0.0275 - nephriti_acc: 1.0000 - nephriti_mse: 0.0177 - val_loss: 0.1803 - val_inflam_loss: 0.1551 - val_nephriti_loss: 0.1256 - val_inflam_acc: 1.0000 - val_inflam_mse: 0.0322 - val_nephriti_acc: 1.0000 - val_nephriti_mse: 0.0182\n",
            "Epoch 40/1000\n",
            "1/1 - 0s - loss: 0.1655 - inflam_loss: 0.1419 - nephriti_loss: 0.1180 - inflam_acc: 1.0000 - inflam_mse: 0.0275 - nephriti_acc: 1.0000 - nephriti_mse: 0.0176 - val_loss: 0.1814 - val_inflam_loss: 0.1563 - val_nephriti_loss: 0.1256 - val_inflam_acc: 1.0000 - val_inflam_mse: 0.0329 - val_nephriti_acc: 1.0000 - val_nephriti_mse: 0.0183\n",
            "Epoch 41/1000\n",
            "1/1 - 0s - loss: 0.1654 - inflam_loss: 0.1419 - nephriti_loss: 0.1179 - inflam_acc: 1.0000 - inflam_mse: 0.0275 - nephriti_acc: 1.0000 - nephriti_mse: 0.0177 - val_loss: 0.1801 - val_inflam_loss: 0.1550 - val_nephriti_loss: 0.1255 - val_inflam_acc: 1.0000 - val_inflam_mse: 0.0322 - val_nephriti_acc: 1.0000 - val_nephriti_mse: 0.0182\n",
            "Epoch 42/1000\n",
            "1/1 - 0s - loss: 0.1653 - inflam_loss: 0.1418 - nephriti_loss: 0.1179 - inflam_acc: 1.0000 - inflam_mse: 0.0274 - nephriti_acc: 1.0000 - nephriti_mse: 0.0176 - val_loss: 0.1813 - val_inflam_loss: 0.1562 - val_nephriti_loss: 0.1254 - val_inflam_acc: 1.0000 - val_inflam_mse: 0.0329 - val_nephriti_acc: 1.0000 - val_nephriti_mse: 0.0182\n",
            "Epoch 43/1000\n",
            "1/1 - 0s - loss: 0.1653 - inflam_loss: 0.1417 - nephriti_loss: 0.1178 - inflam_acc: 1.0000 - inflam_mse: 0.0275 - nephriti_acc: 1.0000 - nephriti_mse: 0.0176 - val_loss: 0.1799 - val_inflam_loss: 0.1548 - val_nephriti_loss: 0.1253 - val_inflam_acc: 1.0000 - val_inflam_mse: 0.0321 - val_nephriti_acc: 1.0000 - val_nephriti_mse: 0.0181\n",
            "Epoch 44/1000\n",
            "1/1 - 0s - loss: 0.1652 - inflam_loss: 0.1416 - nephriti_loss: 0.1178 - inflam_acc: 1.0000 - inflam_mse: 0.0274 - nephriti_acc: 1.0000 - nephriti_mse: 0.0175 - val_loss: 0.1811 - val_inflam_loss: 0.1560 - val_nephriti_loss: 0.1253 - val_inflam_acc: 1.0000 - val_inflam_mse: 0.0328 - val_nephriti_acc: 1.0000 - val_nephriti_mse: 0.0182\n",
            "Epoch 45/1000\n",
            "1/1 - 0s - loss: 0.1651 - inflam_loss: 0.1415 - nephriti_loss: 0.1177 - inflam_acc: 1.0000 - inflam_mse: 0.0274 - nephriti_acc: 1.0000 - nephriti_mse: 0.0176 - val_loss: 0.1797 - val_inflam_loss: 0.1546 - val_nephriti_loss: 0.1252 - val_inflam_acc: 1.0000 - val_inflam_mse: 0.0321 - val_nephriti_acc: 1.0000 - val_nephriti_mse: 0.0181\n",
            "Epoch 46/1000\n",
            "1/1 - 0s - loss: 0.1650 - inflam_loss: 0.1415 - nephriti_loss: 0.1176 - inflam_acc: 1.0000 - inflam_mse: 0.0273 - nephriti_acc: 1.0000 - nephriti_mse: 0.0175 - val_loss: 0.1809 - val_inflam_loss: 0.1558 - val_nephriti_loss: 0.1252 - val_inflam_acc: 1.0000 - val_inflam_mse: 0.0328 - val_nephriti_acc: 1.0000 - val_nephriti_mse: 0.0182\n",
            "Epoch 47/1000\n",
            "1/1 - 0s - loss: 0.1649 - inflam_loss: 0.1414 - nephriti_loss: 0.1176 - inflam_acc: 1.0000 - inflam_mse: 0.0274 - nephriti_acc: 1.0000 - nephriti_mse: 0.0176 - val_loss: 0.1795 - val_inflam_loss: 0.1545 - val_nephriti_loss: 0.1251 - val_inflam_acc: 1.0000 - val_inflam_mse: 0.0320 - val_nephriti_acc: 1.0000 - val_nephriti_mse: 0.0181\n",
            "Epoch 48/1000\n",
            "1/1 - 0s - loss: 0.1648 - inflam_loss: 0.1413 - nephriti_loss: 0.1175 - inflam_acc: 1.0000 - inflam_mse: 0.0273 - nephriti_acc: 1.0000 - nephriti_mse: 0.0175 - val_loss: 0.1807 - val_inflam_loss: 0.1557 - val_nephriti_loss: 0.1251 - val_inflam_acc: 1.0000 - val_inflam_mse: 0.0327 - val_nephriti_acc: 1.0000 - val_nephriti_mse: 0.0182\n",
            "Epoch 49/1000\n",
            "1/1 - 0s - loss: 0.1647 - inflam_loss: 0.1412 - nephriti_loss: 0.1175 - inflam_acc: 1.0000 - inflam_mse: 0.0273 - nephriti_acc: 1.0000 - nephriti_mse: 0.0176 - val_loss: 0.1793 - val_inflam_loss: 0.1543 - val_nephriti_loss: 0.1250 - val_inflam_acc: 1.0000 - val_inflam_mse: 0.0320 - val_nephriti_acc: 1.0000 - val_nephriti_mse: 0.0181\n",
            "Epoch 50/1000\n",
            "1/1 - 0s - loss: 0.1647 - inflam_loss: 0.1412 - nephriti_loss: 0.1174 - inflam_acc: 1.0000 - inflam_mse: 0.0272 - nephriti_acc: 1.0000 - nephriti_mse: 0.0175 - val_loss: 0.1805 - val_inflam_loss: 0.1555 - val_nephriti_loss: 0.1250 - val_inflam_acc: 1.0000 - val_inflam_mse: 0.0327 - val_nephriti_acc: 1.0000 - val_nephriti_mse: 0.0181\n",
            "Epoch 51/1000\n",
            "1/1 - 0s - loss: 0.1646 - inflam_loss: 0.1411 - nephriti_loss: 0.1174 - inflam_acc: 1.0000 - inflam_mse: 0.0273 - nephriti_acc: 1.0000 - nephriti_mse: 0.0175 - val_loss: 0.1791 - val_inflam_loss: 0.1542 - val_nephriti_loss: 0.1249 - val_inflam_acc: 1.0000 - val_inflam_mse: 0.0319 - val_nephriti_acc: 1.0000 - val_nephriti_mse: 0.0180\n",
            "Epoch 52/1000\n",
            "1/1 - 0s - loss: 0.1645 - inflam_loss: 0.1410 - nephriti_loss: 0.1173 - inflam_acc: 1.0000 - inflam_mse: 0.0272 - nephriti_acc: 1.0000 - nephriti_mse: 0.0174 - val_loss: 0.1803 - val_inflam_loss: 0.1553 - val_nephriti_loss: 0.1248 - val_inflam_acc: 1.0000 - val_inflam_mse: 0.0326 - val_nephriti_acc: 1.0000 - val_nephriti_mse: 0.0181\n",
            "Epoch 53/1000\n",
            "1/1 - 0s - loss: 0.1644 - inflam_loss: 0.1409 - nephriti_loss: 0.1173 - inflam_acc: 1.0000 - inflam_mse: 0.0273 - nephriti_acc: 1.0000 - nephriti_mse: 0.0175 - val_loss: 0.1789 - val_inflam_loss: 0.1540 - val_nephriti_loss: 0.1247 - val_inflam_acc: 1.0000 - val_inflam_mse: 0.0319 - val_nephriti_acc: 1.0000 - val_nephriti_mse: 0.0180\n",
            "Epoch 54/1000\n",
            "1/1 - 0s - loss: 0.1643 - inflam_loss: 0.1409 - nephriti_loss: 0.1172 - inflam_acc: 1.0000 - inflam_mse: 0.0272 - nephriti_acc: 1.0000 - nephriti_mse: 0.0174 - val_loss: 0.1801 - val_inflam_loss: 0.1552 - val_nephriti_loss: 0.1247 - val_inflam_acc: 1.0000 - val_inflam_mse: 0.0326 - val_nephriti_acc: 1.0000 - val_nephriti_mse: 0.0181\n",
            "Epoch 55/1000\n",
            "1/1 - 0s - loss: 0.1642 - inflam_loss: 0.1408 - nephriti_loss: 0.1171 - inflam_acc: 1.0000 - inflam_mse: 0.0272 - nephriti_acc: 1.0000 - nephriti_mse: 0.0175 - val_loss: 0.1787 - val_inflam_loss: 0.1538 - val_nephriti_loss: 0.1246 - val_inflam_acc: 1.0000 - val_inflam_mse: 0.0318 - val_nephriti_acc: 1.0000 - val_nephriti_mse: 0.0180\n",
            "Epoch 56/1000\n",
            "1/1 - 0s - loss: 0.1641 - inflam_loss: 0.1407 - nephriti_loss: 0.1171 - inflam_acc: 1.0000 - inflam_mse: 0.0271 - nephriti_acc: 1.0000 - nephriti_mse: 0.0174 - val_loss: 0.1799 - val_inflam_loss: 0.1550 - val_nephriti_loss: 0.1246 - val_inflam_acc: 1.0000 - val_inflam_mse: 0.0325 - val_nephriti_acc: 1.0000 - val_nephriti_mse: 0.0180\n",
            "Epoch 57/1000\n",
            "1/1 - 0s - loss: 0.1640 - inflam_loss: 0.1406 - nephriti_loss: 0.1170 - inflam_acc: 1.0000 - inflam_mse: 0.0272 - nephriti_acc: 1.0000 - nephriti_mse: 0.0174 - val_loss: 0.1786 - val_inflam_loss: 0.1537 - val_nephriti_loss: 0.1245 - val_inflam_acc: 1.0000 - val_inflam_mse: 0.0318 - val_nephriti_acc: 1.0000 - val_nephriti_mse: 0.0179\n",
            "Epoch 58/1000\n",
            "1/1 - 0s - loss: 0.1640 - inflam_loss: 0.1406 - nephriti_loss: 0.1170 - inflam_acc: 1.0000 - inflam_mse: 0.0271 - nephriti_acc: 1.0000 - nephriti_mse: 0.0174 - val_loss: 0.1797 - val_inflam_loss: 0.1548 - val_nephriti_loss: 0.1245 - val_inflam_acc: 1.0000 - val_inflam_mse: 0.0325 - val_nephriti_acc: 1.0000 - val_nephriti_mse: 0.0180\n",
            "Epoch 59/1000\n",
            "1/1 - 0s - loss: 0.1639 - inflam_loss: 0.1405 - nephriti_loss: 0.1169 - inflam_acc: 1.0000 - inflam_mse: 0.0271 - nephriti_acc: 1.0000 - nephriti_mse: 0.0174 - val_loss: 0.1784 - val_inflam_loss: 0.1535 - val_nephriti_loss: 0.1244 - val_inflam_acc: 1.0000 - val_inflam_mse: 0.0317 - val_nephriti_acc: 1.0000 - val_nephriti_mse: 0.0179\n",
            "Epoch 60/1000\n",
            "1/1 - 0s - loss: 0.1638 - inflam_loss: 0.1404 - nephriti_loss: 0.1169 - inflam_acc: 1.0000 - inflam_mse: 0.0270 - nephriti_acc: 1.0000 - nephriti_mse: 0.0173 - val_loss: 0.1796 - val_inflam_loss: 0.1547 - val_nephriti_loss: 0.1244 - val_inflam_acc: 1.0000 - val_inflam_mse: 0.0324 - val_nephriti_acc: 1.0000 - val_nephriti_mse: 0.0180\n",
            "Epoch 61/1000\n",
            "1/1 - 0s - loss: 0.1637 - inflam_loss: 0.1403 - nephriti_loss: 0.1168 - inflam_acc: 1.0000 - inflam_mse: 0.0271 - nephriti_acc: 1.0000 - nephriti_mse: 0.0174 - val_loss: 0.1782 - val_inflam_loss: 0.1533 - val_nephriti_loss: 0.1243 - val_inflam_acc: 1.0000 - val_inflam_mse: 0.0317 - val_nephriti_acc: 1.0000 - val_nephriti_mse: 0.0179\n",
            "Epoch 62/1000\n",
            "1/1 - 0s - loss: 0.1636 - inflam_loss: 0.1403 - nephriti_loss: 0.1168 - inflam_acc: 1.0000 - inflam_mse: 0.0270 - nephriti_acc: 1.0000 - nephriti_mse: 0.0173 - val_loss: 0.1794 - val_inflam_loss: 0.1545 - val_nephriti_loss: 0.1243 - val_inflam_acc: 1.0000 - val_inflam_mse: 0.0324 - val_nephriti_acc: 1.0000 - val_nephriti_mse: 0.0180\n",
            "Epoch 63/1000\n",
            "1/1 - 0s - loss: 0.1635 - inflam_loss: 0.1402 - nephriti_loss: 0.1167 - inflam_acc: 1.0000 - inflam_mse: 0.0270 - nephriti_acc: 1.0000 - nephriti_mse: 0.0174 - val_loss: 0.1780 - val_inflam_loss: 0.1532 - val_nephriti_loss: 0.1241 - val_inflam_acc: 1.0000 - val_inflam_mse: 0.0316 - val_nephriti_acc: 1.0000 - val_nephriti_mse: 0.0179\n",
            "Epoch 64/1000\n",
            "1/1 - 0s - loss: 0.1634 - inflam_loss: 0.1401 - nephriti_loss: 0.1166 - inflam_acc: 1.0000 - inflam_mse: 0.0269 - nephriti_acc: 1.0000 - nephriti_mse: 0.0173 - val_loss: 0.1792 - val_inflam_loss: 0.1543 - val_nephriti_loss: 0.1241 - val_inflam_acc: 1.0000 - val_inflam_mse: 0.0323 - val_nephriti_acc: 1.0000 - val_nephriti_mse: 0.0179\n",
            "Epoch 65/1000\n",
            "1/1 - 0s - loss: 0.1634 - inflam_loss: 0.1400 - nephriti_loss: 0.1166 - inflam_acc: 1.0000 - inflam_mse: 0.0270 - nephriti_acc: 1.0000 - nephriti_mse: 0.0173 - val_loss: 0.1778 - val_inflam_loss: 0.1530 - val_nephriti_loss: 0.1240 - val_inflam_acc: 1.0000 - val_inflam_mse: 0.0316 - val_nephriti_acc: 1.0000 - val_nephriti_mse: 0.0178\n",
            "Epoch 66/1000\n",
            "1/1 - 0s - loss: 0.1633 - inflam_loss: 0.1400 - nephriti_loss: 0.1165 - inflam_acc: 1.0000 - inflam_mse: 0.0269 - nephriti_acc: 1.0000 - nephriti_mse: 0.0172 - val_loss: 0.1790 - val_inflam_loss: 0.1542 - val_nephriti_loss: 0.1240 - val_inflam_acc: 1.0000 - val_inflam_mse: 0.0323 - val_nephriti_acc: 1.0000 - val_nephriti_mse: 0.0179\n",
            "Epoch 67/1000\n",
            "1/1 - 0s - loss: 0.1632 - inflam_loss: 0.1399 - nephriti_loss: 0.1165 - inflam_acc: 1.0000 - inflam_mse: 0.0270 - nephriti_acc: 1.0000 - nephriti_mse: 0.0173 - val_loss: 0.1776 - val_inflam_loss: 0.1528 - val_nephriti_loss: 0.1239 - val_inflam_acc: 1.0000 - val_inflam_mse: 0.0315 - val_nephriti_acc: 1.0000 - val_nephriti_mse: 0.0178\n",
            "Epoch 68/1000\n",
            "1/1 - 0s - loss: 0.1631 - inflam_loss: 0.1398 - nephriti_loss: 0.1164 - inflam_acc: 1.0000 - inflam_mse: 0.0269 - nephriti_acc: 1.0000 - nephriti_mse: 0.0172 - val_loss: 0.1788 - val_inflam_loss: 0.1540 - val_nephriti_loss: 0.1239 - val_inflam_acc: 1.0000 - val_inflam_mse: 0.0322 - val_nephriti_acc: 1.0000 - val_nephriti_mse: 0.0179\n",
            "Epoch 69/1000\n",
            "1/1 - 0s - loss: 0.1630 - inflam_loss: 0.1397 - nephriti_loss: 0.1164 - inflam_acc: 1.0000 - inflam_mse: 0.0269 - nephriti_acc: 1.0000 - nephriti_mse: 0.0173 - val_loss: 0.1774 - val_inflam_loss: 0.1527 - val_nephriti_loss: 0.1238 - val_inflam_acc: 1.0000 - val_inflam_mse: 0.0315 - val_nephriti_acc: 1.0000 - val_nephriti_mse: 0.0178\n",
            "Epoch 70/1000\n",
            "1/1 - 0s - loss: 0.1629 - inflam_loss: 0.1397 - nephriti_loss: 0.1163 - inflam_acc: 1.0000 - inflam_mse: 0.0268 - nephriti_acc: 1.0000 - nephriti_mse: 0.0172 - val_loss: 0.1786 - val_inflam_loss: 0.1539 - val_nephriti_loss: 0.1238 - val_inflam_acc: 1.0000 - val_inflam_mse: 0.0322 - val_nephriti_acc: 1.0000 - val_nephriti_mse: 0.0178\n",
            "Epoch 71/1000\n",
            "1/1 - 0s - loss: 0.1628 - inflam_loss: 0.1396 - nephriti_loss: 0.1163 - inflam_acc: 1.0000 - inflam_mse: 0.0269 - nephriti_acc: 1.0000 - nephriti_mse: 0.0173 - val_loss: 0.1772 - val_inflam_loss: 0.1525 - val_nephriti_loss: 0.1237 - val_inflam_acc: 1.0000 - val_inflam_mse: 0.0314 - val_nephriti_acc: 1.0000 - val_nephriti_mse: 0.0177\n",
            "Epoch 72/1000\n",
            "1/1 - 0s - loss: 0.1628 - inflam_loss: 0.1395 - nephriti_loss: 0.1162 - inflam_acc: 1.0000 - inflam_mse: 0.0268 - nephriti_acc: 1.0000 - nephriti_mse: 0.0172 - val_loss: 0.1784 - val_inflam_loss: 0.1537 - val_nephriti_loss: 0.1237 - val_inflam_acc: 1.0000 - val_inflam_mse: 0.0321 - val_nephriti_acc: 1.0000 - val_nephriti_mse: 0.0178\n",
            "Epoch 73/1000\n",
            "1/1 - 0s - loss: 0.1627 - inflam_loss: 0.1394 - nephriti_loss: 0.1161 - inflam_acc: 1.0000 - inflam_mse: 0.0268 - nephriti_acc: 1.0000 - nephriti_mse: 0.0172 - val_loss: 0.1771 - val_inflam_loss: 0.1524 - val_nephriti_loss: 0.1235 - val_inflam_acc: 1.0000 - val_inflam_mse: 0.0314 - val_nephriti_acc: 1.0000 - val_nephriti_mse: 0.0177\n",
            "Epoch 74/1000\n",
            "1/1 - 0s - loss: 0.1626 - inflam_loss: 0.1394 - nephriti_loss: 0.1161 - inflam_acc: 1.0000 - inflam_mse: 0.0267 - nephriti_acc: 1.0000 - nephriti_mse: 0.0171 - val_loss: 0.1782 - val_inflam_loss: 0.1535 - val_nephriti_loss: 0.1235 - val_inflam_acc: 1.0000 - val_inflam_mse: 0.0321 - val_nephriti_acc: 1.0000 - val_nephriti_mse: 0.0178\n",
            "Epoch 75/1000\n",
            "1/1 - 0s - loss: 0.1625 - inflam_loss: 0.1393 - nephriti_loss: 0.1160 - inflam_acc: 1.0000 - inflam_mse: 0.0268 - nephriti_acc: 1.0000 - nephriti_mse: 0.0172 - val_loss: 0.1769 - val_inflam_loss: 0.1522 - val_nephriti_loss: 0.1234 - val_inflam_acc: 1.0000 - val_inflam_mse: 0.0314 - val_nephriti_acc: 1.0000 - val_nephriti_mse: 0.0177\n",
            "Epoch 76/1000\n",
            "1/1 - 0s - loss: 0.1624 - inflam_loss: 0.1392 - nephriti_loss: 0.1160 - inflam_acc: 1.0000 - inflam_mse: 0.0267 - nephriti_acc: 1.0000 - nephriti_mse: 0.0171 - val_loss: 0.1781 - val_inflam_loss: 0.1534 - val_nephriti_loss: 0.1234 - val_inflam_acc: 1.0000 - val_inflam_mse: 0.0320 - val_nephriti_acc: 1.0000 - val_nephriti_mse: 0.0178\n",
            "Epoch 77/1000\n",
            "1/1 - 0s - loss: 0.1623 - inflam_loss: 0.1391 - nephriti_loss: 0.1159 - inflam_acc: 1.0000 - inflam_mse: 0.0268 - nephriti_acc: 1.0000 - nephriti_mse: 0.0172 - val_loss: 0.1767 - val_inflam_loss: 0.1520 - val_nephriti_loss: 0.1233 - val_inflam_acc: 1.0000 - val_inflam_mse: 0.0313 - val_nephriti_acc: 1.0000 - val_nephriti_mse: 0.0177\n",
            "Epoch 78/1000\n",
            "1/1 - 0s - loss: 0.1622 - inflam_loss: 0.1391 - nephriti_loss: 0.1159 - inflam_acc: 1.0000 - inflam_mse: 0.0267 - nephriti_acc: 1.0000 - nephriti_mse: 0.0171 - val_loss: 0.1779 - val_inflam_loss: 0.1532 - val_nephriti_loss: 0.1233 - val_inflam_acc: 1.0000 - val_inflam_mse: 0.0320 - val_nephriti_acc: 1.0000 - val_nephriti_mse: 0.0177\n",
            "Epoch 79/1000\n",
            "1/1 - 0s - loss: 0.1622 - inflam_loss: 0.1390 - nephriti_loss: 0.1158 - inflam_acc: 1.0000 - inflam_mse: 0.0267 - nephriti_acc: 1.0000 - nephriti_mse: 0.0171 - val_loss: 0.1765 - val_inflam_loss: 0.1519 - val_nephriti_loss: 0.1232 - val_inflam_acc: 1.0000 - val_inflam_mse: 0.0313 - val_nephriti_acc: 1.0000 - val_nephriti_mse: 0.0176\n",
            "Epoch 80/1000\n",
            "1/1 - 0s - loss: 0.1621 - inflam_loss: 0.1389 - nephriti_loss: 0.1158 - inflam_acc: 1.0000 - inflam_mse: 0.0266 - nephriti_acc: 1.0000 - nephriti_mse: 0.0171 - val_loss: 0.1777 - val_inflam_loss: 0.1530 - val_nephriti_loss: 0.1232 - val_inflam_acc: 1.0000 - val_inflam_mse: 0.0319 - val_nephriti_acc: 1.0000 - val_nephriti_mse: 0.0177\n",
            "Epoch 81/1000\n",
            "1/1 - 0s - loss: 0.1620 - inflam_loss: 0.1388 - nephriti_loss: 0.1157 - inflam_acc: 1.0000 - inflam_mse: 0.0267 - nephriti_acc: 1.0000 - nephriti_mse: 0.0171 - val_loss: 0.1763 - val_inflam_loss: 0.1517 - val_nephriti_loss: 0.1231 - val_inflam_acc: 1.0000 - val_inflam_mse: 0.0312 - val_nephriti_acc: 1.0000 - val_nephriti_mse: 0.0176\n",
            "Epoch 82/1000\n",
            "1/1 - 0s - loss: 0.1619 - inflam_loss: 0.1388 - nephriti_loss: 0.1156 - inflam_acc: 1.0000 - inflam_mse: 0.0266 - nephriti_acc: 1.0000 - nephriti_mse: 0.0170 - val_loss: 0.1775 - val_inflam_loss: 0.1529 - val_nephriti_loss: 0.1231 - val_inflam_acc: 1.0000 - val_inflam_mse: 0.0319 - val_nephriti_acc: 1.0000 - val_nephriti_mse: 0.0177\n",
            "Epoch 83/1000\n",
            "1/1 - 0s - loss: 0.1618 - inflam_loss: 0.1387 - nephriti_loss: 0.1156 - inflam_acc: 1.0000 - inflam_mse: 0.0266 - nephriti_acc: 1.0000 - nephriti_mse: 0.0171 - val_loss: 0.1761 - val_inflam_loss: 0.1515 - val_nephriti_loss: 0.1230 - val_inflam_acc: 1.0000 - val_inflam_mse: 0.0312 - val_nephriti_acc: 1.0000 - val_nephriti_mse: 0.0176\n",
            "Epoch 84/1000\n",
            "1/1 - 0s - loss: 0.1617 - inflam_loss: 0.1386 - nephriti_loss: 0.1155 - inflam_acc: 1.0000 - inflam_mse: 0.0265 - nephriti_acc: 1.0000 - nephriti_mse: 0.0170 - val_loss: 0.1773 - val_inflam_loss: 0.1527 - val_nephriti_loss: 0.1230 - val_inflam_acc: 1.0000 - val_inflam_mse: 0.0318 - val_nephriti_acc: 1.0000 - val_nephriti_mse: 0.0176\n",
            "Epoch 85/1000\n",
            "1/1 - 0s - loss: 0.1616 - inflam_loss: 0.1385 - nephriti_loss: 0.1155 - inflam_acc: 1.0000 - inflam_mse: 0.0266 - nephriti_acc: 1.0000 - nephriti_mse: 0.0171 - val_loss: 0.1759 - val_inflam_loss: 0.1514 - val_nephriti_loss: 0.1228 - val_inflam_acc: 1.0000 - val_inflam_mse: 0.0311 - val_nephriti_acc: 1.0000 - val_nephriti_mse: 0.0175\n",
            "Epoch 86/1000\n",
            "1/1 - 0s - loss: 0.1616 - inflam_loss: 0.1385 - nephriti_loss: 0.1154 - inflam_acc: 1.0000 - inflam_mse: 0.0265 - nephriti_acc: 1.0000 - nephriti_mse: 0.0170 - val_loss: 0.1771 - val_inflam_loss: 0.1526 - val_nephriti_loss: 0.1228 - val_inflam_acc: 1.0000 - val_inflam_mse: 0.0318 - val_nephriti_acc: 1.0000 - val_nephriti_mse: 0.0176\n",
            "Epoch 87/1000\n",
            "1/1 - 0s - loss: 0.1615 - inflam_loss: 0.1384 - nephriti_loss: 0.1154 - inflam_acc: 1.0000 - inflam_mse: 0.0266 - nephriti_acc: 1.0000 - nephriti_mse: 0.0170 - val_loss: 0.1758 - val_inflam_loss: 0.1512 - val_nephriti_loss: 0.1227 - val_inflam_acc: 1.0000 - val_inflam_mse: 0.0311 - val_nephriti_acc: 1.0000 - val_nephriti_mse: 0.0175\n",
            "Epoch 88/1000\n",
            "1/1 - 0s - loss: 0.1614 - inflam_loss: 0.1383 - nephriti_loss: 0.1153 - inflam_acc: 1.0000 - inflam_mse: 0.0265 - nephriti_acc: 1.0000 - nephriti_mse: 0.0169 - val_loss: 0.1769 - val_inflam_loss: 0.1524 - val_nephriti_loss: 0.1227 - val_inflam_acc: 1.0000 - val_inflam_mse: 0.0317 - val_nephriti_acc: 1.0000 - val_nephriti_mse: 0.0176\n",
            "Epoch 89/1000\n",
            "1/1 - 0s - loss: 0.1613 - inflam_loss: 0.1383 - nephriti_loss: 0.1153 - inflam_acc: 1.0000 - inflam_mse: 0.0265 - nephriti_acc: 1.0000 - nephriti_mse: 0.0170 - val_loss: 0.1756 - val_inflam_loss: 0.1511 - val_nephriti_loss: 0.1226 - val_inflam_acc: 1.0000 - val_inflam_mse: 0.0310 - val_nephriti_acc: 1.0000 - val_nephriti_mse: 0.0175\n",
            "Epoch 90/1000\n",
            "1/1 - 0s - loss: 0.1612 - inflam_loss: 0.1382 - nephriti_loss: 0.1152 - inflam_acc: 1.0000 - inflam_mse: 0.0264 - nephriti_acc: 1.0000 - nephriti_mse: 0.0169 - val_loss: 0.1768 - val_inflam_loss: 0.1522 - val_nephriti_loss: 0.1226 - val_inflam_acc: 1.0000 - val_inflam_mse: 0.0317 - val_nephriti_acc: 1.0000 - val_nephriti_mse: 0.0176\n",
            "Epoch 91/1000\n",
            "1/1 - 0s - loss: 0.1611 - inflam_loss: 0.1381 - nephriti_loss: 0.1152 - inflam_acc: 1.0000 - inflam_mse: 0.0265 - nephriti_acc: 1.0000 - nephriti_mse: 0.0170 - val_loss: 0.1754 - val_inflam_loss: 0.1509 - val_nephriti_loss: 0.1225 - val_inflam_acc: 1.0000 - val_inflam_mse: 0.0310 - val_nephriti_acc: 1.0000 - val_nephriti_mse: 0.0175\n",
            "Epoch 92/1000\n",
            "1/1 - 0s - loss: 0.1610 - inflam_loss: 0.1380 - nephriti_loss: 0.1151 - inflam_acc: 1.0000 - inflam_mse: 0.0264 - nephriti_acc: 1.0000 - nephriti_mse: 0.0169 - val_loss: 0.1766 - val_inflam_loss: 0.1521 - val_nephriti_loss: 0.1225 - val_inflam_acc: 1.0000 - val_inflam_mse: 0.0316 - val_nephriti_acc: 1.0000 - val_nephriti_mse: 0.0175\n",
            "Epoch 93/1000\n",
            "1/1 - 0s - loss: 0.1610 - inflam_loss: 0.1380 - nephriti_loss: 0.1150 - inflam_acc: 1.0000 - inflam_mse: 0.0264 - nephriti_acc: 1.0000 - nephriti_mse: 0.0170 - val_loss: 0.1752 - val_inflam_loss: 0.1507 - val_nephriti_loss: 0.1224 - val_inflam_acc: 1.0000 - val_inflam_mse: 0.0309 - val_nephriti_acc: 1.0000 - val_nephriti_mse: 0.0174\n",
            "Epoch 94/1000\n",
            "1/1 - 0s - loss: 0.1609 - inflam_loss: 0.1379 - nephriti_loss: 0.1150 - inflam_acc: 1.0000 - inflam_mse: 0.0263 - nephriti_acc: 1.0000 - nephriti_mse: 0.0169 - val_loss: 0.1764 - val_inflam_loss: 0.1519 - val_nephriti_loss: 0.1224 - val_inflam_acc: 1.0000 - val_inflam_mse: 0.0316 - val_nephriti_acc: 1.0000 - val_nephriti_mse: 0.0175\n",
            "Epoch 95/1000\n",
            "1/1 - 0s - loss: 0.1608 - inflam_loss: 0.1378 - nephriti_loss: 0.1149 - inflam_acc: 1.0000 - inflam_mse: 0.0264 - nephriti_acc: 1.0000 - nephriti_mse: 0.0169 - val_loss: 0.1750 - val_inflam_loss: 0.1506 - val_nephriti_loss: 0.1223 - val_inflam_acc: 1.0000 - val_inflam_mse: 0.0309 - val_nephriti_acc: 1.0000 - val_nephriti_mse: 0.0174\n",
            "Epoch 96/1000\n",
            "1/1 - 0s - loss: 0.1607 - inflam_loss: 0.1377 - nephriti_loss: 0.1149 - inflam_acc: 1.0000 - inflam_mse: 0.0263 - nephriti_acc: 1.0000 - nephriti_mse: 0.0168 - val_loss: 0.1762 - val_inflam_loss: 0.1517 - val_nephriti_loss: 0.1222 - val_inflam_acc: 1.0000 - val_inflam_mse: 0.0316 - val_nephriti_acc: 1.0000 - val_nephriti_mse: 0.0175\n",
            "Epoch 97/1000\n",
            "1/1 - 0s - loss: 0.1606 - inflam_loss: 0.1377 - nephriti_loss: 0.1148 - inflam_acc: 1.0000 - inflam_mse: 0.0263 - nephriti_acc: 1.0000 - nephriti_mse: 0.0169 - val_loss: 0.1748 - val_inflam_loss: 0.1504 - val_nephriti_loss: 0.1221 - val_inflam_acc: 1.0000 - val_inflam_mse: 0.0308 - val_nephriti_acc: 1.0000 - val_nephriti_mse: 0.0174\n",
            "Epoch 98/1000\n",
            "1/1 - 0s - loss: 0.1605 - inflam_loss: 0.1376 - nephriti_loss: 0.1148 - inflam_acc: 1.0000 - inflam_mse: 0.0263 - nephriti_acc: 1.0000 - nephriti_mse: 0.0168 - val_loss: 0.1760 - val_inflam_loss: 0.1516 - val_nephriti_loss: 0.1221 - val_inflam_acc: 1.0000 - val_inflam_mse: 0.0315 - val_nephriti_acc: 1.0000 - val_nephriti_mse: 0.0174\n",
            "Epoch 99/1000\n",
            "1/1 - 0s - loss: 0.1605 - inflam_loss: 0.1375 - nephriti_loss: 0.1147 - inflam_acc: 1.0000 - inflam_mse: 0.0263 - nephriti_acc: 1.0000 - nephriti_mse: 0.0169 - val_loss: 0.1747 - val_inflam_loss: 0.1503 - val_nephriti_loss: 0.1220 - val_inflam_acc: 1.0000 - val_inflam_mse: 0.0308 - val_nephriti_acc: 1.0000 - val_nephriti_mse: 0.0173\n",
            "Epoch 100/1000\n",
            "1/1 - 0s - loss: 0.1604 - inflam_loss: 0.1374 - nephriti_loss: 0.1147 - inflam_acc: 1.0000 - inflam_mse: 0.0262 - nephriti_acc: 1.0000 - nephriti_mse: 0.0168 - val_loss: 0.1758 - val_inflam_loss: 0.1514 - val_nephriti_loss: 0.1220 - val_inflam_acc: 1.0000 - val_inflam_mse: 0.0315 - val_nephriti_acc: 1.0000 - val_nephriti_mse: 0.0174\n",
            "Epoch 101/1000\n",
            "1/1 - 0s - loss: 0.1603 - inflam_loss: 0.1374 - nephriti_loss: 0.1146 - inflam_acc: 1.0000 - inflam_mse: 0.0263 - nephriti_acc: 1.0000 - nephriti_mse: 0.0168 - val_loss: 0.1745 - val_inflam_loss: 0.1501 - val_nephriti_loss: 0.1219 - val_inflam_acc: 1.0000 - val_inflam_mse: 0.0307 - val_nephriti_acc: 1.0000 - val_nephriti_mse: 0.0173\n",
            "Epoch 102/1000\n",
            "1/1 - 0s - loss: 0.1602 - inflam_loss: 0.1373 - nephriti_loss: 0.1145 - inflam_acc: 1.0000 - inflam_mse: 0.0262 - nephriti_acc: 1.0000 - nephriti_mse: 0.0168 - val_loss: 0.1756 - val_inflam_loss: 0.1513 - val_nephriti_loss: 0.1219 - val_inflam_acc: 1.0000 - val_inflam_mse: 0.0314 - val_nephriti_acc: 1.0000 - val_nephriti_mse: 0.0174\n",
            "Epoch 103/1000\n",
            "1/1 - 0s - loss: 0.1601 - inflam_loss: 0.1372 - nephriti_loss: 0.1145 - inflam_acc: 1.0000 - inflam_mse: 0.0262 - nephriti_acc: 1.0000 - nephriti_mse: 0.0168 - val_loss: 0.1743 - val_inflam_loss: 0.1499 - val_nephriti_loss: 0.1218 - val_inflam_acc: 1.0000 - val_inflam_mse: 0.0307 - val_nephriti_acc: 1.0000 - val_nephriti_mse: 0.0173\n",
            "Epoch 104/1000\n",
            "1/1 - 0s - loss: 0.1600 - inflam_loss: 0.1371 - nephriti_loss: 0.1144 - inflam_acc: 1.0000 - inflam_mse: 0.0261 - nephriti_acc: 1.0000 - nephriti_mse: 0.0167 - val_loss: 0.1755 - val_inflam_loss: 0.1511 - val_nephriti_loss: 0.1218 - val_inflam_acc: 1.0000 - val_inflam_mse: 0.0314 - val_nephriti_acc: 1.0000 - val_nephriti_mse: 0.0174\n",
            "Epoch 105/1000\n",
            "1/1 - 0s - loss: 0.1600 - inflam_loss: 0.1371 - nephriti_loss: 0.1144 - inflam_acc: 1.0000 - inflam_mse: 0.0262 - nephriti_acc: 1.0000 - nephriti_mse: 0.0168 - val_loss: 0.1741 - val_inflam_loss: 0.1498 - val_nephriti_loss: 0.1217 - val_inflam_acc: 1.0000 - val_inflam_mse: 0.0306 - val_nephriti_acc: 1.0000 - val_nephriti_mse: 0.0173\n",
            "Epoch 106/1000\n",
            "1/1 - 0s - loss: 0.1599 - inflam_loss: 0.1370 - nephriti_loss: 0.1143 - inflam_acc: 1.0000 - inflam_mse: 0.0261 - nephriti_acc: 1.0000 - nephriti_mse: 0.0167 - val_loss: 0.1753 - val_inflam_loss: 0.1509 - val_nephriti_loss: 0.1217 - val_inflam_acc: 1.0000 - val_inflam_mse: 0.0313 - val_nephriti_acc: 1.0000 - val_nephriti_mse: 0.0173\n",
            "Epoch 107/1000\n",
            "1/1 - 0s - loss: 0.1598 - inflam_loss: 0.1369 - nephriti_loss: 0.1143 - inflam_acc: 1.0000 - inflam_mse: 0.0261 - nephriti_acc: 1.0000 - nephriti_mse: 0.0168 - val_loss: 0.1739 - val_inflam_loss: 0.1496 - val_nephriti_loss: 0.1216 - val_inflam_acc: 1.0000 - val_inflam_mse: 0.0306 - val_nephriti_acc: 1.0000 - val_nephriti_mse: 0.0172\n",
            "Epoch 108/1000\n",
            "1/1 - 0s - loss: 0.1597 - inflam_loss: 0.1369 - nephriti_loss: 0.1142 - inflam_acc: 1.0000 - inflam_mse: 0.0261 - nephriti_acc: 1.0000 - nephriti_mse: 0.0167 - val_loss: 0.1751 - val_inflam_loss: 0.1508 - val_nephriti_loss: 0.1216 - val_inflam_acc: 1.0000 - val_inflam_mse: 0.0313 - val_nephriti_acc: 1.0000 - val_nephriti_mse: 0.0173\n",
            "Epoch 109/1000\n",
            "1/1 - 0s - loss: 0.1596 - inflam_loss: 0.1368 - nephriti_loss: 0.1142 - inflam_acc: 1.0000 - inflam_mse: 0.0261 - nephriti_acc: 1.0000 - nephriti_mse: 0.0167 - val_loss: 0.1737 - val_inflam_loss: 0.1495 - val_nephriti_loss: 0.1214 - val_inflam_acc: 1.0000 - val_inflam_mse: 0.0305 - val_nephriti_acc: 1.0000 - val_nephriti_mse: 0.0172\n",
            "Epoch 110/1000\n",
            "1/1 - 0s - loss: 0.1595 - inflam_loss: 0.1367 - nephriti_loss: 0.1141 - inflam_acc: 1.0000 - inflam_mse: 0.0260 - nephriti_acc: 1.0000 - nephriti_mse: 0.0166 - val_loss: 0.1749 - val_inflam_loss: 0.1506 - val_nephriti_loss: 0.1214 - val_inflam_acc: 1.0000 - val_inflam_mse: 0.0312 - val_nephriti_acc: 1.0000 - val_nephriti_mse: 0.0173\n",
            "Epoch 111/1000\n",
            "1/1 - 0s - loss: 0.1595 - inflam_loss: 0.1366 - nephriti_loss: 0.1141 - inflam_acc: 1.0000 - inflam_mse: 0.0261 - nephriti_acc: 1.0000 - nephriti_mse: 0.0167 - val_loss: 0.1736 - val_inflam_loss: 0.1493 - val_nephriti_loss: 0.1213 - val_inflam_acc: 1.0000 - val_inflam_mse: 0.0305 - val_nephriti_acc: 1.0000 - val_nephriti_mse: 0.0172\n",
            "Epoch 112/1000\n",
            "1/1 - 0s - loss: 0.1594 - inflam_loss: 0.1366 - nephriti_loss: 0.1140 - inflam_acc: 1.0000 - inflam_mse: 0.0260 - nephriti_acc: 1.0000 - nephriti_mse: 0.0166 - val_loss: 0.1747 - val_inflam_loss: 0.1505 - val_nephriti_loss: 0.1213 - val_inflam_acc: 1.0000 - val_inflam_mse: 0.0312 - val_nephriti_acc: 1.0000 - val_nephriti_mse: 0.0172\n",
            "Epoch 113/1000\n",
            "1/1 - 0s - loss: 0.1593 - inflam_loss: 0.1365 - nephriti_loss: 0.1140 - inflam_acc: 1.0000 - inflam_mse: 0.0260 - nephriti_acc: 1.0000 - nephriti_mse: 0.0167 - val_loss: 0.1734 - val_inflam_loss: 0.1491 - val_nephriti_loss: 0.1212 - val_inflam_acc: 1.0000 - val_inflam_mse: 0.0304 - val_nephriti_acc: 1.0000 - val_nephriti_mse: 0.0172\n",
            "Epoch 114/1000\n",
            "1/1 - 0s - loss: 0.1592 - inflam_loss: 0.1364 - nephriti_loss: 0.1139 - inflam_acc: 1.0000 - inflam_mse: 0.0259 - nephriti_acc: 1.0000 - nephriti_mse: 0.0166 - val_loss: 0.1745 - val_inflam_loss: 0.1503 - val_nephriti_loss: 0.1212 - val_inflam_acc: 1.0000 - val_inflam_mse: 0.0311 - val_nephriti_acc: 1.0000 - val_nephriti_mse: 0.0172\n",
            "Epoch 115/1000\n",
            "1/1 - 0s - loss: 0.1591 - inflam_loss: 0.1363 - nephriti_loss: 0.1138 - inflam_acc: 1.0000 - inflam_mse: 0.0260 - nephriti_acc: 1.0000 - nephriti_mse: 0.0167 - val_loss: 0.1732 - val_inflam_loss: 0.1490 - val_nephriti_loss: 0.1211 - val_inflam_acc: 1.0000 - val_inflam_mse: 0.0304 - val_nephriti_acc: 1.0000 - val_nephriti_mse: 0.0171\n",
            "Epoch 116/1000\n",
            "1/1 - 0s - loss: 0.1590 - inflam_loss: 0.1363 - nephriti_loss: 0.1138 - inflam_acc: 1.0000 - inflam_mse: 0.0259 - nephriti_acc: 1.0000 - nephriti_mse: 0.0166 - val_loss: 0.1744 - val_inflam_loss: 0.1501 - val_nephriti_loss: 0.1211 - val_inflam_acc: 1.0000 - val_inflam_mse: 0.0311 - val_nephriti_acc: 1.0000 - val_nephriti_mse: 0.0172\n",
            "Epoch 117/1000\n",
            "1/1 - 0s - loss: 0.1589 - inflam_loss: 0.1362 - nephriti_loss: 0.1137 - inflam_acc: 1.0000 - inflam_mse: 0.0259 - nephriti_acc: 1.0000 - nephriti_mse: 0.0166 - val_loss: 0.1730 - val_inflam_loss: 0.1488 - val_nephriti_loss: 0.1210 - val_inflam_acc: 1.0000 - val_inflam_mse: 0.0304 - val_nephriti_acc: 1.0000 - val_nephriti_mse: 0.0171\n",
            "Epoch 118/1000\n",
            "1/1 - 0s - loss: 0.1589 - inflam_loss: 0.1361 - nephriti_loss: 0.1137 - inflam_acc: 1.0000 - inflam_mse: 0.0259 - nephriti_acc: 1.0000 - nephriti_mse: 0.0165 - val_loss: 0.1742 - val_inflam_loss: 0.1500 - val_nephriti_loss: 0.1210 - val_inflam_acc: 1.0000 - val_inflam_mse: 0.0310 - val_nephriti_acc: 1.0000 - val_nephriti_mse: 0.0172\n",
            "Epoch 119/1000\n",
            "1/1 - 0s - loss: 0.1588 - inflam_loss: 0.1361 - nephriti_loss: 0.1136 - inflam_acc: 1.0000 - inflam_mse: 0.0259 - nephriti_acc: 1.0000 - nephriti_mse: 0.0166 - val_loss: 0.1728 - val_inflam_loss: 0.1487 - val_nephriti_loss: 0.1209 - val_inflam_acc: 1.0000 - val_inflam_mse: 0.0303 - val_nephriti_acc: 1.0000 - val_nephriti_mse: 0.0171\n",
            "Epoch 120/1000\n",
            "1/1 - 0s - loss: 0.1587 - inflam_loss: 0.1360 - nephriti_loss: 0.1136 - inflam_acc: 1.0000 - inflam_mse: 0.0258 - nephriti_acc: 1.0000 - nephriti_mse: 0.0165 - val_loss: 0.1740 - val_inflam_loss: 0.1498 - val_nephriti_loss: 0.1209 - val_inflam_acc: 1.0000 - val_inflam_mse: 0.0310 - val_nephriti_acc: 1.0000 - val_nephriti_mse: 0.0171\n",
            "Epoch 121/1000\n",
            "1/1 - 0s - loss: 0.1586 - inflam_loss: 0.1359 - nephriti_loss: 0.1135 - inflam_acc: 1.0000 - inflam_mse: 0.0259 - nephriti_acc: 1.0000 - nephriti_mse: 0.0166 - val_loss: 0.1727 - val_inflam_loss: 0.1485 - val_nephriti_loss: 0.1207 - val_inflam_acc: 1.0000 - val_inflam_mse: 0.0303 - val_nephriti_acc: 1.0000 - val_nephriti_mse: 0.0170\n",
            "Epoch 122/1000\n",
            "1/1 - 0s - loss: 0.1585 - inflam_loss: 0.1358 - nephriti_loss: 0.1135 - inflam_acc: 1.0000 - inflam_mse: 0.0258 - nephriti_acc: 1.0000 - nephriti_mse: 0.0165 - val_loss: 0.1738 - val_inflam_loss: 0.1497 - val_nephriti_loss: 0.1207 - val_inflam_acc: 1.0000 - val_inflam_mse: 0.0309 - val_nephriti_acc: 1.0000 - val_nephriti_mse: 0.0171\n",
            "Epoch 123/1000\n",
            "1/1 - 0s - loss: 0.1585 - inflam_loss: 0.1358 - nephriti_loss: 0.1134 - inflam_acc: 1.0000 - inflam_mse: 0.0258 - nephriti_acc: 1.0000 - nephriti_mse: 0.0166 - val_loss: 0.1725 - val_inflam_loss: 0.1483 - val_nephriti_loss: 0.1206 - val_inflam_acc: 1.0000 - val_inflam_mse: 0.0302 - val_nephriti_acc: 1.0000 - val_nephriti_mse: 0.0170\n",
            "Epoch 124/1000\n",
            "1/1 - 0s - loss: 0.1584 - inflam_loss: 0.1357 - nephriti_loss: 0.1134 - inflam_acc: 1.0000 - inflam_mse: 0.0257 - nephriti_acc: 1.0000 - nephriti_mse: 0.0165 - val_loss: 0.1736 - val_inflam_loss: 0.1495 - val_nephriti_loss: 0.1206 - val_inflam_acc: 1.0000 - val_inflam_mse: 0.0309 - val_nephriti_acc: 1.0000 - val_nephriti_mse: 0.0171\n",
            "Epoch 125/1000\n",
            "1/1 - 0s - loss: 0.1583 - inflam_loss: 0.1356 - nephriti_loss: 0.1133 - inflam_acc: 1.0000 - inflam_mse: 0.0258 - nephriti_acc: 1.0000 - nephriti_mse: 0.0165 - val_loss: 0.1723 - val_inflam_loss: 0.1482 - val_nephriti_loss: 0.1205 - val_inflam_acc: 1.0000 - val_inflam_mse: 0.0302 - val_nephriti_acc: 1.0000 - val_nephriti_mse: 0.0170\n",
            "Epoch 126/1000\n",
            "1/1 - 0s - loss: 0.1582 - inflam_loss: 0.1356 - nephriti_loss: 0.1132 - inflam_acc: 1.0000 - inflam_mse: 0.0257 - nephriti_acc: 1.0000 - nephriti_mse: 0.0164 - val_loss: 0.1735 - val_inflam_loss: 0.1494 - val_nephriti_loss: 0.1205 - val_inflam_acc: 1.0000 - val_inflam_mse: 0.0308 - val_nephriti_acc: 1.0000 - val_nephriti_mse: 0.0171\n",
            "Epoch 127/1000\n",
            "1/1 - 0s - loss: 0.1581 - inflam_loss: 0.1355 - nephriti_loss: 0.1132 - inflam_acc: 1.0000 - inflam_mse: 0.0258 - nephriti_acc: 1.0000 - nephriti_mse: 0.0165 - val_loss: 0.1721 - val_inflam_loss: 0.1480 - val_nephriti_loss: 0.1204 - val_inflam_acc: 1.0000 - val_inflam_mse: 0.0301 - val_nephriti_acc: 1.0000 - val_nephriti_mse: 0.0170\n",
            "Epoch 128/1000\n",
            "1/1 - 0s - loss: 0.1580 - inflam_loss: 0.1354 - nephriti_loss: 0.1131 - inflam_acc: 1.0000 - inflam_mse: 0.0257 - nephriti_acc: 1.0000 - nephriti_mse: 0.0164 - val_loss: 0.1733 - val_inflam_loss: 0.1492 - val_nephriti_loss: 0.1204 - val_inflam_acc: 1.0000 - val_inflam_mse: 0.0308 - val_nephriti_acc: 1.0000 - val_nephriti_mse: 0.0170\n",
            "Epoch 129/1000\n",
            "1/1 - 0s - loss: 0.1580 - inflam_loss: 0.1353 - nephriti_loss: 0.1131 - inflam_acc: 1.0000 - inflam_mse: 0.0257 - nephriti_acc: 1.0000 - nephriti_mse: 0.0165 - val_loss: 0.1719 - val_inflam_loss: 0.1479 - val_nephriti_loss: 0.1203 - val_inflam_acc: 1.0000 - val_inflam_mse: 0.0301 - val_nephriti_acc: 1.0000 - val_nephriti_mse: 0.0169\n",
            "Epoch 130/1000\n",
            "1/1 - 0s - loss: 0.1579 - inflam_loss: 0.1353 - nephriti_loss: 0.1130 - inflam_acc: 1.0000 - inflam_mse: 0.0256 - nephriti_acc: 1.0000 - nephriti_mse: 0.0164 - val_loss: 0.1731 - val_inflam_loss: 0.1490 - val_nephriti_loss: 0.1203 - val_inflam_acc: 1.0000 - val_inflam_mse: 0.0307 - val_nephriti_acc: 1.0000 - val_nephriti_mse: 0.0170\n",
            "Epoch 131/1000\n",
            "1/1 - 0s - loss: 0.1578 - inflam_loss: 0.1352 - nephriti_loss: 0.1130 - inflam_acc: 1.0000 - inflam_mse: 0.0257 - nephriti_acc: 1.0000 - nephriti_mse: 0.0164 - val_loss: 0.1718 - val_inflam_loss: 0.1477 - val_nephriti_loss: 0.1202 - val_inflam_acc: 1.0000 - val_inflam_mse: 0.0300 - val_nephriti_acc: 1.0000 - val_nephriti_mse: 0.0169\n",
            "Epoch 132/1000\n",
            "1/1 - 0s - loss: 0.1577 - inflam_loss: 0.1351 - nephriti_loss: 0.1129 - inflam_acc: 1.0000 - inflam_mse: 0.0256 - nephriti_acc: 1.0000 - nephriti_mse: 0.0164 - val_loss: 0.1729 - val_inflam_loss: 0.1489 - val_nephriti_loss: 0.1202 - val_inflam_acc: 1.0000 - val_inflam_mse: 0.0307 - val_nephriti_acc: 1.0000 - val_nephriti_mse: 0.0170\n",
            "Epoch 133/1000\n",
            "1/1 - 0s - loss: 0.1576 - inflam_loss: 0.1350 - nephriti_loss: 0.1129 - inflam_acc: 1.0000 - inflam_mse: 0.0256 - nephriti_acc: 1.0000 - nephriti_mse: 0.0164 - val_loss: 0.1716 - val_inflam_loss: 0.1476 - val_nephriti_loss: 0.1201 - val_inflam_acc: 1.0000 - val_inflam_mse: 0.0300 - val_nephriti_acc: 1.0000 - val_nephriti_mse: 0.0169\n",
            "Epoch 134/1000\n",
            "1/1 - 0s - loss: 0.1575 - inflam_loss: 0.1350 - nephriti_loss: 0.1128 - inflam_acc: 1.0000 - inflam_mse: 0.0255 - nephriti_acc: 1.0000 - nephriti_mse: 0.0163 - val_loss: 0.1727 - val_inflam_loss: 0.1487 - val_nephriti_loss: 0.1201 - val_inflam_acc: 1.0000 - val_inflam_mse: 0.0307 - val_nephriti_acc: 1.0000 - val_nephriti_mse: 0.0169\n",
            "Epoch 135/1000\n",
            "1/1 - 0s - loss: 0.1575 - inflam_loss: 0.1349 - nephriti_loss: 0.1128 - inflam_acc: 1.0000 - inflam_mse: 0.0256 - nephriti_acc: 1.0000 - nephriti_mse: 0.0164 - val_loss: 0.1714 - val_inflam_loss: 0.1474 - val_nephriti_loss: 0.1199 - val_inflam_acc: 1.0000 - val_inflam_mse: 0.0299 - val_nephriti_acc: 1.0000 - val_nephriti_mse: 0.0168\n",
            "Epoch 136/1000\n",
            "1/1 - 0s - loss: 0.1574 - inflam_loss: 0.1348 - nephriti_loss: 0.1127 - inflam_acc: 1.0000 - inflam_mse: 0.0255 - nephriti_acc: 1.0000 - nephriti_mse: 0.0163 - val_loss: 0.1726 - val_inflam_loss: 0.1486 - val_nephriti_loss: 0.1199 - val_inflam_acc: 1.0000 - val_inflam_mse: 0.0306 - val_nephriti_acc: 1.0000 - val_nephriti_mse: 0.0169\n",
            "Epoch 137/1000\n",
            "1/1 - 0s - loss: 0.1573 - inflam_loss: 0.1348 - nephriti_loss: 0.1127 - inflam_acc: 1.0000 - inflam_mse: 0.0256 - nephriti_acc: 1.0000 - nephriti_mse: 0.0164 - val_loss: 0.1712 - val_inflam_loss: 0.1472 - val_nephriti_loss: 0.1198 - val_inflam_acc: 1.0000 - val_inflam_mse: 0.0299 - val_nephriti_acc: 1.0000 - val_nephriti_mse: 0.0168\n",
            "Epoch 138/1000\n",
            "1/1 - 0s - loss: 0.1572 - inflam_loss: 0.1347 - nephriti_loss: 0.1126 - inflam_acc: 1.0000 - inflam_mse: 0.0255 - nephriti_acc: 1.0000 - nephriti_mse: 0.0163 - val_loss: 0.1724 - val_inflam_loss: 0.1484 - val_nephriti_loss: 0.1198 - val_inflam_acc: 1.0000 - val_inflam_mse: 0.0306 - val_nephriti_acc: 1.0000 - val_nephriti_mse: 0.0169\n",
            "Epoch 139/1000\n",
            "1/1 - 0s - loss: 0.1571 - inflam_loss: 0.1346 - nephriti_loss: 0.1126 - inflam_acc: 1.0000 - inflam_mse: 0.0255 - nephriti_acc: 1.0000 - nephriti_mse: 0.0163 - val_loss: 0.1710 - val_inflam_loss: 0.1471 - val_nephriti_loss: 0.1197 - val_inflam_acc: 1.0000 - val_inflam_mse: 0.0298 - val_nephriti_acc: 1.0000 - val_nephriti_mse: 0.0168\n",
            "Epoch 140/1000\n",
            "1/1 - 0s - loss: 0.1570 - inflam_loss: 0.1345 - nephriti_loss: 0.1125 - inflam_acc: 1.0000 - inflam_mse: 0.0254 - nephriti_acc: 1.0000 - nephriti_mse: 0.0163 - val_loss: 0.1722 - val_inflam_loss: 0.1483 - val_nephriti_loss: 0.1197 - val_inflam_acc: 1.0000 - val_inflam_mse: 0.0305 - val_nephriti_acc: 1.0000 - val_nephriti_mse: 0.0169\n",
            "Epoch 141/1000\n",
            "1/1 - 0s - loss: 0.1570 - inflam_loss: 0.1345 - nephriti_loss: 0.1124 - inflam_acc: 1.0000 - inflam_mse: 0.0255 - nephriti_acc: 1.0000 - nephriti_mse: 0.0163 - val_loss: 0.1709 - val_inflam_loss: 0.1469 - val_nephriti_loss: 0.1196 - val_inflam_acc: 1.0000 - val_inflam_mse: 0.0298 - val_nephriti_acc: 1.0000 - val_nephriti_mse: 0.0168\n",
            "Epoch 142/1000\n",
            "1/1 - 0s - loss: 0.1569 - inflam_loss: 0.1344 - nephriti_loss: 0.1124 - inflam_acc: 1.0000 - inflam_mse: 0.0254 - nephriti_acc: 1.0000 - nephriti_mse: 0.0162 - val_loss: 0.1720 - val_inflam_loss: 0.1481 - val_nephriti_loss: 0.1196 - val_inflam_acc: 1.0000 - val_inflam_mse: 0.0305 - val_nephriti_acc: 1.0000 - val_nephriti_mse: 0.0168\n",
            "Epoch 143/1000\n",
            "1/1 - 0s - loss: 0.1568 - inflam_loss: 0.1343 - nephriti_loss: 0.1123 - inflam_acc: 1.0000 - inflam_mse: 0.0254 - nephriti_acc: 1.0000 - nephriti_mse: 0.0163 - val_loss: 0.1707 - val_inflam_loss: 0.1468 - val_nephriti_loss: 0.1195 - val_inflam_acc: 1.0000 - val_inflam_mse: 0.0297 - val_nephriti_acc: 1.0000 - val_nephriti_mse: 0.0167\n",
            "Epoch 144/1000\n",
            "1/1 - 0s - loss: 0.1567 - inflam_loss: 0.1343 - nephriti_loss: 0.1123 - inflam_acc: 1.0000 - inflam_mse: 0.0253 - nephriti_acc: 1.0000 - nephriti_mse: 0.0162 - val_loss: 0.1718 - val_inflam_loss: 0.1479 - val_nephriti_loss: 0.1195 - val_inflam_acc: 1.0000 - val_inflam_mse: 0.0304 - val_nephriti_acc: 1.0000 - val_nephriti_mse: 0.0168\n",
            "Epoch 145/1000\n",
            "1/1 - 0s - loss: 0.1566 - inflam_loss: 0.1342 - nephriti_loss: 0.1122 - inflam_acc: 1.0000 - inflam_mse: 0.0254 - nephriti_acc: 1.0000 - nephriti_mse: 0.0163 - val_loss: 0.1705 - val_inflam_loss: 0.1466 - val_nephriti_loss: 0.1194 - val_inflam_acc: 1.0000 - val_inflam_mse: 0.0297 - val_nephriti_acc: 1.0000 - val_nephriti_mse: 0.0167\n",
            "Epoch 146/1000\n",
            "1/1 - 0s - loss: 0.1566 - inflam_loss: 0.1341 - nephriti_loss: 0.1122 - inflam_acc: 1.0000 - inflam_mse: 0.0253 - nephriti_acc: 1.0000 - nephriti_mse: 0.0162 - val_loss: 0.1717 - val_inflam_loss: 0.1478 - val_nephriti_loss: 0.1194 - val_inflam_acc: 1.0000 - val_inflam_mse: 0.0304 - val_nephriti_acc: 1.0000 - val_nephriti_mse: 0.0168\n",
            "Epoch 147/1000\n",
            "1/1 - 0s - loss: 0.1565 - inflam_loss: 0.1340 - nephriti_loss: 0.1121 - inflam_acc: 1.0000 - inflam_mse: 0.0254 - nephriti_acc: 1.0000 - nephriti_mse: 0.0162 - val_loss: 0.1703 - val_inflam_loss: 0.1465 - val_nephriti_loss: 0.1193 - val_inflam_acc: 1.0000 - val_inflam_mse: 0.0297 - val_nephriti_acc: 1.0000 - val_nephriti_mse: 0.0167\n",
            "Epoch 148/1000\n",
            "1/1 - 0s - loss: 0.1564 - inflam_loss: 0.1340 - nephriti_loss: 0.1121 - inflam_acc: 1.0000 - inflam_mse: 0.0253 - nephriti_acc: 1.0000 - nephriti_mse: 0.0161 - val_loss: 0.1715 - val_inflam_loss: 0.1476 - val_nephriti_loss: 0.1193 - val_inflam_acc: 1.0000 - val_inflam_mse: 0.0303 - val_nephriti_acc: 1.0000 - val_nephriti_mse: 0.0168\n",
            "Epoch 149/1000\n",
            "1/1 - 0s - loss: 0.1563 - inflam_loss: 0.1339 - nephriti_loss: 0.1120 - inflam_acc: 1.0000 - inflam_mse: 0.0253 - nephriti_acc: 1.0000 - nephriti_mse: 0.0162 - val_loss: 0.1701 - val_inflam_loss: 0.1463 - val_nephriti_loss: 0.1191 - val_inflam_acc: 1.0000 - val_inflam_mse: 0.0296 - val_nephriti_acc: 1.0000 - val_nephriti_mse: 0.0167\n",
            "Epoch 150/1000\n",
            "1/1 - 0s - loss: 0.1562 - inflam_loss: 0.1338 - nephriti_loss: 0.1120 - inflam_acc: 1.0000 - inflam_mse: 0.0252 - nephriti_acc: 1.0000 - nephriti_mse: 0.0161 - val_loss: 0.1713 - val_inflam_loss: 0.1475 - val_nephriti_loss: 0.1191 - val_inflam_acc: 1.0000 - val_inflam_mse: 0.0303 - val_nephriti_acc: 1.0000 - val_nephriti_mse: 0.0167\n",
            "Epoch 151/1000\n",
            "1/1 - 0s - loss: 0.1561 - inflam_loss: 0.1338 - nephriti_loss: 0.1119 - inflam_acc: 1.0000 - inflam_mse: 0.0253 - nephriti_acc: 1.0000 - nephriti_mse: 0.0162 - val_loss: 0.1700 - val_inflam_loss: 0.1462 - val_nephriti_loss: 0.1190 - val_inflam_acc: 1.0000 - val_inflam_mse: 0.0296 - val_nephriti_acc: 1.0000 - val_nephriti_mse: 0.0166\n",
            "Epoch 152/1000\n",
            "1/1 - 0s - loss: 0.1561 - inflam_loss: 0.1337 - nephriti_loss: 0.1119 - inflam_acc: 1.0000 - inflam_mse: 0.0252 - nephriti_acc: 1.0000 - nephriti_mse: 0.0161 - val_loss: 0.1711 - val_inflam_loss: 0.1473 - val_nephriti_loss: 0.1190 - val_inflam_acc: 1.0000 - val_inflam_mse: 0.0302 - val_nephriti_acc: 1.0000 - val_nephriti_mse: 0.0167\n",
            "Epoch 153/1000\n",
            "1/1 - 0s - loss: 0.1560 - inflam_loss: 0.1336 - nephriti_loss: 0.1118 - inflam_acc: 1.0000 - inflam_mse: 0.0252 - nephriti_acc: 1.0000 - nephriti_mse: 0.0162 - val_loss: 0.1698 - val_inflam_loss: 0.1460 - val_nephriti_loss: 0.1189 - val_inflam_acc: 1.0000 - val_inflam_mse: 0.0295 - val_nephriti_acc: 1.0000 - val_nephriti_mse: 0.0166\n",
            "Epoch 154/1000\n",
            "1/1 - 0s - loss: 0.1559 - inflam_loss: 0.1335 - nephriti_loss: 0.1118 - inflam_acc: 1.0000 - inflam_mse: 0.0251 - nephriti_acc: 1.0000 - nephriti_mse: 0.0161 - val_loss: 0.1709 - val_inflam_loss: 0.1472 - val_nephriti_loss: 0.1189 - val_inflam_acc: 1.0000 - val_inflam_mse: 0.0302 - val_nephriti_acc: 1.0000 - val_nephriti_mse: 0.0167\n",
            "Epoch 155/1000\n",
            "1/1 - 0s - loss: 0.1558 - inflam_loss: 0.1335 - nephriti_loss: 0.1117 - inflam_acc: 1.0000 - inflam_mse: 0.0252 - nephriti_acc: 1.0000 - nephriti_mse: 0.0161 - val_loss: 0.1696 - val_inflam_loss: 0.1458 - val_nephriti_loss: 0.1188 - val_inflam_acc: 1.0000 - val_inflam_mse: 0.0295 - val_nephriti_acc: 1.0000 - val_nephriti_mse: 0.0166\n",
            "Epoch 156/1000\n",
            "1/1 - 0s - loss: 0.1557 - inflam_loss: 0.1334 - nephriti_loss: 0.1116 - inflam_acc: 1.0000 - inflam_mse: 0.0251 - nephriti_acc: 1.0000 - nephriti_mse: 0.0160 - val_loss: 0.1708 - val_inflam_loss: 0.1470 - val_nephriti_loss: 0.1188 - val_inflam_acc: 1.0000 - val_inflam_mse: 0.0301 - val_nephriti_acc: 1.0000 - val_nephriti_mse: 0.0166\n",
            "Epoch 157/1000\n",
            "1/1 - 0s - loss: 0.1557 - inflam_loss: 0.1333 - nephriti_loss: 0.1116 - inflam_acc: 1.0000 - inflam_mse: 0.0252 - nephriti_acc: 1.0000 - nephriti_mse: 0.0161 - val_loss: 0.1694 - val_inflam_loss: 0.1457 - val_nephriti_loss: 0.1187 - val_inflam_acc: 1.0000 - val_inflam_mse: 0.0294 - val_nephriti_acc: 1.0000 - val_nephriti_mse: 0.0166\n",
            "Epoch 158/1000\n",
            "1/1 - 0s - loss: 0.1556 - inflam_loss: 0.1333 - nephriti_loss: 0.1115 - inflam_acc: 1.0000 - inflam_mse: 0.0251 - nephriti_acc: 1.0000 - nephriti_mse: 0.0160 - val_loss: 0.1706 - val_inflam_loss: 0.1468 - val_nephriti_loss: 0.1187 - val_inflam_acc: 1.0000 - val_inflam_mse: 0.0301 - val_nephriti_acc: 1.0000 - val_nephriti_mse: 0.0166\n",
            "Epoch 159/1000\n",
            "1/1 - 0s - loss: 0.1555 - inflam_loss: 0.1332 - nephriti_loss: 0.1115 - inflam_acc: 1.0000 - inflam_mse: 0.0251 - nephriti_acc: 1.0000 - nephriti_mse: 0.0161 - val_loss: 0.1693 - val_inflam_loss: 0.1455 - val_nephriti_loss: 0.1186 - val_inflam_acc: 1.0000 - val_inflam_mse: 0.0294 - val_nephriti_acc: 1.0000 - val_nephriti_mse: 0.0165\n",
            "Epoch 160/1000\n",
            "1/1 - 0s - loss: 0.1554 - inflam_loss: 0.1331 - nephriti_loss: 0.1114 - inflam_acc: 1.0000 - inflam_mse: 0.0250 - nephriti_acc: 1.0000 - nephriti_mse: 0.0160 - val_loss: 0.1704 - val_inflam_loss: 0.1467 - val_nephriti_loss: 0.1186 - val_inflam_acc: 1.0000 - val_inflam_mse: 0.0300 - val_nephriti_acc: 1.0000 - val_nephriti_mse: 0.0166\n",
            "Epoch 161/1000\n",
            "1/1 - 0s - loss: 0.1553 - inflam_loss: 0.1331 - nephriti_loss: 0.1114 - inflam_acc: 1.0000 - inflam_mse: 0.0251 - nephriti_acc: 1.0000 - nephriti_mse: 0.0161 - val_loss: 0.1691 - val_inflam_loss: 0.1454 - val_nephriti_loss: 0.1185 - val_inflam_acc: 1.0000 - val_inflam_mse: 0.0293 - val_nephriti_acc: 1.0000 - val_nephriti_mse: 0.0165\n",
            "Epoch 162/1000\n",
            "1/1 - 0s - loss: 0.1552 - inflam_loss: 0.1330 - nephriti_loss: 0.1113 - inflam_acc: 1.0000 - inflam_mse: 0.0250 - nephriti_acc: 1.0000 - nephriti_mse: 0.0160 - val_loss: 0.1702 - val_inflam_loss: 0.1465 - val_nephriti_loss: 0.1185 - val_inflam_acc: 1.0000 - val_inflam_mse: 0.0300 - val_nephriti_acc: 1.0000 - val_nephriti_mse: 0.0166\n",
            "Epoch 163/1000\n",
            "1/1 - 0s - loss: 0.1552 - inflam_loss: 0.1329 - nephriti_loss: 0.1113 - inflam_acc: 1.0000 - inflam_mse: 0.0250 - nephriti_acc: 1.0000 - nephriti_mse: 0.0160 - val_loss: 0.1689 - val_inflam_loss: 0.1452 - val_nephriti_loss: 0.1184 - val_inflam_acc: 1.0000 - val_inflam_mse: 0.0293 - val_nephriti_acc: 1.0000 - val_nephriti_mse: 0.0165\n",
            "Epoch 164/1000\n",
            "1/1 - 0s - loss: 0.1551 - inflam_loss: 0.1328 - nephriti_loss: 0.1112 - inflam_acc: 1.0000 - inflam_mse: 0.0250 - nephriti_acc: 1.0000 - nephriti_mse: 0.0159 - val_loss: 0.1701 - val_inflam_loss: 0.1464 - val_nephriti_loss: 0.1183 - val_inflam_acc: 1.0000 - val_inflam_mse: 0.0300 - val_nephriti_acc: 1.0000 - val_nephriti_mse: 0.0165\n",
            "Epoch 165/1000\n",
            "1/1 - 0s - loss: 0.1550 - inflam_loss: 0.1328 - nephriti_loss: 0.1112 - inflam_acc: 1.0000 - inflam_mse: 0.0250 - nephriti_acc: 1.0000 - nephriti_mse: 0.0160 - val_loss: 0.1687 - val_inflam_loss: 0.1451 - val_nephriti_loss: 0.1182 - val_inflam_acc: 1.0000 - val_inflam_mse: 0.0292 - val_nephriti_acc: 1.0000 - val_nephriti_mse: 0.0164\n",
            "Epoch 166/1000\n",
            "1/1 - 0s - loss: 0.1549 - inflam_loss: 0.1327 - nephriti_loss: 0.1111 - inflam_acc: 1.0000 - inflam_mse: 0.0249 - nephriti_acc: 1.0000 - nephriti_mse: 0.0159 - val_loss: 0.1699 - val_inflam_loss: 0.1462 - val_nephriti_loss: 0.1182 - val_inflam_acc: 1.0000 - val_inflam_mse: 0.0299 - val_nephriti_acc: 1.0000 - val_nephriti_mse: 0.0165\n",
            "Epoch 167/1000\n",
            "1/1 - 0s - loss: 0.1548 - inflam_loss: 0.1326 - nephriti_loss: 0.1111 - inflam_acc: 1.0000 - inflam_mse: 0.0250 - nephriti_acc: 1.0000 - nephriti_mse: 0.0160 - val_loss: 0.1685 - val_inflam_loss: 0.1449 - val_nephriti_loss: 0.1181 - val_inflam_acc: 1.0000 - val_inflam_mse: 0.0292 - val_nephriti_acc: 1.0000 - val_nephriti_mse: 0.0164\n",
            "Epoch 168/1000\n",
            "1/1 - 0s - loss: 0.1548 - inflam_loss: 0.1326 - nephriti_loss: 0.1110 - inflam_acc: 1.0000 - inflam_mse: 0.0249 - nephriti_acc: 1.0000 - nephriti_mse: 0.0159 - val_loss: 0.1697 - val_inflam_loss: 0.1461 - val_nephriti_loss: 0.1181 - val_inflam_acc: 1.0000 - val_inflam_mse: 0.0299 - val_nephriti_acc: 1.0000 - val_nephriti_mse: 0.0165\n",
            "Epoch 169/1000\n",
            "1/1 - 0s - loss: 0.1547 - inflam_loss: 0.1325 - nephriti_loss: 0.1110 - inflam_acc: 1.0000 - inflam_mse: 0.0249 - nephriti_acc: 1.0000 - nephriti_mse: 0.0160 - val_loss: 0.1684 - val_inflam_loss: 0.1448 - val_nephriti_loss: 0.1180 - val_inflam_acc: 1.0000 - val_inflam_mse: 0.0292 - val_nephriti_acc: 1.0000 - val_nephriti_mse: 0.0164\n",
            "Epoch 170/1000\n",
            "1/1 - 0s - loss: 0.1546 - inflam_loss: 0.1324 - nephriti_loss: 0.1109 - inflam_acc: 1.0000 - inflam_mse: 0.0248 - nephriti_acc: 1.0000 - nephriti_mse: 0.0159 - val_loss: 0.1695 - val_inflam_loss: 0.1459 - val_nephriti_loss: 0.1180 - val_inflam_acc: 1.0000 - val_inflam_mse: 0.0298 - val_nephriti_acc: 1.0000 - val_nephriti_mse: 0.0165\n",
            "Epoch 171/1000\n",
            "1/1 - 0s - loss: 0.1545 - inflam_loss: 0.1324 - nephriti_loss: 0.1109 - inflam_acc: 1.0000 - inflam_mse: 0.0249 - nephriti_acc: 1.0000 - nephriti_mse: 0.0159 - val_loss: 0.1682 - val_inflam_loss: 0.1446 - val_nephriti_loss: 0.1179 - val_inflam_acc: 1.0000 - val_inflam_mse: 0.0291 - val_nephriti_acc: 1.0000 - val_nephriti_mse: 0.0164\n",
            "Epoch 172/1000\n",
            "1/1 - 0s - loss: 0.1544 - inflam_loss: 0.1323 - nephriti_loss: 0.1108 - inflam_acc: 1.0000 - inflam_mse: 0.0248 - nephriti_acc: 1.0000 - nephriti_mse: 0.0158 - val_loss: 0.1693 - val_inflam_loss: 0.1458 - val_nephriti_loss: 0.1179 - val_inflam_acc: 1.0000 - val_inflam_mse: 0.0298 - val_nephriti_acc: 1.0000 - val_nephriti_mse: 0.0164\n",
            "Epoch 173/1000\n",
            "1/1 - 0s - loss: 0.1544 - inflam_loss: 0.1322 - nephriti_loss: 0.1107 - inflam_acc: 1.0000 - inflam_mse: 0.0249 - nephriti_acc: 1.0000 - nephriti_mse: 0.0159 - val_loss: 0.1680 - val_inflam_loss: 0.1445 - val_nephriti_loss: 0.1178 - val_inflam_acc: 1.0000 - val_inflam_mse: 0.0291 - val_nephriti_acc: 1.0000 - val_nephriti_mse: 0.0163\n",
            "Epoch 174/1000\n",
            "1/1 - 0s - loss: 0.1543 - inflam_loss: 0.1321 - nephriti_loss: 0.1107 - inflam_acc: 1.0000 - inflam_mse: 0.0248 - nephriti_acc: 1.0000 - nephriti_mse: 0.0158 - val_loss: 0.1692 - val_inflam_loss: 0.1456 - val_nephriti_loss: 0.1178 - val_inflam_acc: 1.0000 - val_inflam_mse: 0.0297 - val_nephriti_acc: 1.0000 - val_nephriti_mse: 0.0164\n",
            "Epoch 175/1000\n",
            "1/1 - 0s - loss: 0.1542 - inflam_loss: 0.1321 - nephriti_loss: 0.1106 - inflam_acc: 1.0000 - inflam_mse: 0.0248 - nephriti_acc: 1.0000 - nephriti_mse: 0.0159 - val_loss: 0.1678 - val_inflam_loss: 0.1443 - val_nephriti_loss: 0.1177 - val_inflam_acc: 1.0000 - val_inflam_mse: 0.0290 - val_nephriti_acc: 1.0000 - val_nephriti_mse: 0.0163\n",
            "Epoch 176/1000\n",
            "1/1 - 0s - loss: 0.1541 - inflam_loss: 0.1320 - nephriti_loss: 0.1106 - inflam_acc: 1.0000 - inflam_mse: 0.0247 - nephriti_acc: 1.0000 - nephriti_mse: 0.0158 - val_loss: 0.1690 - val_inflam_loss: 0.1455 - val_nephriti_loss: 0.1177 - val_inflam_acc: 1.0000 - val_inflam_mse: 0.0297 - val_nephriti_acc: 1.0000 - val_nephriti_mse: 0.0164\n",
            "Epoch 177/1000\n",
            "1/1 - 0s - loss: 0.1540 - inflam_loss: 0.1319 - nephriti_loss: 0.1105 - inflam_acc: 1.0000 - inflam_mse: 0.0248 - nephriti_acc: 1.0000 - nephriti_mse: 0.0159 - val_loss: 0.1677 - val_inflam_loss: 0.1442 - val_nephriti_loss: 0.1176 - val_inflam_acc: 1.0000 - val_inflam_mse: 0.0290 - val_nephriti_acc: 1.0000 - val_nephriti_mse: 0.0163\n",
            "Epoch 178/1000\n",
            "1/1 - 0s - loss: 0.1540 - inflam_loss: 0.1319 - nephriti_loss: 0.1105 - inflam_acc: 1.0000 - inflam_mse: 0.0247 - nephriti_acc: 1.0000 - nephriti_mse: 0.0158 - val_loss: 0.1688 - val_inflam_loss: 0.1453 - val_nephriti_loss: 0.1176 - val_inflam_acc: 1.0000 - val_inflam_mse: 0.0296 - val_nephriti_acc: 1.0000 - val_nephriti_mse: 0.0163\n",
            "Epoch 179/1000\n",
            "1/1 - 0s - loss: 0.1539 - inflam_loss: 0.1318 - nephriti_loss: 0.1104 - inflam_acc: 1.0000 - inflam_mse: 0.0247 - nephriti_acc: 1.0000 - nephriti_mse: 0.0158 - val_loss: 0.1675 - val_inflam_loss: 0.1440 - val_nephriti_loss: 0.1174 - val_inflam_acc: 1.0000 - val_inflam_mse: 0.0289 - val_nephriti_acc: 1.0000 - val_nephriti_mse: 0.0163\n",
            "Epoch 180/1000\n",
            "1/1 - 0s - loss: 0.1538 - inflam_loss: 0.1317 - nephriti_loss: 0.1104 - inflam_acc: 1.0000 - inflam_mse: 0.0246 - nephriti_acc: 1.0000 - nephriti_mse: 0.0157 - val_loss: 0.1686 - val_inflam_loss: 0.1452 - val_nephriti_loss: 0.1174 - val_inflam_acc: 1.0000 - val_inflam_mse: 0.0296 - val_nephriti_acc: 1.0000 - val_nephriti_mse: 0.0163\n",
            "Epoch 181/1000\n",
            "1/1 - 0s - loss: 0.1537 - inflam_loss: 0.1317 - nephriti_loss: 0.1103 - inflam_acc: 1.0000 - inflam_mse: 0.0247 - nephriti_acc: 1.0000 - nephriti_mse: 0.0158 - val_loss: 0.1673 - val_inflam_loss: 0.1438 - val_nephriti_loss: 0.1173 - val_inflam_acc: 1.0000 - val_inflam_mse: 0.0289 - val_nephriti_acc: 1.0000 - val_nephriti_mse: 0.0162\n",
            "Epoch 182/1000\n",
            "1/1 - 0s - loss: 0.1536 - inflam_loss: 0.1316 - nephriti_loss: 0.1103 - inflam_acc: 1.0000 - inflam_mse: 0.0246 - nephriti_acc: 1.0000 - nephriti_mse: 0.0157 - val_loss: 0.1685 - val_inflam_loss: 0.1450 - val_nephriti_loss: 0.1173 - val_inflam_acc: 1.0000 - val_inflam_mse: 0.0295 - val_nephriti_acc: 1.0000 - val_nephriti_mse: 0.0163\n",
            "Epoch 183/1000\n",
            "1/1 - 0s - loss: 0.1536 - inflam_loss: 0.1315 - nephriti_loss: 0.1102 - inflam_acc: 1.0000 - inflam_mse: 0.0247 - nephriti_acc: 1.0000 - nephriti_mse: 0.0158 - val_loss: 0.1671 - val_inflam_loss: 0.1437 - val_nephriti_loss: 0.1172 - val_inflam_acc: 1.0000 - val_inflam_mse: 0.0288 - val_nephriti_acc: 1.0000 - val_nephriti_mse: 0.0162\n",
            "Epoch 184/1000\n",
            "1/1 - 0s - loss: 0.1535 - inflam_loss: 0.1314 - nephriti_loss: 0.1102 - inflam_acc: 1.0000 - inflam_mse: 0.0246 - nephriti_acc: 1.0000 - nephriti_mse: 0.0157 - val_loss: 0.1683 - val_inflam_loss: 0.1448 - val_nephriti_loss: 0.1172 - val_inflam_acc: 1.0000 - val_inflam_mse: 0.0295 - val_nephriti_acc: 1.0000 - val_nephriti_mse: 0.0163\n",
            "Epoch 185/1000\n",
            "1/1 - 0s - loss: 0.1534 - inflam_loss: 0.1314 - nephriti_loss: 0.1101 - inflam_acc: 1.0000 - inflam_mse: 0.0246 - nephriti_acc: 1.0000 - nephriti_mse: 0.0158 - val_loss: 0.1670 - val_inflam_loss: 0.1435 - val_nephriti_loss: 0.1171 - val_inflam_acc: 1.0000 - val_inflam_mse: 0.0288 - val_nephriti_acc: 1.0000 - val_nephriti_mse: 0.0162\n",
            "Epoch 186/1000\n",
            "1/1 - 0s - loss: 0.1533 - inflam_loss: 0.1313 - nephriti_loss: 0.1101 - inflam_acc: 1.0000 - inflam_mse: 0.0245 - nephriti_acc: 1.0000 - nephriti_mse: 0.0157 - val_loss: 0.1681 - val_inflam_loss: 0.1447 - val_nephriti_loss: 0.1171 - val_inflam_acc: 1.0000 - val_inflam_mse: 0.0295 - val_nephriti_acc: 1.0000 - val_nephriti_mse: 0.0162\n",
            "Epoch 187/1000\n",
            "1/1 - 0s - loss: 0.1532 - inflam_loss: 0.1312 - nephriti_loss: 0.1100 - inflam_acc: 1.0000 - inflam_mse: 0.0246 - nephriti_acc: 1.0000 - nephriti_mse: 0.0157 - val_loss: 0.1668 - val_inflam_loss: 0.1434 - val_nephriti_loss: 0.1170 - val_inflam_acc: 1.0000 - val_inflam_mse: 0.0287 - val_nephriti_acc: 1.0000 - val_nephriti_mse: 0.0162\n",
            "Epoch 188/1000\n",
            "1/1 - 0s - loss: 0.1532 - inflam_loss: 0.1312 - nephriti_loss: 0.1100 - inflam_acc: 1.0000 - inflam_mse: 0.0245 - nephriti_acc: 1.0000 - nephriti_mse: 0.0156 - val_loss: 0.1679 - val_inflam_loss: 0.1445 - val_nephriti_loss: 0.1170 - val_inflam_acc: 1.0000 - val_inflam_mse: 0.0294 - val_nephriti_acc: 1.0000 - val_nephriti_mse: 0.0162\n",
            "Epoch 189/1000\n",
            "1/1 - 0s - loss: 0.1531 - inflam_loss: 0.1311 - nephriti_loss: 0.1099 - inflam_acc: 1.0000 - inflam_mse: 0.0246 - nephriti_acc: 1.0000 - nephriti_mse: 0.0157 - val_loss: 0.1666 - val_inflam_loss: 0.1432 - val_nephriti_loss: 0.1169 - val_inflam_acc: 1.0000 - val_inflam_mse: 0.0287 - val_nephriti_acc: 1.0000 - val_nephriti_mse: 0.0161\n",
            "Epoch 190/1000\n",
            "1/1 - 0s - loss: 0.1530 - inflam_loss: 0.1310 - nephriti_loss: 0.1099 - inflam_acc: 1.0000 - inflam_mse: 0.0245 - nephriti_acc: 1.0000 - nephriti_mse: 0.0156 - val_loss: 0.1678 - val_inflam_loss: 0.1444 - val_nephriti_loss: 0.1169 - val_inflam_acc: 1.0000 - val_inflam_mse: 0.0294 - val_nephriti_acc: 1.0000 - val_nephriti_mse: 0.0162\n",
            "Epoch 191/1000\n",
            "1/1 - 0s - loss: 0.1529 - inflam_loss: 0.1310 - nephriti_loss: 0.1098 - inflam_acc: 1.0000 - inflam_mse: 0.0245 - nephriti_acc: 1.0000 - nephriti_mse: 0.0157 - val_loss: 0.1664 - val_inflam_loss: 0.1431 - val_nephriti_loss: 0.1168 - val_inflam_acc: 1.0000 - val_inflam_mse: 0.0287 - val_nephriti_acc: 1.0000 - val_nephriti_mse: 0.0161\n",
            "Epoch 192/1000\n",
            "1/1 - 0s - loss: 0.1528 - inflam_loss: 0.1309 - nephriti_loss: 0.1098 - inflam_acc: 1.0000 - inflam_mse: 0.0244 - nephriti_acc: 1.0000 - nephriti_mse: 0.0156 - val_loss: 0.1676 - val_inflam_loss: 0.1442 - val_nephriti_loss: 0.1168 - val_inflam_acc: 1.0000 - val_inflam_mse: 0.0293 - val_nephriti_acc: 1.0000 - val_nephriti_mse: 0.0162\n",
            "Epoch 193/1000\n",
            "1/1 - 0s - loss: 0.1528 - inflam_loss: 0.1308 - nephriti_loss: 0.1097 - inflam_acc: 1.0000 - inflam_mse: 0.0245 - nephriti_acc: 1.0000 - nephriti_mse: 0.0157 - val_loss: 0.1663 - val_inflam_loss: 0.1429 - val_nephriti_loss: 0.1167 - val_inflam_acc: 1.0000 - val_inflam_mse: 0.0286 - val_nephriti_acc: 1.0000 - val_nephriti_mse: 0.0161\n",
            "Epoch 194/1000\n",
            "1/1 - 0s - loss: 0.1527 - inflam_loss: 0.1307 - nephriti_loss: 0.1096 - inflam_acc: 1.0000 - inflam_mse: 0.0244 - nephriti_acc: 1.0000 - nephriti_mse: 0.0156 - val_loss: 0.1674 - val_inflam_loss: 0.1441 - val_nephriti_loss: 0.1167 - val_inflam_acc: 1.0000 - val_inflam_mse: 0.0293 - val_nephriti_acc: 1.0000 - val_nephriti_mse: 0.0161\n",
            "Epoch 195/1000\n",
            "1/1 - 0s - loss: 0.1526 - inflam_loss: 0.1307 - nephriti_loss: 0.1096 - inflam_acc: 1.0000 - inflam_mse: 0.0244 - nephriti_acc: 1.0000 - nephriti_mse: 0.0156 - val_loss: 0.1661 - val_inflam_loss: 0.1428 - val_nephriti_loss: 0.1166 - val_inflam_acc: 1.0000 - val_inflam_mse: 0.0286 - val_nephriti_acc: 1.0000 - val_nephriti_mse: 0.0160\n",
            "Epoch 196/1000\n",
            "1/1 - 0s - loss: 0.1525 - inflam_loss: 0.1306 - nephriti_loss: 0.1095 - inflam_acc: 1.0000 - inflam_mse: 0.0243 - nephriti_acc: 1.0000 - nephriti_mse: 0.0155 - val_loss: 0.1672 - val_inflam_loss: 0.1439 - val_nephriti_loss: 0.1165 - val_inflam_acc: 1.0000 - val_inflam_mse: 0.0292 - val_nephriti_acc: 1.0000 - val_nephriti_mse: 0.0161\n",
            "Epoch 197/1000\n",
            "1/1 - 0s - loss: 0.1524 - inflam_loss: 0.1305 - nephriti_loss: 0.1095 - inflam_acc: 1.0000 - inflam_mse: 0.0244 - nephriti_acc: 1.0000 - nephriti_mse: 0.0156 - val_loss: 0.1659 - val_inflam_loss: 0.1426 - val_nephriti_loss: 0.1164 - val_inflam_acc: 1.0000 - val_inflam_mse: 0.0285 - val_nephriti_acc: 1.0000 - val_nephriti_mse: 0.0160\n",
            "Epoch 198/1000\n",
            "1/1 - 0s - loss: 0.1524 - inflam_loss: 0.1305 - nephriti_loss: 0.1094 - inflam_acc: 1.0000 - inflam_mse: 0.0243 - nephriti_acc: 1.0000 - nephriti_mse: 0.0155 - val_loss: 0.1671 - val_inflam_loss: 0.1438 - val_nephriti_loss: 0.1164 - val_inflam_acc: 1.0000 - val_inflam_mse: 0.0292 - val_nephriti_acc: 1.0000 - val_nephriti_mse: 0.0161\n",
            "Epoch 199/1000\n",
            "1/1 - 0s - loss: 0.1523 - inflam_loss: 0.1304 - nephriti_loss: 0.1094 - inflam_acc: 1.0000 - inflam_mse: 0.0244 - nephriti_acc: 1.0000 - nephriti_mse: 0.0156 - val_loss: 0.1658 - val_inflam_loss: 0.1425 - val_nephriti_loss: 0.1163 - val_inflam_acc: 1.0000 - val_inflam_mse: 0.0285 - val_nephriti_acc: 1.0000 - val_nephriti_mse: 0.0160\n",
            "Epoch 200/1000\n",
            "1/1 - 0s - loss: 0.1522 - inflam_loss: 0.1303 - nephriti_loss: 0.1093 - inflam_acc: 1.0000 - inflam_mse: 0.0243 - nephriti_acc: 1.0000 - nephriti_mse: 0.0155 - val_loss: 0.1669 - val_inflam_loss: 0.1436 - val_nephriti_loss: 0.1163 - val_inflam_acc: 1.0000 - val_inflam_mse: 0.0291 - val_nephriti_acc: 1.0000 - val_nephriti_mse: 0.0161\n",
            "Epoch 201/1000\n",
            "1/1 - 0s - loss: 0.1521 - inflam_loss: 0.1303 - nephriti_loss: 0.1093 - inflam_acc: 1.0000 - inflam_mse: 0.0243 - nephriti_acc: 1.0000 - nephriti_mse: 0.0156 - val_loss: 0.1656 - val_inflam_loss: 0.1423 - val_nephriti_loss: 0.1162 - val_inflam_acc: 1.0000 - val_inflam_mse: 0.0284 - val_nephriti_acc: 1.0000 - val_nephriti_mse: 0.0160\n",
            "Epoch 202/1000\n",
            "1/1 - 0s - loss: 0.1520 - inflam_loss: 0.1302 - nephriti_loss: 0.1092 - inflam_acc: 1.0000 - inflam_mse: 0.0242 - nephriti_acc: 1.0000 - nephriti_mse: 0.0155 - val_loss: 0.1667 - val_inflam_loss: 0.1435 - val_nephriti_loss: 0.1162 - val_inflam_acc: 1.0000 - val_inflam_mse: 0.0291 - val_nephriti_acc: 1.0000 - val_nephriti_mse: 0.0160\n",
            "Epoch 203/1000\n",
            "1/1 - 0s - loss: 0.1520 - inflam_loss: 0.1301 - nephriti_loss: 0.1092 - inflam_acc: 1.0000 - inflam_mse: 0.0243 - nephriti_acc: 1.0000 - nephriti_mse: 0.0155 - val_loss: 0.1654 - val_inflam_loss: 0.1422 - val_nephriti_loss: 0.1161 - val_inflam_acc: 1.0000 - val_inflam_mse: 0.0284 - val_nephriti_acc: 1.0000 - val_nephriti_mse: 0.0159\n",
            "Epoch 204/1000\n",
            "1/1 - 0s - loss: 0.1519 - inflam_loss: 0.1301 - nephriti_loss: 0.1091 - inflam_acc: 1.0000 - inflam_mse: 0.0242 - nephriti_acc: 1.0000 - nephriti_mse: 0.0154 - val_loss: 0.1665 - val_inflam_loss: 0.1433 - val_nephriti_loss: 0.1161 - val_inflam_acc: 1.0000 - val_inflam_mse: 0.0291 - val_nephriti_acc: 1.0000 - val_nephriti_mse: 0.0160\n",
            "Epoch 205/1000\n",
            "1/1 - 0s - loss: 0.1518 - inflam_loss: 0.1300 - nephriti_loss: 0.1091 - inflam_acc: 1.0000 - inflam_mse: 0.0243 - nephriti_acc: 1.0000 - nephriti_mse: 0.0155 - val_loss: 0.1652 - val_inflam_loss: 0.1420 - val_nephriti_loss: 0.1160 - val_inflam_acc: 1.0000 - val_inflam_mse: 0.0283 - val_nephriti_acc: 1.0000 - val_nephriti_mse: 0.0159\n",
            "Epoch 206/1000\n",
            "1/1 - 0s - loss: 0.1517 - inflam_loss: 0.1299 - nephriti_loss: 0.1090 - inflam_acc: 1.0000 - inflam_mse: 0.0242 - nephriti_acc: 1.0000 - nephriti_mse: 0.0154 - val_loss: 0.1664 - val_inflam_loss: 0.1432 - val_nephriti_loss: 0.1160 - val_inflam_acc: 1.0000 - val_inflam_mse: 0.0290 - val_nephriti_acc: 1.0000 - val_nephriti_mse: 0.0160\n",
            "Epoch 207/1000\n",
            "1/1 - 0s - loss: 0.1516 - inflam_loss: 0.1299 - nephriti_loss: 0.1090 - inflam_acc: 1.0000 - inflam_mse: 0.0242 - nephriti_acc: 1.0000 - nephriti_mse: 0.0155 - val_loss: 0.1651 - val_inflam_loss: 0.1419 - val_nephriti_loss: 0.1159 - val_inflam_acc: 1.0000 - val_inflam_mse: 0.0283 - val_nephriti_acc: 1.0000 - val_nephriti_mse: 0.0159\n",
            "Epoch 208/1000\n",
            "1/1 - 0s - loss: 0.1516 - inflam_loss: 0.1298 - nephriti_loss: 0.1089 - inflam_acc: 1.0000 - inflam_mse: 0.0241 - nephriti_acc: 1.0000 - nephriti_mse: 0.0154 - val_loss: 0.1662 - val_inflam_loss: 0.1430 - val_nephriti_loss: 0.1159 - val_inflam_acc: 1.0000 - val_inflam_mse: 0.0290 - val_nephriti_acc: 1.0000 - val_nephriti_mse: 0.0160\n",
            "Epoch 209/1000\n",
            "1/1 - 0s - loss: 0.1515 - inflam_loss: 0.1297 - nephriti_loss: 0.1089 - inflam_acc: 1.0000 - inflam_mse: 0.0242 - nephriti_acc: 1.0000 - nephriti_mse: 0.0155 - val_loss: 0.1649 - val_inflam_loss: 0.1417 - val_nephriti_loss: 0.1158 - val_inflam_acc: 1.0000 - val_inflam_mse: 0.0283 - val_nephriti_acc: 1.0000 - val_nephriti_mse: 0.0159\n",
            "Epoch 210/1000\n",
            "1/1 - 0s - loss: 0.1514 - inflam_loss: 0.1296 - nephriti_loss: 0.1088 - inflam_acc: 1.0000 - inflam_mse: 0.0241 - nephriti_acc: 1.0000 - nephriti_mse: 0.0154 - val_loss: 0.1660 - val_inflam_loss: 0.1429 - val_nephriti_loss: 0.1158 - val_inflam_acc: 1.0000 - val_inflam_mse: 0.0289 - val_nephriti_acc: 1.0000 - val_nephriti_mse: 0.0159\n",
            "Epoch 211/1000\n",
            "1/1 - 0s - loss: 0.1513 - inflam_loss: 0.1296 - nephriti_loss: 0.1088 - inflam_acc: 1.0000 - inflam_mse: 0.0241 - nephriti_acc: 1.0000 - nephriti_mse: 0.0154 - val_loss: 0.1647 - val_inflam_loss: 0.1416 - val_nephriti_loss: 0.1157 - val_inflam_acc: 1.0000 - val_inflam_mse: 0.0282 - val_nephriti_acc: 1.0000 - val_nephriti_mse: 0.0158\n",
            "Epoch 212/1000\n",
            "1/1 - 0s - loss: 0.1513 - inflam_loss: 0.1295 - nephriti_loss: 0.1087 - inflam_acc: 1.0000 - inflam_mse: 0.0240 - nephriti_acc: 1.0000 - nephriti_mse: 0.0153 - val_loss: 0.1659 - val_inflam_loss: 0.1427 - val_nephriti_loss: 0.1157 - val_inflam_acc: 1.0000 - val_inflam_mse: 0.0289 - val_nephriti_acc: 1.0000 - val_nephriti_mse: 0.0159\n",
            "Epoch 213/1000\n",
            "1/1 - 0s - loss: 0.1512 - inflam_loss: 0.1294 - nephriti_loss: 0.1087 - inflam_acc: 1.0000 - inflam_mse: 0.0241 - nephriti_acc: 1.0000 - nephriti_mse: 0.0154 - val_loss: 0.1645 - val_inflam_loss: 0.1414 - val_nephriti_loss: 0.1156 - val_inflam_acc: 1.0000 - val_inflam_mse: 0.0282 - val_nephriti_acc: 1.0000 - val_nephriti_mse: 0.0158\n",
            "Epoch 214/1000\n",
            "1/1 - 0s - loss: 0.1511 - inflam_loss: 0.1294 - nephriti_loss: 0.1086 - inflam_acc: 1.0000 - inflam_mse: 0.0240 - nephriti_acc: 1.0000 - nephriti_mse: 0.0153 - val_loss: 0.1657 - val_inflam_loss: 0.1426 - val_nephriti_loss: 0.1156 - val_inflam_acc: 1.0000 - val_inflam_mse: 0.0288 - val_nephriti_acc: 1.0000 - val_nephriti_mse: 0.0159\n",
            "Epoch 215/1000\n",
            "1/1 - 0s - loss: 0.1510 - inflam_loss: 0.1293 - nephriti_loss: 0.1086 - inflam_acc: 1.0000 - inflam_mse: 0.0241 - nephriti_acc: 1.0000 - nephriti_mse: 0.0154 - val_loss: 0.1644 - val_inflam_loss: 0.1413 - val_nephriti_loss: 0.1155 - val_inflam_acc: 1.0000 - val_inflam_mse: 0.0281 - val_nephriti_acc: 1.0000 - val_nephriti_mse: 0.0158\n",
            "Epoch 216/1000\n",
            "1/1 - 0s - loss: 0.1509 - inflam_loss: 0.1292 - nephriti_loss: 0.1085 - inflam_acc: 1.0000 - inflam_mse: 0.0240 - nephriti_acc: 1.0000 - nephriti_mse: 0.0153 - val_loss: 0.1655 - val_inflam_loss: 0.1424 - val_nephriti_loss: 0.1154 - val_inflam_acc: 1.0000 - val_inflam_mse: 0.0288 - val_nephriti_acc: 1.0000 - val_nephriti_mse: 0.0159\n",
            "Epoch 217/1000\n",
            "1/1 - 0s - loss: 0.1509 - inflam_loss: 0.1292 - nephriti_loss: 0.1085 - inflam_acc: 1.0000 - inflam_mse: 0.0240 - nephriti_acc: 1.0000 - nephriti_mse: 0.0154 - val_loss: 0.1642 - val_inflam_loss: 0.1411 - val_nephriti_loss: 0.1153 - val_inflam_acc: 1.0000 - val_inflam_mse: 0.0281 - val_nephriti_acc: 1.0000 - val_nephriti_mse: 0.0158\n",
            "Epoch 218/1000\n",
            "1/1 - 0s - loss: 0.1508 - inflam_loss: 0.1291 - nephriti_loss: 0.1084 - inflam_acc: 1.0000 - inflam_mse: 0.0239 - nephriti_acc: 1.0000 - nephriti_mse: 0.0153 - val_loss: 0.1653 - val_inflam_loss: 0.1423 - val_nephriti_loss: 0.1153 - val_inflam_acc: 1.0000 - val_inflam_mse: 0.0287 - val_nephriti_acc: 1.0000 - val_nephriti_mse: 0.0158\n",
            "Epoch 219/1000\n",
            "1/1 - 0s - loss: 0.1507 - inflam_loss: 0.1290 - nephriti_loss: 0.1084 - inflam_acc: 1.0000 - inflam_mse: 0.0240 - nephriti_acc: 1.0000 - nephriti_mse: 0.0153 - val_loss: 0.1640 - val_inflam_loss: 0.1410 - val_nephriti_loss: 0.1152 - val_inflam_acc: 1.0000 - val_inflam_mse: 0.0280 - val_nephriti_acc: 1.0000 - val_nephriti_mse: 0.0157\n",
            "Epoch 220/1000\n",
            "1/1 - 0s - loss: 0.1506 - inflam_loss: 0.1290 - nephriti_loss: 0.1083 - inflam_acc: 1.0000 - inflam_mse: 0.0239 - nephriti_acc: 1.0000 - nephriti_mse: 0.0152 - val_loss: 0.1652 - val_inflam_loss: 0.1421 - val_nephriti_loss: 0.1152 - val_inflam_acc: 1.0000 - val_inflam_mse: 0.0287 - val_nephriti_acc: 1.0000 - val_nephriti_mse: 0.0158\n",
            "Epoch 221/1000\n",
            "1/1 - 0s - loss: 0.1505 - inflam_loss: 0.1289 - nephriti_loss: 0.1082 - inflam_acc: 1.0000 - inflam_mse: 0.0240 - nephriti_acc: 1.0000 - nephriti_mse: 0.0153 - val_loss: 0.1639 - val_inflam_loss: 0.1408 - val_nephriti_loss: 0.1151 - val_inflam_acc: 1.0000 - val_inflam_mse: 0.0280 - val_nephriti_acc: 1.0000 - val_nephriti_mse: 0.0157\n",
            "Epoch 222/1000\n",
            "1/1 - 0s - loss: 0.1505 - inflam_loss: 0.1288 - nephriti_loss: 0.1082 - inflam_acc: 1.0000 - inflam_mse: 0.0239 - nephriti_acc: 1.0000 - nephriti_mse: 0.0152 - val_loss: 0.1650 - val_inflam_loss: 0.1420 - val_nephriti_loss: 0.1151 - val_inflam_acc: 1.0000 - val_inflam_mse: 0.0287 - val_nephriti_acc: 1.0000 - val_nephriti_mse: 0.0158\n",
            "Epoch 223/1000\n",
            "1/1 - 0s - loss: 0.1504 - inflam_loss: 0.1288 - nephriti_loss: 0.1081 - inflam_acc: 1.0000 - inflam_mse: 0.0239 - nephriti_acc: 1.0000 - nephriti_mse: 0.0153 - val_loss: 0.1637 - val_inflam_loss: 0.1407 - val_nephriti_loss: 0.1150 - val_inflam_acc: 1.0000 - val_inflam_mse: 0.0280 - val_nephriti_acc: 1.0000 - val_nephriti_mse: 0.0157\n",
            "Epoch 224/1000\n",
            "1/1 - 0s - loss: 0.1503 - inflam_loss: 0.1287 - nephriti_loss: 0.1081 - inflam_acc: 1.0000 - inflam_mse: 0.0238 - nephriti_acc: 1.0000 - nephriti_mse: 0.0152 - val_loss: 0.1648 - val_inflam_loss: 0.1418 - val_nephriti_loss: 0.1150 - val_inflam_acc: 1.0000 - val_inflam_mse: 0.0286 - val_nephriti_acc: 1.0000 - val_nephriti_mse: 0.0158\n",
            "Epoch 225/1000\n",
            "1/1 - 0s - loss: 0.1502 - inflam_loss: 0.1286 - nephriti_loss: 0.1080 - inflam_acc: 1.0000 - inflam_mse: 0.0239 - nephriti_acc: 1.0000 - nephriti_mse: 0.0153 - val_loss: 0.1635 - val_inflam_loss: 0.1405 - val_nephriti_loss: 0.1149 - val_inflam_acc: 1.0000 - val_inflam_mse: 0.0279 - val_nephriti_acc: 1.0000 - val_nephriti_mse: 0.0157\n",
            "Epoch 226/1000\n",
            "1/1 - 0s - loss: 0.1502 - inflam_loss: 0.1286 - nephriti_loss: 0.1080 - inflam_acc: 1.0000 - inflam_mse: 0.0238 - nephriti_acc: 1.0000 - nephriti_mse: 0.0152 - val_loss: 0.1647 - val_inflam_loss: 0.1417 - val_nephriti_loss: 0.1149 - val_inflam_acc: 1.0000 - val_inflam_mse: 0.0286 - val_nephriti_acc: 1.0000 - val_nephriti_mse: 0.0157\n",
            "Epoch 227/1000\n",
            "1/1 - 0s - loss: 0.1501 - inflam_loss: 0.1285 - nephriti_loss: 0.1079 - inflam_acc: 1.0000 - inflam_mse: 0.0238 - nephriti_acc: 1.0000 - nephriti_mse: 0.0152 - val_loss: 0.1634 - val_inflam_loss: 0.1404 - val_nephriti_loss: 0.1148 - val_inflam_acc: 1.0000 - val_inflam_mse: 0.0279 - val_nephriti_acc: 1.0000 - val_nephriti_mse: 0.0156\n",
            "Epoch 228/1000\n",
            "1/1 - 0s - loss: 0.1500 - inflam_loss: 0.1284 - nephriti_loss: 0.1079 - inflam_acc: 1.0000 - inflam_mse: 0.0237 - nephriti_acc: 1.0000 - nephriti_mse: 0.0151 - val_loss: 0.1645 - val_inflam_loss: 0.1415 - val_nephriti_loss: 0.1148 - val_inflam_acc: 1.0000 - val_inflam_mse: 0.0285 - val_nephriti_acc: 1.0000 - val_nephriti_mse: 0.0157\n",
            "Epoch 229/1000\n",
            "1/1 - 0s - loss: 0.1499 - inflam_loss: 0.1284 - nephriti_loss: 0.1078 - inflam_acc: 1.0000 - inflam_mse: 0.0238 - nephriti_acc: 1.0000 - nephriti_mse: 0.0152 - val_loss: 0.1632 - val_inflam_loss: 0.1402 - val_nephriti_loss: 0.1147 - val_inflam_acc: 1.0000 - val_inflam_mse: 0.0278 - val_nephriti_acc: 1.0000 - val_nephriti_mse: 0.0156\n",
            "Epoch 230/1000\n",
            "1/1 - 0s - loss: 0.1498 - inflam_loss: 0.1283 - nephriti_loss: 0.1078 - inflam_acc: 1.0000 - inflam_mse: 0.0237 - nephriti_acc: 1.0000 - nephriti_mse: 0.0151 - val_loss: 0.1643 - val_inflam_loss: 0.1414 - val_nephriti_loss: 0.1147 - val_inflam_acc: 1.0000 - val_inflam_mse: 0.0285 - val_nephriti_acc: 1.0000 - val_nephriti_mse: 0.0157\n",
            "Epoch 231/1000\n",
            "1/1 - 0s - loss: 0.1498 - inflam_loss: 0.1282 - nephriti_loss: 0.1077 - inflam_acc: 1.0000 - inflam_mse: 0.0238 - nephriti_acc: 1.0000 - nephriti_mse: 0.0152 - val_loss: 0.1630 - val_inflam_loss: 0.1401 - val_nephriti_loss: 0.1146 - val_inflam_acc: 1.0000 - val_inflam_mse: 0.0278 - val_nephriti_acc: 1.0000 - val_nephriti_mse: 0.0156\n",
            "Epoch 232/1000\n",
            "1/1 - 0s - loss: 0.1497 - inflam_loss: 0.1282 - nephriti_loss: 0.1077 - inflam_acc: 1.0000 - inflam_mse: 0.0237 - nephriti_acc: 1.0000 - nephriti_mse: 0.0151 - val_loss: 0.1641 - val_inflam_loss: 0.1412 - val_nephriti_loss: 0.1146 - val_inflam_acc: 1.0000 - val_inflam_mse: 0.0284 - val_nephriti_acc: 1.0000 - val_nephriti_mse: 0.0157\n",
            "Epoch 233/1000\n",
            "1/1 - 0s - loss: 0.1496 - inflam_loss: 0.1281 - nephriti_loss: 0.1076 - inflam_acc: 1.0000 - inflam_mse: 0.0237 - nephriti_acc: 1.0000 - nephriti_mse: 0.0152 - val_loss: 0.1628 - val_inflam_loss: 0.1399 - val_nephriti_loss: 0.1145 - val_inflam_acc: 1.0000 - val_inflam_mse: 0.0277 - val_nephriti_acc: 1.0000 - val_nephriti_mse: 0.0156\n",
            "Epoch 234/1000\n",
            "1/1 - 0s - loss: 0.1495 - inflam_loss: 0.1280 - nephriti_loss: 0.1076 - inflam_acc: 1.0000 - inflam_mse: 0.0236 - nephriti_acc: 1.0000 - nephriti_mse: 0.0151 - val_loss: 0.1640 - val_inflam_loss: 0.1411 - val_nephriti_loss: 0.1145 - val_inflam_acc: 1.0000 - val_inflam_mse: 0.0284 - val_nephriti_acc: 1.0000 - val_nephriti_mse: 0.0156\n",
            "Epoch 235/1000\n",
            "1/1 - 0s - loss: 0.1495 - inflam_loss: 0.1280 - nephriti_loss: 0.1075 - inflam_acc: 1.0000 - inflam_mse: 0.0237 - nephriti_acc: 1.0000 - nephriti_mse: 0.0151 - val_loss: 0.1627 - val_inflam_loss: 0.1398 - val_nephriti_loss: 0.1144 - val_inflam_acc: 1.0000 - val_inflam_mse: 0.0277 - val_nephriti_acc: 1.0000 - val_nephriti_mse: 0.0155\n",
            "Epoch 236/1000\n",
            "1/1 - 0s - loss: 0.1494 - inflam_loss: 0.1279 - nephriti_loss: 0.1075 - inflam_acc: 1.0000 - inflam_mse: 0.0236 - nephriti_acc: 1.0000 - nephriti_mse: 0.0151 - val_loss: 0.1638 - val_inflam_loss: 0.1409 - val_nephriti_loss: 0.1143 - val_inflam_acc: 1.0000 - val_inflam_mse: 0.0283 - val_nephriti_acc: 1.0000 - val_nephriti_mse: 0.0156\n",
            "Epoch 237/1000\n",
            "1/1 - 0s - loss: 0.1493 - inflam_loss: 0.1278 - nephriti_loss: 0.1074 - inflam_acc: 1.0000 - inflam_mse: 0.0237 - nephriti_acc: 1.0000 - nephriti_mse: 0.0151 - val_loss: 0.1625 - val_inflam_loss: 0.1397 - val_nephriti_loss: 0.1142 - val_inflam_acc: 1.0000 - val_inflam_mse: 0.0277 - val_nephriti_acc: 1.0000 - val_nephriti_mse: 0.0155\n",
            "Epoch 238/1000\n",
            "1/1 - 0s - loss: 0.1492 - inflam_loss: 0.1277 - nephriti_loss: 0.1074 - inflam_acc: 1.0000 - inflam_mse: 0.0236 - nephriti_acc: 1.0000 - nephriti_mse: 0.0150 - val_loss: 0.1636 - val_inflam_loss: 0.1408 - val_nephriti_loss: 0.1142 - val_inflam_acc: 1.0000 - val_inflam_mse: 0.0283 - val_nephriti_acc: 1.0000 - val_nephriti_mse: 0.0156\n",
            "Epoch 239/1000\n",
            "1/1 - 0s - loss: 0.1491 - inflam_loss: 0.1277 - nephriti_loss: 0.1073 - inflam_acc: 1.0000 - inflam_mse: 0.0236 - nephriti_acc: 1.0000 - nephriti_mse: 0.0151 - val_loss: 0.1623 - val_inflam_loss: 0.1395 - val_nephriti_loss: 0.1141 - val_inflam_acc: 1.0000 - val_inflam_mse: 0.0276 - val_nephriti_acc: 1.0000 - val_nephriti_mse: 0.0155\n",
            "Epoch 240/1000\n",
            "1/1 - 0s - loss: 0.1491 - inflam_loss: 0.1276 - nephriti_loss: 0.1073 - inflam_acc: 1.0000 - inflam_mse: 0.0235 - nephriti_acc: 1.0000 - nephriti_mse: 0.0150 - val_loss: 0.1635 - val_inflam_loss: 0.1406 - val_nephriti_loss: 0.1141 - val_inflam_acc: 1.0000 - val_inflam_mse: 0.0283 - val_nephriti_acc: 1.0000 - val_nephriti_mse: 0.0155\n",
            "Epoch 241/1000\n",
            "1/1 - 0s - loss: 0.1490 - inflam_loss: 0.1275 - nephriti_loss: 0.1072 - inflam_acc: 1.0000 - inflam_mse: 0.0236 - nephriti_acc: 1.0000 - nephriti_mse: 0.0151 - val_loss: 0.1622 - val_inflam_loss: 0.1394 - val_nephriti_loss: 0.1140 - val_inflam_acc: 1.0000 - val_inflam_mse: 0.0276 - val_nephriti_acc: 1.0000 - val_nephriti_mse: 0.0155\n",
            "Epoch 242/1000\n",
            "1/1 - 0s - loss: 0.1489 - inflam_loss: 0.1275 - nephriti_loss: 0.1072 - inflam_acc: 1.0000 - inflam_mse: 0.0235 - nephriti_acc: 1.0000 - nephriti_mse: 0.0150 - val_loss: 0.1633 - val_inflam_loss: 0.1405 - val_nephriti_loss: 0.1140 - val_inflam_acc: 1.0000 - val_inflam_mse: 0.0282 - val_nephriti_acc: 1.0000 - val_nephriti_mse: 0.0155\n",
            "Epoch 243/1000\n",
            "1/1 - 0s - loss: 0.1488 - inflam_loss: 0.1274 - nephriti_loss: 0.1071 - inflam_acc: 1.0000 - inflam_mse: 0.0236 - nephriti_acc: 1.0000 - nephriti_mse: 0.0150 - val_loss: 0.1620 - val_inflam_loss: 0.1392 - val_nephriti_loss: 0.1139 - val_inflam_acc: 1.0000 - val_inflam_mse: 0.0275 - val_nephriti_acc: 1.0000 - val_nephriti_mse: 0.0154\n",
            "Epoch 244/1000\n",
            "1/1 - 0s - loss: 0.1488 - inflam_loss: 0.1273 - nephriti_loss: 0.1071 - inflam_acc: 1.0000 - inflam_mse: 0.0235 - nephriti_acc: 1.0000 - nephriti_mse: 0.0150 - val_loss: 0.1631 - val_inflam_loss: 0.1403 - val_nephriti_loss: 0.1139 - val_inflam_acc: 1.0000 - val_inflam_mse: 0.0282 - val_nephriti_acc: 1.0000 - val_nephriti_mse: 0.0155\n",
            "Epoch 245/1000\n",
            "1/1 - 0s - loss: 0.1487 - inflam_loss: 0.1273 - nephriti_loss: 0.1070 - inflam_acc: 1.0000 - inflam_mse: 0.0235 - nephriti_acc: 1.0000 - nephriti_mse: 0.0150 - val_loss: 0.1618 - val_inflam_loss: 0.1391 - val_nephriti_loss: 0.1138 - val_inflam_acc: 1.0000 - val_inflam_mse: 0.0275 - val_nephriti_acc: 1.0000 - val_nephriti_mse: 0.0154\n",
            "Epoch 246/1000\n",
            "1/1 - 0s - loss: 0.1486 - inflam_loss: 0.1272 - nephriti_loss: 0.1070 - inflam_acc: 1.0000 - inflam_mse: 0.0234 - nephriti_acc: 1.0000 - nephriti_mse: 0.0149 - val_loss: 0.1630 - val_inflam_loss: 0.1402 - val_nephriti_loss: 0.1138 - val_inflam_acc: 1.0000 - val_inflam_mse: 0.0281 - val_nephriti_acc: 1.0000 - val_nephriti_mse: 0.0155\n",
            "Epoch 247/1000\n",
            "1/1 - 0s - loss: 0.1485 - inflam_loss: 0.1271 - nephriti_loss: 0.1069 - inflam_acc: 1.0000 - inflam_mse: 0.0235 - nephriti_acc: 1.0000 - nephriti_mse: 0.0150 - val_loss: 0.1617 - val_inflam_loss: 0.1389 - val_nephriti_loss: 0.1137 - val_inflam_acc: 1.0000 - val_inflam_mse: 0.0274 - val_nephriti_acc: 1.0000 - val_nephriti_mse: 0.0154\n",
            "Epoch 248/1000\n",
            "1/1 - 0s - loss: 0.1485 - inflam_loss: 0.1271 - nephriti_loss: 0.1069 - inflam_acc: 1.0000 - inflam_mse: 0.0234 - nephriti_acc: 1.0000 - nephriti_mse: 0.0149 - val_loss: 0.1628 - val_inflam_loss: 0.1401 - val_nephriti_loss: 0.1137 - val_inflam_acc: 1.0000 - val_inflam_mse: 0.0281 - val_nephriti_acc: 1.0000 - val_nephriti_mse: 0.0154\n",
            "Epoch 249/1000\n",
            "1/1 - 0s - loss: 0.1484 - inflam_loss: 0.1270 - nephriti_loss: 0.1068 - inflam_acc: 1.0000 - inflam_mse: 0.0234 - nephriti_acc: 1.0000 - nephriti_mse: 0.0150 - val_loss: 0.1615 - val_inflam_loss: 0.1388 - val_nephriti_loss: 0.1136 - val_inflam_acc: 1.0000 - val_inflam_mse: 0.0274 - val_nephriti_acc: 1.0000 - val_nephriti_mse: 0.0154\n",
            "Epoch 250/1000\n",
            "1/1 - 0s - loss: 0.1483 - inflam_loss: 0.1269 - nephriti_loss: 0.1068 - inflam_acc: 1.0000 - inflam_mse: 0.0233 - nephriti_acc: 1.0000 - nephriti_mse: 0.0149 - val_loss: 0.1626 - val_inflam_loss: 0.1399 - val_nephriti_loss: 0.1136 - val_inflam_acc: 1.0000 - val_inflam_mse: 0.0280 - val_nephriti_acc: 1.0000 - val_nephriti_mse: 0.0154\n",
            "Epoch 251/1000\n",
            "1/1 - 0s - loss: 0.1482 - inflam_loss: 0.1269 - nephriti_loss: 0.1067 - inflam_acc: 1.0000 - inflam_mse: 0.0234 - nephriti_acc: 1.0000 - nephriti_mse: 0.0149 - val_loss: 0.1613 - val_inflam_loss: 0.1386 - val_nephriti_loss: 0.1135 - val_inflam_acc: 1.0000 - val_inflam_mse: 0.0274 - val_nephriti_acc: 1.0000 - val_nephriti_mse: 0.0153\n",
            "Epoch 252/1000\n",
            "1/1 - 0s - loss: 0.1481 - inflam_loss: 0.1268 - nephriti_loss: 0.1067 - inflam_acc: 1.0000 - inflam_mse: 0.0233 - nephriti_acc: 1.0000 - nephriti_mse: 0.0149 - val_loss: 0.1625 - val_inflam_loss: 0.1398 - val_nephriti_loss: 0.1135 - val_inflam_acc: 1.0000 - val_inflam_mse: 0.0280 - val_nephriti_acc: 1.0000 - val_nephriti_mse: 0.0154\n",
            "Epoch 253/1000\n",
            "1/1 - 0s - loss: 0.1481 - inflam_loss: 0.1267 - nephriti_loss: 0.1066 - inflam_acc: 1.0000 - inflam_mse: 0.0234 - nephriti_acc: 1.0000 - nephriti_mse: 0.0149 - val_loss: 0.1612 - val_inflam_loss: 0.1385 - val_nephriti_loss: 0.1134 - val_inflam_acc: 1.0000 - val_inflam_mse: 0.0273 - val_nephriti_acc: 1.0000 - val_nephriti_mse: 0.0153\n",
            "Epoch 254/1000\n",
            "1/1 - 0s - loss: 0.1480 - inflam_loss: 0.1267 - nephriti_loss: 0.1066 - inflam_acc: 1.0000 - inflam_mse: 0.0233 - nephriti_acc: 1.0000 - nephriti_mse: 0.0148 - val_loss: 0.1623 - val_inflam_loss: 0.1396 - val_nephriti_loss: 0.1134 - val_inflam_acc: 1.0000 - val_inflam_mse: 0.0280 - val_nephriti_acc: 1.0000 - val_nephriti_mse: 0.0154\n",
            "Epoch 255/1000\n",
            "1/1 - 0s - loss: 0.1479 - inflam_loss: 0.1266 - nephriti_loss: 0.1065 - inflam_acc: 1.0000 - inflam_mse: 0.0233 - nephriti_acc: 1.0000 - nephriti_mse: 0.0149 - val_loss: 0.1610 - val_inflam_loss: 0.1383 - val_nephriti_loss: 0.1133 - val_inflam_acc: 1.0000 - val_inflam_mse: 0.0273 - val_nephriti_acc: 1.0000 - val_nephriti_mse: 0.0153\n",
            "Epoch 256/1000\n",
            "1/1 - 0s - loss: 0.1478 - inflam_loss: 0.1265 - nephriti_loss: 0.1065 - inflam_acc: 1.0000 - inflam_mse: 0.0232 - nephriti_acc: 1.0000 - nephriti_mse: 0.0148 - val_loss: 0.1621 - val_inflam_loss: 0.1395 - val_nephriti_loss: 0.1133 - val_inflam_acc: 1.0000 - val_inflam_mse: 0.0279 - val_nephriti_acc: 1.0000 - val_nephriti_mse: 0.0153\n",
            "Epoch 257/1000\n",
            "1/1 - 0s - loss: 0.1478 - inflam_loss: 0.1265 - nephriti_loss: 0.1064 - inflam_acc: 1.0000 - inflam_mse: 0.0233 - nephriti_acc: 1.0000 - nephriti_mse: 0.0149 - val_loss: 0.1608 - val_inflam_loss: 0.1382 - val_nephriti_loss: 0.1132 - val_inflam_acc: 1.0000 - val_inflam_mse: 0.0272 - val_nephriti_acc: 1.0000 - val_nephriti_mse: 0.0153\n",
            "Epoch 258/1000\n",
            "1/1 - 0s - loss: 0.1477 - inflam_loss: 0.1264 - nephriti_loss: 0.1064 - inflam_acc: 1.0000 - inflam_mse: 0.0232 - nephriti_acc: 1.0000 - nephriti_mse: 0.0148 - val_loss: 0.1619 - val_inflam_loss: 0.1393 - val_nephriti_loss: 0.1132 - val_inflam_acc: 1.0000 - val_inflam_mse: 0.0279 - val_nephriti_acc: 1.0000 - val_nephriti_mse: 0.0153\n",
            "Epoch 259/1000\n",
            "1/1 - 0s - loss: 0.1476 - inflam_loss: 0.1263 - nephriti_loss: 0.1063 - inflam_acc: 1.0000 - inflam_mse: 0.0233 - nephriti_acc: 1.0000 - nephriti_mse: 0.0148 - val_loss: 0.1607 - val_inflam_loss: 0.1380 - val_nephriti_loss: 0.1131 - val_inflam_acc: 1.0000 - val_inflam_mse: 0.0272 - val_nephriti_acc: 1.0000 - val_nephriti_mse: 0.0152\n",
            "Epoch 260/1000\n",
            "1/1 - 0s - loss: 0.1475 - inflam_loss: 0.1263 - nephriti_loss: 0.1063 - inflam_acc: 1.0000 - inflam_mse: 0.0232 - nephriti_acc: 1.0000 - nephriti_mse: 0.0148 - val_loss: 0.1618 - val_inflam_loss: 0.1392 - val_nephriti_loss: 0.1130 - val_inflam_acc: 1.0000 - val_inflam_mse: 0.0278 - val_nephriti_acc: 1.0000 - val_nephriti_mse: 0.0153\n",
            "Epoch 261/1000\n",
            "1/1 - 0s - loss: 0.1475 - inflam_loss: 0.1262 - nephriti_loss: 0.1062 - inflam_acc: 1.0000 - inflam_mse: 0.0232 - nephriti_acc: 1.0000 - nephriti_mse: 0.0148 - val_loss: 0.1605 - val_inflam_loss: 0.1379 - val_nephriti_loss: 0.1129 - val_inflam_acc: 1.0000 - val_inflam_mse: 0.0271 - val_nephriti_acc: 1.0000 - val_nephriti_mse: 0.0152\n",
            "Epoch 262/1000\n",
            "1/1 - 0s - loss: 0.1474 - inflam_loss: 0.1261 - nephriti_loss: 0.1062 - inflam_acc: 1.0000 - inflam_mse: 0.0231 - nephriti_acc: 1.0000 - nephriti_mse: 0.0147 - val_loss: 0.1616 - val_inflam_loss: 0.1390 - val_nephriti_loss: 0.1129 - val_inflam_acc: 1.0000 - val_inflam_mse: 0.0278 - val_nephriti_acc: 1.0000 - val_nephriti_mse: 0.0153\n",
            "Epoch 263/1000\n",
            "1/1 - 0s - loss: 0.1473 - inflam_loss: 0.1261 - nephriti_loss: 0.1061 - inflam_acc: 1.0000 - inflam_mse: 0.0232 - nephriti_acc: 1.0000 - nephriti_mse: 0.0148 - val_loss: 0.1603 - val_inflam_loss: 0.1378 - val_nephriti_loss: 0.1128 - val_inflam_acc: 1.0000 - val_inflam_mse: 0.0271 - val_nephriti_acc: 1.0000 - val_nephriti_mse: 0.0152\n",
            "Epoch 264/1000\n",
            "1/1 - 0s - loss: 0.1472 - inflam_loss: 0.1260 - nephriti_loss: 0.1061 - inflam_acc: 1.0000 - inflam_mse: 0.0231 - nephriti_acc: 1.0000 - nephriti_mse: 0.0147 - val_loss: 0.1614 - val_inflam_loss: 0.1389 - val_nephriti_loss: 0.1128 - val_inflam_acc: 1.0000 - val_inflam_mse: 0.0277 - val_nephriti_acc: 1.0000 - val_nephriti_mse: 0.0152\n",
            "Epoch 265/1000\n",
            "1/1 - 0s - loss: 0.1472 - inflam_loss: 0.1259 - nephriti_loss: 0.1060 - inflam_acc: 1.0000 - inflam_mse: 0.0232 - nephriti_acc: 1.0000 - nephriti_mse: 0.0148 - val_loss: 0.1602 - val_inflam_loss: 0.1376 - val_nephriti_loss: 0.1127 - val_inflam_acc: 1.0000 - val_inflam_mse: 0.0271 - val_nephriti_acc: 1.0000 - val_nephriti_mse: 0.0152\n",
            "Epoch 266/1000\n",
            "1/1 - 0s - loss: 0.1471 - inflam_loss: 0.1259 - nephriti_loss: 0.1060 - inflam_acc: 1.0000 - inflam_mse: 0.0231 - nephriti_acc: 1.0000 - nephriti_mse: 0.0147 - val_loss: 0.1613 - val_inflam_loss: 0.1387 - val_nephriti_loss: 0.1127 - val_inflam_acc: 1.0000 - val_inflam_mse: 0.0277 - val_nephriti_acc: 1.0000 - val_nephriti_mse: 0.0152\n",
            "Epoch 267/1000\n",
            "1/1 - 0s - loss: 0.1470 - inflam_loss: 0.1258 - nephriti_loss: 0.1059 - inflam_acc: 1.0000 - inflam_mse: 0.0231 - nephriti_acc: 1.0000 - nephriti_mse: 0.0148 - val_loss: 0.1600 - val_inflam_loss: 0.1375 - val_nephriti_loss: 0.1126 - val_inflam_acc: 1.0000 - val_inflam_mse: 0.0270 - val_nephriti_acc: 1.0000 - val_nephriti_mse: 0.0151\n",
            "Epoch 268/1000\n",
            "1/1 - 0s - loss: 0.1469 - inflam_loss: 0.1257 - nephriti_loss: 0.1059 - inflam_acc: 1.0000 - inflam_mse: 0.0230 - nephriti_acc: 1.0000 - nephriti_mse: 0.0147 - val_loss: 0.1611 - val_inflam_loss: 0.1386 - val_nephriti_loss: 0.1126 - val_inflam_acc: 1.0000 - val_inflam_mse: 0.0277 - val_nephriti_acc: 1.0000 - val_nephriti_mse: 0.0152\n",
            "Epoch 269/1000\n",
            "1/1 - 0s - loss: 0.1468 - inflam_loss: 0.1257 - nephriti_loss: 0.1058 - inflam_acc: 1.0000 - inflam_mse: 0.0231 - nephriti_acc: 1.0000 - nephriti_mse: 0.0147 - val_loss: 0.1598 - val_inflam_loss: 0.1373 - val_nephriti_loss: 0.1125 - val_inflam_acc: 1.0000 - val_inflam_mse: 0.0270 - val_nephriti_acc: 1.0000 - val_nephriti_mse: 0.0151\n",
            "Epoch 270/1000\n",
            "1/1 - 0s - loss: 0.1468 - inflam_loss: 0.1256 - nephriti_loss: 0.1058 - inflam_acc: 1.0000 - inflam_mse: 0.0230 - nephriti_acc: 1.0000 - nephriti_mse: 0.0146 - val_loss: 0.1609 - val_inflam_loss: 0.1384 - val_nephriti_loss: 0.1125 - val_inflam_acc: 1.0000 - val_inflam_mse: 0.0276 - val_nephriti_acc: 1.0000 - val_nephriti_mse: 0.0152\n",
            "Epoch 271/1000\n",
            "1/1 - 0s - loss: 0.1467 - inflam_loss: 0.1256 - nephriti_loss: 0.1057 - inflam_acc: 1.0000 - inflam_mse: 0.0230 - nephriti_acc: 1.0000 - nephriti_mse: 0.0147 - val_loss: 0.1597 - val_inflam_loss: 0.1372 - val_nephriti_loss: 0.1124 - val_inflam_acc: 1.0000 - val_inflam_mse: 0.0269 - val_nephriti_acc: 1.0000 - val_nephriti_mse: 0.0151\n",
            "Epoch 272/1000\n",
            "1/1 - 0s - loss: 0.1466 - inflam_loss: 0.1255 - nephriti_loss: 0.1057 - inflam_acc: 1.0000 - inflam_mse: 0.0229 - nephriti_acc: 1.0000 - nephriti_mse: 0.0146 - val_loss: 0.1608 - val_inflam_loss: 0.1383 - val_nephriti_loss: 0.1124 - val_inflam_acc: 1.0000 - val_inflam_mse: 0.0276 - val_nephriti_acc: 1.0000 - val_nephriti_mse: 0.0152\n",
            "Epoch 273/1000\n",
            "1/1 - 0s - loss: 0.1465 - inflam_loss: 0.1254 - nephriti_loss: 0.1056 - inflam_acc: 1.0000 - inflam_mse: 0.0230 - nephriti_acc: 1.0000 - nephriti_mse: 0.0147 - val_loss: 0.1595 - val_inflam_loss: 0.1370 - val_nephriti_loss: 0.1123 - val_inflam_acc: 1.0000 - val_inflam_mse: 0.0269 - val_nephriti_acc: 1.0000 - val_nephriti_mse: 0.0151\n",
            "Epoch 274/1000\n",
            "1/1 - 0s - loss: 0.1465 - inflam_loss: 0.1254 - nephriti_loss: 0.1056 - inflam_acc: 1.0000 - inflam_mse: 0.0229 - nephriti_acc: 1.0000 - nephriti_mse: 0.0146 - val_loss: 0.1606 - val_inflam_loss: 0.1382 - val_nephriti_loss: 0.1123 - val_inflam_acc: 1.0000 - val_inflam_mse: 0.0275 - val_nephriti_acc: 1.0000 - val_nephriti_mse: 0.0151\n",
            "Epoch 275/1000\n",
            "1/1 - 0s - loss: 0.1464 - inflam_loss: 0.1253 - nephriti_loss: 0.1055 - inflam_acc: 1.0000 - inflam_mse: 0.0230 - nephriti_acc: 1.0000 - nephriti_mse: 0.0147 - val_loss: 0.1593 - val_inflam_loss: 0.1369 - val_nephriti_loss: 0.1122 - val_inflam_acc: 1.0000 - val_inflam_mse: 0.0268 - val_nephriti_acc: 1.0000 - val_nephriti_mse: 0.0150\n",
            "Epoch 276/1000\n",
            "1/1 - 0s - loss: 0.1463 - inflam_loss: 0.1252 - nephriti_loss: 0.1055 - inflam_acc: 1.0000 - inflam_mse: 0.0229 - nephriti_acc: 1.0000 - nephriti_mse: 0.0146 - val_loss: 0.1604 - val_inflam_loss: 0.1380 - val_nephriti_loss: 0.1122 - val_inflam_acc: 1.0000 - val_inflam_mse: 0.0275 - val_nephriti_acc: 1.0000 - val_nephriti_mse: 0.0151\n",
            "Epoch 277/1000\n",
            "1/1 - 0s - loss: 0.1462 - inflam_loss: 0.1252 - nephriti_loss: 0.1054 - inflam_acc: 1.0000 - inflam_mse: 0.0229 - nephriti_acc: 1.0000 - nephriti_mse: 0.0146 - val_loss: 0.1592 - val_inflam_loss: 0.1367 - val_nephriti_loss: 0.1121 - val_inflam_acc: 1.0000 - val_inflam_mse: 0.0268 - val_nephriti_acc: 1.0000 - val_nephriti_mse: 0.0150\n",
            "Epoch 278/1000\n",
            "1/1 - 0s - loss: 0.1462 - inflam_loss: 0.1251 - nephriti_loss: 0.1054 - inflam_acc: 1.0000 - inflam_mse: 0.0228 - nephriti_acc: 1.0000 - nephriti_mse: 0.0146 - val_loss: 0.1603 - val_inflam_loss: 0.1379 - val_nephriti_loss: 0.1121 - val_inflam_acc: 1.0000 - val_inflam_mse: 0.0274 - val_nephriti_acc: 1.0000 - val_nephriti_mse: 0.0151\n",
            "Epoch 279/1000\n",
            "1/1 - 0s - loss: 0.1461 - inflam_loss: 0.1250 - nephriti_loss: 0.1053 - inflam_acc: 1.0000 - inflam_mse: 0.0229 - nephriti_acc: 1.0000 - nephriti_mse: 0.0146 - val_loss: 0.1590 - val_inflam_loss: 0.1366 - val_nephriti_loss: 0.1120 - val_inflam_acc: 1.0000 - val_inflam_mse: 0.0268 - val_nephriti_acc: 1.0000 - val_nephriti_mse: 0.0150\n",
            "Epoch 280/1000\n",
            "1/1 - 0s - loss: 0.1460 - inflam_loss: 0.1250 - nephriti_loss: 0.1053 - inflam_acc: 1.0000 - inflam_mse: 0.0228 - nephriti_acc: 1.0000 - nephriti_mse: 0.0145 - val_loss: 0.1601 - val_inflam_loss: 0.1377 - val_nephriti_loss: 0.1120 - val_inflam_acc: 1.0000 - val_inflam_mse: 0.0274 - val_nephriti_acc: 1.0000 - val_nephriti_mse: 0.0151\n",
            "Epoch 281/1000\n",
            "1/1 - 0s - loss: 0.1459 - inflam_loss: 0.1249 - nephriti_loss: 0.1052 - inflam_acc: 1.0000 - inflam_mse: 0.0229 - nephriti_acc: 1.0000 - nephriti_mse: 0.0146 - val_loss: 0.1588 - val_inflam_loss: 0.1365 - val_nephriti_loss: 0.1119 - val_inflam_acc: 1.0000 - val_inflam_mse: 0.0267 - val_nephriti_acc: 1.0000 - val_nephriti_mse: 0.0150\n",
            "Epoch 282/1000\n",
            "1/1 - 0s - loss: 0.1459 - inflam_loss: 0.1248 - nephriti_loss: 0.1052 - inflam_acc: 1.0000 - inflam_mse: 0.0228 - nephriti_acc: 1.0000 - nephriti_mse: 0.0145 - val_loss: 0.1599 - val_inflam_loss: 0.1376 - val_nephriti_loss: 0.1119 - val_inflam_acc: 1.0000 - val_inflam_mse: 0.0274 - val_nephriti_acc: 1.0000 - val_nephriti_mse: 0.0150\n",
            "Epoch 283/1000\n",
            "1/1 - 0s - loss: 0.1458 - inflam_loss: 0.1248 - nephriti_loss: 0.1051 - inflam_acc: 1.0000 - inflam_mse: 0.0228 - nephriti_acc: 1.0000 - nephriti_mse: 0.0146 - val_loss: 0.1587 - val_inflam_loss: 0.1363 - val_nephriti_loss: 0.1118 - val_inflam_acc: 1.0000 - val_inflam_mse: 0.0267 - val_nephriti_acc: 1.0000 - val_nephriti_mse: 0.0149\n",
            "Epoch 284/1000\n",
            "1/1 - 0s - loss: 0.1457 - inflam_loss: 0.1247 - nephriti_loss: 0.1051 - inflam_acc: 1.0000 - inflam_mse: 0.0227 - nephriti_acc: 1.0000 - nephriti_mse: 0.0145 - val_loss: 0.1598 - val_inflam_loss: 0.1374 - val_nephriti_loss: 0.1118 - val_inflam_acc: 1.0000 - val_inflam_mse: 0.0273 - val_nephriti_acc: 1.0000 - val_nephriti_mse: 0.0150\n",
            "Epoch 285/1000\n",
            "1/1 - 0s - loss: 0.1456 - inflam_loss: 0.1246 - nephriti_loss: 0.1050 - inflam_acc: 1.0000 - inflam_mse: 0.0228 - nephriti_acc: 1.0000 - nephriti_mse: 0.0145 - val_loss: 0.1585 - val_inflam_loss: 0.1362 - val_nephriti_loss: 0.1117 - val_inflam_acc: 1.0000 - val_inflam_mse: 0.0266 - val_nephriti_acc: 1.0000 - val_nephriti_mse: 0.0149\n",
            "Epoch 286/1000\n",
            "1/1 - 0s - loss: 0.1456 - inflam_loss: 0.1246 - nephriti_loss: 0.1050 - inflam_acc: 1.0000 - inflam_mse: 0.0227 - nephriti_acc: 1.0000 - nephriti_mse: 0.0145 - val_loss: 0.1596 - val_inflam_loss: 0.1373 - val_nephriti_loss: 0.1117 - val_inflam_acc: 1.0000 - val_inflam_mse: 0.0273 - val_nephriti_acc: 1.0000 - val_nephriti_mse: 0.0150\n",
            "Epoch 287/1000\n",
            "1/1 - 0s - loss: 0.1455 - inflam_loss: 0.1245 - nephriti_loss: 0.1049 - inflam_acc: 1.0000 - inflam_mse: 0.0228 - nephriti_acc: 1.0000 - nephriti_mse: 0.0145 - val_loss: 0.1583 - val_inflam_loss: 0.1360 - val_nephriti_loss: 0.1116 - val_inflam_acc: 1.0000 - val_inflam_mse: 0.0266 - val_nephriti_acc: 1.0000 - val_nephriti_mse: 0.0149\n",
            "Epoch 288/1000\n",
            "1/1 - 0s - loss: 0.1454 - inflam_loss: 0.1244 - nephriti_loss: 0.1049 - inflam_acc: 1.0000 - inflam_mse: 0.0227 - nephriti_acc: 1.0000 - nephriti_mse: 0.0144 - val_loss: 0.1595 - val_inflam_loss: 0.1371 - val_nephriti_loss: 0.1115 - val_inflam_acc: 1.0000 - val_inflam_mse: 0.0272 - val_nephriti_acc: 1.0000 - val_nephriti_mse: 0.0150\n",
            "Epoch 289/1000\n",
            "1/1 - 0s - loss: 0.1453 - inflam_loss: 0.1244 - nephriti_loss: 0.1048 - inflam_acc: 1.0000 - inflam_mse: 0.0227 - nephriti_acc: 1.0000 - nephriti_mse: 0.0145 - val_loss: 0.1582 - val_inflam_loss: 0.1359 - val_nephriti_loss: 0.1114 - val_inflam_acc: 1.0000 - val_inflam_mse: 0.0265 - val_nephriti_acc: 1.0000 - val_nephriti_mse: 0.0149\n",
            "Epoch 290/1000\n",
            "1/1 - 0s - loss: 0.1453 - inflam_loss: 0.1243 - nephriti_loss: 0.1048 - inflam_acc: 1.0000 - inflam_mse: 0.0226 - nephriti_acc: 1.0000 - nephriti_mse: 0.0144 - val_loss: 0.1593 - val_inflam_loss: 0.1370 - val_nephriti_loss: 0.1114 - val_inflam_acc: 1.0000 - val_inflam_mse: 0.0272 - val_nephriti_acc: 1.0000 - val_nephriti_mse: 0.0149\n",
            "Epoch 291/1000\n",
            "1/1 - 0s - loss: 0.1452 - inflam_loss: 0.1242 - nephriti_loss: 0.1047 - inflam_acc: 1.0000 - inflam_mse: 0.0227 - nephriti_acc: 1.0000 - nephriti_mse: 0.0145 - val_loss: 0.1580 - val_inflam_loss: 0.1357 - val_nephriti_loss: 0.1113 - val_inflam_acc: 1.0000 - val_inflam_mse: 0.0265 - val_nephriti_acc: 1.0000 - val_nephriti_mse: 0.0148\n",
            "Epoch 292/1000\n",
            "1/1 - 0s - loss: 0.1451 - inflam_loss: 0.1242 - nephriti_loss: 0.1047 - inflam_acc: 1.0000 - inflam_mse: 0.0226 - nephriti_acc: 1.0000 - nephriti_mse: 0.0144 - val_loss: 0.1591 - val_inflam_loss: 0.1369 - val_nephriti_loss: 0.1113 - val_inflam_acc: 1.0000 - val_inflam_mse: 0.0271 - val_nephriti_acc: 1.0000 - val_nephriti_mse: 0.0149\n",
            "Epoch 293/1000\n",
            "1/1 - 0s - loss: 0.1450 - inflam_loss: 0.1241 - nephriti_loss: 0.1046 - inflam_acc: 1.0000 - inflam_mse: 0.0227 - nephriti_acc: 1.0000 - nephriti_mse: 0.0144 - val_loss: 0.1578 - val_inflam_loss: 0.1356 - val_nephriti_loss: 0.1112 - val_inflam_acc: 1.0000 - val_inflam_mse: 0.0265 - val_nephriti_acc: 1.0000 - val_nephriti_mse: 0.0148\n",
            "Epoch 294/1000\n",
            "1/1 - 0s - loss: 0.1450 - inflam_loss: 0.1240 - nephriti_loss: 0.1046 - inflam_acc: 1.0000 - inflam_mse: 0.0226 - nephriti_acc: 1.0000 - nephriti_mse: 0.0144 - val_loss: 0.1590 - val_inflam_loss: 0.1367 - val_nephriti_loss: 0.1112 - val_inflam_acc: 1.0000 - val_inflam_mse: 0.0271 - val_nephriti_acc: 1.0000 - val_nephriti_mse: 0.0149\n",
            "Epoch 295/1000\n",
            "1/1 - 0s - loss: 0.1449 - inflam_loss: 0.1240 - nephriti_loss: 0.1045 - inflam_acc: 1.0000 - inflam_mse: 0.0226 - nephriti_acc: 1.0000 - nephriti_mse: 0.0144 - val_loss: 0.1577 - val_inflam_loss: 0.1355 - val_nephriti_loss: 0.1111 - val_inflam_acc: 1.0000 - val_inflam_mse: 0.0264 - val_nephriti_acc: 1.0000 - val_nephriti_mse: 0.0148\n",
            "Epoch 296/1000\n",
            "1/1 - 0s - loss: 0.1448 - inflam_loss: 0.1239 - nephriti_loss: 0.1045 - inflam_acc: 1.0000 - inflam_mse: 0.0225 - nephriti_acc: 1.0000 - nephriti_mse: 0.0143 - val_loss: 0.1588 - val_inflam_loss: 0.1366 - val_nephriti_loss: 0.1111 - val_inflam_acc: 1.0000 - val_inflam_mse: 0.0271 - val_nephriti_acc: 1.0000 - val_nephriti_mse: 0.0149\n",
            "Epoch 297/1000\n",
            "1/1 - 0s - loss: 0.1447 - inflam_loss: 0.1239 - nephriti_loss: 0.1044 - inflam_acc: 1.0000 - inflam_mse: 0.0226 - nephriti_acc: 1.0000 - nephriti_mse: 0.0144 - val_loss: 0.1575 - val_inflam_loss: 0.1353 - val_nephriti_loss: 0.1110 - val_inflam_acc: 1.0000 - val_inflam_mse: 0.0264 - val_nephriti_acc: 1.0000 - val_nephriti_mse: 0.0148\n",
            "Epoch 298/1000\n",
            "1/1 - 0s - loss: 0.1447 - inflam_loss: 0.1238 - nephriti_loss: 0.1044 - inflam_acc: 1.0000 - inflam_mse: 0.0225 - nephriti_acc: 1.0000 - nephriti_mse: 0.0143 - val_loss: 0.1586 - val_inflam_loss: 0.1364 - val_nephriti_loss: 0.1110 - val_inflam_acc: 1.0000 - val_inflam_mse: 0.0270 - val_nephriti_acc: 1.0000 - val_nephriti_mse: 0.0148\n",
            "Epoch 299/1000\n",
            "1/1 - 0s - loss: 0.1446 - inflam_loss: 0.1237 - nephriti_loss: 0.1043 - inflam_acc: 1.0000 - inflam_mse: 0.0226 - nephriti_acc: 1.0000 - nephriti_mse: 0.0144 - val_loss: 0.1574 - val_inflam_loss: 0.1352 - val_nephriti_loss: 0.1109 - val_inflam_acc: 1.0000 - val_inflam_mse: 0.0263 - val_nephriti_acc: 1.0000 - val_nephriti_mse: 0.0148\n",
            "Epoch 300/1000\n",
            "1/1 - 0s - loss: 0.1445 - inflam_loss: 0.1237 - nephriti_loss: 0.1043 - inflam_acc: 1.0000 - inflam_mse: 0.0225 - nephriti_acc: 1.0000 - nephriti_mse: 0.0143 - val_loss: 0.1585 - val_inflam_loss: 0.1363 - val_nephriti_loss: 0.1109 - val_inflam_acc: 1.0000 - val_inflam_mse: 0.0270 - val_nephriti_acc: 1.0000 - val_nephriti_mse: 0.0148\n",
            "Epoch 301/1000\n",
            "1/1 - 0s - loss: 0.1444 - inflam_loss: 0.1236 - nephriti_loss: 0.1042 - inflam_acc: 1.0000 - inflam_mse: 0.0225 - nephriti_acc: 1.0000 - nephriti_mse: 0.0144 - val_loss: 0.1572 - val_inflam_loss: 0.1350 - val_nephriti_loss: 0.1108 - val_inflam_acc: 1.0000 - val_inflam_mse: 0.0263 - val_nephriti_acc: 1.0000 - val_nephriti_mse: 0.0147\n",
            "Epoch 302/1000\n",
            "1/1 - 0s - loss: 0.1444 - inflam_loss: 0.1235 - nephriti_loss: 0.1042 - inflam_acc: 1.0000 - inflam_mse: 0.0224 - nephriti_acc: 1.0000 - nephriti_mse: 0.0143 - val_loss: 0.1583 - val_inflam_loss: 0.1361 - val_nephriti_loss: 0.1108 - val_inflam_acc: 1.0000 - val_inflam_mse: 0.0269 - val_nephriti_acc: 1.0000 - val_nephriti_mse: 0.0148\n",
            "Epoch 303/1000\n",
            "1/1 - 0s - loss: 0.1443 - inflam_loss: 0.1235 - nephriti_loss: 0.1041 - inflam_acc: 1.0000 - inflam_mse: 0.0225 - nephriti_acc: 1.0000 - nephriti_mse: 0.0143 - val_loss: 0.1570 - val_inflam_loss: 0.1349 - val_nephriti_loss: 0.1107 - val_inflam_acc: 1.0000 - val_inflam_mse: 0.0263 - val_nephriti_acc: 1.0000 - val_nephriti_mse: 0.0147\n",
            "Epoch 304/1000\n",
            "1/1 - 0s - loss: 0.1442 - inflam_loss: 0.1234 - nephriti_loss: 0.1041 - inflam_acc: 1.0000 - inflam_mse: 0.0224 - nephriti_acc: 1.0000 - nephriti_mse: 0.0142 - val_loss: 0.1581 - val_inflam_loss: 0.1360 - val_nephriti_loss: 0.1107 - val_inflam_acc: 1.0000 - val_inflam_mse: 0.0269 - val_nephriti_acc: 1.0000 - val_nephriti_mse: 0.0148\n",
            "Epoch 305/1000\n",
            "1/1 - 0s - loss: 0.1441 - inflam_loss: 0.1233 - nephriti_loss: 0.1040 - inflam_acc: 1.0000 - inflam_mse: 0.0224 - nephriti_acc: 1.0000 - nephriti_mse: 0.0143 - val_loss: 0.1569 - val_inflam_loss: 0.1347 - val_nephriti_loss: 0.1106 - val_inflam_acc: 1.0000 - val_inflam_mse: 0.0262 - val_nephriti_acc: 1.0000 - val_nephriti_mse: 0.0147\n",
            "Epoch 306/1000\n",
            "1/1 - 0s - loss: 0.1441 - inflam_loss: 0.1233 - nephriti_loss: 0.1040 - inflam_acc: 1.0000 - inflam_mse: 0.0223 - nephriti_acc: 1.0000 - nephriti_mse: 0.0142 - val_loss: 0.1580 - val_inflam_loss: 0.1359 - val_nephriti_loss: 0.1106 - val_inflam_acc: 1.0000 - val_inflam_mse: 0.0269 - val_nephriti_acc: 1.0000 - val_nephriti_mse: 0.0147\n",
            "Epoch 307/1000\n",
            "1/1 - 0s - loss: 0.1440 - inflam_loss: 0.1232 - nephriti_loss: 0.1039 - inflam_acc: 1.0000 - inflam_mse: 0.0224 - nephriti_acc: 1.0000 - nephriti_mse: 0.0143 - val_loss: 0.1567 - val_inflam_loss: 0.1346 - val_nephriti_loss: 0.1105 - val_inflam_acc: 1.0000 - val_inflam_mse: 0.0262 - val_nephriti_acc: 1.0000 - val_nephriti_mse: 0.0147\n",
            "Epoch 308/1000\n",
            "1/1 - 0s - loss: 0.1439 - inflam_loss: 0.1231 - nephriti_loss: 0.1039 - inflam_acc: 1.0000 - inflam_mse: 0.0223 - nephriti_acc: 1.0000 - nephriti_mse: 0.0142 - val_loss: 0.1578 - val_inflam_loss: 0.1357 - val_nephriti_loss: 0.1105 - val_inflam_acc: 1.0000 - val_inflam_mse: 0.0268 - val_nephriti_acc: 1.0000 - val_nephriti_mse: 0.0147\n",
            "Epoch 309/1000\n",
            "1/1 - 0s - loss: 0.1438 - inflam_loss: 0.1231 - nephriti_loss: 0.1038 - inflam_acc: 1.0000 - inflam_mse: 0.0224 - nephriti_acc: 1.0000 - nephriti_mse: 0.0143 - val_loss: 0.1565 - val_inflam_loss: 0.1345 - val_nephriti_loss: 0.1104 - val_inflam_acc: 1.0000 - val_inflam_mse: 0.0261 - val_nephriti_acc: 1.0000 - val_nephriti_mse: 0.0146\n",
            "Epoch 310/1000\n",
            "1/1 - 0s - loss: 0.1438 - inflam_loss: 0.1230 - nephriti_loss: 0.1038 - inflam_acc: 1.0000 - inflam_mse: 0.0223 - nephriti_acc: 1.0000 - nephriti_mse: 0.0142 - val_loss: 0.1576 - val_inflam_loss: 0.1356 - val_nephriti_loss: 0.1104 - val_inflam_acc: 1.0000 - val_inflam_mse: 0.0268 - val_nephriti_acc: 1.0000 - val_nephriti_mse: 0.0147\n",
            "Epoch 311/1000\n",
            "1/1 - 0s - loss: 0.1437 - inflam_loss: 0.1229 - nephriti_loss: 0.1037 - inflam_acc: 1.0000 - inflam_mse: 0.0223 - nephriti_acc: 1.0000 - nephriti_mse: 0.0142 - val_loss: 0.1564 - val_inflam_loss: 0.1343 - val_nephriti_loss: 0.1103 - val_inflam_acc: 1.0000 - val_inflam_mse: 0.0261 - val_nephriti_acc: 1.0000 - val_nephriti_mse: 0.0146\n",
            "Epoch 312/1000\n",
            "1/1 - 0s - loss: 0.1436 - inflam_loss: 0.1229 - nephriti_loss: 0.1037 - inflam_acc: 1.0000 - inflam_mse: 0.0222 - nephriti_acc: 1.0000 - nephriti_mse: 0.0142 - val_loss: 0.1575 - val_inflam_loss: 0.1354 - val_nephriti_loss: 0.1103 - val_inflam_acc: 1.0000 - val_inflam_mse: 0.0267 - val_nephriti_acc: 1.0000 - val_nephriti_mse: 0.0147\n",
            "Epoch 313/1000\n",
            "1/1 - 0s - loss: 0.1435 - inflam_loss: 0.1228 - nephriti_loss: 0.1036 - inflam_acc: 1.0000 - inflam_mse: 0.0223 - nephriti_acc: 1.0000 - nephriti_mse: 0.0142 - val_loss: 0.1562 - val_inflam_loss: 0.1342 - val_nephriti_loss: 0.1102 - val_inflam_acc: 1.0000 - val_inflam_mse: 0.0261 - val_nephriti_acc: 1.0000 - val_nephriti_mse: 0.0146\n",
            "Epoch 314/1000\n",
            "1/1 - 0s - loss: 0.1435 - inflam_loss: 0.1228 - nephriti_loss: 0.1036 - inflam_acc: 1.0000 - inflam_mse: 0.0222 - nephriti_acc: 1.0000 - nephriti_mse: 0.0141 - val_loss: 0.1573 - val_inflam_loss: 0.1353 - val_nephriti_loss: 0.1102 - val_inflam_acc: 1.0000 - val_inflam_mse: 0.0267 - val_nephriti_acc: 1.0000 - val_nephriti_mse: 0.0146\n",
            "Epoch 315/1000\n",
            "1/1 - 0s - loss: 0.1434 - inflam_loss: 0.1227 - nephriti_loss: 0.1035 - inflam_acc: 1.0000 - inflam_mse: 0.0223 - nephriti_acc: 1.0000 - nephriti_mse: 0.0142 - val_loss: 0.1561 - val_inflam_loss: 0.1340 - val_nephriti_loss: 0.1101 - val_inflam_acc: 1.0000 - val_inflam_mse: 0.0260 - val_nephriti_acc: 1.0000 - val_nephriti_mse: 0.0146\n",
            "Epoch 316/1000\n",
            "1/1 - 0s - loss: 0.1433 - inflam_loss: 0.1226 - nephriti_loss: 0.1035 - inflam_acc: 1.0000 - inflam_mse: 0.0222 - nephriti_acc: 1.0000 - nephriti_mse: 0.0141 - val_loss: 0.1572 - val_inflam_loss: 0.1351 - val_nephriti_loss: 0.1101 - val_inflam_acc: 1.0000 - val_inflam_mse: 0.0266 - val_nephriti_acc: 1.0000 - val_nephriti_mse: 0.0146\n",
            "Epoch 317/1000\n",
            "1/1 - 0s - loss: 0.1432 - inflam_loss: 0.1226 - nephriti_loss: 0.1034 - inflam_acc: 1.0000 - inflam_mse: 0.0222 - nephriti_acc: 1.0000 - nephriti_mse: 0.0142 - val_loss: 0.1559 - val_inflam_loss: 0.1339 - val_nephriti_loss: 0.1100 - val_inflam_acc: 1.0000 - val_inflam_mse: 0.0260 - val_nephriti_acc: 1.0000 - val_nephriti_mse: 0.0145\n",
            "Epoch 318/1000\n",
            "1/1 - 0s - loss: 0.1432 - inflam_loss: 0.1225 - nephriti_loss: 0.1034 - inflam_acc: 1.0000 - inflam_mse: 0.0221 - nephriti_acc: 1.0000 - nephriti_mse: 0.0141 - val_loss: 0.1570 - val_inflam_loss: 0.1350 - val_nephriti_loss: 0.1100 - val_inflam_acc: 1.0000 - val_inflam_mse: 0.0266 - val_nephriti_acc: 1.0000 - val_nephriti_mse: 0.0146\n",
            "Epoch 319/1000\n",
            "1/1 - 0s - loss: 0.1431 - inflam_loss: 0.1224 - nephriti_loss: 0.1033 - inflam_acc: 1.0000 - inflam_mse: 0.0222 - nephriti_acc: 1.0000 - nephriti_mse: 0.0141 - val_loss: 0.1557 - val_inflam_loss: 0.1338 - val_nephriti_loss: 0.1099 - val_inflam_acc: 1.0000 - val_inflam_mse: 0.0259 - val_nephriti_acc: 1.0000 - val_nephriti_mse: 0.0145\n",
            "Epoch 320/1000\n",
            "1/1 - 0s - loss: 0.1430 - inflam_loss: 0.1224 - nephriti_loss: 0.1033 - inflam_acc: 1.0000 - inflam_mse: 0.0221 - nephriti_acc: 1.0000 - nephriti_mse: 0.0141 - val_loss: 0.1568 - val_inflam_loss: 0.1349 - val_nephriti_loss: 0.1099 - val_inflam_acc: 1.0000 - val_inflam_mse: 0.0266 - val_nephriti_acc: 1.0000 - val_nephriti_mse: 0.0146\n",
            "Epoch 321/1000\n",
            "1/1 - 0s - loss: 0.1430 - inflam_loss: 0.1223 - nephriti_loss: 0.1032 - inflam_acc: 1.0000 - inflam_mse: 0.0222 - nephriti_acc: 1.0000 - nephriti_mse: 0.0141 - val_loss: 0.1556 - val_inflam_loss: 0.1336 - val_nephriti_loss: 0.1098 - val_inflam_acc: 1.0000 - val_inflam_mse: 0.0259 - val_nephriti_acc: 1.0000 - val_nephriti_mse: 0.0145\n",
            "Epoch 322/1000\n",
            "1/1 - 0s - loss: 0.1429 - inflam_loss: 0.1222 - nephriti_loss: 0.1032 - inflam_acc: 1.0000 - inflam_mse: 0.0221 - nephriti_acc: 1.0000 - nephriti_mse: 0.0140 - val_loss: 0.1567 - val_inflam_loss: 0.1347 - val_nephriti_loss: 0.1098 - val_inflam_acc: 1.0000 - val_inflam_mse: 0.0265 - val_nephriti_acc: 1.0000 - val_nephriti_mse: 0.0145\n",
            "Epoch 323/1000\n",
            "1/1 - 0s - loss: 0.1428 - inflam_loss: 0.1222 - nephriti_loss: 0.1031 - inflam_acc: 1.0000 - inflam_mse: 0.0221 - nephriti_acc: 1.0000 - nephriti_mse: 0.0141 - val_loss: 0.1554 - val_inflam_loss: 0.1335 - val_nephriti_loss: 0.1097 - val_inflam_acc: 1.0000 - val_inflam_mse: 0.0258 - val_nephriti_acc: 1.0000 - val_nephriti_mse: 0.0145\n",
            "Epoch 324/1000\n",
            "1/1 - 0s - loss: 0.1427 - inflam_loss: 0.1221 - nephriti_loss: 0.1031 - inflam_acc: 1.0000 - inflam_mse: 0.0220 - nephriti_acc: 1.0000 - nephriti_mse: 0.0140 - val_loss: 0.1565 - val_inflam_loss: 0.1346 - val_nephriti_loss: 0.1097 - val_inflam_acc: 1.0000 - val_inflam_mse: 0.0265 - val_nephriti_acc: 1.0000 - val_nephriti_mse: 0.0145\n",
            "Epoch 325/1000\n",
            "1/1 - 0s - loss: 0.1427 - inflam_loss: 0.1220 - nephriti_loss: 0.1030 - inflam_acc: 1.0000 - inflam_mse: 0.0221 - nephriti_acc: 1.0000 - nephriti_mse: 0.0141 - val_loss: 0.1552 - val_inflam_loss: 0.1333 - val_nephriti_loss: 0.1096 - val_inflam_acc: 1.0000 - val_inflam_mse: 0.0258 - val_nephriti_acc: 1.0000 - val_nephriti_mse: 0.0144\n",
            "Epoch 326/1000\n",
            "1/1 - 0s - loss: 0.1426 - inflam_loss: 0.1220 - nephriti_loss: 0.1030 - inflam_acc: 1.0000 - inflam_mse: 0.0220 - nephriti_acc: 1.0000 - nephriti_mse: 0.0140 - val_loss: 0.1564 - val_inflam_loss: 0.1344 - val_nephriti_loss: 0.1095 - val_inflam_acc: 1.0000 - val_inflam_mse: 0.0264 - val_nephriti_acc: 1.0000 - val_nephriti_mse: 0.0145\n",
            "Epoch 327/1000\n",
            "1/1 - 0s - loss: 0.1425 - inflam_loss: 0.1219 - nephriti_loss: 0.1029 - inflam_acc: 1.0000 - inflam_mse: 0.0221 - nephriti_acc: 1.0000 - nephriti_mse: 0.0141 - val_loss: 0.1551 - val_inflam_loss: 0.1332 - val_nephriti_loss: 0.1095 - val_inflam_acc: 1.0000 - val_inflam_mse: 0.0258 - val_nephriti_acc: 1.0000 - val_nephriti_mse: 0.0144\n",
            "Epoch 328/1000\n",
            "1/1 - 0s - loss: 0.1424 - inflam_loss: 0.1219 - nephriti_loss: 0.1029 - inflam_acc: 1.0000 - inflam_mse: 0.0220 - nephriti_acc: 1.0000 - nephriti_mse: 0.0140 - val_loss: 0.1562 - val_inflam_loss: 0.1343 - val_nephriti_loss: 0.1094 - val_inflam_acc: 1.0000 - val_inflam_mse: 0.0264 - val_nephriti_acc: 1.0000 - val_nephriti_mse: 0.0145\n",
            "Epoch 329/1000\n",
            "1/1 - 0s - loss: 0.1424 - inflam_loss: 0.1218 - nephriti_loss: 0.1028 - inflam_acc: 1.0000 - inflam_mse: 0.0220 - nephriti_acc: 1.0000 - nephriti_mse: 0.0140 - val_loss: 0.1549 - val_inflam_loss: 0.1331 - val_nephriti_loss: 0.1093 - val_inflam_acc: 1.0000 - val_inflam_mse: 0.0257 - val_nephriti_acc: 1.0000 - val_nephriti_mse: 0.0144\n",
            "Epoch 330/1000\n",
            "1/1 - 0s - loss: 0.1423 - inflam_loss: 0.1217 - nephriti_loss: 0.1028 - inflam_acc: 1.0000 - inflam_mse: 0.0219 - nephriti_acc: 1.0000 - nephriti_mse: 0.0140 - val_loss: 0.1560 - val_inflam_loss: 0.1342 - val_nephriti_loss: 0.1093 - val_inflam_acc: 1.0000 - val_inflam_mse: 0.0264 - val_nephriti_acc: 1.0000 - val_nephriti_mse: 0.0145\n",
            "Epoch 331/1000\n",
            "1/1 - 0s - loss: 0.1422 - inflam_loss: 0.1217 - nephriti_loss: 0.1027 - inflam_acc: 1.0000 - inflam_mse: 0.0220 - nephriti_acc: 1.0000 - nephriti_mse: 0.0140 - val_loss: 0.1548 - val_inflam_loss: 0.1329 - val_nephriti_loss: 0.1092 - val_inflam_acc: 1.0000 - val_inflam_mse: 0.0257 - val_nephriti_acc: 1.0000 - val_nephriti_mse: 0.0144\n",
            "Epoch 332/1000\n",
            "1/1 - 0s - loss: 0.1421 - inflam_loss: 0.1216 - nephriti_loss: 0.1027 - inflam_acc: 1.0000 - inflam_mse: 0.0219 - nephriti_acc: 1.0000 - nephriti_mse: 0.0139 - val_loss: 0.1559 - val_inflam_loss: 0.1340 - val_nephriti_loss: 0.1092 - val_inflam_acc: 1.0000 - val_inflam_mse: 0.0263 - val_nephriti_acc: 1.0000 - val_nephriti_mse: 0.0144\n",
            "Epoch 333/1000\n",
            "1/1 - 0s - loss: 0.1421 - inflam_loss: 0.1215 - nephriti_loss: 0.1027 - inflam_acc: 1.0000 - inflam_mse: 0.0220 - nephriti_acc: 1.0000 - nephriti_mse: 0.0140 - val_loss: 0.1546 - val_inflam_loss: 0.1328 - val_nephriti_loss: 0.1091 - val_inflam_acc: 1.0000 - val_inflam_mse: 0.0256 - val_nephriti_acc: 1.0000 - val_nephriti_mse: 0.0143\n",
            "Epoch 334/1000\n",
            "1/1 - 0s - loss: 0.1420 - inflam_loss: 0.1215 - nephriti_loss: 0.1026 - inflam_acc: 1.0000 - inflam_mse: 0.0219 - nephriti_acc: 1.0000 - nephriti_mse: 0.0139 - val_loss: 0.1557 - val_inflam_loss: 0.1339 - val_nephriti_loss: 0.1091 - val_inflam_acc: 1.0000 - val_inflam_mse: 0.0263 - val_nephriti_acc: 1.0000 - val_nephriti_mse: 0.0144\n",
            "Epoch 335/1000\n",
            "1/1 - 0s - loss: 0.1419 - inflam_loss: 0.1214 - nephriti_loss: 0.1026 - inflam_acc: 1.0000 - inflam_mse: 0.0219 - nephriti_acc: 1.0000 - nephriti_mse: 0.0140 - val_loss: 0.1544 - val_inflam_loss: 0.1326 - val_nephriti_loss: 0.1090 - val_inflam_acc: 1.0000 - val_inflam_mse: 0.0256 - val_nephriti_acc: 1.0000 - val_nephriti_mse: 0.0143\n",
            "Epoch 336/1000\n",
            "1/1 - 0s - loss: 0.1419 - inflam_loss: 0.1214 - nephriti_loss: 0.1025 - inflam_acc: 1.0000 - inflam_mse: 0.0218 - nephriti_acc: 1.0000 - nephriti_mse: 0.0139 - val_loss: 0.1555 - val_inflam_loss: 0.1337 - val_nephriti_loss: 0.1090 - val_inflam_acc: 1.0000 - val_inflam_mse: 0.0262 - val_nephriti_acc: 1.0000 - val_nephriti_mse: 0.0144\n",
            "Epoch 337/1000\n",
            "1/1 - 0s - loss: 0.1418 - inflam_loss: 0.1213 - nephriti_loss: 0.1025 - inflam_acc: 1.0000 - inflam_mse: 0.0219 - nephriti_acc: 1.0000 - nephriti_mse: 0.0139 - val_loss: 0.1543 - val_inflam_loss: 0.1325 - val_nephriti_loss: 0.1089 - val_inflam_acc: 1.0000 - val_inflam_mse: 0.0256 - val_nephriti_acc: 1.0000 - val_nephriti_mse: 0.0143\n",
            "Epoch 338/1000\n",
            "1/1 - 0s - loss: 0.1417 - inflam_loss: 0.1212 - nephriti_loss: 0.1024 - inflam_acc: 1.0000 - inflam_mse: 0.0218 - nephriti_acc: 1.0000 - nephriti_mse: 0.0139 - val_loss: 0.1554 - val_inflam_loss: 0.1336 - val_nephriti_loss: 0.1089 - val_inflam_acc: 1.0000 - val_inflam_mse: 0.0262 - val_nephriti_acc: 1.0000 - val_nephriti_mse: 0.0144\n",
            "Epoch 339/1000\n",
            "1/1 - 0s - loss: 0.1416 - inflam_loss: 0.1212 - nephriti_loss: 0.1024 - inflam_acc: 1.0000 - inflam_mse: 0.0219 - nephriti_acc: 1.0000 - nephriti_mse: 0.0139 - val_loss: 0.1541 - val_inflam_loss: 0.1324 - val_nephriti_loss: 0.1088 - val_inflam_acc: 1.0000 - val_inflam_mse: 0.0255 - val_nephriti_acc: 1.0000 - val_nephriti_mse: 0.0143\n",
            "Epoch 340/1000\n",
            "1/1 - 0s - loss: 0.1416 - inflam_loss: 0.1211 - nephriti_loss: 0.1023 - inflam_acc: 1.0000 - inflam_mse: 0.0218 - nephriti_acc: 1.0000 - nephriti_mse: 0.0138 - val_loss: 0.1552 - val_inflam_loss: 0.1335 - val_nephriti_loss: 0.1088 - val_inflam_acc: 1.0000 - val_inflam_mse: 0.0261 - val_nephriti_acc: 1.0000 - val_nephriti_mse: 0.0143\n",
            "Epoch 341/1000\n",
            "1/1 - 0s - loss: 0.1415 - inflam_loss: 0.1210 - nephriti_loss: 0.1023 - inflam_acc: 1.0000 - inflam_mse: 0.0218 - nephriti_acc: 1.0000 - nephriti_mse: 0.0139 - val_loss: 0.1540 - val_inflam_loss: 0.1322 - val_nephriti_loss: 0.1087 - val_inflam_acc: 1.0000 - val_inflam_mse: 0.0255 - val_nephriti_acc: 1.0000 - val_nephriti_mse: 0.0143\n",
            "Epoch 342/1000\n",
            "1/1 - 0s - loss: 0.1414 - inflam_loss: 0.1210 - nephriti_loss: 0.1022 - inflam_acc: 1.0000 - inflam_mse: 0.0217 - nephriti_acc: 1.0000 - nephriti_mse: 0.0138 - val_loss: 0.1551 - val_inflam_loss: 0.1333 - val_nephriti_loss: 0.1087 - val_inflam_acc: 1.0000 - val_inflam_mse: 0.0261 - val_nephriti_acc: 1.0000 - val_nephriti_mse: 0.0143\n",
            "Epoch 343/1000\n",
            "1/1 - 0s - loss: 0.1413 - inflam_loss: 0.1209 - nephriti_loss: 0.1022 - inflam_acc: 1.0000 - inflam_mse: 0.0218 - nephriti_acc: 1.0000 - nephriti_mse: 0.0139 - val_loss: 0.1538 - val_inflam_loss: 0.1321 - val_nephriti_loss: 0.1086 - val_inflam_acc: 1.0000 - val_inflam_mse: 0.0254 - val_nephriti_acc: 1.0000 - val_nephriti_mse: 0.0142\n",
            "Epoch 344/1000\n",
            "1/1 - 0s - loss: 0.1413 - inflam_loss: 0.1208 - nephriti_loss: 0.1021 - inflam_acc: 1.0000 - inflam_mse: 0.0217 - nephriti_acc: 1.0000 - nephriti_mse: 0.0138 - val_loss: 0.1549 - val_inflam_loss: 0.1332 - val_nephriti_loss: 0.1086 - val_inflam_acc: 1.0000 - val_inflam_mse: 0.0261 - val_nephriti_acc: 1.0000 - val_nephriti_mse: 0.0143\n",
            "Epoch 345/1000\n",
            "1/1 - 0s - loss: 0.1412 - inflam_loss: 0.1208 - nephriti_loss: 0.1021 - inflam_acc: 1.0000 - inflam_mse: 0.0218 - nephriti_acc: 1.0000 - nephriti_mse: 0.0139 - val_loss: 0.1536 - val_inflam_loss: 0.1319 - val_nephriti_loss: 0.1085 - val_inflam_acc: 1.0000 - val_inflam_mse: 0.0254 - val_nephriti_acc: 1.0000 - val_nephriti_mse: 0.0142\n",
            "Epoch 346/1000\n",
            "1/1 - 0s - loss: 0.1411 - inflam_loss: 0.1207 - nephriti_loss: 0.1020 - inflam_acc: 1.0000 - inflam_mse: 0.0217 - nephriti_acc: 1.0000 - nephriti_mse: 0.0138 - val_loss: 0.1547 - val_inflam_loss: 0.1330 - val_nephriti_loss: 0.1085 - val_inflam_acc: 1.0000 - val_inflam_mse: 0.0260 - val_nephriti_acc: 1.0000 - val_nephriti_mse: 0.0143\n",
            "Epoch 347/1000\n",
            "1/1 - 0s - loss: 0.1410 - inflam_loss: 0.1207 - nephriti_loss: 0.1020 - inflam_acc: 1.0000 - inflam_mse: 0.0217 - nephriti_acc: 1.0000 - nephriti_mse: 0.0138 - val_loss: 0.1535 - val_inflam_loss: 0.1318 - val_nephriti_loss: 0.1084 - val_inflam_acc: 1.0000 - val_inflam_mse: 0.0254 - val_nephriti_acc: 1.0000 - val_nephriti_mse: 0.0142\n",
            "Epoch 348/1000\n",
            "1/1 - 0s - loss: 0.1410 - inflam_loss: 0.1206 - nephriti_loss: 0.1019 - inflam_acc: 1.0000 - inflam_mse: 0.0216 - nephriti_acc: 1.0000 - nephriti_mse: 0.0138 - val_loss: 0.1546 - val_inflam_loss: 0.1329 - val_nephriti_loss: 0.1084 - val_inflam_acc: 1.0000 - val_inflam_mse: 0.0260 - val_nephriti_acc: 1.0000 - val_nephriti_mse: 0.0142\n",
            "Epoch 349/1000\n",
            "1/1 - 0s - loss: 0.1409 - inflam_loss: 0.1205 - nephriti_loss: 0.1019 - inflam_acc: 1.0000 - inflam_mse: 0.0217 - nephriti_acc: 1.0000 - nephriti_mse: 0.0138 - val_loss: 0.1533 - val_inflam_loss: 0.1317 - val_nephriti_loss: 0.1083 - val_inflam_acc: 1.0000 - val_inflam_mse: 0.0253 - val_nephriti_acc: 1.0000 - val_nephriti_mse: 0.0142\n",
            "Epoch 350/1000\n",
            "1/1 - 0s - loss: 0.1408 - inflam_loss: 0.1205 - nephriti_loss: 0.1018 - inflam_acc: 1.0000 - inflam_mse: 0.0216 - nephriti_acc: 1.0000 - nephriti_mse: 0.0137 - val_loss: 0.1544 - val_inflam_loss: 0.1328 - val_nephriti_loss: 0.1083 - val_inflam_acc: 1.0000 - val_inflam_mse: 0.0259 - val_nephriti_acc: 1.0000 - val_nephriti_mse: 0.0142\n",
            "Epoch 351/1000\n",
            "1/1 - 0s - loss: 0.1408 - inflam_loss: 0.1204 - nephriti_loss: 0.1018 - inflam_acc: 1.0000 - inflam_mse: 0.0217 - nephriti_acc: 1.0000 - nephriti_mse: 0.0138 - val_loss: 0.1532 - val_inflam_loss: 0.1315 - val_nephriti_loss: 0.1082 - val_inflam_acc: 1.0000 - val_inflam_mse: 0.0253 - val_nephriti_acc: 1.0000 - val_nephriti_mse: 0.0141\n",
            "Epoch 352/1000\n",
            "1/1 - 0s - loss: 0.1407 - inflam_loss: 0.1203 - nephriti_loss: 0.1017 - inflam_acc: 1.0000 - inflam_mse: 0.0216 - nephriti_acc: 1.0000 - nephriti_mse: 0.0137 - val_loss: 0.1543 - val_inflam_loss: 0.1326 - val_nephriti_loss: 0.1082 - val_inflam_acc: 1.0000 - val_inflam_mse: 0.0259 - val_nephriti_acc: 1.0000 - val_nephriti_mse: 0.0142\n",
            "Epoch 353/1000\n",
            "1/1 - 0s - loss: 0.1406 - inflam_loss: 0.1203 - nephriti_loss: 0.1017 - inflam_acc: 1.0000 - inflam_mse: 0.0216 - nephriti_acc: 1.0000 - nephriti_mse: 0.0138 - val_loss: 0.1530 - val_inflam_loss: 0.1314 - val_nephriti_loss: 0.1081 - val_inflam_acc: 1.0000 - val_inflam_mse: 0.0252 - val_nephriti_acc: 1.0000 - val_nephriti_mse: 0.0141\n",
            "Epoch 354/1000\n",
            "1/1 - 0s - loss: 0.1405 - inflam_loss: 0.1202 - nephriti_loss: 0.1016 - inflam_acc: 1.0000 - inflam_mse: 0.0215 - nephriti_acc: 1.0000 - nephriti_mse: 0.0137 - val_loss: 0.1541 - val_inflam_loss: 0.1325 - val_nephriti_loss: 0.1081 - val_inflam_acc: 1.0000 - val_inflam_mse: 0.0259 - val_nephriti_acc: 1.0000 - val_nephriti_mse: 0.0142\n",
            "Epoch 355/1000\n",
            "1/1 - 0s - loss: 0.1405 - inflam_loss: 0.1202 - nephriti_loss: 0.1016 - inflam_acc: 1.0000 - inflam_mse: 0.0216 - nephriti_acc: 1.0000 - nephriti_mse: 0.0137 - val_loss: 0.1529 - val_inflam_loss: 0.1313 - val_nephriti_loss: 0.1080 - val_inflam_acc: 1.0000 - val_inflam_mse: 0.0252 - val_nephriti_acc: 1.0000 - val_nephriti_mse: 0.0141\n",
            "Epoch 356/1000\n",
            "1/1 - 0s - loss: 0.1404 - inflam_loss: 0.1201 - nephriti_loss: 0.1015 - inflam_acc: 1.0000 - inflam_mse: 0.0215 - nephriti_acc: 1.0000 - nephriti_mse: 0.0137 - val_loss: 0.1540 - val_inflam_loss: 0.1324 - val_nephriti_loss: 0.1080 - val_inflam_acc: 1.0000 - val_inflam_mse: 0.0258 - val_nephriti_acc: 1.0000 - val_nephriti_mse: 0.0142\n",
            "Epoch 357/1000\n",
            "1/1 - 0s - loss: 0.1403 - inflam_loss: 0.1200 - nephriti_loss: 0.1015 - inflam_acc: 1.0000 - inflam_mse: 0.0216 - nephriti_acc: 1.0000 - nephriti_mse: 0.0137 - val_loss: 0.1527 - val_inflam_loss: 0.1311 - val_nephriti_loss: 0.1079 - val_inflam_acc: 1.0000 - val_inflam_mse: 0.0252 - val_nephriti_acc: 1.0000 - val_nephriti_mse: 0.0141\n",
            "Epoch 358/1000\n",
            "1/1 - 0s - loss: 0.1403 - inflam_loss: 0.1200 - nephriti_loss: 0.1014 - inflam_acc: 1.0000 - inflam_mse: 0.0215 - nephriti_acc: 1.0000 - nephriti_mse: 0.0136 - val_loss: 0.1538 - val_inflam_loss: 0.1322 - val_nephriti_loss: 0.1079 - val_inflam_acc: 1.0000 - val_inflam_mse: 0.0258 - val_nephriti_acc: 1.0000 - val_nephriti_mse: 0.0141\n",
            "Epoch 359/1000\n",
            "1/1 - 0s - loss: 0.1402 - inflam_loss: 0.1199 - nephriti_loss: 0.1014 - inflam_acc: 1.0000 - inflam_mse: 0.0215 - nephriti_acc: 1.0000 - nephriti_mse: 0.0137 - val_loss: 0.1525 - val_inflam_loss: 0.1310 - val_nephriti_loss: 0.1078 - val_inflam_acc: 1.0000 - val_inflam_mse: 0.0251 - val_nephriti_acc: 1.0000 - val_nephriti_mse: 0.0140\n",
            "Epoch 360/1000\n",
            "1/1 - 0s - loss: 0.1401 - inflam_loss: 0.1198 - nephriti_loss: 0.1013 - inflam_acc: 1.0000 - inflam_mse: 0.0214 - nephriti_acc: 1.0000 - nephriti_mse: 0.0136 - val_loss: 0.1536 - val_inflam_loss: 0.1321 - val_nephriti_loss: 0.1078 - val_inflam_acc: 1.0000 - val_inflam_mse: 0.0257 - val_nephriti_acc: 1.0000 - val_nephriti_mse: 0.0141\n",
            "Epoch 361/1000\n",
            "1/1 - 0s - loss: 0.1400 - inflam_loss: 0.1198 - nephriti_loss: 0.1013 - inflam_acc: 1.0000 - inflam_mse: 0.0215 - nephriti_acc: 1.0000 - nephriti_mse: 0.0137 - val_loss: 0.1524 - val_inflam_loss: 0.1308 - val_nephriti_loss: 0.1077 - val_inflam_acc: 1.0000 - val_inflam_mse: 0.0251 - val_nephriti_acc: 1.0000 - val_nephriti_mse: 0.0140\n",
            "Epoch 362/1000\n",
            "1/1 - 0s - loss: 0.1400 - inflam_loss: 0.1197 - nephriti_loss: 0.1012 - inflam_acc: 1.0000 - inflam_mse: 0.0214 - nephriti_acc: 1.0000 - nephriti_mse: 0.0136 - val_loss: 0.1535 - val_inflam_loss: 0.1319 - val_nephriti_loss: 0.1077 - val_inflam_acc: 1.0000 - val_inflam_mse: 0.0257 - val_nephriti_acc: 1.0000 - val_nephriti_mse: 0.0141\n",
            "Epoch 363/1000\n",
            "1/1 - 0s - loss: 0.1399 - inflam_loss: 0.1197 - nephriti_loss: 0.1012 - inflam_acc: 1.0000 - inflam_mse: 0.0215 - nephriti_acc: 1.0000 - nephriti_mse: 0.0137 - val_loss: 0.1522 - val_inflam_loss: 0.1307 - val_nephriti_loss: 0.1076 - val_inflam_acc: 1.0000 - val_inflam_mse: 0.0250 - val_nephriti_acc: 1.0000 - val_nephriti_mse: 0.0140\n",
            "Epoch 364/1000\n",
            "1/1 - 0s - loss: 0.1398 - inflam_loss: 0.1196 - nephriti_loss: 0.1012 - inflam_acc: 1.0000 - inflam_mse: 0.0214 - nephriti_acc: 1.0000 - nephriti_mse: 0.0136 - val_loss: 0.1533 - val_inflam_loss: 0.1318 - val_nephriti_loss: 0.1076 - val_inflam_acc: 1.0000 - val_inflam_mse: 0.0257 - val_nephriti_acc: 1.0000 - val_nephriti_mse: 0.0141\n",
            "Epoch 365/1000\n",
            "1/1 - 0s - loss: 0.1397 - inflam_loss: 0.1195 - nephriti_loss: 0.1011 - inflam_acc: 1.0000 - inflam_mse: 0.0214 - nephriti_acc: 1.0000 - nephriti_mse: 0.0136 - val_loss: 0.1521 - val_inflam_loss: 0.1306 - val_nephriti_loss: 0.1075 - val_inflam_acc: 1.0000 - val_inflam_mse: 0.0250 - val_nephriti_acc: 1.0000 - val_nephriti_mse: 0.0140\n",
            "Epoch 366/1000\n",
            "1/1 - 0s - loss: 0.1397 - inflam_loss: 0.1195 - nephriti_loss: 0.1011 - inflam_acc: 1.0000 - inflam_mse: 0.0213 - nephriti_acc: 1.0000 - nephriti_mse: 0.0136 - val_loss: 0.1532 - val_inflam_loss: 0.1317 - val_nephriti_loss: 0.1075 - val_inflam_acc: 1.0000 - val_inflam_mse: 0.0256 - val_nephriti_acc: 1.0000 - val_nephriti_mse: 0.0140\n",
            "Epoch 367/1000\n",
            "1/1 - 0s - loss: 0.1396 - inflam_loss: 0.1194 - nephriti_loss: 0.1010 - inflam_acc: 1.0000 - inflam_mse: 0.0214 - nephriti_acc: 1.0000 - nephriti_mse: 0.0136 - val_loss: 0.1519 - val_inflam_loss: 0.1304 - val_nephriti_loss: 0.1074 - val_inflam_acc: 1.0000 - val_inflam_mse: 0.0250 - val_nephriti_acc: 1.0000 - val_nephriti_mse: 0.0140\n",
            "Epoch 368/1000\n",
            "1/1 - 0s - loss: 0.1395 - inflam_loss: 0.1193 - nephriti_loss: 0.1010 - inflam_acc: 1.0000 - inflam_mse: 0.0213 - nephriti_acc: 1.0000 - nephriti_mse: 0.0135 - val_loss: 0.1530 - val_inflam_loss: 0.1315 - val_nephriti_loss: 0.1074 - val_inflam_acc: 1.0000 - val_inflam_mse: 0.0256 - val_nephriti_acc: 1.0000 - val_nephriti_mse: 0.0140\n",
            "Epoch 369/1000\n",
            "1/1 - 0s - loss: 0.1395 - inflam_loss: 0.1193 - nephriti_loss: 0.1009 - inflam_acc: 1.0000 - inflam_mse: 0.0214 - nephriti_acc: 1.0000 - nephriti_mse: 0.0136 - val_loss: 0.1518 - val_inflam_loss: 0.1303 - val_nephriti_loss: 0.1073 - val_inflam_acc: 1.0000 - val_inflam_mse: 0.0249 - val_nephriti_acc: 1.0000 - val_nephriti_mse: 0.0139\n",
            "Epoch 370/1000\n",
            "1/1 - 0s - loss: 0.1394 - inflam_loss: 0.1192 - nephriti_loss: 0.1009 - inflam_acc: 1.0000 - inflam_mse: 0.0213 - nephriti_acc: 1.0000 - nephriti_mse: 0.0135 - val_loss: 0.1528 - val_inflam_loss: 0.1314 - val_nephriti_loss: 0.1073 - val_inflam_acc: 1.0000 - val_inflam_mse: 0.0255 - val_nephriti_acc: 1.0000 - val_nephriti_mse: 0.0140\n",
            "Epoch 371/1000\n",
            "1/1 - 0s - loss: 0.1393 - inflam_loss: 0.1192 - nephriti_loss: 0.1008 - inflam_acc: 1.0000 - inflam_mse: 0.0213 - nephriti_acc: 1.0000 - nephriti_mse: 0.0136 - val_loss: 0.1516 - val_inflam_loss: 0.1302 - val_nephriti_loss: 0.1072 - val_inflam_acc: 1.0000 - val_inflam_mse: 0.0249 - val_nephriti_acc: 1.0000 - val_nephriti_mse: 0.0139\n",
            "Epoch 372/1000\n",
            "1/1 - 0s - loss: 0.1392 - inflam_loss: 0.1191 - nephriti_loss: 0.1008 - inflam_acc: 1.0000 - inflam_mse: 0.0212 - nephriti_acc: 1.0000 - nephriti_mse: 0.0135 - val_loss: 0.1527 - val_inflam_loss: 0.1313 - val_nephriti_loss: 0.1072 - val_inflam_acc: 1.0000 - val_inflam_mse: 0.0255 - val_nephriti_acc: 1.0000 - val_nephriti_mse: 0.0140\n",
            "Epoch 373/1000\n",
            "1/1 - 0s - loss: 0.1392 - inflam_loss: 0.1190 - nephriti_loss: 0.1007 - inflam_acc: 1.0000 - inflam_mse: 0.0213 - nephriti_acc: 1.0000 - nephriti_mse: 0.0135 - val_loss: 0.1514 - val_inflam_loss: 0.1300 - val_nephriti_loss: 0.1071 - val_inflam_acc: 1.0000 - val_inflam_mse: 0.0248 - val_nephriti_acc: 1.0000 - val_nephriti_mse: 0.0139\n",
            "Epoch 374/1000\n",
            "1/1 - 0s - loss: 0.1391 - inflam_loss: 0.1190 - nephriti_loss: 0.1007 - inflam_acc: 1.0000 - inflam_mse: 0.0212 - nephriti_acc: 1.0000 - nephriti_mse: 0.0135 - val_loss: 0.1525 - val_inflam_loss: 0.1311 - val_nephriti_loss: 0.1071 - val_inflam_acc: 1.0000 - val_inflam_mse: 0.0255 - val_nephriti_acc: 1.0000 - val_nephriti_mse: 0.0139\n",
            "Epoch 375/1000\n",
            "1/1 - 0s - loss: 0.1390 - inflam_loss: 0.1189 - nephriti_loss: 0.1006 - inflam_acc: 1.0000 - inflam_mse: 0.0213 - nephriti_acc: 1.0000 - nephriti_mse: 0.0135 - val_loss: 0.1513 - val_inflam_loss: 0.1299 - val_nephriti_loss: 0.1070 - val_inflam_acc: 1.0000 - val_inflam_mse: 0.0248 - val_nephriti_acc: 1.0000 - val_nephriti_mse: 0.0139\n",
            "Epoch 376/1000\n",
            "1/1 - 0s - loss: 0.1390 - inflam_loss: 0.1188 - nephriti_loss: 0.1006 - inflam_acc: 1.0000 - inflam_mse: 0.0212 - nephriti_acc: 1.0000 - nephriti_mse: 0.0134 - val_loss: 0.1524 - val_inflam_loss: 0.1310 - val_nephriti_loss: 0.1070 - val_inflam_acc: 1.0000 - val_inflam_mse: 0.0254 - val_nephriti_acc: 1.0000 - val_nephriti_mse: 0.0139\n",
            "Epoch 377/1000\n",
            "1/1 - 0s - loss: 0.1389 - inflam_loss: 0.1188 - nephriti_loss: 0.1005 - inflam_acc: 1.0000 - inflam_mse: 0.0212 - nephriti_acc: 1.0000 - nephriti_mse: 0.0135 - val_loss: 0.1511 - val_inflam_loss: 0.1297 - val_nephriti_loss: 0.1069 - val_inflam_acc: 1.0000 - val_inflam_mse: 0.0248 - val_nephriti_acc: 1.0000 - val_nephriti_mse: 0.0138\n",
            "Epoch 378/1000\n",
            "1/1 - 0s - loss: 0.1388 - inflam_loss: 0.1187 - nephriti_loss: 0.1005 - inflam_acc: 1.0000 - inflam_mse: 0.0211 - nephriti_acc: 1.0000 - nephriti_mse: 0.0134 - val_loss: 0.1522 - val_inflam_loss: 0.1308 - val_nephriti_loss: 0.1069 - val_inflam_acc: 1.0000 - val_inflam_mse: 0.0254 - val_nephriti_acc: 1.0000 - val_nephriti_mse: 0.0139\n",
            "Epoch 379/1000\n",
            "1/1 - 0s - loss: 0.1387 - inflam_loss: 0.1187 - nephriti_loss: 0.1004 - inflam_acc: 1.0000 - inflam_mse: 0.0212 - nephriti_acc: 1.0000 - nephriti_mse: 0.0135 - val_loss: 0.1510 - val_inflam_loss: 0.1296 - val_nephriti_loss: 0.1068 - val_inflam_acc: 1.0000 - val_inflam_mse: 0.0247 - val_nephriti_acc: 1.0000 - val_nephriti_mse: 0.0138\n",
            "Epoch 380/1000\n",
            "1/1 - 0s - loss: 0.1387 - inflam_loss: 0.1186 - nephriti_loss: 0.1004 - inflam_acc: 1.0000 - inflam_mse: 0.0211 - nephriti_acc: 1.0000 - nephriti_mse: 0.0134 - val_loss: 0.1521 - val_inflam_loss: 0.1307 - val_nephriti_loss: 0.1068 - val_inflam_acc: 1.0000 - val_inflam_mse: 0.0253 - val_nephriti_acc: 1.0000 - val_nephriti_mse: 0.0139\n",
            "Epoch 381/1000\n",
            "1/1 - 0s - loss: 0.1386 - inflam_loss: 0.1185 - nephriti_loss: 0.1003 - inflam_acc: 1.0000 - inflam_mse: 0.0212 - nephriti_acc: 1.0000 - nephriti_mse: 0.0135 - val_loss: 0.1508 - val_inflam_loss: 0.1295 - val_nephriti_loss: 0.1067 - val_inflam_acc: 1.0000 - val_inflam_mse: 0.0247 - val_nephriti_acc: 1.0000 - val_nephriti_mse: 0.0138\n",
            "Epoch 382/1000\n",
            "1/1 - 0s - loss: 0.1385 - inflam_loss: 0.1185 - nephriti_loss: 0.1003 - inflam_acc: 1.0000 - inflam_mse: 0.0211 - nephriti_acc: 1.0000 - nephriti_mse: 0.0134 - val_loss: 0.1519 - val_inflam_loss: 0.1306 - val_nephriti_loss: 0.1067 - val_inflam_acc: 1.0000 - val_inflam_mse: 0.0253 - val_nephriti_acc: 1.0000 - val_nephriti_mse: 0.0139\n",
            "Epoch 383/1000\n",
            "1/1 - 0s - loss: 0.1385 - inflam_loss: 0.1184 - nephriti_loss: 0.1002 - inflam_acc: 1.0000 - inflam_mse: 0.0211 - nephriti_acc: 1.0000 - nephriti_mse: 0.0134 - val_loss: 0.1507 - val_inflam_loss: 0.1293 - val_nephriti_loss: 0.1066 - val_inflam_acc: 1.0000 - val_inflam_mse: 0.0247 - val_nephriti_acc: 1.0000 - val_nephriti_mse: 0.0138\n",
            "Epoch 384/1000\n",
            "1/1 - 0s - loss: 0.1384 - inflam_loss: 0.1184 - nephriti_loss: 0.1002 - inflam_acc: 1.0000 - inflam_mse: 0.0210 - nephriti_acc: 1.0000 - nephriti_mse: 0.0134 - val_loss: 0.1517 - val_inflam_loss: 0.1304 - val_nephriti_loss: 0.1066 - val_inflam_acc: 1.0000 - val_inflam_mse: 0.0253 - val_nephriti_acc: 1.0000 - val_nephriti_mse: 0.0138\n",
            "Epoch 385/1000\n",
            "1/1 - 0s - loss: 0.1383 - inflam_loss: 0.1183 - nephriti_loss: 0.1002 - inflam_acc: 1.0000 - inflam_mse: 0.0211 - nephriti_acc: 1.0000 - nephriti_mse: 0.0134 - val_loss: 0.1505 - val_inflam_loss: 0.1292 - val_nephriti_loss: 0.1065 - val_inflam_acc: 1.0000 - val_inflam_mse: 0.0246 - val_nephriti_acc: 1.0000 - val_nephriti_mse: 0.0138\n",
            "Epoch 386/1000\n",
            "1/1 - 0s - loss: 0.1383 - inflam_loss: 0.1182 - nephriti_loss: 0.1001 - inflam_acc: 1.0000 - inflam_mse: 0.0210 - nephriti_acc: 1.0000 - nephriti_mse: 0.0133 - val_loss: 0.1516 - val_inflam_loss: 0.1303 - val_nephriti_loss: 0.1065 - val_inflam_acc: 1.0000 - val_inflam_mse: 0.0252 - val_nephriti_acc: 1.0000 - val_nephriti_mse: 0.0138\n",
            "Epoch 387/1000\n",
            "1/1 - 0s - loss: 0.1382 - inflam_loss: 0.1182 - nephriti_loss: 0.1001 - inflam_acc: 1.0000 - inflam_mse: 0.0211 - nephriti_acc: 1.0000 - nephriti_mse: 0.0134 - val_loss: 0.1503 - val_inflam_loss: 0.1291 - val_nephriti_loss: 0.1064 - val_inflam_acc: 1.0000 - val_inflam_mse: 0.0246 - val_nephriti_acc: 1.0000 - val_nephriti_mse: 0.0137\n",
            "Epoch 388/1000\n",
            "1/1 - 0s - loss: 0.1381 - inflam_loss: 0.1181 - nephriti_loss: 0.1000 - inflam_acc: 1.0000 - inflam_mse: 0.0210 - nephriti_acc: 1.0000 - nephriti_mse: 0.0133 - val_loss: 0.1514 - val_inflam_loss: 0.1302 - val_nephriti_loss: 0.1064 - val_inflam_acc: 1.0000 - val_inflam_mse: 0.0252 - val_nephriti_acc: 1.0000 - val_nephriti_mse: 0.0138\n",
            "Epoch 389/1000\n",
            "1/1 - 0s - loss: 0.1380 - inflam_loss: 0.1180 - nephriti_loss: 0.1000 - inflam_acc: 1.0000 - inflam_mse: 0.0210 - nephriti_acc: 1.0000 - nephriti_mse: 0.0134 - val_loss: 0.1502 - val_inflam_loss: 0.1289 - val_nephriti_loss: 0.1063 - val_inflam_acc: 1.0000 - val_inflam_mse: 0.0245 - val_nephriti_acc: 1.0000 - val_nephriti_mse: 0.0137\n",
            "Epoch 390/1000\n",
            "1/1 - 0s - loss: 0.1380 - inflam_loss: 0.1180 - nephriti_loss: 0.0999 - inflam_acc: 1.0000 - inflam_mse: 0.0209 - nephriti_acc: 1.0000 - nephriti_mse: 0.0133 - val_loss: 0.1513 - val_inflam_loss: 0.1300 - val_nephriti_loss: 0.1063 - val_inflam_acc: 1.0000 - val_inflam_mse: 0.0251 - val_nephriti_acc: 1.0000 - val_nephriti_mse: 0.0138\n",
            "Epoch 391/1000\n",
            "1/1 - 0s - loss: 0.1379 - inflam_loss: 0.1179 - nephriti_loss: 0.0999 - inflam_acc: 1.0000 - inflam_mse: 0.0210 - nephriti_acc: 1.0000 - nephriti_mse: 0.0133 - val_loss: 0.1500 - val_inflam_loss: 0.1288 - val_nephriti_loss: 0.1062 - val_inflam_acc: 1.0000 - val_inflam_mse: 0.0245 - val_nephriti_acc: 1.0000 - val_nephriti_mse: 0.0137\n",
            "Epoch 392/1000\n",
            "1/1 - 0s - loss: 0.1378 - inflam_loss: 0.1179 - nephriti_loss: 0.0998 - inflam_acc: 1.0000 - inflam_mse: 0.0209 - nephriti_acc: 1.0000 - nephriti_mse: 0.0133 - val_loss: 0.1511 - val_inflam_loss: 0.1299 - val_nephriti_loss: 0.1062 - val_inflam_acc: 1.0000 - val_inflam_mse: 0.0251 - val_nephriti_acc: 1.0000 - val_nephriti_mse: 0.0137\n",
            "Epoch 393/1000\n",
            "1/1 - 0s - loss: 0.1378 - inflam_loss: 0.1178 - nephriti_loss: 0.0998 - inflam_acc: 1.0000 - inflam_mse: 0.0210 - nephriti_acc: 1.0000 - nephriti_mse: 0.0133 - val_loss: 0.1499 - val_inflam_loss: 0.1287 - val_nephriti_loss: 0.1061 - val_inflam_acc: 1.0000 - val_inflam_mse: 0.0245 - val_nephriti_acc: 1.0000 - val_nephriti_mse: 0.0137\n",
            "Epoch 394/1000\n",
            "1/1 - 0s - loss: 0.1377 - inflam_loss: 0.1177 - nephriti_loss: 0.0997 - inflam_acc: 1.0000 - inflam_mse: 0.0209 - nephriti_acc: 1.0000 - nephriti_mse: 0.0133 - val_loss: 0.1510 - val_inflam_loss: 0.1298 - val_nephriti_loss: 0.1061 - val_inflam_acc: 1.0000 - val_inflam_mse: 0.0251 - val_nephriti_acc: 1.0000 - val_nephriti_mse: 0.0137\n",
            "Epoch 395/1000\n",
            "1/1 - 0s - loss: 0.1376 - inflam_loss: 0.1177 - nephriti_loss: 0.0997 - inflam_acc: 1.0000 - inflam_mse: 0.0209 - nephriti_acc: 1.0000 - nephriti_mse: 0.0133 - val_loss: 0.1497 - val_inflam_loss: 0.1285 - val_nephriti_loss: 0.1060 - val_inflam_acc: 1.0000 - val_inflam_mse: 0.0244 - val_nephriti_acc: 1.0000 - val_nephriti_mse: 0.0136\n",
            "Epoch 396/1000\n",
            "1/1 - 0s - loss: 0.1375 - inflam_loss: 0.1176 - nephriti_loss: 0.0996 - inflam_acc: 1.0000 - inflam_mse: 0.0208 - nephriti_acc: 1.0000 - nephriti_mse: 0.0132 - val_loss: 0.1508 - val_inflam_loss: 0.1296 - val_nephriti_loss: 0.1060 - val_inflam_acc: 1.0000 - val_inflam_mse: 0.0250 - val_nephriti_acc: 1.0000 - val_nephriti_mse: 0.0137\n",
            "Epoch 397/1000\n",
            "1/1 - 0s - loss: 0.1375 - inflam_loss: 0.1176 - nephriti_loss: 0.0996 - inflam_acc: 1.0000 - inflam_mse: 0.0209 - nephriti_acc: 1.0000 - nephriti_mse: 0.0133 - val_loss: 0.1496 - val_inflam_loss: 0.1284 - val_nephriti_loss: 0.1059 - val_inflam_acc: 1.0000 - val_inflam_mse: 0.0244 - val_nephriti_acc: 1.0000 - val_nephriti_mse: 0.0136\n",
            "Epoch 398/1000\n",
            "1/1 - 0s - loss: 0.1374 - inflam_loss: 0.1175 - nephriti_loss: 0.0995 - inflam_acc: 1.0000 - inflam_mse: 0.0208 - nephriti_acc: 1.0000 - nephriti_mse: 0.0132 - val_loss: 0.1507 - val_inflam_loss: 0.1295 - val_nephriti_loss: 0.1059 - val_inflam_acc: 1.0000 - val_inflam_mse: 0.0250 - val_nephriti_acc: 1.0000 - val_nephriti_mse: 0.0137\n",
            "Epoch 399/1000\n",
            "1/1 - 0s - loss: 0.1373 - inflam_loss: 0.1174 - nephriti_loss: 0.0995 - inflam_acc: 1.0000 - inflam_mse: 0.0209 - nephriti_acc: 1.0000 - nephriti_mse: 0.0133 - val_loss: 0.1494 - val_inflam_loss: 0.1283 - val_nephriti_loss: 0.1058 - val_inflam_acc: 1.0000 - val_inflam_mse: 0.0243 - val_nephriti_acc: 1.0000 - val_nephriti_mse: 0.0136\n",
            "Epoch 400/1000\n",
            "1/1 - 0s - loss: 0.1373 - inflam_loss: 0.1174 - nephriti_loss: 0.0994 - inflam_acc: 1.0000 - inflam_mse: 0.0208 - nephriti_acc: 1.0000 - nephriti_mse: 0.0132 - val_loss: 0.1505 - val_inflam_loss: 0.1294 - val_nephriti_loss: 0.1058 - val_inflam_acc: 1.0000 - val_inflam_mse: 0.0250 - val_nephriti_acc: 1.0000 - val_nephriti_mse: 0.0137\n",
            "Epoch 401/1000\n",
            "1/1 - 0s - loss: 0.1372 - inflam_loss: 0.1173 - nephriti_loss: 0.0994 - inflam_acc: 1.0000 - inflam_mse: 0.0208 - nephriti_acc: 1.0000 - nephriti_mse: 0.0132 - val_loss: 0.1493 - val_inflam_loss: 0.1281 - val_nephriti_loss: 0.1057 - val_inflam_acc: 1.0000 - val_inflam_mse: 0.0243 - val_nephriti_acc: 1.0000 - val_nephriti_mse: 0.0136\n",
            "Epoch 402/1000\n",
            "1/1 - 0s - loss: 0.1371 - inflam_loss: 0.1172 - nephriti_loss: 0.0994 - inflam_acc: 1.0000 - inflam_mse: 0.0207 - nephriti_acc: 1.0000 - nephriti_mse: 0.0132 - val_loss: 0.1503 - val_inflam_loss: 0.1292 - val_nephriti_loss: 0.1057 - val_inflam_acc: 1.0000 - val_inflam_mse: 0.0249 - val_nephriti_acc: 1.0000 - val_nephriti_mse: 0.0136\n",
            "Epoch 403/1000\n",
            "1/1 - 0s - loss: 0.1370 - inflam_loss: 0.1172 - nephriti_loss: 0.0993 - inflam_acc: 1.0000 - inflam_mse: 0.0208 - nephriti_acc: 1.0000 - nephriti_mse: 0.0132 - val_loss: 0.1491 - val_inflam_loss: 0.1280 - val_nephriti_loss: 0.1056 - val_inflam_acc: 1.0000 - val_inflam_mse: 0.0243 - val_nephriti_acc: 1.0000 - val_nephriti_mse: 0.0136\n",
            "Epoch 404/1000\n",
            "1/1 - 0s - loss: 0.1370 - inflam_loss: 0.1171 - nephriti_loss: 0.0993 - inflam_acc: 1.0000 - inflam_mse: 0.0207 - nephriti_acc: 1.0000 - nephriti_mse: 0.0131 - val_loss: 0.1502 - val_inflam_loss: 0.1291 - val_nephriti_loss: 0.1056 - val_inflam_acc: 1.0000 - val_inflam_mse: 0.0249 - val_nephriti_acc: 1.0000 - val_nephriti_mse: 0.0136\n",
            "Epoch 405/1000\n",
            "1/1 - 0s - loss: 0.1369 - inflam_loss: 0.1171 - nephriti_loss: 0.0992 - inflam_acc: 1.0000 - inflam_mse: 0.0208 - nephriti_acc: 1.0000 - nephriti_mse: 0.0132 - val_loss: 0.1490 - val_inflam_loss: 0.1279 - val_nephriti_loss: 0.1055 - val_inflam_acc: 1.0000 - val_inflam_mse: 0.0242 - val_nephriti_acc: 1.0000 - val_nephriti_mse: 0.0135\n",
            "Epoch 406/1000\n",
            "1/1 - 0s - loss: 0.1368 - inflam_loss: 0.1170 - nephriti_loss: 0.0992 - inflam_acc: 1.0000 - inflam_mse: 0.0207 - nephriti_acc: 1.0000 - nephriti_mse: 0.0131 - val_loss: 0.1500 - val_inflam_loss: 0.1289 - val_nephriti_loss: 0.1055 - val_inflam_acc: 1.0000 - val_inflam_mse: 0.0248 - val_nephriti_acc: 1.0000 - val_nephriti_mse: 0.0136\n",
            "Epoch 407/1000\n",
            "1/1 - 0s - loss: 0.1368 - inflam_loss: 0.1169 - nephriti_loss: 0.0991 - inflam_acc: 1.0000 - inflam_mse: 0.0207 - nephriti_acc: 1.0000 - nephriti_mse: 0.0132 - val_loss: 0.1488 - val_inflam_loss: 0.1277 - val_nephriti_loss: 0.1054 - val_inflam_acc: 1.0000 - val_inflam_mse: 0.0242 - val_nephriti_acc: 1.0000 - val_nephriti_mse: 0.0135\n",
            "Epoch 408/1000\n",
            "1/1 - 0s - loss: 0.1367 - inflam_loss: 0.1169 - nephriti_loss: 0.0991 - inflam_acc: 1.0000 - inflam_mse: 0.0206 - nephriti_acc: 1.0000 - nephriti_mse: 0.0131 - val_loss: 0.1499 - val_inflam_loss: 0.1288 - val_nephriti_loss: 0.1054 - val_inflam_acc: 1.0000 - val_inflam_mse: 0.0248 - val_nephriti_acc: 1.0000 - val_nephriti_mse: 0.0136\n",
            "Epoch 409/1000\n",
            "1/1 - 0s - loss: 0.1366 - inflam_loss: 0.1168 - nephriti_loss: 0.0990 - inflam_acc: 1.0000 - inflam_mse: 0.0207 - nephriti_acc: 1.0000 - nephriti_mse: 0.0132 - val_loss: 0.1486 - val_inflam_loss: 0.1276 - val_nephriti_loss: 0.1053 - val_inflam_acc: 1.0000 - val_inflam_mse: 0.0241 - val_nephriti_acc: 1.0000 - val_nephriti_mse: 0.0135\n",
            "Epoch 410/1000\n",
            "1/1 - 0s - loss: 0.1366 - inflam_loss: 0.1168 - nephriti_loss: 0.0990 - inflam_acc: 1.0000 - inflam_mse: 0.0206 - nephriti_acc: 1.0000 - nephriti_mse: 0.0131 - val_loss: 0.1497 - val_inflam_loss: 0.1287 - val_nephriti_loss: 0.1053 - val_inflam_acc: 1.0000 - val_inflam_mse: 0.0248 - val_nephriti_acc: 1.0000 - val_nephriti_mse: 0.0135\n",
            "Epoch 411/1000\n",
            "1/1 - 0s - loss: 0.1365 - inflam_loss: 0.1167 - nephriti_loss: 0.0989 - inflam_acc: 1.0000 - inflam_mse: 0.0207 - nephriti_acc: 1.0000 - nephriti_mse: 0.0131 - val_loss: 0.1485 - val_inflam_loss: 0.1275 - val_nephriti_loss: 0.1052 - val_inflam_acc: 1.0000 - val_inflam_mse: 0.0241 - val_nephriti_acc: 1.0000 - val_nephriti_mse: 0.0135\n",
            "Epoch 412/1000\n",
            "1/1 - 0s - loss: 0.1364 - inflam_loss: 0.1166 - nephriti_loss: 0.0989 - inflam_acc: 1.0000 - inflam_mse: 0.0206 - nephriti_acc: 1.0000 - nephriti_mse: 0.0131 - val_loss: 0.1496 - val_inflam_loss: 0.1285 - val_nephriti_loss: 0.1052 - val_inflam_acc: 1.0000 - val_inflam_mse: 0.0247 - val_nephriti_acc: 1.0000 - val_nephriti_mse: 0.0135\n",
            "Epoch 413/1000\n",
            "1/1 - 0s - loss: 0.1363 - inflam_loss: 0.1166 - nephriti_loss: 0.0988 - inflam_acc: 1.0000 - inflam_mse: 0.0206 - nephriti_acc: 1.0000 - nephriti_mse: 0.0131 - val_loss: 0.1483 - val_inflam_loss: 0.1273 - val_nephriti_loss: 0.1051 - val_inflam_acc: 1.0000 - val_inflam_mse: 0.0241 - val_nephriti_acc: 1.0000 - val_nephriti_mse: 0.0134\n",
            "Epoch 414/1000\n",
            "1/1 - 0s - loss: 0.1363 - inflam_loss: 0.1165 - nephriti_loss: 0.0988 - inflam_acc: 1.0000 - inflam_mse: 0.0205 - nephriti_acc: 1.0000 - nephriti_mse: 0.0130 - val_loss: 0.1494 - val_inflam_loss: 0.1284 - val_nephriti_loss: 0.1051 - val_inflam_acc: 1.0000 - val_inflam_mse: 0.0247 - val_nephriti_acc: 1.0000 - val_nephriti_mse: 0.0135\n",
            "Epoch 415/1000\n",
            "1/1 - 0s - loss: 0.1362 - inflam_loss: 0.1165 - nephriti_loss: 0.0987 - inflam_acc: 1.0000 - inflam_mse: 0.0206 - nephriti_acc: 1.0000 - nephriti_mse: 0.0131 - val_loss: 0.1482 - val_inflam_loss: 0.1272 - val_nephriti_loss: 0.1050 - val_inflam_acc: 1.0000 - val_inflam_mse: 0.0240 - val_nephriti_acc: 1.0000 - val_nephriti_mse: 0.0134\n",
            "Epoch 416/1000\n",
            "1/1 - 0s - loss: 0.1361 - inflam_loss: 0.1164 - nephriti_loss: 0.0987 - inflam_acc: 1.0000 - inflam_mse: 0.0205 - nephriti_acc: 1.0000 - nephriti_mse: 0.0130 - val_loss: 0.1493 - val_inflam_loss: 0.1283 - val_nephriti_loss: 0.1050 - val_inflam_acc: 1.0000 - val_inflam_mse: 0.0246 - val_nephriti_acc: 1.0000 - val_nephriti_mse: 0.0135\n",
            "Epoch 417/1000\n",
            "1/1 - 0s - loss: 0.1361 - inflam_loss: 0.1163 - nephriti_loss: 0.0986 - inflam_acc: 1.0000 - inflam_mse: 0.0206 - nephriti_acc: 1.0000 - nephriti_mse: 0.0131 - val_loss: 0.1480 - val_inflam_loss: 0.1271 - val_nephriti_loss: 0.1049 - val_inflam_acc: 1.0000 - val_inflam_mse: 0.0240 - val_nephriti_acc: 1.0000 - val_nephriti_mse: 0.0134\n",
            "Epoch 418/1000\n",
            "1/1 - 0s - loss: 0.1360 - inflam_loss: 0.1163 - nephriti_loss: 0.0986 - inflam_acc: 1.0000 - inflam_mse: 0.0205 - nephriti_acc: 1.0000 - nephriti_mse: 0.0130 - val_loss: 0.1491 - val_inflam_loss: 0.1281 - val_nephriti_loss: 0.1049 - val_inflam_acc: 1.0000 - val_inflam_mse: 0.0246 - val_nephriti_acc: 1.0000 - val_nephriti_mse: 0.0135\n",
            "Epoch 419/1000\n",
            "1/1 - 0s - loss: 0.1359 - inflam_loss: 0.1162 - nephriti_loss: 0.0986 - inflam_acc: 1.0000 - inflam_mse: 0.0205 - nephriti_acc: 1.0000 - nephriti_mse: 0.0131 - val_loss: 0.1479 - val_inflam_loss: 0.1269 - val_nephriti_loss: 0.1048 - val_inflam_acc: 1.0000 - val_inflam_mse: 0.0240 - val_nephriti_acc: 1.0000 - val_nephriti_mse: 0.0134\n",
            "Epoch 420/1000\n",
            "1/1 - 0s - loss: 0.1359 - inflam_loss: 0.1162 - nephriti_loss: 0.0985 - inflam_acc: 1.0000 - inflam_mse: 0.0204 - nephriti_acc: 1.0000 - nephriti_mse: 0.0130 - val_loss: 0.1490 - val_inflam_loss: 0.1280 - val_nephriti_loss: 0.1048 - val_inflam_acc: 1.0000 - val_inflam_mse: 0.0246 - val_nephriti_acc: 1.0000 - val_nephriti_mse: 0.0134\n",
            "Epoch 421/1000\n",
            "1/1 - 0s - loss: 0.1358 - inflam_loss: 0.1161 - nephriti_loss: 0.0985 - inflam_acc: 1.0000 - inflam_mse: 0.0205 - nephriti_acc: 1.0000 - nephriti_mse: 0.0130 - val_loss: 0.1477 - val_inflam_loss: 0.1268 - val_nephriti_loss: 0.1047 - val_inflam_acc: 1.0000 - val_inflam_mse: 0.0239 - val_nephriti_acc: 1.0000 - val_nephriti_mse: 0.0134\n",
            "Epoch 422/1000\n",
            "1/1 - 0s - loss: 0.1357 - inflam_loss: 0.1160 - nephriti_loss: 0.0984 - inflam_acc: 1.0000 - inflam_mse: 0.0204 - nephriti_acc: 1.0000 - nephriti_mse: 0.0130 - val_loss: 0.1488 - val_inflam_loss: 0.1279 - val_nephriti_loss: 0.1047 - val_inflam_acc: 1.0000 - val_inflam_mse: 0.0245 - val_nephriti_acc: 1.0000 - val_nephriti_mse: 0.0134\n",
            "Epoch 423/1000\n",
            "1/1 - 0s - loss: 0.1357 - inflam_loss: 0.1160 - nephriti_loss: 0.0984 - inflam_acc: 1.0000 - inflam_mse: 0.0205 - nephriti_acc: 1.0000 - nephriti_mse: 0.0130 - val_loss: 0.1476 - val_inflam_loss: 0.1267 - val_nephriti_loss: 0.1046 - val_inflam_acc: 1.0000 - val_inflam_mse: 0.0239 - val_nephriti_acc: 1.0000 - val_nephriti_mse: 0.0133\n",
            "Epoch 424/1000\n",
            "1/1 - 0s - loss: 0.1356 - inflam_loss: 0.1159 - nephriti_loss: 0.0983 - inflam_acc: 1.0000 - inflam_mse: 0.0204 - nephriti_acc: 1.0000 - nephriti_mse: 0.0129 - val_loss: 0.1487 - val_inflam_loss: 0.1277 - val_nephriti_loss: 0.1046 - val_inflam_acc: 1.0000 - val_inflam_mse: 0.0245 - val_nephriti_acc: 1.0000 - val_nephriti_mse: 0.0134\n",
            "Epoch 425/1000\n",
            "1/1 - 0s - loss: 0.1355 - inflam_loss: 0.1159 - nephriti_loss: 0.0983 - inflam_acc: 1.0000 - inflam_mse: 0.0204 - nephriti_acc: 1.0000 - nephriti_mse: 0.0130 - val_loss: 0.1474 - val_inflam_loss: 0.1265 - val_nephriti_loss: 0.1045 - val_inflam_acc: 1.0000 - val_inflam_mse: 0.0238 - val_nephriti_acc: 1.0000 - val_nephriti_mse: 0.0133\n",
            "Epoch 426/1000\n",
            "1/1 - 0s - loss: 0.1354 - inflam_loss: 0.1158 - nephriti_loss: 0.0982 - inflam_acc: 1.0000 - inflam_mse: 0.0203 - nephriti_acc: 1.0000 - nephriti_mse: 0.0129 - val_loss: 0.1485 - val_inflam_loss: 0.1276 - val_nephriti_loss: 0.1045 - val_inflam_acc: 1.0000 - val_inflam_mse: 0.0244 - val_nephriti_acc: 1.0000 - val_nephriti_mse: 0.0134\n",
            "Epoch 427/1000\n",
            "1/1 - 0s - loss: 0.1354 - inflam_loss: 0.1157 - nephriti_loss: 0.0982 - inflam_acc: 1.0000 - inflam_mse: 0.0204 - nephriti_acc: 1.0000 - nephriti_mse: 0.0130 - val_loss: 0.1473 - val_inflam_loss: 0.1264 - val_nephriti_loss: 0.1044 - val_inflam_acc: 1.0000 - val_inflam_mse: 0.0238 - val_nephriti_acc: 1.0000 - val_nephriti_mse: 0.0133\n",
            "Epoch 428/1000\n",
            "1/1 - 0s - loss: 0.1353 - inflam_loss: 0.1157 - nephriti_loss: 0.0981 - inflam_acc: 1.0000 - inflam_mse: 0.0203 - nephriti_acc: 1.0000 - nephriti_mse: 0.0129 - val_loss: 0.1484 - val_inflam_loss: 0.1275 - val_nephriti_loss: 0.1044 - val_inflam_acc: 1.0000 - val_inflam_mse: 0.0244 - val_nephriti_acc: 1.0000 - val_nephriti_mse: 0.0133\n",
            "Epoch 429/1000\n",
            "1/1 - 0s - loss: 0.1352 - inflam_loss: 0.1156 - nephriti_loss: 0.0981 - inflam_acc: 1.0000 - inflam_mse: 0.0204 - nephriti_acc: 1.0000 - nephriti_mse: 0.0129 - val_loss: 0.1471 - val_inflam_loss: 0.1263 - val_nephriti_loss: 0.1043 - val_inflam_acc: 1.0000 - val_inflam_mse: 0.0238 - val_nephriti_acc: 1.0000 - val_nephriti_mse: 0.0133\n",
            "Epoch 430/1000\n",
            "1/1 - 0s - loss: 0.1352 - inflam_loss: 0.1156 - nephriti_loss: 0.0980 - inflam_acc: 1.0000 - inflam_mse: 0.0203 - nephriti_acc: 1.0000 - nephriti_mse: 0.0129 - val_loss: 0.1482 - val_inflam_loss: 0.1273 - val_nephriti_loss: 0.1043 - val_inflam_acc: 1.0000 - val_inflam_mse: 0.0244 - val_nephriti_acc: 1.0000 - val_nephriti_mse: 0.0133\n",
            "Epoch 431/1000\n",
            "1/1 - 0s - loss: 0.1351 - inflam_loss: 0.1155 - nephriti_loss: 0.0980 - inflam_acc: 1.0000 - inflam_mse: 0.0204 - nephriti_acc: 1.0000 - nephriti_mse: 0.0129 - val_loss: 0.1470 - val_inflam_loss: 0.1261 - val_nephriti_loss: 0.1042 - val_inflam_acc: 1.0000 - val_inflam_mse: 0.0237 - val_nephriti_acc: 1.0000 - val_nephriti_mse: 0.0132\n",
            "Epoch 432/1000\n",
            "1/1 - 0s - loss: 0.1350 - inflam_loss: 0.1154 - nephriti_loss: 0.0979 - inflam_acc: 1.0000 - inflam_mse: 0.0202 - nephriti_acc: 1.0000 - nephriti_mse: 0.0128 - val_loss: 0.1480 - val_inflam_loss: 0.1272 - val_nephriti_loss: 0.1042 - val_inflam_acc: 1.0000 - val_inflam_mse: 0.0243 - val_nephriti_acc: 1.0000 - val_nephriti_mse: 0.0133\n",
            "Epoch 433/1000\n",
            "1/1 - 0s - loss: 0.1350 - inflam_loss: 0.1154 - nephriti_loss: 0.0979 - inflam_acc: 1.0000 - inflam_mse: 0.0203 - nephriti_acc: 1.0000 - nephriti_mse: 0.0129 - val_loss: 0.1468 - val_inflam_loss: 0.1260 - val_nephriti_loss: 0.1041 - val_inflam_acc: 1.0000 - val_inflam_mse: 0.0237 - val_nephriti_acc: 1.0000 - val_nephriti_mse: 0.0132\n",
            "Epoch 434/1000\n",
            "1/1 - 0s - loss: 0.1349 - inflam_loss: 0.1153 - nephriti_loss: 0.0979 - inflam_acc: 1.0000 - inflam_mse: 0.0202 - nephriti_acc: 1.0000 - nephriti_mse: 0.0128 - val_loss: 0.1479 - val_inflam_loss: 0.1271 - val_nephriti_loss: 0.1041 - val_inflam_acc: 1.0000 - val_inflam_mse: 0.0243 - val_nephriti_acc: 1.0000 - val_nephriti_mse: 0.0133\n",
            "Epoch 435/1000\n",
            "1/1 - 0s - loss: 0.1348 - inflam_loss: 0.1153 - nephriti_loss: 0.0978 - inflam_acc: 1.0000 - inflam_mse: 0.0203 - nephriti_acc: 1.0000 - nephriti_mse: 0.0129 - val_loss: 0.1467 - val_inflam_loss: 0.1259 - val_nephriti_loss: 0.1040 - val_inflam_acc: 1.0000 - val_inflam_mse: 0.0237 - val_nephriti_acc: 1.0000 - val_nephriti_mse: 0.0132\n",
            "Epoch 436/1000\n",
            "1/1 - 0s - loss: 0.1348 - inflam_loss: 0.1152 - nephriti_loss: 0.0978 - inflam_acc: 1.0000 - inflam_mse: 0.0202 - nephriti_acc: 1.0000 - nephriti_mse: 0.0128 - val_loss: 0.1477 - val_inflam_loss: 0.1270 - val_nephriti_loss: 0.1040 - val_inflam_acc: 1.0000 - val_inflam_mse: 0.0243 - val_nephriti_acc: 1.0000 - val_nephriti_mse: 0.0133\n",
            "Epoch 437/1000\n",
            "1/1 - 0s - loss: 0.1347 - inflam_loss: 0.1151 - nephriti_loss: 0.0977 - inflam_acc: 1.0000 - inflam_mse: 0.0203 - nephriti_acc: 1.0000 - nephriti_mse: 0.0129 - val_loss: 0.1465 - val_inflam_loss: 0.1257 - val_nephriti_loss: 0.1039 - val_inflam_acc: 1.0000 - val_inflam_mse: 0.0236 - val_nephriti_acc: 1.0000 - val_nephriti_mse: 0.0132\n",
            "Epoch 438/1000\n",
            "1/1 - 0s - loss: 0.1346 - inflam_loss: 0.1151 - nephriti_loss: 0.0977 - inflam_acc: 1.0000 - inflam_mse: 0.0202 - nephriti_acc: 1.0000 - nephriti_mse: 0.0128 - val_loss: 0.1476 - val_inflam_loss: 0.1268 - val_nephriti_loss: 0.1039 - val_inflam_acc: 1.0000 - val_inflam_mse: 0.0242 - val_nephriti_acc: 1.0000 - val_nephriti_mse: 0.0132\n",
            "Epoch 439/1000\n",
            "1/1 - 0s - loss: 0.1345 - inflam_loss: 0.1150 - nephriti_loss: 0.0976 - inflam_acc: 1.0000 - inflam_mse: 0.0202 - nephriti_acc: 1.0000 - nephriti_mse: 0.0128 - val_loss: 0.1464 - val_inflam_loss: 0.1256 - val_nephriti_loss: 0.1038 - val_inflam_acc: 1.0000 - val_inflam_mse: 0.0236 - val_nephriti_acc: 1.0000 - val_nephriti_mse: 0.0132\n",
            "Epoch 440/1000\n",
            "1/1 - 0s - loss: 0.1345 - inflam_loss: 0.1150 - nephriti_loss: 0.0976 - inflam_acc: 1.0000 - inflam_mse: 0.0201 - nephriti_acc: 1.0000 - nephriti_mse: 0.0128 - val_loss: 0.1474 - val_inflam_loss: 0.1267 - val_nephriti_loss: 0.1038 - val_inflam_acc: 1.0000 - val_inflam_mse: 0.0242 - val_nephriti_acc: 1.0000 - val_nephriti_mse: 0.0132\n",
            "Epoch 441/1000\n",
            "1/1 - 0s - loss: 0.1344 - inflam_loss: 0.1149 - nephriti_loss: 0.0975 - inflam_acc: 1.0000 - inflam_mse: 0.0202 - nephriti_acc: 1.0000 - nephriti_mse: 0.0128 - val_loss: 0.1462 - val_inflam_loss: 0.1255 - val_nephriti_loss: 0.1037 - val_inflam_acc: 1.0000 - val_inflam_mse: 0.0235 - val_nephriti_acc: 1.0000 - val_nephriti_mse: 0.0131\n",
            "Epoch 442/1000\n",
            "1/1 - 0s - loss: 0.1343 - inflam_loss: 0.1148 - nephriti_loss: 0.0975 - inflam_acc: 1.0000 - inflam_mse: 0.0201 - nephriti_acc: 1.0000 - nephriti_mse: 0.0127 - val_loss: 0.1473 - val_inflam_loss: 0.1266 - val_nephriti_loss: 0.1037 - val_inflam_acc: 1.0000 - val_inflam_mse: 0.0241 - val_nephriti_acc: 1.0000 - val_nephriti_mse: 0.0132\n",
            "Epoch 443/1000\n",
            "1/1 - 0s - loss: 0.1343 - inflam_loss: 0.1148 - nephriti_loss: 0.0974 - inflam_acc: 1.0000 - inflam_mse: 0.0202 - nephriti_acc: 1.0000 - nephriti_mse: 0.0128 - val_loss: 0.1461 - val_inflam_loss: 0.1254 - val_nephriti_loss: 0.1036 - val_inflam_acc: 1.0000 - val_inflam_mse: 0.0235 - val_nephriti_acc: 1.0000 - val_nephriti_mse: 0.0131\n",
            "Epoch 444/1000\n",
            "1/1 - 0s - loss: 0.1342 - inflam_loss: 0.1147 - nephriti_loss: 0.0974 - inflam_acc: 1.0000 - inflam_mse: 0.0201 - nephriti_acc: 1.0000 - nephriti_mse: 0.0127 - val_loss: 0.1471 - val_inflam_loss: 0.1264 - val_nephriti_loss: 0.1036 - val_inflam_acc: 1.0000 - val_inflam_mse: 0.0241 - val_nephriti_acc: 1.0000 - val_nephriti_mse: 0.0132\n",
            "Epoch 445/1000\n",
            "1/1 - 0s - loss: 0.1341 - inflam_loss: 0.1147 - nephriti_loss: 0.0973 - inflam_acc: 1.0000 - inflam_mse: 0.0201 - nephriti_acc: 1.0000 - nephriti_mse: 0.0128 - val_loss: 0.1459 - val_inflam_loss: 0.1252 - val_nephriti_loss: 0.1035 - val_inflam_acc: 1.0000 - val_inflam_mse: 0.0235 - val_nephriti_acc: 1.0000 - val_nephriti_mse: 0.0131\n",
            "Epoch 446/1000\n",
            "1/1 - 0s - loss: 0.1341 - inflam_loss: 0.1146 - nephriti_loss: 0.0973 - inflam_acc: 1.0000 - inflam_mse: 0.0200 - nephriti_acc: 1.0000 - nephriti_mse: 0.0127 - val_loss: 0.1470 - val_inflam_loss: 0.1263 - val_nephriti_loss: 0.1035 - val_inflam_acc: 1.0000 - val_inflam_mse: 0.0241 - val_nephriti_acc: 1.0000 - val_nephriti_mse: 0.0131\n",
            "Epoch 447/1000\n",
            "1/1 - 0s - loss: 0.1340 - inflam_loss: 0.1145 - nephriti_loss: 0.0973 - inflam_acc: 1.0000 - inflam_mse: 0.0201 - nephriti_acc: 1.0000 - nephriti_mse: 0.0128 - val_loss: 0.1458 - val_inflam_loss: 0.1251 - val_nephriti_loss: 0.1034 - val_inflam_acc: 1.0000 - val_inflam_mse: 0.0234 - val_nephriti_acc: 1.0000 - val_nephriti_mse: 0.0131\n",
            "Epoch 448/1000\n",
            "1/1 - 0s - loss: 0.1339 - inflam_loss: 0.1145 - nephriti_loss: 0.0972 - inflam_acc: 1.0000 - inflam_mse: 0.0200 - nephriti_acc: 1.0000 - nephriti_mse: 0.0127 - val_loss: 0.1468 - val_inflam_loss: 0.1262 - val_nephriti_loss: 0.1034 - val_inflam_acc: 1.0000 - val_inflam_mse: 0.0240 - val_nephriti_acc: 1.0000 - val_nephriti_mse: 0.0131\n",
            "Epoch 449/1000\n",
            "1/1 - 0s - loss: 0.1339 - inflam_loss: 0.1144 - nephriti_loss: 0.0972 - inflam_acc: 1.0000 - inflam_mse: 0.0201 - nephriti_acc: 1.0000 - nephriti_mse: 0.0127 - val_loss: 0.1456 - val_inflam_loss: 0.1250 - val_nephriti_loss: 0.1033 - val_inflam_acc: 1.0000 - val_inflam_mse: 0.0234 - val_nephriti_acc: 1.0000 - val_nephriti_mse: 0.0131\n",
            "Epoch 450/1000\n",
            "1/1 - 0s - loss: 0.1338 - inflam_loss: 0.1144 - nephriti_loss: 0.0971 - inflam_acc: 1.0000 - inflam_mse: 0.0200 - nephriti_acc: 1.0000 - nephriti_mse: 0.0127 - val_loss: 0.1467 - val_inflam_loss: 0.1260 - val_nephriti_loss: 0.1033 - val_inflam_acc: 1.0000 - val_inflam_mse: 0.0240 - val_nephriti_acc: 1.0000 - val_nephriti_mse: 0.0131\n",
            "Epoch 451/1000\n",
            "1/1 - 0s - loss: 0.1337 - inflam_loss: 0.1143 - nephriti_loss: 0.0971 - inflam_acc: 1.0000 - inflam_mse: 0.0200 - nephriti_acc: 1.0000 - nephriti_mse: 0.0127 - val_loss: 0.1455 - val_inflam_loss: 0.1248 - val_nephriti_loss: 0.1032 - val_inflam_acc: 1.0000 - val_inflam_mse: 0.0234 - val_nephriti_acc: 1.0000 - val_nephriti_mse: 0.0130\n",
            "Epoch 452/1000\n",
            "1/1 - 0s - loss: 0.1337 - inflam_loss: 0.1142 - nephriti_loss: 0.0970 - inflam_acc: 1.0000 - inflam_mse: 0.0199 - nephriti_acc: 1.0000 - nephriti_mse: 0.0126 - val_loss: 0.1465 - val_inflam_loss: 0.1259 - val_nephriti_loss: 0.1032 - val_inflam_acc: 1.0000 - val_inflam_mse: 0.0239 - val_nephriti_acc: 1.0000 - val_nephriti_mse: 0.0131\n",
            "Epoch 453/1000\n",
            "1/1 - 0s - loss: 0.1336 - inflam_loss: 0.1142 - nephriti_loss: 0.0970 - inflam_acc: 1.0000 - inflam_mse: 0.0200 - nephriti_acc: 1.0000 - nephriti_mse: 0.0127 - val_loss: 0.1453 - val_inflam_loss: 0.1247 - val_nephriti_loss: 0.1031 - val_inflam_acc: 1.0000 - val_inflam_mse: 0.0233 - val_nephriti_acc: 1.0000 - val_nephriti_mse: 0.0130\n",
            "Epoch 454/1000\n",
            "1/1 - 0s - loss: 0.1335 - inflam_loss: 0.1141 - nephriti_loss: 0.0969 - inflam_acc: 1.0000 - inflam_mse: 0.0199 - nephriti_acc: 1.0000 - nephriti_mse: 0.0126 - val_loss: 0.1464 - val_inflam_loss: 0.1258 - val_nephriti_loss: 0.1031 - val_inflam_acc: 1.0000 - val_inflam_mse: 0.0239 - val_nephriti_acc: 1.0000 - val_nephriti_mse: 0.0131\n",
            "Epoch 455/1000\n",
            "1/1 - 0s - loss: 0.1334 - inflam_loss: 0.1141 - nephriti_loss: 0.0969 - inflam_acc: 1.0000 - inflam_mse: 0.0200 - nephriti_acc: 1.0000 - nephriti_mse: 0.0127 - val_loss: 0.1452 - val_inflam_loss: 0.1246 - val_nephriti_loss: 0.1030 - val_inflam_acc: 1.0000 - val_inflam_mse: 0.0233 - val_nephriti_acc: 1.0000 - val_nephriti_mse: 0.0130\n",
            "Epoch 456/1000\n",
            "1/1 - 0s - loss: 0.1334 - inflam_loss: 0.1140 - nephriti_loss: 0.0968 - inflam_acc: 1.0000 - inflam_mse: 0.0199 - nephriti_acc: 1.0000 - nephriti_mse: 0.0126 - val_loss: 0.1462 - val_inflam_loss: 0.1256 - val_nephriti_loss: 0.1030 - val_inflam_acc: 1.0000 - val_inflam_mse: 0.0239 - val_nephriti_acc: 1.0000 - val_nephriti_mse: 0.0130\n",
            "Epoch 457/1000\n",
            "1/1 - 0s - loss: 0.1333 - inflam_loss: 0.1140 - nephriti_loss: 0.0968 - inflam_acc: 1.0000 - inflam_mse: 0.0199 - nephriti_acc: 1.0000 - nephriti_mse: 0.0127 - val_loss: 0.1450 - val_inflam_loss: 0.1244 - val_nephriti_loss: 0.1029 - val_inflam_acc: 1.0000 - val_inflam_mse: 0.0232 - val_nephriti_acc: 1.0000 - val_nephriti_mse: 0.0130\n",
            "Epoch 458/1000\n",
            "1/1 - 0s - loss: 0.1332 - inflam_loss: 0.1139 - nephriti_loss: 0.0968 - inflam_acc: 1.0000 - inflam_mse: 0.0198 - nephriti_acc: 1.0000 - nephriti_mse: 0.0126 - val_loss: 0.1461 - val_inflam_loss: 0.1255 - val_nephriti_loss: 0.1029 - val_inflam_acc: 1.0000 - val_inflam_mse: 0.0238 - val_nephriti_acc: 1.0000 - val_nephriti_mse: 0.0130\n",
            "Epoch 459/1000\n",
            "1/1 - 0s - loss: 0.1332 - inflam_loss: 0.1138 - nephriti_loss: 0.0967 - inflam_acc: 1.0000 - inflam_mse: 0.0199 - nephriti_acc: 1.0000 - nephriti_mse: 0.0126 - val_loss: 0.1449 - val_inflam_loss: 0.1243 - val_nephriti_loss: 0.1028 - val_inflam_acc: 1.0000 - val_inflam_mse: 0.0232 - val_nephriti_acc: 1.0000 - val_nephriti_mse: 0.0129\n",
            "Epoch 460/1000\n",
            "1/1 - 0s - loss: 0.1331 - inflam_loss: 0.1138 - nephriti_loss: 0.0967 - inflam_acc: 1.0000 - inflam_mse: 0.0198 - nephriti_acc: 1.0000 - nephriti_mse: 0.0126 - val_loss: 0.1459 - val_inflam_loss: 0.1254 - val_nephriti_loss: 0.1028 - val_inflam_acc: 1.0000 - val_inflam_mse: 0.0238 - val_nephriti_acc: 1.0000 - val_nephriti_mse: 0.0130\n",
            "Epoch 461/1000\n",
            "1/1 - 0s - loss: 0.1330 - inflam_loss: 0.1137 - nephriti_loss: 0.0966 - inflam_acc: 1.0000 - inflam_mse: 0.0199 - nephriti_acc: 1.0000 - nephriti_mse: 0.0126 - val_loss: 0.1447 - val_inflam_loss: 0.1242 - val_nephriti_loss: 0.1027 - val_inflam_acc: 1.0000 - val_inflam_mse: 0.0232 - val_nephriti_acc: 1.0000 - val_nephriti_mse: 0.0129\n",
            "Epoch 462/1000\n",
            "1/1 - 0s - loss: 0.1330 - inflam_loss: 0.1137 - nephriti_loss: 0.0966 - inflam_acc: 1.0000 - inflam_mse: 0.0198 - nephriti_acc: 1.0000 - nephriti_mse: 0.0125 - val_loss: 0.1458 - val_inflam_loss: 0.1252 - val_nephriti_loss: 0.1027 - val_inflam_acc: 1.0000 - val_inflam_mse: 0.0238 - val_nephriti_acc: 1.0000 - val_nephriti_mse: 0.0130\n",
            "Epoch 463/1000\n",
            "1/1 - 0s - loss: 0.1329 - inflam_loss: 0.1136 - nephriti_loss: 0.0965 - inflam_acc: 1.0000 - inflam_mse: 0.0198 - nephriti_acc: 1.0000 - nephriti_mse: 0.0126 - val_loss: 0.1446 - val_inflam_loss: 0.1241 - val_nephriti_loss: 0.1026 - val_inflam_acc: 1.0000 - val_inflam_mse: 0.0231 - val_nephriti_acc: 1.0000 - val_nephriti_mse: 0.0129\n",
            "Epoch 464/1000\n",
            "1/1 - 0s - loss: 0.1328 - inflam_loss: 0.1135 - nephriti_loss: 0.0965 - inflam_acc: 1.0000 - inflam_mse: 0.0197 - nephriti_acc: 1.0000 - nephriti_mse: 0.0125 - val_loss: 0.1456 - val_inflam_loss: 0.1251 - val_nephriti_loss: 0.1026 - val_inflam_acc: 1.0000 - val_inflam_mse: 0.0237 - val_nephriti_acc: 1.0000 - val_nephriti_mse: 0.0130\n",
            "Epoch 465/1000\n",
            "1/1 - 0s - loss: 0.1328 - inflam_loss: 0.1135 - nephriti_loss: 0.0964 - inflam_acc: 1.0000 - inflam_mse: 0.0198 - nephriti_acc: 1.0000 - nephriti_mse: 0.0126 - val_loss: 0.1444 - val_inflam_loss: 0.1239 - val_nephriti_loss: 0.1025 - val_inflam_acc: 1.0000 - val_inflam_mse: 0.0231 - val_nephriti_acc: 1.0000 - val_nephriti_mse: 0.0129\n",
            "Epoch 466/1000\n",
            "1/1 - 0s - loss: 0.1327 - inflam_loss: 0.1134 - nephriti_loss: 0.0964 - inflam_acc: 1.0000 - inflam_mse: 0.0197 - nephriti_acc: 1.0000 - nephriti_mse: 0.0125 - val_loss: 0.1455 - val_inflam_loss: 0.1250 - val_nephriti_loss: 0.1025 - val_inflam_acc: 1.0000 - val_inflam_mse: 0.0237 - val_nephriti_acc: 1.0000 - val_nephriti_mse: 0.0129\n",
            "Epoch 467/1000\n",
            "1/1 - 0s - loss: 0.1326 - inflam_loss: 0.1134 - nephriti_loss: 0.0963 - inflam_acc: 1.0000 - inflam_mse: 0.0198 - nephriti_acc: 1.0000 - nephriti_mse: 0.0126 - val_loss: 0.1443 - val_inflam_loss: 0.1238 - val_nephriti_loss: 0.1024 - val_inflam_acc: 1.0000 - val_inflam_mse: 0.0231 - val_nephriti_acc: 1.0000 - val_nephriti_mse: 0.0129\n",
            "Epoch 468/1000\n",
            "1/1 - 0s - loss: 0.1326 - inflam_loss: 0.1133 - nephriti_loss: 0.0963 - inflam_acc: 1.0000 - inflam_mse: 0.0197 - nephriti_acc: 1.0000 - nephriti_mse: 0.0125 - val_loss: 0.1453 - val_inflam_loss: 0.1249 - val_nephriti_loss: 0.1024 - val_inflam_acc: 1.0000 - val_inflam_mse: 0.0236 - val_nephriti_acc: 1.0000 - val_nephriti_mse: 0.0129\n",
            "Epoch 469/1000\n",
            "1/1 - 0s - loss: 0.1325 - inflam_loss: 0.1132 - nephriti_loss: 0.0963 - inflam_acc: 1.0000 - inflam_mse: 0.0198 - nephriti_acc: 1.0000 - nephriti_mse: 0.0125 - val_loss: 0.1441 - val_inflam_loss: 0.1237 - val_nephriti_loss: 0.1023 - val_inflam_acc: 1.0000 - val_inflam_mse: 0.0230 - val_nephriti_acc: 1.0000 - val_nephriti_mse: 0.0128\n",
            "Epoch 470/1000\n",
            "1/1 - 0s - loss: 0.1324 - inflam_loss: 0.1132 - nephriti_loss: 0.0962 - inflam_acc: 1.0000 - inflam_mse: 0.0197 - nephriti_acc: 1.0000 - nephriti_mse: 0.0125 - val_loss: 0.1452 - val_inflam_loss: 0.1247 - val_nephriti_loss: 0.1023 - val_inflam_acc: 1.0000 - val_inflam_mse: 0.0236 - val_nephriti_acc: 1.0000 - val_nephriti_mse: 0.0129\n",
            "Epoch 471/1000\n",
            "1/1 - 0s - loss: 0.1324 - inflam_loss: 0.1131 - nephriti_loss: 0.0962 - inflam_acc: 1.0000 - inflam_mse: 0.0197 - nephriti_acc: 1.0000 - nephriti_mse: 0.0125 - val_loss: 0.1440 - val_inflam_loss: 0.1235 - val_nephriti_loss: 0.1022 - val_inflam_acc: 1.0000 - val_inflam_mse: 0.0230 - val_nephriti_acc: 1.0000 - val_nephriti_mse: 0.0128\n",
            "Epoch 472/1000\n",
            "1/1 - 0s - loss: 0.1323 - inflam_loss: 0.1131 - nephriti_loss: 0.0961 - inflam_acc: 1.0000 - inflam_mse: 0.0196 - nephriti_acc: 1.0000 - nephriti_mse: 0.0124 - val_loss: 0.1450 - val_inflam_loss: 0.1246 - val_nephriti_loss: 0.1022 - val_inflam_acc: 1.0000 - val_inflam_mse: 0.0236 - val_nephriti_acc: 1.0000 - val_nephriti_mse: 0.0129\n",
            "Epoch 473/1000\n",
            "1/1 - 0s - loss: 0.1322 - inflam_loss: 0.1130 - nephriti_loss: 0.0961 - inflam_acc: 1.0000 - inflam_mse: 0.0197 - nephriti_acc: 1.0000 - nephriti_mse: 0.0125 - val_loss: 0.1438 - val_inflam_loss: 0.1234 - val_nephriti_loss: 0.1021 - val_inflam_acc: 1.0000 - val_inflam_mse: 0.0229 - val_nephriti_acc: 1.0000 - val_nephriti_mse: 0.0128\n",
            "Epoch 474/1000\n",
            "1/1 - 0s - loss: 0.1322 - inflam_loss: 0.1130 - nephriti_loss: 0.0960 - inflam_acc: 1.0000 - inflam_mse: 0.0196 - nephriti_acc: 1.0000 - nephriti_mse: 0.0124 - val_loss: 0.1449 - val_inflam_loss: 0.1245 - val_nephriti_loss: 0.1021 - val_inflam_acc: 1.0000 - val_inflam_mse: 0.0235 - val_nephriti_acc: 1.0000 - val_nephriti_mse: 0.0129\n",
            "Epoch 475/1000\n",
            "1/1 - 0s - loss: 0.1321 - inflam_loss: 0.1129 - nephriti_loss: 0.0960 - inflam_acc: 1.0000 - inflam_mse: 0.0197 - nephriti_acc: 1.0000 - nephriti_mse: 0.0125 - val_loss: 0.1437 - val_inflam_loss: 0.1233 - val_nephriti_loss: 0.1020 - val_inflam_acc: 1.0000 - val_inflam_mse: 0.0229 - val_nephriti_acc: 1.0000 - val_nephriti_mse: 0.0128\n",
            "Epoch 476/1000\n",
            "1/1 - 0s - loss: 0.1320 - inflam_loss: 0.1128 - nephriti_loss: 0.0959 - inflam_acc: 1.0000 - inflam_mse: 0.0196 - nephriti_acc: 1.0000 - nephriti_mse: 0.0124 - val_loss: 0.1447 - val_inflam_loss: 0.1243 - val_nephriti_loss: 0.1020 - val_inflam_acc: 1.0000 - val_inflam_mse: 0.0235 - val_nephriti_acc: 1.0000 - val_nephriti_mse: 0.0128\n",
            "Epoch 477/1000\n",
            "1/1 - 0s - loss: 0.1320 - inflam_loss: 0.1128 - nephriti_loss: 0.0959 - inflam_acc: 1.0000 - inflam_mse: 0.0196 - nephriti_acc: 1.0000 - nephriti_mse: 0.0125 - val_loss: 0.1435 - val_inflam_loss: 0.1232 - val_nephriti_loss: 0.1019 - val_inflam_acc: 1.0000 - val_inflam_mse: 0.0229 - val_nephriti_acc: 1.0000 - val_nephriti_mse: 0.0128\n",
            "Epoch 478/1000\n",
            "1/1 - 0s - loss: 0.1319 - inflam_loss: 0.1127 - nephriti_loss: 0.0958 - inflam_acc: 1.0000 - inflam_mse: 0.0195 - nephriti_acc: 1.0000 - nephriti_mse: 0.0124 - val_loss: 0.1446 - val_inflam_loss: 0.1242 - val_nephriti_loss: 0.1019 - val_inflam_acc: 1.0000 - val_inflam_mse: 0.0235 - val_nephriti_acc: 1.0000 - val_nephriti_mse: 0.0128\n",
            "Epoch 479/1000\n",
            "1/1 - 0s - loss: 0.1318 - inflam_loss: 0.1127 - nephriti_loss: 0.0958 - inflam_acc: 1.0000 - inflam_mse: 0.0196 - nephriti_acc: 1.0000 - nephriti_mse: 0.0124 - val_loss: 0.1434 - val_inflam_loss: 0.1230 - val_nephriti_loss: 0.1018 - val_inflam_acc: 1.0000 - val_inflam_mse: 0.0228 - val_nephriti_acc: 1.0000 - val_nephriti_mse: 0.0127\n",
            "Epoch 480/1000\n",
            "1/1 - 0s - loss: 0.1318 - inflam_loss: 0.1126 - nephriti_loss: 0.0958 - inflam_acc: 1.0000 - inflam_mse: 0.0195 - nephriti_acc: 1.0000 - nephriti_mse: 0.0124 - val_loss: 0.1444 - val_inflam_loss: 0.1241 - val_nephriti_loss: 0.1018 - val_inflam_acc: 1.0000 - val_inflam_mse: 0.0234 - val_nephriti_acc: 1.0000 - val_nephriti_mse: 0.0128\n",
            "Epoch 481/1000\n",
            "1/1 - 0s - loss: 0.1317 - inflam_loss: 0.1125 - nephriti_loss: 0.0957 - inflam_acc: 1.0000 - inflam_mse: 0.0196 - nephriti_acc: 1.0000 - nephriti_mse: 0.0124 - val_loss: 0.1432 - val_inflam_loss: 0.1229 - val_nephriti_loss: 0.1017 - val_inflam_acc: 1.0000 - val_inflam_mse: 0.0228 - val_nephriti_acc: 1.0000 - val_nephriti_mse: 0.0127\n",
            "Epoch 482/1000\n",
            "1/1 - 0s - loss: 0.1316 - inflam_loss: 0.1125 - nephriti_loss: 0.0957 - inflam_acc: 1.0000 - inflam_mse: 0.0195 - nephriti_acc: 1.0000 - nephriti_mse: 0.0123 - val_loss: 0.1443 - val_inflam_loss: 0.1240 - val_nephriti_loss: 0.1017 - val_inflam_acc: 1.0000 - val_inflam_mse: 0.0234 - val_nephriti_acc: 1.0000 - val_nephriti_mse: 0.0128\n",
            "Epoch 483/1000\n",
            "1/1 - 0s - loss: 0.1316 - inflam_loss: 0.1124 - nephriti_loss: 0.0956 - inflam_acc: 1.0000 - inflam_mse: 0.0195 - nephriti_acc: 1.0000 - nephriti_mse: 0.0124 - val_loss: 0.1431 - val_inflam_loss: 0.1228 - val_nephriti_loss: 0.1016 - val_inflam_acc: 1.0000 - val_inflam_mse: 0.0228 - val_nephriti_acc: 1.0000 - val_nephriti_mse: 0.0127\n",
            "Epoch 484/1000\n",
            "1/1 - 0s - loss: 0.1315 - inflam_loss: 0.1124 - nephriti_loss: 0.0956 - inflam_acc: 1.0000 - inflam_mse: 0.0194 - nephriti_acc: 1.0000 - nephriti_mse: 0.0123 - val_loss: 0.1442 - val_inflam_loss: 0.1238 - val_nephriti_loss: 0.1016 - val_inflam_acc: 1.0000 - val_inflam_mse: 0.0234 - val_nephriti_acc: 1.0000 - val_nephriti_mse: 0.0127\n",
            "Epoch 485/1000\n",
            "1/1 - 0s - loss: 0.1314 - inflam_loss: 0.1123 - nephriti_loss: 0.0955 - inflam_acc: 1.0000 - inflam_mse: 0.0195 - nephriti_acc: 1.0000 - nephriti_mse: 0.0124 - val_loss: 0.1429 - val_inflam_loss: 0.1226 - val_nephriti_loss: 0.1015 - val_inflam_acc: 1.0000 - val_inflam_mse: 0.0227 - val_nephriti_acc: 1.0000 - val_nephriti_mse: 0.0127\n",
            "Epoch 486/1000\n",
            "1/1 - 0s - loss: 0.1314 - inflam_loss: 0.1123 - nephriti_loss: 0.0955 - inflam_acc: 1.0000 - inflam_mse: 0.0194 - nephriti_acc: 1.0000 - nephriti_mse: 0.0123 - val_loss: 0.1440 - val_inflam_loss: 0.1237 - val_nephriti_loss: 0.1015 - val_inflam_acc: 1.0000 - val_inflam_mse: 0.0233 - val_nephriti_acc: 1.0000 - val_nephriti_mse: 0.0127\n",
            "Epoch 487/1000\n",
            "1/1 - 0s - loss: 0.1313 - inflam_loss: 0.1122 - nephriti_loss: 0.0954 - inflam_acc: 1.0000 - inflam_mse: 0.0195 - nephriti_acc: 1.0000 - nephriti_mse: 0.0124 - val_loss: 0.1428 - val_inflam_loss: 0.1225 - val_nephriti_loss: 0.1014 - val_inflam_acc: 1.0000 - val_inflam_mse: 0.0227 - val_nephriti_acc: 1.0000 - val_nephriti_mse: 0.0127\n",
            "Epoch 488/1000\n",
            "1/1 - 0s - loss: 0.1312 - inflam_loss: 0.1121 - nephriti_loss: 0.0954 - inflam_acc: 1.0000 - inflam_mse: 0.0194 - nephriti_acc: 1.0000 - nephriti_mse: 0.0123 - val_loss: 0.1439 - val_inflam_loss: 0.1236 - val_nephriti_loss: 0.1014 - val_inflam_acc: 1.0000 - val_inflam_mse: 0.0233 - val_nephriti_acc: 1.0000 - val_nephriti_mse: 0.0127\n",
            "Epoch 489/1000\n",
            "1/1 - 0s - loss: 0.1312 - inflam_loss: 0.1121 - nephriti_loss: 0.0953 - inflam_acc: 1.0000 - inflam_mse: 0.0194 - nephriti_acc: 1.0000 - nephriti_mse: 0.0123 - val_loss: 0.1427 - val_inflam_loss: 0.1224 - val_nephriti_loss: 0.1013 - val_inflam_acc: 1.0000 - val_inflam_mse: 0.0227 - val_nephriti_acc: 1.0000 - val_nephriti_mse: 0.0126\n",
            "Epoch 490/1000\n",
            "1/1 - 0s - loss: 0.1311 - inflam_loss: 0.1120 - nephriti_loss: 0.0953 - inflam_acc: 1.0000 - inflam_mse: 0.0193 - nephriti_acc: 1.0000 - nephriti_mse: 0.0123 - val_loss: 0.1437 - val_inflam_loss: 0.1234 - val_nephriti_loss: 0.1013 - val_inflam_acc: 1.0000 - val_inflam_mse: 0.0232 - val_nephriti_acc: 1.0000 - val_nephriti_mse: 0.0127\n",
            "Epoch 491/1000\n",
            "1/1 - 0s - loss: 0.1310 - inflam_loss: 0.1120 - nephriti_loss: 0.0953 - inflam_acc: 1.0000 - inflam_mse: 0.0194 - nephriti_acc: 1.0000 - nephriti_mse: 0.0123 - val_loss: 0.1425 - val_inflam_loss: 0.1223 - val_nephriti_loss: 0.1012 - val_inflam_acc: 1.0000 - val_inflam_mse: 0.0226 - val_nephriti_acc: 1.0000 - val_nephriti_mse: 0.0126\n",
            "Epoch 492/1000\n",
            "1/1 - 0s - loss: 0.1310 - inflam_loss: 0.1119 - nephriti_loss: 0.0952 - inflam_acc: 1.0000 - inflam_mse: 0.0193 - nephriti_acc: 1.0000 - nephriti_mse: 0.0122 - val_loss: 0.1436 - val_inflam_loss: 0.1233 - val_nephriti_loss: 0.1012 - val_inflam_acc: 1.0000 - val_inflam_mse: 0.0232 - val_nephriti_acc: 1.0000 - val_nephriti_mse: 0.0127\n",
            "Epoch 493/1000\n",
            "1/1 - 0s - loss: 0.1309 - inflam_loss: 0.1119 - nephriti_loss: 0.0952 - inflam_acc: 1.0000 - inflam_mse: 0.0194 - nephriti_acc: 1.0000 - nephriti_mse: 0.0123 - val_loss: 0.1424 - val_inflam_loss: 0.1221 - val_nephriti_loss: 0.1011 - val_inflam_acc: 1.0000 - val_inflam_mse: 0.0226 - val_nephriti_acc: 1.0000 - val_nephriti_mse: 0.0126\n",
            "Epoch 494/1000\n",
            "1/1 - 0s - loss: 0.1308 - inflam_loss: 0.1118 - nephriti_loss: 0.0951 - inflam_acc: 1.0000 - inflam_mse: 0.0193 - nephriti_acc: 1.0000 - nephriti_mse: 0.0122 - val_loss: 0.1434 - val_inflam_loss: 0.1232 - val_nephriti_loss: 0.1011 - val_inflam_acc: 1.0000 - val_inflam_mse: 0.0232 - val_nephriti_acc: 1.0000 - val_nephriti_mse: 0.0126\n",
            "Epoch 495/1000\n",
            "1/1 - 0s - loss: 0.1308 - inflam_loss: 0.1117 - nephriti_loss: 0.0951 - inflam_acc: 1.0000 - inflam_mse: 0.0194 - nephriti_acc: 1.0000 - nephriti_mse: 0.0123 - val_loss: 0.1422 - val_inflam_loss: 0.1220 - val_nephriti_loss: 0.1011 - val_inflam_acc: 1.0000 - val_inflam_mse: 0.0225 - val_nephriti_acc: 1.0000 - val_nephriti_mse: 0.0126\n",
            "Epoch 496/1000\n",
            "1/1 - 0s - loss: 0.1307 - inflam_loss: 0.1117 - nephriti_loss: 0.0950 - inflam_acc: 1.0000 - inflam_mse: 0.0193 - nephriti_acc: 1.0000 - nephriti_mse: 0.0122 - val_loss: 0.1433 - val_inflam_loss: 0.1231 - val_nephriti_loss: 0.1010 - val_inflam_acc: 1.0000 - val_inflam_mse: 0.0231 - val_nephriti_acc: 1.0000 - val_nephriti_mse: 0.0126\n",
            "Epoch 497/1000\n",
            "1/1 - 0s - loss: 0.1306 - inflam_loss: 0.1116 - nephriti_loss: 0.0950 - inflam_acc: 1.0000 - inflam_mse: 0.0193 - nephriti_acc: 1.0000 - nephriti_mse: 0.0123 - val_loss: 0.1421 - val_inflam_loss: 0.1219 - val_nephriti_loss: 0.1010 - val_inflam_acc: 1.0000 - val_inflam_mse: 0.0225 - val_nephriti_acc: 1.0000 - val_nephriti_mse: 0.0125\n",
            "Epoch 498/1000\n",
            "1/1 - 0s - loss: 0.1306 - inflam_loss: 0.1116 - nephriti_loss: 0.0949 - inflam_acc: 1.0000 - inflam_mse: 0.0192 - nephriti_acc: 1.0000 - nephriti_mse: 0.0122 - val_loss: 0.1431 - val_inflam_loss: 0.1229 - val_nephriti_loss: 0.1009 - val_inflam_acc: 1.0000 - val_inflam_mse: 0.0231 - val_nephriti_acc: 1.0000 - val_nephriti_mse: 0.0126\n",
            "Epoch 499/1000\n",
            "1/1 - 0s - loss: 0.1305 - inflam_loss: 0.1115 - nephriti_loss: 0.0949 - inflam_acc: 1.0000 - inflam_mse: 0.0193 - nephriti_acc: 1.0000 - nephriti_mse: 0.0122 - val_loss: 0.1419 - val_inflam_loss: 0.1218 - val_nephriti_loss: 0.1009 - val_inflam_acc: 1.0000 - val_inflam_mse: 0.0225 - val_nephriti_acc: 1.0000 - val_nephriti_mse: 0.0125\n",
            "Epoch 500/1000\n",
            "1/1 - 0s - loss: 0.1304 - inflam_loss: 0.1115 - nephriti_loss: 0.0949 - inflam_acc: 1.0000 - inflam_mse: 0.0192 - nephriti_acc: 1.0000 - nephriti_mse: 0.0122 - val_loss: 0.1430 - val_inflam_loss: 0.1228 - val_nephriti_loss: 0.1009 - val_inflam_acc: 1.0000 - val_inflam_mse: 0.0231 - val_nephriti_acc: 1.0000 - val_nephriti_mse: 0.0126\n",
            "Epoch 501/1000\n",
            "1/1 - 0s - loss: 0.1304 - inflam_loss: 0.1114 - nephriti_loss: 0.0948 - inflam_acc: 1.0000 - inflam_mse: 0.0193 - nephriti_acc: 1.0000 - nephriti_mse: 0.0122 - val_loss: 0.1418 - val_inflam_loss: 0.1216 - val_nephriti_loss: 0.1008 - val_inflam_acc: 1.0000 - val_inflam_mse: 0.0224 - val_nephriti_acc: 1.0000 - val_nephriti_mse: 0.0125\n",
            "Epoch 502/1000\n",
            "1/1 - 0s - loss: 0.1303 - inflam_loss: 0.1113 - nephriti_loss: 0.0948 - inflam_acc: 1.0000 - inflam_mse: 0.0192 - nephriti_acc: 1.0000 - nephriti_mse: 0.0121 - val_loss: 0.1428 - val_inflam_loss: 0.1227 - val_nephriti_loss: 0.1008 - val_inflam_acc: 1.0000 - val_inflam_mse: 0.0230 - val_nephriti_acc: 1.0000 - val_nephriti_mse: 0.0126\n",
            "Epoch 503/1000\n",
            "1/1 - 0s - loss: 0.1302 - inflam_loss: 0.1113 - nephriti_loss: 0.0947 - inflam_acc: 1.0000 - inflam_mse: 0.0192 - nephriti_acc: 1.0000 - nephriti_mse: 0.0122 - val_loss: 0.1416 - val_inflam_loss: 0.1215 - val_nephriti_loss: 0.1007 - val_inflam_acc: 1.0000 - val_inflam_mse: 0.0224 - val_nephriti_acc: 1.0000 - val_nephriti_mse: 0.0125\n",
            "Epoch 504/1000\n",
            "1/1 - 0s - loss: 0.1302 - inflam_loss: 0.1112 - nephriti_loss: 0.0947 - inflam_acc: 1.0000 - inflam_mse: 0.0191 - nephriti_acc: 1.0000 - nephriti_mse: 0.0121 - val_loss: 0.1427 - val_inflam_loss: 0.1226 - val_nephriti_loss: 0.1007 - val_inflam_acc: 1.0000 - val_inflam_mse: 0.0230 - val_nephriti_acc: 1.0000 - val_nephriti_mse: 0.0125\n",
            "Epoch 505/1000\n",
            "1/1 - 0s - loss: 0.1301 - inflam_loss: 0.1112 - nephriti_loss: 0.0946 - inflam_acc: 1.0000 - inflam_mse: 0.0192 - nephriti_acc: 1.0000 - nephriti_mse: 0.0122 - val_loss: 0.1415 - val_inflam_loss: 0.1214 - val_nephriti_loss: 0.1006 - val_inflam_acc: 1.0000 - val_inflam_mse: 0.0224 - val_nephriti_acc: 1.0000 - val_nephriti_mse: 0.0125\n",
            "Epoch 506/1000\n",
            "1/1 - 0s - loss: 0.1300 - inflam_loss: 0.1111 - nephriti_loss: 0.0946 - inflam_acc: 1.0000 - inflam_mse: 0.0191 - nephriti_acc: 1.0000 - nephriti_mse: 0.0121 - val_loss: 0.1425 - val_inflam_loss: 0.1224 - val_nephriti_loss: 0.1006 - val_inflam_acc: 1.0000 - val_inflam_mse: 0.0229 - val_nephriti_acc: 1.0000 - val_nephriti_mse: 0.0125\n",
            "Epoch 507/1000\n",
            "1/1 - 0s - loss: 0.1300 - inflam_loss: 0.1110 - nephriti_loss: 0.0945 - inflam_acc: 1.0000 - inflam_mse: 0.0192 - nephriti_acc: 1.0000 - nephriti_mse: 0.0122 - val_loss: 0.1413 - val_inflam_loss: 0.1212 - val_nephriti_loss: 0.1005 - val_inflam_acc: 1.0000 - val_inflam_mse: 0.0223 - val_nephriti_acc: 1.0000 - val_nephriti_mse: 0.0124\n",
            "Epoch 508/1000\n",
            "1/1 - 0s - loss: 0.1299 - inflam_loss: 0.1110 - nephriti_loss: 0.0945 - inflam_acc: 1.0000 - inflam_mse: 0.0191 - nephriti_acc: 1.0000 - nephriti_mse: 0.0121 - val_loss: 0.1424 - val_inflam_loss: 0.1223 - val_nephriti_loss: 0.1005 - val_inflam_acc: 1.0000 - val_inflam_mse: 0.0229 - val_nephriti_acc: 1.0000 - val_nephriti_mse: 0.0125\n",
            "Epoch 509/1000\n",
            "1/1 - 0s - loss: 0.1298 - inflam_loss: 0.1109 - nephriti_loss: 0.0944 - inflam_acc: 1.0000 - inflam_mse: 0.0191 - nephriti_acc: 1.0000 - nephriti_mse: 0.0121 - val_loss: 0.1412 - val_inflam_loss: 0.1211 - val_nephriti_loss: 0.1004 - val_inflam_acc: 1.0000 - val_inflam_mse: 0.0223 - val_nephriti_acc: 1.0000 - val_nephriti_mse: 0.0124\n",
            "Epoch 510/1000\n",
            "1/1 - 0s - loss: 0.1298 - inflam_loss: 0.1109 - nephriti_loss: 0.0944 - inflam_acc: 1.0000 - inflam_mse: 0.0190 - nephriti_acc: 1.0000 - nephriti_mse: 0.0121 - val_loss: 0.1422 - val_inflam_loss: 0.1222 - val_nephriti_loss: 0.1004 - val_inflam_acc: 1.0000 - val_inflam_mse: 0.0229 - val_nephriti_acc: 1.0000 - val_nephriti_mse: 0.0125\n",
            "Epoch 511/1000\n",
            "1/1 - 0s - loss: 0.1297 - inflam_loss: 0.1108 - nephriti_loss: 0.0944 - inflam_acc: 1.0000 - inflam_mse: 0.0191 - nephriti_acc: 1.0000 - nephriti_mse: 0.0121 - val_loss: 0.1411 - val_inflam_loss: 0.1210 - val_nephriti_loss: 0.1003 - val_inflam_acc: 1.0000 - val_inflam_mse: 0.0223 - val_nephriti_acc: 1.0000 - val_nephriti_mse: 0.0124\n",
            "Epoch 512/1000\n",
            "1/1 - 0s - loss: 0.1296 - inflam_loss: 0.1108 - nephriti_loss: 0.0943 - inflam_acc: 1.0000 - inflam_mse: 0.0190 - nephriti_acc: 1.0000 - nephriti_mse: 0.0120 - val_loss: 0.1421 - val_inflam_loss: 0.1220 - val_nephriti_loss: 0.1003 - val_inflam_acc: 1.0000 - val_inflam_mse: 0.0228 - val_nephriti_acc: 1.0000 - val_nephriti_mse: 0.0125\n",
            "Epoch 513/1000\n",
            "1/1 - 0s - loss: 0.1296 - inflam_loss: 0.1107 - nephriti_loss: 0.0943 - inflam_acc: 1.0000 - inflam_mse: 0.0191 - nephriti_acc: 1.0000 - nephriti_mse: 0.0121 - val_loss: 0.1409 - val_inflam_loss: 0.1209 - val_nephriti_loss: 0.1002 - val_inflam_acc: 1.0000 - val_inflam_mse: 0.0222 - val_nephriti_acc: 1.0000 - val_nephriti_mse: 0.0124\n",
            "Epoch 514/1000\n",
            "1/1 - 0s - loss: 0.1295 - inflam_loss: 0.1106 - nephriti_loss: 0.0942 - inflam_acc: 1.0000 - inflam_mse: 0.0190 - nephriti_acc: 1.0000 - nephriti_mse: 0.0120 - val_loss: 0.1420 - val_inflam_loss: 0.1219 - val_nephriti_loss: 0.1002 - val_inflam_acc: 1.0000 - val_inflam_mse: 0.0228 - val_nephriti_acc: 1.0000 - val_nephriti_mse: 0.0124\n",
            "Epoch 515/1000\n",
            "1/1 - 0s - loss: 0.1294 - inflam_loss: 0.1106 - nephriti_loss: 0.0942 - inflam_acc: 1.0000 - inflam_mse: 0.0191 - nephriti_acc: 1.0000 - nephriti_mse: 0.0121 - val_loss: 0.1408 - val_inflam_loss: 0.1207 - val_nephriti_loss: 0.1001 - val_inflam_acc: 1.0000 - val_inflam_mse: 0.0222 - val_nephriti_acc: 1.0000 - val_nephriti_mse: 0.0124\n",
            "Epoch 516/1000\n",
            "1/1 - 0s - loss: 0.1294 - inflam_loss: 0.1105 - nephriti_loss: 0.0941 - inflam_acc: 1.0000 - inflam_mse: 0.0189 - nephriti_acc: 1.0000 - nephriti_mse: 0.0120 - val_loss: 0.1418 - val_inflam_loss: 0.1218 - val_nephriti_loss: 0.1001 - val_inflam_acc: 1.0000 - val_inflam_mse: 0.0228 - val_nephriti_acc: 1.0000 - val_nephriti_mse: 0.0124\n",
            "Epoch 517/1000\n",
            "1/1 - 0s - loss: 0.1293 - inflam_loss: 0.1105 - nephriti_loss: 0.0941 - inflam_acc: 1.0000 - inflam_mse: 0.0190 - nephriti_acc: 1.0000 - nephriti_mse: 0.0121 - val_loss: 0.1406 - val_inflam_loss: 0.1206 - val_nephriti_loss: 0.1000 - val_inflam_acc: 1.0000 - val_inflam_mse: 0.0222 - val_nephriti_acc: 1.0000 - val_nephriti_mse: 0.0123\n",
            "Epoch 518/1000\n",
            "1/1 - 0s - loss: 0.1292 - inflam_loss: 0.1104 - nephriti_loss: 0.0940 - inflam_acc: 1.0000 - inflam_mse: 0.0189 - nephriti_acc: 1.0000 - nephriti_mse: 0.0120 - val_loss: 0.1417 - val_inflam_loss: 0.1217 - val_nephriti_loss: 0.1000 - val_inflam_acc: 1.0000 - val_inflam_mse: 0.0227 - val_nephriti_acc: 1.0000 - val_nephriti_mse: 0.0124\n",
            "Epoch 519/1000\n",
            "1/1 - 0s - loss: 0.1292 - inflam_loss: 0.1104 - nephriti_loss: 0.0940 - inflam_acc: 1.0000 - inflam_mse: 0.0190 - nephriti_acc: 1.0000 - nephriti_mse: 0.0120 - val_loss: 0.1405 - val_inflam_loss: 0.1205 - val_nephriti_loss: 0.0999 - val_inflam_acc: 1.0000 - val_inflam_mse: 0.0221 - val_nephriti_acc: 1.0000 - val_nephriti_mse: 0.0123\n",
            "Epoch 520/1000\n",
            "1/1 - 0s - loss: 0.1291 - inflam_loss: 0.1103 - nephriti_loss: 0.0940 - inflam_acc: 1.0000 - inflam_mse: 0.0189 - nephriti_acc: 1.0000 - nephriti_mse: 0.0120 - val_loss: 0.1415 - val_inflam_loss: 0.1215 - val_nephriti_loss: 0.0999 - val_inflam_acc: 1.0000 - val_inflam_mse: 0.0227 - val_nephriti_acc: 1.0000 - val_nephriti_mse: 0.0124\n",
            "Epoch 521/1000\n",
            "1/1 - 0s - loss: 0.1290 - inflam_loss: 0.1103 - nephriti_loss: 0.0939 - inflam_acc: 1.0000 - inflam_mse: 0.0190 - nephriti_acc: 1.0000 - nephriti_mse: 0.0120 - val_loss: 0.1403 - val_inflam_loss: 0.1204 - val_nephriti_loss: 0.0998 - val_inflam_acc: 1.0000 - val_inflam_mse: 0.0221 - val_nephriti_acc: 1.0000 - val_nephriti_mse: 0.0123\n",
            "Epoch 522/1000\n",
            "1/1 - 0s - loss: 0.1290 - inflam_loss: 0.1102 - nephriti_loss: 0.0939 - inflam_acc: 1.0000 - inflam_mse: 0.0189 - nephriti_acc: 1.0000 - nephriti_mse: 0.0119 - val_loss: 0.1414 - val_inflam_loss: 0.1214 - val_nephriti_loss: 0.0998 - val_inflam_acc: 1.0000 - val_inflam_mse: 0.0227 - val_nephriti_acc: 1.0000 - val_nephriti_mse: 0.0124\n",
            "Epoch 523/1000\n",
            "1/1 - 0s - loss: 0.1289 - inflam_loss: 0.1101 - nephriti_loss: 0.0938 - inflam_acc: 1.0000 - inflam_mse: 0.0189 - nephriti_acc: 1.0000 - nephriti_mse: 0.0120 - val_loss: 0.1402 - val_inflam_loss: 0.1202 - val_nephriti_loss: 0.0997 - val_inflam_acc: 1.0000 - val_inflam_mse: 0.0220 - val_nephriti_acc: 1.0000 - val_nephriti_mse: 0.0123\n",
            "Epoch 524/1000\n",
            "1/1 - 0s - loss: 0.1288 - inflam_loss: 0.1101 - nephriti_loss: 0.0938 - inflam_acc: 1.0000 - inflam_mse: 0.0188 - nephriti_acc: 1.0000 - nephriti_mse: 0.0119 - val_loss: 0.1412 - val_inflam_loss: 0.1213 - val_nephriti_loss: 0.0997 - val_inflam_acc: 1.0000 - val_inflam_mse: 0.0226 - val_nephriti_acc: 1.0000 - val_nephriti_mse: 0.0123\n",
            "Epoch 525/1000\n",
            "1/1 - 0s - loss: 0.1288 - inflam_loss: 0.1100 - nephriti_loss: 0.0937 - inflam_acc: 1.0000 - inflam_mse: 0.0189 - nephriti_acc: 1.0000 - nephriti_mse: 0.0120 - val_loss: 0.1400 - val_inflam_loss: 0.1201 - val_nephriti_loss: 0.0996 - val_inflam_acc: 1.0000 - val_inflam_mse: 0.0220 - val_nephriti_acc: 1.0000 - val_nephriti_mse: 0.0123\n",
            "Epoch 526/1000\n",
            "1/1 - 0s - loss: 0.1287 - inflam_loss: 0.1100 - nephriti_loss: 0.0937 - inflam_acc: 1.0000 - inflam_mse: 0.0188 - nephriti_acc: 1.0000 - nephriti_mse: 0.0119 - val_loss: 0.1411 - val_inflam_loss: 0.1212 - val_nephriti_loss: 0.0996 - val_inflam_acc: 1.0000 - val_inflam_mse: 0.0226 - val_nephriti_acc: 1.0000 - val_nephriti_mse: 0.0123\n",
            "Epoch 527/1000\n",
            "1/1 - 0s - loss: 0.1286 - inflam_loss: 0.1099 - nephriti_loss: 0.0936 - inflam_acc: 1.0000 - inflam_mse: 0.0189 - nephriti_acc: 1.0000 - nephriti_mse: 0.0120 - val_loss: 0.1399 - val_inflam_loss: 0.1200 - val_nephriti_loss: 0.0995 - val_inflam_acc: 1.0000 - val_inflam_mse: 0.0220 - val_nephriti_acc: 1.0000 - val_nephriti_mse: 0.0122\n",
            "Epoch 528/1000\n",
            "1/1 - 0s - loss: 0.1286 - inflam_loss: 0.1099 - nephriti_loss: 0.0936 - inflam_acc: 1.0000 - inflam_mse: 0.0188 - nephriti_acc: 1.0000 - nephriti_mse: 0.0119 - val_loss: 0.1409 - val_inflam_loss: 0.1210 - val_nephriti_loss: 0.0995 - val_inflam_acc: 1.0000 - val_inflam_mse: 0.0225 - val_nephriti_acc: 1.0000 - val_nephriti_mse: 0.0123\n",
            "Epoch 529/1000\n",
            "1/1 - 0s - loss: 0.1285 - inflam_loss: 0.1098 - nephriti_loss: 0.0936 - inflam_acc: 1.0000 - inflam_mse: 0.0188 - nephriti_acc: 1.0000 - nephriti_mse: 0.0119 - val_loss: 0.1398 - val_inflam_loss: 0.1199 - val_nephriti_loss: 0.0994 - val_inflam_acc: 1.0000 - val_inflam_mse: 0.0219 - val_nephriti_acc: 1.0000 - val_nephriti_mse: 0.0122\n",
            "Epoch 530/1000\n",
            "1/1 - 0s - loss: 0.1284 - inflam_loss: 0.1097 - nephriti_loss: 0.0935 - inflam_acc: 1.0000 - inflam_mse: 0.0187 - nephriti_acc: 1.0000 - nephriti_mse: 0.0119 - val_loss: 0.1408 - val_inflam_loss: 0.1209 - val_nephriti_loss: 0.0994 - val_inflam_acc: 1.0000 - val_inflam_mse: 0.0225 - val_nephriti_acc: 1.0000 - val_nephriti_mse: 0.0123\n",
            "Epoch 531/1000\n",
            "1/1 - 0s - loss: 0.1284 - inflam_loss: 0.1097 - nephriti_loss: 0.0935 - inflam_acc: 1.0000 - inflam_mse: 0.0188 - nephriti_acc: 1.0000 - nephriti_mse: 0.0119 - val_loss: 0.1396 - val_inflam_loss: 0.1197 - val_nephriti_loss: 0.0993 - val_inflam_acc: 1.0000 - val_inflam_mse: 0.0219 - val_nephriti_acc: 1.0000 - val_nephriti_mse: 0.0122\n",
            "Epoch 532/1000\n",
            "1/1 - 0s - loss: 0.1283 - inflam_loss: 0.1096 - nephriti_loss: 0.0934 - inflam_acc: 1.0000 - inflam_mse: 0.0187 - nephriti_acc: 1.0000 - nephriti_mse: 0.0118 - val_loss: 0.1407 - val_inflam_loss: 0.1208 - val_nephriti_loss: 0.0993 - val_inflam_acc: 1.0000 - val_inflam_mse: 0.0225 - val_nephriti_acc: 1.0000 - val_nephriti_mse: 0.0123\n",
            "Epoch 533/1000\n",
            "1/1 - 0s - loss: 0.1282 - inflam_loss: 0.1096 - nephriti_loss: 0.0934 - inflam_acc: 1.0000 - inflam_mse: 0.0188 - nephriti_acc: 1.0000 - nephriti_mse: 0.0119 - val_loss: 0.1395 - val_inflam_loss: 0.1196 - val_nephriti_loss: 0.0992 - val_inflam_acc: 1.0000 - val_inflam_mse: 0.0219 - val_nephriti_acc: 1.0000 - val_nephriti_mse: 0.0122\n",
            "Epoch 534/1000\n",
            "1/1 - 0s - loss: 0.1282 - inflam_loss: 0.1095 - nephriti_loss: 0.0933 - inflam_acc: 1.0000 - inflam_mse: 0.0187 - nephriti_acc: 1.0000 - nephriti_mse: 0.0118 - val_loss: 0.1405 - val_inflam_loss: 0.1207 - val_nephriti_loss: 0.0992 - val_inflam_acc: 1.0000 - val_inflam_mse: 0.0224 - val_nephriti_acc: 1.0000 - val_nephriti_mse: 0.0122\n",
            "Epoch 535/1000\n",
            "1/1 - 0s - loss: 0.1281 - inflam_loss: 0.1095 - nephriti_loss: 0.0933 - inflam_acc: 1.0000 - inflam_mse: 0.0188 - nephriti_acc: 1.0000 - nephriti_mse: 0.0119 - val_loss: 0.1393 - val_inflam_loss: 0.1195 - val_nephriti_loss: 0.0992 - val_inflam_acc: 1.0000 - val_inflam_mse: 0.0218 - val_nephriti_acc: 1.0000 - val_nephriti_mse: 0.0122\n",
            "Epoch 536/1000\n",
            "1/1 - 0s - loss: 0.1281 - inflam_loss: 0.1094 - nephriti_loss: 0.0933 - inflam_acc: 1.0000 - inflam_mse: 0.0187 - nephriti_acc: 1.0000 - nephriti_mse: 0.0118 - val_loss: 0.1404 - val_inflam_loss: 0.1205 - val_nephriti_loss: 0.0991 - val_inflam_acc: 1.0000 - val_inflam_mse: 0.0224 - val_nephriti_acc: 1.0000 - val_nephriti_mse: 0.0122\n",
            "Epoch 537/1000\n",
            "1/1 - 0s - loss: 0.1280 - inflam_loss: 0.1093 - nephriti_loss: 0.0932 - inflam_acc: 1.0000 - inflam_mse: 0.0187 - nephriti_acc: 1.0000 - nephriti_mse: 0.0119 - val_loss: 0.1392 - val_inflam_loss: 0.1194 - val_nephriti_loss: 0.0991 - val_inflam_acc: 1.0000 - val_inflam_mse: 0.0218 - val_nephriti_acc: 1.0000 - val_nephriti_mse: 0.0121\n",
            "Epoch 538/1000\n",
            "1/1 - 0s - loss: 0.1279 - inflam_loss: 0.1093 - nephriti_loss: 0.0932 - inflam_acc: 1.0000 - inflam_mse: 0.0186 - nephriti_acc: 1.0000 - nephriti_mse: 0.0118 - val_loss: 0.1402 - val_inflam_loss: 0.1204 - val_nephriti_loss: 0.0991 - val_inflam_acc: 1.0000 - val_inflam_mse: 0.0224 - val_nephriti_acc: 1.0000 - val_nephriti_mse: 0.0122\n",
            "Epoch 539/1000\n",
            "1/1 - 0s - loss: 0.1279 - inflam_loss: 0.1092 - nephriti_loss: 0.0931 - inflam_acc: 1.0000 - inflam_mse: 0.0187 - nephriti_acc: 1.0000 - nephriti_mse: 0.0118 - val_loss: 0.1390 - val_inflam_loss: 0.1192 - val_nephriti_loss: 0.0990 - val_inflam_acc: 1.0000 - val_inflam_mse: 0.0218 - val_nephriti_acc: 1.0000 - val_nephriti_mse: 0.0121\n",
            "Epoch 540/1000\n",
            "1/1 - 0s - loss: 0.1278 - inflam_loss: 0.1092 - nephriti_loss: 0.0931 - inflam_acc: 1.0000 - inflam_mse: 0.0186 - nephriti_acc: 1.0000 - nephriti_mse: 0.0118 - val_loss: 0.1401 - val_inflam_loss: 0.1203 - val_nephriti_loss: 0.0990 - val_inflam_acc: 1.0000 - val_inflam_mse: 0.0223 - val_nephriti_acc: 1.0000 - val_nephriti_mse: 0.0122\n",
            "Epoch 541/1000\n",
            "1/1 - 0s - loss: 0.1277 - inflam_loss: 0.1091 - nephriti_loss: 0.0930 - inflam_acc: 1.0000 - inflam_mse: 0.0187 - nephriti_acc: 1.0000 - nephriti_mse: 0.0118 - val_loss: 0.1389 - val_inflam_loss: 0.1191 - val_nephriti_loss: 0.0989 - val_inflam_acc: 1.0000 - val_inflam_mse: 0.0217 - val_nephriti_acc: 1.0000 - val_nephriti_mse: 0.0121\n",
            "Epoch 542/1000\n",
            "1/1 - 0s - loss: 0.1277 - inflam_loss: 0.1091 - nephriti_loss: 0.0930 - inflam_acc: 1.0000 - inflam_mse: 0.0186 - nephriti_acc: 1.0000 - nephriti_mse: 0.0117 - val_loss: 0.1399 - val_inflam_loss: 0.1202 - val_nephriti_loss: 0.0989 - val_inflam_acc: 1.0000 - val_inflam_mse: 0.0223 - val_nephriti_acc: 1.0000 - val_nephriti_mse: 0.0122\n",
            "Epoch 543/1000\n",
            "1/1 - 0s - loss: 0.1276 - inflam_loss: 0.1090 - nephriti_loss: 0.0929 - inflam_acc: 1.0000 - inflam_mse: 0.0186 - nephriti_acc: 1.0000 - nephriti_mse: 0.0118 - val_loss: 0.1388 - val_inflam_loss: 0.1190 - val_nephriti_loss: 0.0988 - val_inflam_acc: 1.0000 - val_inflam_mse: 0.0217 - val_nephriti_acc: 1.0000 - val_nephriti_mse: 0.0121\n",
            "Epoch 544/1000\n",
            "1/1 - 0s - loss: 0.1275 - inflam_loss: 0.1090 - nephriti_loss: 0.0929 - inflam_acc: 1.0000 - inflam_mse: 0.0185 - nephriti_acc: 1.0000 - nephriti_mse: 0.0117 - val_loss: 0.1398 - val_inflam_loss: 0.1200 - val_nephriti_loss: 0.0988 - val_inflam_acc: 1.0000 - val_inflam_mse: 0.0223 - val_nephriti_acc: 1.0000 - val_nephriti_mse: 0.0121\n",
            "Epoch 545/1000\n",
            "1/1 - 0s - loss: 0.1275 - inflam_loss: 0.1089 - nephriti_loss: 0.0929 - inflam_acc: 1.0000 - inflam_mse: 0.0186 - nephriti_acc: 1.0000 - nephriti_mse: 0.0118 - val_loss: 0.1386 - val_inflam_loss: 0.1189 - val_nephriti_loss: 0.0987 - val_inflam_acc: 1.0000 - val_inflam_mse: 0.0217 - val_nephriti_acc: 1.0000 - val_nephriti_mse: 0.0121\n",
            "Epoch 546/1000\n",
            "1/1 - 0s - loss: 0.1274 - inflam_loss: 0.1088 - nephriti_loss: 0.0928 - inflam_acc: 1.0000 - inflam_mse: 0.0185 - nephriti_acc: 1.0000 - nephriti_mse: 0.0117 - val_loss: 0.1397 - val_inflam_loss: 0.1199 - val_nephriti_loss: 0.0987 - val_inflam_acc: 1.0000 - val_inflam_mse: 0.0222 - val_nephriti_acc: 1.0000 - val_nephriti_mse: 0.0121\n",
            "Epoch 547/1000\n",
            "1/1 - 0s - loss: 0.1273 - inflam_loss: 0.1088 - nephriti_loss: 0.0928 - inflam_acc: 1.0000 - inflam_mse: 0.0186 - nephriti_acc: 1.0000 - nephriti_mse: 0.0118 - val_loss: 0.1385 - val_inflam_loss: 0.1188 - val_nephriti_loss: 0.0986 - val_inflam_acc: 1.0000 - val_inflam_mse: 0.0216 - val_nephriti_acc: 1.0000 - val_nephriti_mse: 0.0120\n",
            "Epoch 548/1000\n",
            "1/1 - 0s - loss: 0.1273 - inflam_loss: 0.1087 - nephriti_loss: 0.0927 - inflam_acc: 1.0000 - inflam_mse: 0.0185 - nephriti_acc: 1.0000 - nephriti_mse: 0.0117 - val_loss: 0.1395 - val_inflam_loss: 0.1198 - val_nephriti_loss: 0.0986 - val_inflam_acc: 1.0000 - val_inflam_mse: 0.0222 - val_nephriti_acc: 1.0000 - val_nephriti_mse: 0.0121\n",
            "Epoch 549/1000\n",
            "1/1 - 0s - loss: 0.1272 - inflam_loss: 0.1087 - nephriti_loss: 0.0927 - inflam_acc: 1.0000 - inflam_mse: 0.0185 - nephriti_acc: 1.0000 - nephriti_mse: 0.0117 - val_loss: 0.1383 - val_inflam_loss: 0.1186 - val_nephriti_loss: 0.0985 - val_inflam_acc: 1.0000 - val_inflam_mse: 0.0216 - val_nephriti_acc: 1.0000 - val_nephriti_mse: 0.0120\n",
            "Epoch 550/1000\n",
            "1/1 - 0s - loss: 0.1271 - inflam_loss: 0.1086 - nephriti_loss: 0.0926 - inflam_acc: 1.0000 - inflam_mse: 0.0184 - nephriti_acc: 1.0000 - nephriti_mse: 0.0117 - val_loss: 0.1394 - val_inflam_loss: 0.1197 - val_nephriti_loss: 0.0985 - val_inflam_acc: 1.0000 - val_inflam_mse: 0.0222 - val_nephriti_acc: 1.0000 - val_nephriti_mse: 0.0121\n",
            "Epoch 551/1000\n",
            "1/1 - 0s - loss: 0.1271 - inflam_loss: 0.1086 - nephriti_loss: 0.0926 - inflam_acc: 1.0000 - inflam_mse: 0.0185 - nephriti_acc: 1.0000 - nephriti_mse: 0.0117 - val_loss: 0.1382 - val_inflam_loss: 0.1185 - val_nephriti_loss: 0.0984 - val_inflam_acc: 1.0000 - val_inflam_mse: 0.0216 - val_nephriti_acc: 1.0000 - val_nephriti_mse: 0.0120\n",
            "Epoch 552/1000\n",
            "1/1 - 0s - loss: 0.1270 - inflam_loss: 0.1085 - nephriti_loss: 0.0925 - inflam_acc: 1.0000 - inflam_mse: 0.0184 - nephriti_acc: 1.0000 - nephriti_mse: 0.0117 - val_loss: 0.1392 - val_inflam_loss: 0.1195 - val_nephriti_loss: 0.0984 - val_inflam_acc: 1.0000 - val_inflam_mse: 0.0221 - val_nephriti_acc: 1.0000 - val_nephriti_mse: 0.0121\n",
            "Epoch 553/1000\n",
            "1/1 - 0s - loss: 0.1270 - inflam_loss: 0.1085 - nephriti_loss: 0.0925 - inflam_acc: 1.0000 - inflam_mse: 0.0185 - nephriti_acc: 1.0000 - nephriti_mse: 0.0117 - val_loss: 0.1380 - val_inflam_loss: 0.1184 - val_nephriti_loss: 0.0983 - val_inflam_acc: 1.0000 - val_inflam_mse: 0.0215 - val_nephriti_acc: 1.0000 - val_nephriti_mse: 0.0120\n",
            "Epoch 554/1000\n",
            "1/1 - 0s - loss: 0.1269 - inflam_loss: 0.1084 - nephriti_loss: 0.0925 - inflam_acc: 1.0000 - inflam_mse: 0.0184 - nephriti_acc: 1.0000 - nephriti_mse: 0.0116 - val_loss: 0.1391 - val_inflam_loss: 0.1194 - val_nephriti_loss: 0.0983 - val_inflam_acc: 1.0000 - val_inflam_mse: 0.0221 - val_nephriti_acc: 1.0000 - val_nephriti_mse: 0.0120\n",
            "Epoch 555/1000\n",
            "1/1 - 0s - loss: 0.1268 - inflam_loss: 0.1083 - nephriti_loss: 0.0924 - inflam_acc: 1.0000 - inflam_mse: 0.0185 - nephriti_acc: 1.0000 - nephriti_mse: 0.0117 - val_loss: 0.1379 - val_inflam_loss: 0.1183 - val_nephriti_loss: 0.0982 - val_inflam_acc: 1.0000 - val_inflam_mse: 0.0215 - val_nephriti_acc: 1.0000 - val_nephriti_mse: 0.0120\n",
            "Epoch 556/1000\n",
            "1/1 - 0s - loss: 0.1268 - inflam_loss: 0.1083 - nephriti_loss: 0.0924 - inflam_acc: 1.0000 - inflam_mse: 0.0184 - nephriti_acc: 1.0000 - nephriti_mse: 0.0116 - val_loss: 0.1389 - val_inflam_loss: 0.1193 - val_nephriti_loss: 0.0982 - val_inflam_acc: 1.0000 - val_inflam_mse: 0.0221 - val_nephriti_acc: 1.0000 - val_nephriti_mse: 0.0120\n",
            "Epoch 557/1000\n",
            "1/1 - 0s - loss: 0.1267 - inflam_loss: 0.1082 - nephriti_loss: 0.0923 - inflam_acc: 1.0000 - inflam_mse: 0.0184 - nephriti_acc: 1.0000 - nephriti_mse: 0.0117 - val_loss: 0.1378 - val_inflam_loss: 0.1181 - val_nephriti_loss: 0.0981 - val_inflam_acc: 1.0000 - val_inflam_mse: 0.0214 - val_nephriti_acc: 1.0000 - val_nephriti_mse: 0.0119\n",
            "Epoch 558/1000\n",
            "1/1 - 0s - loss: 0.1266 - inflam_loss: 0.1082 - nephriti_loss: 0.0923 - inflam_acc: 1.0000 - inflam_mse: 0.0183 - nephriti_acc: 1.0000 - nephriti_mse: 0.0116 - val_loss: 0.1388 - val_inflam_loss: 0.1192 - val_nephriti_loss: 0.0981 - val_inflam_acc: 1.0000 - val_inflam_mse: 0.0220 - val_nephriti_acc: 1.0000 - val_nephriti_mse: 0.0120\n",
            "Epoch 559/1000\n",
            "1/1 - 0s - loss: 0.1266 - inflam_loss: 0.1081 - nephriti_loss: 0.0922 - inflam_acc: 1.0000 - inflam_mse: 0.0184 - nephriti_acc: 1.0000 - nephriti_mse: 0.0116 - val_loss: 0.1376 - val_inflam_loss: 0.1180 - val_nephriti_loss: 0.0980 - val_inflam_acc: 1.0000 - val_inflam_mse: 0.0214 - val_nephriti_acc: 1.0000 - val_nephriti_mse: 0.0119\n",
            "Epoch 560/1000\n",
            "1/1 - 0s - loss: 0.1265 - inflam_loss: 0.1081 - nephriti_loss: 0.0922 - inflam_acc: 1.0000 - inflam_mse: 0.0183 - nephriti_acc: 1.0000 - nephriti_mse: 0.0116 - val_loss: 0.1387 - val_inflam_loss: 0.1191 - val_nephriti_loss: 0.0980 - val_inflam_acc: 1.0000 - val_inflam_mse: 0.0220 - val_nephriti_acc: 1.0000 - val_nephriti_mse: 0.0120\n",
            "Epoch 561/1000\n",
            "1/1 - 0s - loss: 0.1264 - inflam_loss: 0.1080 - nephriti_loss: 0.0922 - inflam_acc: 1.0000 - inflam_mse: 0.0184 - nephriti_acc: 1.0000 - nephriti_mse: 0.0116 - val_loss: 0.1375 - val_inflam_loss: 0.1179 - val_nephriti_loss: 0.0979 - val_inflam_acc: 1.0000 - val_inflam_mse: 0.0214 - val_nephriti_acc: 1.0000 - val_nephriti_mse: 0.0119\n",
            "Epoch 562/1000\n",
            "1/1 - 0s - loss: 0.1264 - inflam_loss: 0.1080 - nephriti_loss: 0.0921 - inflam_acc: 1.0000 - inflam_mse: 0.0183 - nephriti_acc: 1.0000 - nephriti_mse: 0.0116 - val_loss: 0.1385 - val_inflam_loss: 0.1189 - val_nephriti_loss: 0.0979 - val_inflam_acc: 1.0000 - val_inflam_mse: 0.0219 - val_nephriti_acc: 1.0000 - val_nephriti_mse: 0.0120\n",
            "Epoch 563/1000\n",
            "1/1 - 0s - loss: 0.1263 - inflam_loss: 0.1079 - nephriti_loss: 0.0921 - inflam_acc: 1.0000 - inflam_mse: 0.0183 - nephriti_acc: 1.0000 - nephriti_mse: 0.0116 - val_loss: 0.1373 - val_inflam_loss: 0.1178 - val_nephriti_loss: 0.0978 - val_inflam_acc: 1.0000 - val_inflam_mse: 0.0213 - val_nephriti_acc: 1.0000 - val_nephriti_mse: 0.0119\n",
            "Epoch 564/1000\n",
            "1/1 - 0s - loss: 0.1262 - inflam_loss: 0.1078 - nephriti_loss: 0.0920 - inflam_acc: 1.0000 - inflam_mse: 0.0182 - nephriti_acc: 1.0000 - nephriti_mse: 0.0115 - val_loss: 0.1384 - val_inflam_loss: 0.1188 - val_nephriti_loss: 0.0978 - val_inflam_acc: 1.0000 - val_inflam_mse: 0.0219 - val_nephriti_acc: 1.0000 - val_nephriti_mse: 0.0119\n",
            "Epoch 565/1000\n",
            "1/1 - 0s - loss: 0.1262 - inflam_loss: 0.1078 - nephriti_loss: 0.0920 - inflam_acc: 1.0000 - inflam_mse: 0.0183 - nephriti_acc: 1.0000 - nephriti_mse: 0.0116 - val_loss: 0.1372 - val_inflam_loss: 0.1176 - val_nephriti_loss: 0.0978 - val_inflam_acc: 1.0000 - val_inflam_mse: 0.0213 - val_nephriti_acc: 1.0000 - val_nephriti_mse: 0.0119\n",
            "Epoch 566/1000\n",
            "1/1 - 0s - loss: 0.1261 - inflam_loss: 0.1077 - nephriti_loss: 0.0919 - inflam_acc: 1.0000 - inflam_mse: 0.0182 - nephriti_acc: 1.0000 - nephriti_mse: 0.0115 - val_loss: 0.1382 - val_inflam_loss: 0.1187 - val_nephriti_loss: 0.0977 - val_inflam_acc: 1.0000 - val_inflam_mse: 0.0219 - val_nephriti_acc: 1.0000 - val_nephriti_mse: 0.0119\n",
            "Epoch 567/1000\n",
            "1/1 - 0s - loss: 0.1261 - inflam_loss: 0.1077 - nephriti_loss: 0.0919 - inflam_acc: 1.0000 - inflam_mse: 0.0183 - nephriti_acc: 1.0000 - nephriti_mse: 0.0116 - val_loss: 0.1371 - val_inflam_loss: 0.1175 - val_nephriti_loss: 0.0977 - val_inflam_acc: 1.0000 - val_inflam_mse: 0.0213 - val_nephriti_acc: 1.0000 - val_nephriti_mse: 0.0118\n",
            "Epoch 568/1000\n",
            "1/1 - 0s - loss: 0.1260 - inflam_loss: 0.1076 - nephriti_loss: 0.0919 - inflam_acc: 1.0000 - inflam_mse: 0.0182 - nephriti_acc: 1.0000 - nephriti_mse: 0.0115 - val_loss: 0.1381 - val_inflam_loss: 0.1186 - val_nephriti_loss: 0.0977 - val_inflam_acc: 1.0000 - val_inflam_mse: 0.0218 - val_nephriti_acc: 1.0000 - val_nephriti_mse: 0.0119\n",
            "Epoch 569/1000\n",
            "1/1 - 0s - loss: 0.1259 - inflam_loss: 0.1076 - nephriti_loss: 0.0918 - inflam_acc: 1.0000 - inflam_mse: 0.0183 - nephriti_acc: 1.0000 - nephriti_mse: 0.0116 - val_loss: 0.1369 - val_inflam_loss: 0.1174 - val_nephriti_loss: 0.0976 - val_inflam_acc: 1.0000 - val_inflam_mse: 0.0212 - val_nephriti_acc: 1.0000 - val_nephriti_mse: 0.0118\n",
            "Epoch 570/1000\n",
            "1/1 - 0s - loss: 0.1259 - inflam_loss: 0.1075 - nephriti_loss: 0.0918 - inflam_acc: 1.0000 - inflam_mse: 0.0182 - nephriti_acc: 1.0000 - nephriti_mse: 0.0115 - val_loss: 0.1380 - val_inflam_loss: 0.1184 - val_nephriti_loss: 0.0976 - val_inflam_acc: 1.0000 - val_inflam_mse: 0.0218 - val_nephriti_acc: 1.0000 - val_nephriti_mse: 0.0119\n",
            "Epoch 571/1000\n",
            "1/1 - 0s - loss: 0.1258 - inflam_loss: 0.1075 - nephriti_loss: 0.0917 - inflam_acc: 1.0000 - inflam_mse: 0.0182 - nephriti_acc: 1.0000 - nephriti_mse: 0.0115 - val_loss: 0.1368 - val_inflam_loss: 0.1173 - val_nephriti_loss: 0.0975 - val_inflam_acc: 1.0000 - val_inflam_mse: 0.0212 - val_nephriti_acc: 1.0000 - val_nephriti_mse: 0.0118\n",
            "Epoch 572/1000\n",
            "1/1 - 0s - loss: 0.1257 - inflam_loss: 0.1074 - nephriti_loss: 0.0917 - inflam_acc: 1.0000 - inflam_mse: 0.0181 - nephriti_acc: 1.0000 - nephriti_mse: 0.0115 - val_loss: 0.1378 - val_inflam_loss: 0.1183 - val_nephriti_loss: 0.0975 - val_inflam_acc: 1.0000 - val_inflam_mse: 0.0218 - val_nephriti_acc: 1.0000 - val_nephriti_mse: 0.0119\n",
            "Epoch 573/1000\n",
            "1/1 - 0s - loss: 0.1257 - inflam_loss: 0.1073 - nephriti_loss: 0.0916 - inflam_acc: 1.0000 - inflam_mse: 0.0182 - nephriti_acc: 1.0000 - nephriti_mse: 0.0115 - val_loss: 0.1366 - val_inflam_loss: 0.1172 - val_nephriti_loss: 0.0974 - val_inflam_acc: 1.0000 - val_inflam_mse: 0.0212 - val_nephriti_acc: 1.0000 - val_nephriti_mse: 0.0118\n",
            "Epoch 574/1000\n",
            "1/1 - 0s - loss: 0.1256 - inflam_loss: 0.1073 - nephriti_loss: 0.0916 - inflam_acc: 1.0000 - inflam_mse: 0.0181 - nephriti_acc: 1.0000 - nephriti_mse: 0.0114 - val_loss: 0.1377 - val_inflam_loss: 0.1182 - val_nephriti_loss: 0.0974 - val_inflam_acc: 1.0000 - val_inflam_mse: 0.0217 - val_nephriti_acc: 1.0000 - val_nephriti_mse: 0.0118\n",
            "Epoch 575/1000\n",
            "1/1 - 0s - loss: 0.1255 - inflam_loss: 0.1072 - nephriti_loss: 0.0915 - inflam_acc: 1.0000 - inflam_mse: 0.0182 - nephriti_acc: 1.0000 - nephriti_mse: 0.0115 - val_loss: 0.1365 - val_inflam_loss: 0.1170 - val_nephriti_loss: 0.0973 - val_inflam_acc: 1.0000 - val_inflam_mse: 0.0211 - val_nephriti_acc: 1.0000 - val_nephriti_mse: 0.0118\n",
            "Epoch 576/1000\n",
            "1/1 - 0s - loss: 0.1255 - inflam_loss: 0.1072 - nephriti_loss: 0.0915 - inflam_acc: 1.0000 - inflam_mse: 0.0181 - nephriti_acc: 1.0000 - nephriti_mse: 0.0114 - val_loss: 0.1375 - val_inflam_loss: 0.1181 - val_nephriti_loss: 0.0973 - val_inflam_acc: 1.0000 - val_inflam_mse: 0.0217 - val_nephriti_acc: 1.0000 - val_nephriti_mse: 0.0118\n",
            "Epoch 577/1000\n",
            "1/1 - 0s - loss: 0.1254 - inflam_loss: 0.1071 - nephriti_loss: 0.0915 - inflam_acc: 1.0000 - inflam_mse: 0.0181 - nephriti_acc: 1.0000 - nephriti_mse: 0.0115 - val_loss: 0.1364 - val_inflam_loss: 0.1169 - val_nephriti_loss: 0.0972 - val_inflam_acc: 1.0000 - val_inflam_mse: 0.0211 - val_nephriti_acc: 1.0000 - val_nephriti_mse: 0.0118\n",
            "Epoch 578/1000\n",
            "1/1 - 0s - loss: 0.1254 - inflam_loss: 0.1071 - nephriti_loss: 0.0914 - inflam_acc: 1.0000 - inflam_mse: 0.0180 - nephriti_acc: 1.0000 - nephriti_mse: 0.0114 - val_loss: 0.1374 - val_inflam_loss: 0.1180 - val_nephriti_loss: 0.0972 - val_inflam_acc: 1.0000 - val_inflam_mse: 0.0217 - val_nephriti_acc: 1.0000 - val_nephriti_mse: 0.0118\n",
            "Epoch 579/1000\n",
            "1/1 - 0s - loss: 0.1253 - inflam_loss: 0.1070 - nephriti_loss: 0.0914 - inflam_acc: 1.0000 - inflam_mse: 0.0181 - nephriti_acc: 1.0000 - nephriti_mse: 0.0115 - val_loss: 0.1362 - val_inflam_loss: 0.1168 - val_nephriti_loss: 0.0971 - val_inflam_acc: 1.0000 - val_inflam_mse: 0.0211 - val_nephriti_acc: 1.0000 - val_nephriti_mse: 0.0117\n",
            "Epoch 580/1000\n",
            "1/1 - 0s - loss: 0.1252 - inflam_loss: 0.1070 - nephriti_loss: 0.0913 - inflam_acc: 1.0000 - inflam_mse: 0.0180 - nephriti_acc: 1.0000 - nephriti_mse: 0.0114 - val_loss: 0.1372 - val_inflam_loss: 0.1178 - val_nephriti_loss: 0.0971 - val_inflam_acc: 1.0000 - val_inflam_mse: 0.0216 - val_nephriti_acc: 1.0000 - val_nephriti_mse: 0.0118\n",
            "Epoch 581/1000\n",
            "1/1 - 0s - loss: 0.1252 - inflam_loss: 0.1069 - nephriti_loss: 0.0913 - inflam_acc: 1.0000 - inflam_mse: 0.0181 - nephriti_acc: 1.0000 - nephriti_mse: 0.0114 - val_loss: 0.1361 - val_inflam_loss: 0.1167 - val_nephriti_loss: 0.0970 - val_inflam_acc: 1.0000 - val_inflam_mse: 0.0210 - val_nephriti_acc: 1.0000 - val_nephriti_mse: 0.0117\n",
            "Epoch 582/1000\n",
            "1/1 - 0s - loss: 0.1251 - inflam_loss: 0.1068 - nephriti_loss: 0.0912 - inflam_acc: 1.0000 - inflam_mse: 0.0180 - nephriti_acc: 1.0000 - nephriti_mse: 0.0114 - val_loss: 0.1371 - val_inflam_loss: 0.1177 - val_nephriti_loss: 0.0970 - val_inflam_acc: 1.0000 - val_inflam_mse: 0.0216 - val_nephriti_acc: 1.0000 - val_nephriti_mse: 0.0118\n",
            "Epoch 583/1000\n",
            "1/1 - 0s - loss: 0.1250 - inflam_loss: 0.1068 - nephriti_loss: 0.0912 - inflam_acc: 1.0000 - inflam_mse: 0.0181 - nephriti_acc: 1.0000 - nephriti_mse: 0.0114 - val_loss: 0.1359 - val_inflam_loss: 0.1166 - val_nephriti_loss: 0.0969 - val_inflam_acc: 1.0000 - val_inflam_mse: 0.0210 - val_nephriti_acc: 1.0000 - val_nephriti_mse: 0.0117\n",
            "Epoch 584/1000\n",
            "1/1 - 0s - loss: 0.1250 - inflam_loss: 0.1067 - nephriti_loss: 0.0912 - inflam_acc: 1.0000 - inflam_mse: 0.0180 - nephriti_acc: 1.0000 - nephriti_mse: 0.0114 - val_loss: 0.1370 - val_inflam_loss: 0.1176 - val_nephriti_loss: 0.0969 - val_inflam_acc: 1.0000 - val_inflam_mse: 0.0216 - val_nephriti_acc: 1.0000 - val_nephriti_mse: 0.0117\n",
            "Epoch 585/1000\n",
            "1/1 - 0s - loss: 0.1249 - inflam_loss: 0.1067 - nephriti_loss: 0.0911 - inflam_acc: 1.0000 - inflam_mse: 0.0180 - nephriti_acc: 1.0000 - nephriti_mse: 0.0114 - val_loss: 0.1358 - val_inflam_loss: 0.1164 - val_nephriti_loss: 0.0968 - val_inflam_acc: 1.0000 - val_inflam_mse: 0.0210 - val_nephriti_acc: 1.0000 - val_nephriti_mse: 0.0117\n",
            "Epoch 586/1000\n",
            "1/1 - 0s - loss: 0.1248 - inflam_loss: 0.1066 - nephriti_loss: 0.0911 - inflam_acc: 1.0000 - inflam_mse: 0.0179 - nephriti_acc: 1.0000 - nephriti_mse: 0.0113 - val_loss: 0.1368 - val_inflam_loss: 0.1175 - val_nephriti_loss: 0.0968 - val_inflam_acc: 1.0000 - val_inflam_mse: 0.0215 - val_nephriti_acc: 1.0000 - val_nephriti_mse: 0.0117\n",
            "Epoch 587/1000\n",
            "1/1 - 0s - loss: 0.1248 - inflam_loss: 0.1066 - nephriti_loss: 0.0910 - inflam_acc: 1.0000 - inflam_mse: 0.0180 - nephriti_acc: 1.0000 - nephriti_mse: 0.0114 - val_loss: 0.1357 - val_inflam_loss: 0.1163 - val_nephriti_loss: 0.0967 - val_inflam_acc: 1.0000 - val_inflam_mse: 0.0209 - val_nephriti_acc: 1.0000 - val_nephriti_mse: 0.0117\n",
            "Epoch 588/1000\n",
            "1/1 - 0s - loss: 0.1247 - inflam_loss: 0.1065 - nephriti_loss: 0.0910 - inflam_acc: 1.0000 - inflam_mse: 0.0179 - nephriti_acc: 1.0000 - nephriti_mse: 0.0113 - val_loss: 0.1367 - val_inflam_loss: 0.1173 - val_nephriti_loss: 0.0967 - val_inflam_acc: 1.0000 - val_inflam_mse: 0.0215 - val_nephriti_acc: 1.0000 - val_nephriti_mse: 0.0117\n",
            "Epoch 589/1000\n",
            "1/1 - 0s - loss: 0.1247 - inflam_loss: 0.1065 - nephriti_loss: 0.0909 - inflam_acc: 1.0000 - inflam_mse: 0.0180 - nephriti_acc: 1.0000 - nephriti_mse: 0.0114 - val_loss: 0.1355 - val_inflam_loss: 0.1162 - val_nephriti_loss: 0.0966 - val_inflam_acc: 1.0000 - val_inflam_mse: 0.0209 - val_nephriti_acc: 1.0000 - val_nephriti_mse: 0.0116\n",
            "Epoch 590/1000\n",
            "1/1 - 0s - loss: 0.1246 - inflam_loss: 0.1064 - nephriti_loss: 0.0909 - inflam_acc: 1.0000 - inflam_mse: 0.0179 - nephriti_acc: 1.0000 - nephriti_mse: 0.0113 - val_loss: 0.1366 - val_inflam_loss: 0.1172 - val_nephriti_loss: 0.0966 - val_inflam_acc: 1.0000 - val_inflam_mse: 0.0215 - val_nephriti_acc: 1.0000 - val_nephriti_mse: 0.0117\n",
            "Epoch 591/1000\n",
            "1/1 - 0s - loss: 0.1245 - inflam_loss: 0.1064 - nephriti_loss: 0.0909 - inflam_acc: 1.0000 - inflam_mse: 0.0179 - nephriti_acc: 1.0000 - nephriti_mse: 0.0113 - val_loss: 0.1354 - val_inflam_loss: 0.1161 - val_nephriti_loss: 0.0966 - val_inflam_acc: 1.0000 - val_inflam_mse: 0.0209 - val_nephriti_acc: 1.0000 - val_nephriti_mse: 0.0116\n",
            "Epoch 592/1000\n",
            "1/1 - 0s - loss: 0.1245 - inflam_loss: 0.1063 - nephriti_loss: 0.0908 - inflam_acc: 1.0000 - inflam_mse: 0.0178 - nephriti_acc: 1.0000 - nephriti_mse: 0.0113 - val_loss: 0.1364 - val_inflam_loss: 0.1171 - val_nephriti_loss: 0.0965 - val_inflam_acc: 1.0000 - val_inflam_mse: 0.0214 - val_nephriti_acc: 1.0000 - val_nephriti_mse: 0.0117\n",
            "Epoch 593/1000\n",
            "1/1 - 0s - loss: 0.1244 - inflam_loss: 0.1062 - nephriti_loss: 0.0908 - inflam_acc: 1.0000 - inflam_mse: 0.0179 - nephriti_acc: 1.0000 - nephriti_mse: 0.0113 - val_loss: 0.1352 - val_inflam_loss: 0.1160 - val_nephriti_loss: 0.0965 - val_inflam_acc: 1.0000 - val_inflam_mse: 0.0208 - val_nephriti_acc: 1.0000 - val_nephriti_mse: 0.0116\n",
            "Epoch 594/1000\n",
            "1/1 - 0s - loss: 0.1243 - inflam_loss: 0.1062 - nephriti_loss: 0.0907 - inflam_acc: 1.0000 - inflam_mse: 0.0178 - nephriti_acc: 1.0000 - nephriti_mse: 0.0113 - val_loss: 0.1363 - val_inflam_loss: 0.1170 - val_nephriti_loss: 0.0965 - val_inflam_acc: 1.0000 - val_inflam_mse: 0.0214 - val_nephriti_acc: 1.0000 - val_nephriti_mse: 0.0116\n",
            "Epoch 595/1000\n",
            "1/1 - 0s - loss: 0.1243 - inflam_loss: 0.1061 - nephriti_loss: 0.0907 - inflam_acc: 1.0000 - inflam_mse: 0.0179 - nephriti_acc: 1.0000 - nephriti_mse: 0.0113 - val_loss: 0.1351 - val_inflam_loss: 0.1158 - val_nephriti_loss: 0.0964 - val_inflam_acc: 1.0000 - val_inflam_mse: 0.0208 - val_nephriti_acc: 1.0000 - val_nephriti_mse: 0.0116\n",
            "Epoch 596/1000\n",
            "1/1 - 0s - loss: 0.1242 - inflam_loss: 0.1061 - nephriti_loss: 0.0906 - inflam_acc: 1.0000 - inflam_mse: 0.0178 - nephriti_acc: 1.0000 - nephriti_mse: 0.0112 - val_loss: 0.1361 - val_inflam_loss: 0.1169 - val_nephriti_loss: 0.0964 - val_inflam_acc: 1.0000 - val_inflam_mse: 0.0214 - val_nephriti_acc: 1.0000 - val_nephriti_mse: 0.0116\n",
            "Epoch 597/1000\n",
            "1/1 - 0s - loss: 0.1241 - inflam_loss: 0.1060 - nephriti_loss: 0.0906 - inflam_acc: 1.0000 - inflam_mse: 0.0179 - nephriti_acc: 1.0000 - nephriti_mse: 0.0113 - val_loss: 0.1350 - val_inflam_loss: 0.1157 - val_nephriti_loss: 0.0963 - val_inflam_acc: 1.0000 - val_inflam_mse: 0.0208 - val_nephriti_acc: 1.0000 - val_nephriti_mse: 0.0116\n",
            "Epoch 598/1000\n",
            "1/1 - 0s - loss: 0.1241 - inflam_loss: 0.1060 - nephriti_loss: 0.0906 - inflam_acc: 1.0000 - inflam_mse: 0.0178 - nephriti_acc: 1.0000 - nephriti_mse: 0.0112 - val_loss: 0.1360 - val_inflam_loss: 0.1167 - val_nephriti_loss: 0.0963 - val_inflam_acc: 1.0000 - val_inflam_mse: 0.0213 - val_nephriti_acc: 1.0000 - val_nephriti_mse: 0.0116\n",
            "Epoch 599/1000\n",
            "1/1 - 0s - loss: 0.1240 - inflam_loss: 0.1059 - nephriti_loss: 0.0905 - inflam_acc: 1.0000 - inflam_mse: 0.0178 - nephriti_acc: 1.0000 - nephriti_mse: 0.0113 - val_loss: 0.1348 - val_inflam_loss: 0.1156 - val_nephriti_loss: 0.0962 - val_inflam_acc: 1.0000 - val_inflam_mse: 0.0207 - val_nephriti_acc: 1.0000 - val_nephriti_mse: 0.0115\n",
            "Epoch 600/1000\n",
            "1/1 - 0s - loss: 0.1240 - inflam_loss: 0.1059 - nephriti_loss: 0.0905 - inflam_acc: 1.0000 - inflam_mse: 0.0177 - nephriti_acc: 1.0000 - nephriti_mse: 0.0112 - val_loss: 0.1359 - val_inflam_loss: 0.1166 - val_nephriti_loss: 0.0962 - val_inflam_acc: 1.0000 - val_inflam_mse: 0.0213 - val_nephriti_acc: 1.0000 - val_nephriti_mse: 0.0116\n",
            "Epoch 601/1000\n",
            "1/1 - 0s - loss: 0.1239 - inflam_loss: 0.1058 - nephriti_loss: 0.0904 - inflam_acc: 1.0000 - inflam_mse: 0.0178 - nephriti_acc: 1.0000 - nephriti_mse: 0.0113 - val_loss: 0.1347 - val_inflam_loss: 0.1155 - val_nephriti_loss: 0.0961 - val_inflam_acc: 1.0000 - val_inflam_mse: 0.0207 - val_nephriti_acc: 1.0000 - val_nephriti_mse: 0.0115\n",
            "Epoch 602/1000\n",
            "1/1 - 0s - loss: 0.1238 - inflam_loss: 0.1058 - nephriti_loss: 0.0904 - inflam_acc: 1.0000 - inflam_mse: 0.0177 - nephriti_acc: 1.0000 - nephriti_mse: 0.0112 - val_loss: 0.1357 - val_inflam_loss: 0.1165 - val_nephriti_loss: 0.0961 - val_inflam_acc: 1.0000 - val_inflam_mse: 0.0213 - val_nephriti_acc: 1.0000 - val_nephriti_mse: 0.0116\n",
            "Epoch 603/1000\n",
            "1/1 - 0s - loss: 0.1238 - inflam_loss: 0.1057 - nephriti_loss: 0.0903 - inflam_acc: 1.0000 - inflam_mse: 0.0178 - nephriti_acc: 1.0000 - nephriti_mse: 0.0112 - val_loss: 0.1346 - val_inflam_loss: 0.1154 - val_nephriti_loss: 0.0960 - val_inflam_acc: 1.0000 - val_inflam_mse: 0.0207 - val_nephriti_acc: 1.0000 - val_nephriti_mse: 0.0115\n",
            "Epoch 604/1000\n",
            "1/1 - 0s - loss: 0.1237 - inflam_loss: 0.1056 - nephriti_loss: 0.0903 - inflam_acc: 1.0000 - inflam_mse: 0.0177 - nephriti_acc: 1.0000 - nephriti_mse: 0.0112 - val_loss: 0.1356 - val_inflam_loss: 0.1164 - val_nephriti_loss: 0.0960 - val_inflam_acc: 1.0000 - val_inflam_mse: 0.0212 - val_nephriti_acc: 1.0000 - val_nephriti_mse: 0.0116\n",
            "Epoch 605/1000\n",
            "1/1 - 0s - loss: 0.1236 - inflam_loss: 0.1056 - nephriti_loss: 0.0903 - inflam_acc: 1.0000 - inflam_mse: 0.0177 - nephriti_acc: 1.0000 - nephriti_mse: 0.0112 - val_loss: 0.1344 - val_inflam_loss: 0.1152 - val_nephriti_loss: 0.0959 - val_inflam_acc: 1.0000 - val_inflam_mse: 0.0206 - val_nephriti_acc: 1.0000 - val_nephriti_mse: 0.0115\n",
            "Epoch 606/1000\n",
            "1/1 - 0s - loss: 0.1236 - inflam_loss: 0.1055 - nephriti_loss: 0.0902 - inflam_acc: 1.0000 - inflam_mse: 0.0176 - nephriti_acc: 1.0000 - nephriti_mse: 0.0112 - val_loss: 0.1354 - val_inflam_loss: 0.1163 - val_nephriti_loss: 0.0959 - val_inflam_acc: 1.0000 - val_inflam_mse: 0.0212 - val_nephriti_acc: 1.0000 - val_nephriti_mse: 0.0115\n",
            "Epoch 607/1000\n",
            "1/1 - 0s - loss: 0.1235 - inflam_loss: 0.1055 - nephriti_loss: 0.0902 - inflam_acc: 1.0000 - inflam_mse: 0.0177 - nephriti_acc: 1.0000 - nephriti_mse: 0.0112 - val_loss: 0.1343 - val_inflam_loss: 0.1151 - val_nephriti_loss: 0.0958 - val_inflam_acc: 1.0000 - val_inflam_mse: 0.0206 - val_nephriti_acc: 1.0000 - val_nephriti_mse: 0.0115\n",
            "Epoch 608/1000\n",
            "1/1 - 0s - loss: 0.1235 - inflam_loss: 0.1054 - nephriti_loss: 0.0901 - inflam_acc: 1.0000 - inflam_mse: 0.0176 - nephriti_acc: 1.0000 - nephriti_mse: 0.0111 - val_loss: 0.1353 - val_inflam_loss: 0.1161 - val_nephriti_loss: 0.0958 - val_inflam_acc: 1.0000 - val_inflam_mse: 0.0212 - val_nephriti_acc: 1.0000 - val_nephriti_mse: 0.0115\n",
            "Epoch 609/1000\n",
            "1/1 - 0s - loss: 0.1234 - inflam_loss: 0.1054 - nephriti_loss: 0.0901 - inflam_acc: 1.0000 - inflam_mse: 0.0177 - nephriti_acc: 1.0000 - nephriti_mse: 0.0112 - val_loss: 0.1341 - val_inflam_loss: 0.1150 - val_nephriti_loss: 0.0957 - val_inflam_acc: 1.0000 - val_inflam_mse: 0.0206 - val_nephriti_acc: 1.0000 - val_nephriti_mse: 0.0114\n",
            "Epoch 610/1000\n",
            "1/1 - 0s - loss: 0.1233 - inflam_loss: 0.1053 - nephriti_loss: 0.0900 - inflam_acc: 1.0000 - inflam_mse: 0.0176 - nephriti_acc: 1.0000 - nephriti_mse: 0.0111 - val_loss: 0.1352 - val_inflam_loss: 0.1160 - val_nephriti_loss: 0.0957 - val_inflam_acc: 1.0000 - val_inflam_mse: 0.0211 - val_nephriti_acc: 1.0000 - val_nephriti_mse: 0.0115\n",
            "Epoch 611/1000\n",
            "1/1 - 0s - loss: 0.1233 - inflam_loss: 0.1053 - nephriti_loss: 0.0900 - inflam_acc: 1.0000 - inflam_mse: 0.0177 - nephriti_acc: 1.0000 - nephriti_mse: 0.0112 - val_loss: 0.1340 - val_inflam_loss: 0.1149 - val_nephriti_loss: 0.0956 - val_inflam_acc: 1.0000 - val_inflam_mse: 0.0205 - val_nephriti_acc: 1.0000 - val_nephriti_mse: 0.0114\n",
            "Epoch 612/1000\n",
            "1/1 - 0s - loss: 0.1232 - inflam_loss: 0.1052 - nephriti_loss: 0.0900 - inflam_acc: 1.0000 - inflam_mse: 0.0176 - nephriti_acc: 1.0000 - nephriti_mse: 0.0111 - val_loss: 0.1350 - val_inflam_loss: 0.1159 - val_nephriti_loss: 0.0956 - val_inflam_acc: 1.0000 - val_inflam_mse: 0.0211 - val_nephriti_acc: 1.0000 - val_nephriti_mse: 0.0115\n",
            "Epoch 613/1000\n",
            "1/1 - 0s - loss: 0.1231 - inflam_loss: 0.1052 - nephriti_loss: 0.0899 - inflam_acc: 1.0000 - inflam_mse: 0.0176 - nephriti_acc: 1.0000 - nephriti_mse: 0.0111 - val_loss: 0.1339 - val_inflam_loss: 0.1148 - val_nephriti_loss: 0.0956 - val_inflam_acc: 1.0000 - val_inflam_mse: 0.0205 - val_nephriti_acc: 1.0000 - val_nephriti_mse: 0.0114\n",
            "Epoch 614/1000\n",
            "1/1 - 0s - loss: 0.1231 - inflam_loss: 0.1051 - nephriti_loss: 0.0899 - inflam_acc: 1.0000 - inflam_mse: 0.0175 - nephriti_acc: 1.0000 - nephriti_mse: 0.0111 - val_loss: 0.1349 - val_inflam_loss: 0.1158 - val_nephriti_loss: 0.0955 - val_inflam_acc: 1.0000 - val_inflam_mse: 0.0210 - val_nephriti_acc: 1.0000 - val_nephriti_mse: 0.0115\n",
            "Epoch 615/1000\n",
            "1/1 - 0s - loss: 0.1230 - inflam_loss: 0.1051 - nephriti_loss: 0.0898 - inflam_acc: 1.0000 - inflam_mse: 0.0176 - nephriti_acc: 1.0000 - nephriti_mse: 0.0111 - val_loss: 0.1337 - val_inflam_loss: 0.1146 - val_nephriti_loss: 0.0955 - val_inflam_acc: 1.0000 - val_inflam_mse: 0.0205 - val_nephriti_acc: 1.0000 - val_nephriti_mse: 0.0114\n",
            "Epoch 616/1000\n",
            "1/1 - 0s - loss: 0.1230 - inflam_loss: 0.1050 - nephriti_loss: 0.0898 - inflam_acc: 1.0000 - inflam_mse: 0.0175 - nephriti_acc: 1.0000 - nephriti_mse: 0.0111 - val_loss: 0.1348 - val_inflam_loss: 0.1157 - val_nephriti_loss: 0.0955 - val_inflam_acc: 1.0000 - val_inflam_mse: 0.0210 - val_nephriti_acc: 1.0000 - val_nephriti_mse: 0.0114\n",
            "Epoch 617/1000\n",
            "1/1 - 0s - loss: 0.1229 - inflam_loss: 0.1049 - nephriti_loss: 0.0898 - inflam_acc: 1.0000 - inflam_mse: 0.0176 - nephriti_acc: 1.0000 - nephriti_mse: 0.0111 - val_loss: 0.1336 - val_inflam_loss: 0.1145 - val_nephriti_loss: 0.0954 - val_inflam_acc: 1.0000 - val_inflam_mse: 0.0204 - val_nephriti_acc: 1.0000 - val_nephriti_mse: 0.0114\n",
            "Epoch 618/1000\n",
            "1/1 - 0s - loss: 0.1228 - inflam_loss: 0.1049 - nephriti_loss: 0.0897 - inflam_acc: 1.0000 - inflam_mse: 0.0175 - nephriti_acc: 1.0000 - nephriti_mse: 0.0110 - val_loss: 0.1346 - val_inflam_loss: 0.1155 - val_nephriti_loss: 0.0954 - val_inflam_acc: 1.0000 - val_inflam_mse: 0.0210 - val_nephriti_acc: 1.0000 - val_nephriti_mse: 0.0114\n",
            "Epoch 619/1000\n",
            "1/1 - 0s - loss: 0.1228 - inflam_loss: 0.1048 - nephriti_loss: 0.0897 - inflam_acc: 1.0000 - inflam_mse: 0.0175 - nephriti_acc: 1.0000 - nephriti_mse: 0.0111 - val_loss: 0.1335 - val_inflam_loss: 0.1144 - val_nephriti_loss: 0.0953 - val_inflam_acc: 1.0000 - val_inflam_mse: 0.0204 - val_nephriti_acc: 1.0000 - val_nephriti_mse: 0.0114\n",
            "Epoch 620/1000\n",
            "1/1 - 0s - loss: 0.1227 - inflam_loss: 0.1048 - nephriti_loss: 0.0896 - inflam_acc: 1.0000 - inflam_mse: 0.0174 - nephriti_acc: 1.0000 - nephriti_mse: 0.0110 - val_loss: 0.1345 - val_inflam_loss: 0.1154 - val_nephriti_loss: 0.0953 - val_inflam_acc: 1.0000 - val_inflam_mse: 0.0209 - val_nephriti_acc: 1.0000 - val_nephriti_mse: 0.0114\n",
            "Epoch 621/1000\n",
            "1/1 - 0s - loss: 0.1227 - inflam_loss: 0.1047 - nephriti_loss: 0.0896 - inflam_acc: 1.0000 - inflam_mse: 0.0175 - nephriti_acc: 1.0000 - nephriti_mse: 0.0111 - val_loss: 0.1333 - val_inflam_loss: 0.1143 - val_nephriti_loss: 0.0952 - val_inflam_acc: 1.0000 - val_inflam_mse: 0.0204 - val_nephriti_acc: 1.0000 - val_nephriti_mse: 0.0113\n",
            "Epoch 622/1000\n",
            "1/1 - 0s - loss: 0.1226 - inflam_loss: 0.1047 - nephriti_loss: 0.0895 - inflam_acc: 1.0000 - inflam_mse: 0.0174 - nephriti_acc: 1.0000 - nephriti_mse: 0.0110 - val_loss: 0.1343 - val_inflam_loss: 0.1153 - val_nephriti_loss: 0.0952 - val_inflam_acc: 1.0000 - val_inflam_mse: 0.0209 - val_nephriti_acc: 1.0000 - val_nephriti_mse: 0.0114\n",
            "Epoch 623/1000\n",
            "1/1 - 0s - loss: 0.1225 - inflam_loss: 0.1046 - nephriti_loss: 0.0895 - inflam_acc: 1.0000 - inflam_mse: 0.0175 - nephriti_acc: 1.0000 - nephriti_mse: 0.0111 - val_loss: 0.1332 - val_inflam_loss: 0.1142 - val_nephriti_loss: 0.0951 - val_inflam_acc: 1.0000 - val_inflam_mse: 0.0203 - val_nephriti_acc: 1.0000 - val_nephriti_mse: 0.0113\n",
            "Epoch 624/1000\n",
            "1/1 - 0s - loss: 0.1225 - inflam_loss: 0.1046 - nephriti_loss: 0.0895 - inflam_acc: 1.0000 - inflam_mse: 0.0174 - nephriti_acc: 1.0000 - nephriti_mse: 0.0110 - val_loss: 0.1342 - val_inflam_loss: 0.1152 - val_nephriti_loss: 0.0951 - val_inflam_acc: 1.0000 - val_inflam_mse: 0.0209 - val_nephriti_acc: 1.0000 - val_nephriti_mse: 0.0114\n",
            "Epoch 625/1000\n",
            "1/1 - 0s - loss: 0.1224 - inflam_loss: 0.1045 - nephriti_loss: 0.0894 - inflam_acc: 1.0000 - inflam_mse: 0.0175 - nephriti_acc: 1.0000 - nephriti_mse: 0.0110 - val_loss: 0.1331 - val_inflam_loss: 0.1141 - val_nephriti_loss: 0.0950 - val_inflam_acc: 1.0000 - val_inflam_mse: 0.0203 - val_nephriti_acc: 1.0000 - val_nephriti_mse: 0.0113\n",
            "Epoch 626/1000\n",
            "1/1 - 0s - loss: 0.1223 - inflam_loss: 0.1045 - nephriti_loss: 0.0894 - inflam_acc: 1.0000 - inflam_mse: 0.0174 - nephriti_acc: 1.0000 - nephriti_mse: 0.0110 - val_loss: 0.1341 - val_inflam_loss: 0.1151 - val_nephriti_loss: 0.0950 - val_inflam_acc: 1.0000 - val_inflam_mse: 0.0208 - val_nephriti_acc: 1.0000 - val_nephriti_mse: 0.0113\n",
            "Epoch 627/1000\n",
            "1/1 - 0s - loss: 0.1223 - inflam_loss: 0.1044 - nephriti_loss: 0.0893 - inflam_acc: 1.0000 - inflam_mse: 0.0174 - nephriti_acc: 1.0000 - nephriti_mse: 0.0110 - val_loss: 0.1329 - val_inflam_loss: 0.1139 - val_nephriti_loss: 0.0949 - val_inflam_acc: 1.0000 - val_inflam_mse: 0.0203 - val_nephriti_acc: 1.0000 - val_nephriti_mse: 0.0113\n",
            "Epoch 628/1000\n",
            "1/1 - 0s - loss: 0.1222 - inflam_loss: 0.1044 - nephriti_loss: 0.0893 - inflam_acc: 1.0000 - inflam_mse: 0.0173 - nephriti_acc: 1.0000 - nephriti_mse: 0.0110 - val_loss: 0.1339 - val_inflam_loss: 0.1149 - val_nephriti_loss: 0.0949 - val_inflam_acc: 1.0000 - val_inflam_mse: 0.0208 - val_nephriti_acc: 1.0000 - val_nephriti_mse: 0.0113\n",
            "Epoch 629/1000\n",
            "1/1 - 0s - loss: 0.1222 - inflam_loss: 0.1043 - nephriti_loss: 0.0892 - inflam_acc: 1.0000 - inflam_mse: 0.0174 - nephriti_acc: 1.0000 - nephriti_mse: 0.0110 - val_loss: 0.1328 - val_inflam_loss: 0.1138 - val_nephriti_loss: 0.0948 - val_inflam_acc: 1.0000 - val_inflam_mse: 0.0202 - val_nephriti_acc: 1.0000 - val_nephriti_mse: 0.0113\n",
            "Epoch 630/1000\n",
            "1/1 - 0s - loss: 0.1221 - inflam_loss: 0.1043 - nephriti_loss: 0.0892 - inflam_acc: 1.0000 - inflam_mse: 0.0173 - nephriti_acc: 1.0000 - nephriti_mse: 0.0109 - val_loss: 0.1338 - val_inflam_loss: 0.1148 - val_nephriti_loss: 0.0948 - val_inflam_acc: 1.0000 - val_inflam_mse: 0.0208 - val_nephriti_acc: 1.0000 - val_nephriti_mse: 0.0113\n",
            "Epoch 631/1000\n",
            "1/1 - 0s - loss: 0.1220 - inflam_loss: 0.1042 - nephriti_loss: 0.0892 - inflam_acc: 1.0000 - inflam_mse: 0.0174 - nephriti_acc: 1.0000 - nephriti_mse: 0.0110 - val_loss: 0.1326 - val_inflam_loss: 0.1137 - val_nephriti_loss: 0.0947 - val_inflam_acc: 1.0000 - val_inflam_mse: 0.0202 - val_nephriti_acc: 1.0000 - val_nephriti_mse: 0.0112\n",
            "Epoch 632/1000\n",
            "1/1 - 0s - loss: 0.1220 - inflam_loss: 0.1041 - nephriti_loss: 0.0891 - inflam_acc: 1.0000 - inflam_mse: 0.0173 - nephriti_acc: 1.0000 - nephriti_mse: 0.0109 - val_loss: 0.1337 - val_inflam_loss: 0.1147 - val_nephriti_loss: 0.0947 - val_inflam_acc: 1.0000 - val_inflam_mse: 0.0207 - val_nephriti_acc: 1.0000 - val_nephriti_mse: 0.0113\n",
            "Epoch 633/1000\n",
            "1/1 - 0s - loss: 0.1219 - inflam_loss: 0.1041 - nephriti_loss: 0.0891 - inflam_acc: 1.0000 - inflam_mse: 0.0173 - nephriti_acc: 1.0000 - nephriti_mse: 0.0110 - val_loss: 0.1325 - val_inflam_loss: 0.1136 - val_nephriti_loss: 0.0947 - val_inflam_acc: 1.0000 - val_inflam_mse: 0.0202 - val_nephriti_acc: 1.0000 - val_nephriti_mse: 0.0112\n",
            "Epoch 634/1000\n",
            "1/1 - 0s - loss: 0.1218 - inflam_loss: 0.1040 - nephriti_loss: 0.0890 - inflam_acc: 1.0000 - inflam_mse: 0.0172 - nephriti_acc: 1.0000 - nephriti_mse: 0.0109 - val_loss: 0.1335 - val_inflam_loss: 0.1146 - val_nephriti_loss: 0.0946 - val_inflam_acc: 1.0000 - val_inflam_mse: 0.0207 - val_nephriti_acc: 1.0000 - val_nephriti_mse: 0.0113\n",
            "Epoch 635/1000\n",
            "1/1 - 0s - loss: 0.1218 - inflam_loss: 0.1040 - nephriti_loss: 0.0890 - inflam_acc: 1.0000 - inflam_mse: 0.0173 - nephriti_acc: 1.0000 - nephriti_mse: 0.0109 - val_loss: 0.1324 - val_inflam_loss: 0.1135 - val_nephriti_loss: 0.0946 - val_inflam_acc: 1.0000 - val_inflam_mse: 0.0201 - val_nephriti_acc: 1.0000 - val_nephriti_mse: 0.0112\n",
            "Epoch 636/1000\n",
            "1/1 - 0s - loss: 0.1217 - inflam_loss: 0.1039 - nephriti_loss: 0.0890 - inflam_acc: 1.0000 - inflam_mse: 0.0172 - nephriti_acc: 1.0000 - nephriti_mse: 0.0109 - val_loss: 0.1334 - val_inflam_loss: 0.1145 - val_nephriti_loss: 0.0946 - val_inflam_acc: 1.0000 - val_inflam_mse: 0.0207 - val_nephriti_acc: 1.0000 - val_nephriti_mse: 0.0113\n",
            "Epoch 637/1000\n",
            "1/1 - 0s - loss: 0.1217 - inflam_loss: 0.1039 - nephriti_loss: 0.0889 - inflam_acc: 1.0000 - inflam_mse: 0.0173 - nephriti_acc: 1.0000 - nephriti_mse: 0.0109 - val_loss: 0.1322 - val_inflam_loss: 0.1133 - val_nephriti_loss: 0.0945 - val_inflam_acc: 1.0000 - val_inflam_mse: 0.0201 - val_nephriti_acc: 1.0000 - val_nephriti_mse: 0.0112\n",
            "Epoch 638/1000\n",
            "1/1 - 0s - loss: 0.1216 - inflam_loss: 0.1038 - nephriti_loss: 0.0889 - inflam_acc: 1.0000 - inflam_mse: 0.0172 - nephriti_acc: 1.0000 - nephriti_mse: 0.0109 - val_loss: 0.1333 - val_inflam_loss: 0.1144 - val_nephriti_loss: 0.0945 - val_inflam_acc: 1.0000 - val_inflam_mse: 0.0206 - val_nephriti_acc: 1.0000 - val_nephriti_mse: 0.0112\n",
            "Epoch 639/1000\n",
            "1/1 - 0s - loss: 0.1215 - inflam_loss: 0.1038 - nephriti_loss: 0.0888 - inflam_acc: 1.0000 - inflam_mse: 0.0173 - nephriti_acc: 1.0000 - nephriti_mse: 0.0109 - val_loss: 0.1321 - val_inflam_loss: 0.1132 - val_nephriti_loss: 0.0944 - val_inflam_acc: 1.0000 - val_inflam_mse: 0.0201 - val_nephriti_acc: 1.0000 - val_nephriti_mse: 0.0112\n",
            "Epoch 640/1000\n",
            "1/1 - 0s - loss: 0.1215 - inflam_loss: 0.1037 - nephriti_loss: 0.0888 - inflam_acc: 1.0000 - inflam_mse: 0.0172 - nephriti_acc: 1.0000 - nephriti_mse: 0.0108 - val_loss: 0.1331 - val_inflam_loss: 0.1142 - val_nephriti_loss: 0.0944 - val_inflam_acc: 1.0000 - val_inflam_mse: 0.0206 - val_nephriti_acc: 1.0000 - val_nephriti_mse: 0.0112\n",
            "Epoch 641/1000\n",
            "1/1 - 0s - loss: 0.1214 - inflam_loss: 0.1037 - nephriti_loss: 0.0887 - inflam_acc: 1.0000 - inflam_mse: 0.0172 - nephriti_acc: 1.0000 - nephriti_mse: 0.0109 - val_loss: 0.1320 - val_inflam_loss: 0.1131 - val_nephriti_loss: 0.0943 - val_inflam_acc: 1.0000 - val_inflam_mse: 0.0200 - val_nephriti_acc: 1.0000 - val_nephriti_mse: 0.0111\n",
            "Epoch 642/1000\n",
            "1/1 - 0s - loss: 0.1214 - inflam_loss: 0.1036 - nephriti_loss: 0.0887 - inflam_acc: 1.0000 - inflam_mse: 0.0171 - nephriti_acc: 1.0000 - nephriti_mse: 0.0108 - val_loss: 0.1330 - val_inflam_loss: 0.1141 - val_nephriti_loss: 0.0943 - val_inflam_acc: 1.0000 - val_inflam_mse: 0.0206 - val_nephriti_acc: 1.0000 - val_nephriti_mse: 0.0112\n",
            "Epoch 643/1000\n",
            "1/1 - 0s - loss: 0.1213 - inflam_loss: 0.1036 - nephriti_loss: 0.0887 - inflam_acc: 1.0000 - inflam_mse: 0.0172 - nephriti_acc: 1.0000 - nephriti_mse: 0.0109 - val_loss: 0.1318 - val_inflam_loss: 0.1130 - val_nephriti_loss: 0.0942 - val_inflam_acc: 1.0000 - val_inflam_mse: 0.0200 - val_nephriti_acc: 1.0000 - val_nephriti_mse: 0.0111\n",
            "Epoch 644/1000\n",
            "1/1 - 0s - loss: 0.1212 - inflam_loss: 0.1035 - nephriti_loss: 0.0886 - inflam_acc: 1.0000 - inflam_mse: 0.0171 - nephriti_acc: 1.0000 - nephriti_mse: 0.0108 - val_loss: 0.1328 - val_inflam_loss: 0.1140 - val_nephriti_loss: 0.0942 - val_inflam_acc: 1.0000 - val_inflam_mse: 0.0205 - val_nephriti_acc: 1.0000 - val_nephriti_mse: 0.0112\n",
            "Epoch 645/1000\n",
            "1/1 - 0s - loss: 0.1212 - inflam_loss: 0.1035 - nephriti_loss: 0.0886 - inflam_acc: 1.0000 - inflam_mse: 0.0172 - nephriti_acc: 1.0000 - nephriti_mse: 0.0109 - val_loss: 0.1317 - val_inflam_loss: 0.1129 - val_nephriti_loss: 0.0941 - val_inflam_acc: 1.0000 - val_inflam_mse: 0.0200 - val_nephriti_acc: 1.0000 - val_nephriti_mse: 0.0111\n",
            "Epoch 646/1000\n",
            "1/1 - 0s - loss: 0.1211 - inflam_loss: 0.1034 - nephriti_loss: 0.0885 - inflam_acc: 1.0000 - inflam_mse: 0.0171 - nephriti_acc: 1.0000 - nephriti_mse: 0.0108 - val_loss: 0.1327 - val_inflam_loss: 0.1139 - val_nephriti_loss: 0.0941 - val_inflam_acc: 1.0000 - val_inflam_mse: 0.0205 - val_nephriti_acc: 1.0000 - val_nephriti_mse: 0.0112\n",
            "Epoch 647/1000\n",
            "1/1 - 0s - loss: 0.1210 - inflam_loss: 0.1034 - nephriti_loss: 0.0885 - inflam_acc: 1.0000 - inflam_mse: 0.0172 - nephriti_acc: 1.0000 - nephriti_mse: 0.0108 - val_loss: 0.1316 - val_inflam_loss: 0.1128 - val_nephriti_loss: 0.0940 - val_inflam_acc: 1.0000 - val_inflam_mse: 0.0199 - val_nephriti_acc: 1.0000 - val_nephriti_mse: 0.0111\n",
            "Epoch 648/1000\n",
            "1/1 - 0s - loss: 0.1210 - inflam_loss: 0.1033 - nephriti_loss: 0.0884 - inflam_acc: 1.0000 - inflam_mse: 0.0171 - nephriti_acc: 1.0000 - nephriti_mse: 0.0108 - val_loss: 0.1326 - val_inflam_loss: 0.1138 - val_nephriti_loss: 0.0940 - val_inflam_acc: 1.0000 - val_inflam_mse: 0.0205 - val_nephriti_acc: 1.0000 - val_nephriti_mse: 0.0111\n",
            "Epoch 649/1000\n",
            "1/1 - 0s - loss: 0.1209 - inflam_loss: 0.1032 - nephriti_loss: 0.0884 - inflam_acc: 1.0000 - inflam_mse: 0.0171 - nephriti_acc: 1.0000 - nephriti_mse: 0.0108 - val_loss: 0.1314 - val_inflam_loss: 0.1126 - val_nephriti_loss: 0.0939 - val_inflam_acc: 1.0000 - val_inflam_mse: 0.0199 - val_nephriti_acc: 1.0000 - val_nephriti_mse: 0.0111\n",
            "Epoch 650/1000\n",
            "1/1 - 0s - loss: 0.1209 - inflam_loss: 0.1032 - nephriti_loss: 0.0884 - inflam_acc: 1.0000 - inflam_mse: 0.0170 - nephriti_acc: 1.0000 - nephriti_mse: 0.0108 - val_loss: 0.1324 - val_inflam_loss: 0.1137 - val_nephriti_loss: 0.0939 - val_inflam_acc: 1.0000 - val_inflam_mse: 0.0204 - val_nephriti_acc: 1.0000 - val_nephriti_mse: 0.0111\n",
            "Epoch 651/1000\n",
            "1/1 - 0s - loss: 0.1208 - inflam_loss: 0.1031 - nephriti_loss: 0.0883 - inflam_acc: 1.0000 - inflam_mse: 0.0171 - nephriti_acc: 1.0000 - nephriti_mse: 0.0108 - val_loss: 0.1313 - val_inflam_loss: 0.1125 - val_nephriti_loss: 0.0938 - val_inflam_acc: 1.0000 - val_inflam_mse: 0.0199 - val_nephriti_acc: 1.0000 - val_nephriti_mse: 0.0111\n",
            "Epoch 652/1000\n",
            "1/1 - 0s - loss: 0.1207 - inflam_loss: 0.1031 - nephriti_loss: 0.0883 - inflam_acc: 1.0000 - inflam_mse: 0.0170 - nephriti_acc: 1.0000 - nephriti_mse: 0.0107 - val_loss: 0.1323 - val_inflam_loss: 0.1135 - val_nephriti_loss: 0.0938 - val_inflam_acc: 1.0000 - val_inflam_mse: 0.0204 - val_nephriti_acc: 1.0000 - val_nephriti_mse: 0.0111\n",
            "Epoch 653/1000\n",
            "1/1 - 0s - loss: 0.1207 - inflam_loss: 0.1030 - nephriti_loss: 0.0882 - inflam_acc: 1.0000 - inflam_mse: 0.0171 - nephriti_acc: 1.0000 - nephriti_mse: 0.0108 - val_loss: 0.1312 - val_inflam_loss: 0.1124 - val_nephriti_loss: 0.0938 - val_inflam_acc: 1.0000 - val_inflam_mse: 0.0198 - val_nephriti_acc: 1.0000 - val_nephriti_mse: 0.0110\n",
            "Epoch 654/1000\n",
            "1/1 - 0s - loss: 0.1206 - inflam_loss: 0.1030 - nephriti_loss: 0.0882 - inflam_acc: 1.0000 - inflam_mse: 0.0170 - nephriti_acc: 1.0000 - nephriti_mse: 0.0107 - val_loss: 0.1322 - val_inflam_loss: 0.1134 - val_nephriti_loss: 0.0938 - val_inflam_acc: 1.0000 - val_inflam_mse: 0.0204 - val_nephriti_acc: 1.0000 - val_nephriti_mse: 0.0111\n",
            "Epoch 655/1000\n",
            "1/1 - 0s - loss: 0.1206 - inflam_loss: 0.1029 - nephriti_loss: 0.0882 - inflam_acc: 1.0000 - inflam_mse: 0.0170 - nephriti_acc: 1.0000 - nephriti_mse: 0.0108 - val_loss: 0.1310 - val_inflam_loss: 0.1123 - val_nephriti_loss: 0.0937 - val_inflam_acc: 1.0000 - val_inflam_mse: 0.0198 - val_nephriti_acc: 1.0000 - val_nephriti_mse: 0.0110\n",
            "Epoch 656/1000\n",
            "1/1 - 0s - loss: 0.1205 - inflam_loss: 0.1029 - nephriti_loss: 0.0881 - inflam_acc: 1.0000 - inflam_mse: 0.0169 - nephriti_acc: 1.0000 - nephriti_mse: 0.0107 - val_loss: 0.1320 - val_inflam_loss: 0.1133 - val_nephriti_loss: 0.0937 - val_inflam_acc: 1.0000 - val_inflam_mse: 0.0203 - val_nephriti_acc: 1.0000 - val_nephriti_mse: 0.0111\n",
            "Epoch 657/1000\n",
            "1/1 - 0s - loss: 0.1204 - inflam_loss: 0.1028 - nephriti_loss: 0.0881 - inflam_acc: 1.0000 - inflam_mse: 0.0170 - nephriti_acc: 1.0000 - nephriti_mse: 0.0108 - val_loss: 0.1309 - val_inflam_loss: 0.1122 - val_nephriti_loss: 0.0936 - val_inflam_acc: 1.0000 - val_inflam_mse: 0.0198 - val_nephriti_acc: 1.0000 - val_nephriti_mse: 0.0110\n",
            "Epoch 658/1000\n",
            "1/1 - 0s - loss: 0.1204 - inflam_loss: 0.1028 - nephriti_loss: 0.0880 - inflam_acc: 1.0000 - inflam_mse: 0.0169 - nephriti_acc: 1.0000 - nephriti_mse: 0.0107 - val_loss: 0.1319 - val_inflam_loss: 0.1132 - val_nephriti_loss: 0.0936 - val_inflam_acc: 1.0000 - val_inflam_mse: 0.0203 - val_nephriti_acc: 1.0000 - val_nephriti_mse: 0.0110\n",
            "Epoch 659/1000\n",
            "1/1 - 0s - loss: 0.1203 - inflam_loss: 0.1027 - nephriti_loss: 0.0880 - inflam_acc: 1.0000 - inflam_mse: 0.0170 - nephriti_acc: 1.0000 - nephriti_mse: 0.0107 - val_loss: 0.1308 - val_inflam_loss: 0.1121 - val_nephriti_loss: 0.0935 - val_inflam_acc: 1.0000 - val_inflam_mse: 0.0197 - val_nephriti_acc: 1.0000 - val_nephriti_mse: 0.0110\n",
            "Epoch 660/1000\n",
            "1/1 - 0s - loss: 0.1203 - inflam_loss: 0.1027 - nephriti_loss: 0.0880 - inflam_acc: 1.0000 - inflam_mse: 0.0169 - nephriti_acc: 1.0000 - nephriti_mse: 0.0107 - val_loss: 0.1318 - val_inflam_loss: 0.1131 - val_nephriti_loss: 0.0935 - val_inflam_acc: 1.0000 - val_inflam_mse: 0.0203 - val_nephriti_acc: 1.0000 - val_nephriti_mse: 0.0110\n",
            "Epoch 661/1000\n",
            "1/1 - 0s - loss: 0.1202 - inflam_loss: 0.1026 - nephriti_loss: 0.0879 - inflam_acc: 1.0000 - inflam_mse: 0.0170 - nephriti_acc: 1.0000 - nephriti_mse: 0.0107 - val_loss: 0.1306 - val_inflam_loss: 0.1120 - val_nephriti_loss: 0.0934 - val_inflam_acc: 1.0000 - val_inflam_mse: 0.0197 - val_nephriti_acc: 1.0000 - val_nephriti_mse: 0.0110\n",
            "Epoch 662/1000\n",
            "1/1 - 0s - loss: 0.1201 - inflam_loss: 0.1026 - nephriti_loss: 0.0879 - inflam_acc: 1.0000 - inflam_mse: 0.0169 - nephriti_acc: 1.0000 - nephriti_mse: 0.0107 - val_loss: 0.1316 - val_inflam_loss: 0.1130 - val_nephriti_loss: 0.0934 - val_inflam_acc: 1.0000 - val_inflam_mse: 0.0202 - val_nephriti_acc: 1.0000 - val_nephriti_mse: 0.0110\n",
            "Epoch 663/1000\n",
            "1/1 - 0s - loss: 0.1201 - inflam_loss: 0.1025 - nephriti_loss: 0.0878 - inflam_acc: 1.0000 - inflam_mse: 0.0169 - nephriti_acc: 1.0000 - nephriti_mse: 0.0107 - val_loss: 0.1305 - val_inflam_loss: 0.1118 - val_nephriti_loss: 0.0933 - val_inflam_acc: 1.0000 - val_inflam_mse: 0.0197 - val_nephriti_acc: 1.0000 - val_nephriti_mse: 0.0109\n",
            "Epoch 664/1000\n",
            "1/1 - 0s - loss: 0.1200 - inflam_loss: 0.1025 - nephriti_loss: 0.0878 - inflam_acc: 1.0000 - inflam_mse: 0.0168 - nephriti_acc: 1.0000 - nephriti_mse: 0.0106 - val_loss: 0.1315 - val_inflam_loss: 0.1128 - val_nephriti_loss: 0.0933 - val_inflam_acc: 1.0000 - val_inflam_mse: 0.0202 - val_nephriti_acc: 1.0000 - val_nephriti_mse: 0.0110\n",
            "Epoch 665/1000\n",
            "1/1 - 0s - loss: 0.1200 - inflam_loss: 0.1024 - nephriti_loss: 0.0877 - inflam_acc: 1.0000 - inflam_mse: 0.0169 - nephriti_acc: 1.0000 - nephriti_mse: 0.0107 - val_loss: 0.1304 - val_inflam_loss: 0.1117 - val_nephriti_loss: 0.0932 - val_inflam_acc: 1.0000 - val_inflam_mse: 0.0196 - val_nephriti_acc: 1.0000 - val_nephriti_mse: 0.0109\n",
            "Epoch 666/1000\n",
            "1/1 - 0s - loss: 0.1199 - inflam_loss: 0.1024 - nephriti_loss: 0.0877 - inflam_acc: 1.0000 - inflam_mse: 0.0168 - nephriti_acc: 1.0000 - nephriti_mse: 0.0106 - val_loss: 0.1314 - val_inflam_loss: 0.1127 - val_nephriti_loss: 0.0932 - val_inflam_acc: 1.0000 - val_inflam_mse: 0.0202 - val_nephriti_acc: 1.0000 - val_nephriti_mse: 0.0110\n",
            "Epoch 667/1000\n",
            "1/1 - 0s - loss: 0.1198 - inflam_loss: 0.1023 - nephriti_loss: 0.0877 - inflam_acc: 1.0000 - inflam_mse: 0.0169 - nephriti_acc: 1.0000 - nephriti_mse: 0.0107 - val_loss: 0.1302 - val_inflam_loss: 0.1116 - val_nephriti_loss: 0.0931 - val_inflam_acc: 1.0000 - val_inflam_mse: 0.0196 - val_nephriti_acc: 1.0000 - val_nephriti_mse: 0.0109\n",
            "Epoch 668/1000\n",
            "1/1 - 0s - loss: 0.1198 - inflam_loss: 0.1022 - nephriti_loss: 0.0876 - inflam_acc: 1.0000 - inflam_mse: 0.0168 - nephriti_acc: 1.0000 - nephriti_mse: 0.0106 - val_loss: 0.1312 - val_inflam_loss: 0.1126 - val_nephriti_loss: 0.0931 - val_inflam_acc: 1.0000 - val_inflam_mse: 0.0202 - val_nephriti_acc: 1.0000 - val_nephriti_mse: 0.0110\n",
            "Epoch 669/1000\n",
            "1/1 - 0s - loss: 0.1197 - inflam_loss: 0.1022 - nephriti_loss: 0.0876 - inflam_acc: 1.0000 - inflam_mse: 0.0169 - nephriti_acc: 1.0000 - nephriti_mse: 0.0106 - val_loss: 0.1301 - val_inflam_loss: 0.1115 - val_nephriti_loss: 0.0931 - val_inflam_acc: 1.0000 - val_inflam_mse: 0.0196 - val_nephriti_acc: 1.0000 - val_nephriti_mse: 0.0109\n",
            "Epoch 670/1000\n",
            "1/1 - 0s - loss: 0.1197 - inflam_loss: 0.1021 - nephriti_loss: 0.0875 - inflam_acc: 1.0000 - inflam_mse: 0.0168 - nephriti_acc: 1.0000 - nephriti_mse: 0.0106 - val_loss: 0.1311 - val_inflam_loss: 0.1125 - val_nephriti_loss: 0.0930 - val_inflam_acc: 1.0000 - val_inflam_mse: 0.0201 - val_nephriti_acc: 1.0000 - val_nephriti_mse: 0.0109\n",
            "Epoch 671/1000\n",
            "1/1 - 0s - loss: 0.1196 - inflam_loss: 0.1021 - nephriti_loss: 0.0875 - inflam_acc: 1.0000 - inflam_mse: 0.0168 - nephriti_acc: 1.0000 - nephriti_mse: 0.0106 - val_loss: 0.1300 - val_inflam_loss: 0.1114 - val_nephriti_loss: 0.0930 - val_inflam_acc: 1.0000 - val_inflam_mse: 0.0196 - val_nephriti_acc: 1.0000 - val_nephriti_mse: 0.0109\n",
            "Epoch 672/1000\n",
            "1/1 - 0s - loss: 0.1195 - inflam_loss: 0.1020 - nephriti_loss: 0.0875 - inflam_acc: 1.0000 - inflam_mse: 0.0167 - nephriti_acc: 1.0000 - nephriti_mse: 0.0106 - val_loss: 0.1310 - val_inflam_loss: 0.1124 - val_nephriti_loss: 0.0930 - val_inflam_acc: 1.0000 - val_inflam_mse: 0.0201 - val_nephriti_acc: 1.0000 - val_nephriti_mse: 0.0109\n",
            "Epoch 673/1000\n",
            "1/1 - 0s - loss: 0.1195 - inflam_loss: 0.1020 - nephriti_loss: 0.0874 - inflam_acc: 1.0000 - inflam_mse: 0.0168 - nephriti_acc: 1.0000 - nephriti_mse: 0.0106 - val_loss: 0.1298 - val_inflam_loss: 0.1113 - val_nephriti_loss: 0.0929 - val_inflam_acc: 1.0000 - val_inflam_mse: 0.0195 - val_nephriti_acc: 1.0000 - val_nephriti_mse: 0.0109\n",
            "Epoch 674/1000\n",
            "1/1 - 0s - loss: 0.1194 - inflam_loss: 0.1019 - nephriti_loss: 0.0874 - inflam_acc: 1.0000 - inflam_mse: 0.0167 - nephriti_acc: 1.0000 - nephriti_mse: 0.0105 - val_loss: 0.1308 - val_inflam_loss: 0.1123 - val_nephriti_loss: 0.0929 - val_inflam_acc: 1.0000 - val_inflam_mse: 0.0201 - val_nephriti_acc: 1.0000 - val_nephriti_mse: 0.0109\n",
            "Epoch 675/1000\n",
            "1/1 - 0s - loss: 0.1194 - inflam_loss: 0.1019 - nephriti_loss: 0.0873 - inflam_acc: 1.0000 - inflam_mse: 0.0168 - nephriti_acc: 1.0000 - nephriti_mse: 0.0106 - val_loss: 0.1297 - val_inflam_loss: 0.1111 - val_nephriti_loss: 0.0928 - val_inflam_acc: 1.0000 - val_inflam_mse: 0.0195 - val_nephriti_acc: 1.0000 - val_nephriti_mse: 0.0108\n",
            "Epoch 676/1000\n",
            "1/1 - 0s - loss: 0.1193 - inflam_loss: 0.1018 - nephriti_loss: 0.0873 - inflam_acc: 1.0000 - inflam_mse: 0.0167 - nephriti_acc: 1.0000 - nephriti_mse: 0.0105 - val_loss: 0.1307 - val_inflam_loss: 0.1121 - val_nephriti_loss: 0.0928 - val_inflam_acc: 1.0000 - val_inflam_mse: 0.0200 - val_nephriti_acc: 1.0000 - val_nephriti_mse: 0.0109\n",
            "Epoch 677/1000\n",
            "1/1 - 0s - loss: 0.1192 - inflam_loss: 0.1018 - nephriti_loss: 0.0872 - inflam_acc: 1.0000 - inflam_mse: 0.0167 - nephriti_acc: 1.0000 - nephriti_mse: 0.0106 - val_loss: 0.1296 - val_inflam_loss: 0.1110 - val_nephriti_loss: 0.0927 - val_inflam_acc: 1.0000 - val_inflam_mse: 0.0195 - val_nephriti_acc: 1.0000 - val_nephriti_mse: 0.0108\n",
            "Epoch 678/1000\n",
            "1/1 - 0s - loss: 0.1192 - inflam_loss: 0.1017 - nephriti_loss: 0.0872 - inflam_acc: 1.0000 - inflam_mse: 0.0166 - nephriti_acc: 1.0000 - nephriti_mse: 0.0105 - val_loss: 0.1306 - val_inflam_loss: 0.1120 - val_nephriti_loss: 0.0927 - val_inflam_acc: 1.0000 - val_inflam_mse: 0.0200 - val_nephriti_acc: 1.0000 - val_nephriti_mse: 0.0109\n",
            "Epoch 679/1000\n",
            "1/1 - 0s - loss: 0.1191 - inflam_loss: 0.1017 - nephriti_loss: 0.0872 - inflam_acc: 1.0000 - inflam_mse: 0.0167 - nephriti_acc: 1.0000 - nephriti_mse: 0.0106 - val_loss: 0.1294 - val_inflam_loss: 0.1109 - val_nephriti_loss: 0.0926 - val_inflam_acc: 1.0000 - val_inflam_mse: 0.0194 - val_nephriti_acc: 1.0000 - val_nephriti_mse: 0.0108\n",
            "Epoch 680/1000\n",
            "1/1 - 0s - loss: 0.1190 - inflam_loss: 0.1016 - nephriti_loss: 0.0871 - inflam_acc: 1.0000 - inflam_mse: 0.0166 - nephriti_acc: 1.0000 - nephriti_mse: 0.0105 - val_loss: 0.1304 - val_inflam_loss: 0.1119 - val_nephriti_loss: 0.0926 - val_inflam_acc: 1.0000 - val_inflam_mse: 0.0200 - val_nephriti_acc: 1.0000 - val_nephriti_mse: 0.0109\n",
            "Epoch 681/1000\n",
            "1/1 - 0s - loss: 0.1190 - inflam_loss: 0.1016 - nephriti_loss: 0.0871 - inflam_acc: 1.0000 - inflam_mse: 0.0167 - nephriti_acc: 1.0000 - nephriti_mse: 0.0105 - val_loss: 0.1293 - val_inflam_loss: 0.1108 - val_nephriti_loss: 0.0925 - val_inflam_acc: 1.0000 - val_inflam_mse: 0.0194 - val_nephriti_acc: 1.0000 - val_nephriti_mse: 0.0108\n",
            "Epoch 682/1000\n",
            "1/1 - 0s - loss: 0.1189 - inflam_loss: 0.1015 - nephriti_loss: 0.0870 - inflam_acc: 1.0000 - inflam_mse: 0.0166 - nephriti_acc: 1.0000 - nephriti_mse: 0.0105 - val_loss: 0.1303 - val_inflam_loss: 0.1118 - val_nephriti_loss: 0.0925 - val_inflam_acc: 1.0000 - val_inflam_mse: 0.0199 - val_nephriti_acc: 1.0000 - val_nephriti_mse: 0.0108\n",
            "Epoch 683/1000\n",
            "1/1 - 0s - loss: 0.1189 - inflam_loss: 0.1015 - nephriti_loss: 0.0870 - inflam_acc: 1.0000 - inflam_mse: 0.0167 - nephriti_acc: 1.0000 - nephriti_mse: 0.0105 - val_loss: 0.1292 - val_inflam_loss: 0.1107 - val_nephriti_loss: 0.0924 - val_inflam_acc: 1.0000 - val_inflam_mse: 0.0194 - val_nephriti_acc: 1.0000 - val_nephriti_mse: 0.0108\n",
            "Epoch 684/1000\n",
            "1/1 - 0s - loss: 0.1188 - inflam_loss: 0.1014 - nephriti_loss: 0.0870 - inflam_acc: 1.0000 - inflam_mse: 0.0166 - nephriti_acc: 1.0000 - nephriti_mse: 0.0105 - val_loss: 0.1302 - val_inflam_loss: 0.1117 - val_nephriti_loss: 0.0924 - val_inflam_acc: 1.0000 - val_inflam_mse: 0.0199 - val_nephriti_acc: 1.0000 - val_nephriti_mse: 0.0108\n",
            "Epoch 685/1000\n",
            "1/1 - 0s - loss: 0.1187 - inflam_loss: 0.1014 - nephriti_loss: 0.0869 - inflam_acc: 1.0000 - inflam_mse: 0.0166 - nephriti_acc: 1.0000 - nephriti_mse: 0.0105 - val_loss: 0.1290 - val_inflam_loss: 0.1106 - val_nephriti_loss: 0.0923 - val_inflam_acc: 1.0000 - val_inflam_mse: 0.0193 - val_nephriti_acc: 1.0000 - val_nephriti_mse: 0.0107\n",
            "Epoch 686/1000\n",
            "1/1 - 0s - loss: 0.1187 - inflam_loss: 0.1013 - nephriti_loss: 0.0869 - inflam_acc: 1.0000 - inflam_mse: 0.0165 - nephriti_acc: 1.0000 - nephriti_mse: 0.0104 - val_loss: 0.1300 - val_inflam_loss: 0.1116 - val_nephriti_loss: 0.0923 - val_inflam_acc: 1.0000 - val_inflam_mse: 0.0199 - val_nephriti_acc: 1.0000 - val_nephriti_mse: 0.0108\n",
            "Epoch 687/1000\n",
            "1/1 - 0s - loss: 0.1186 - inflam_loss: 0.1013 - nephriti_loss: 0.0868 - inflam_acc: 1.0000 - inflam_mse: 0.0166 - nephriti_acc: 1.0000 - nephriti_mse: 0.0105 - val_loss: 0.1289 - val_inflam_loss: 0.1105 - val_nephriti_loss: 0.0923 - val_inflam_acc: 1.0000 - val_inflam_mse: 0.0193 - val_nephriti_acc: 1.0000 - val_nephriti_mse: 0.0107\n",
            "Epoch 688/1000\n",
            "1/1 - 0s - loss: 0.1186 - inflam_loss: 0.1012 - nephriti_loss: 0.0868 - inflam_acc: 1.0000 - inflam_mse: 0.0165 - nephriti_acc: 1.0000 - nephriti_mse: 0.0104 - val_loss: 0.1299 - val_inflam_loss: 0.1115 - val_nephriti_loss: 0.0923 - val_inflam_acc: 1.0000 - val_inflam_mse: 0.0198 - val_nephriti_acc: 1.0000 - val_nephriti_mse: 0.0108\n",
            "Epoch 689/1000\n",
            "1/1 - 0s - loss: 0.1185 - inflam_loss: 0.1012 - nephriti_loss: 0.0868 - inflam_acc: 1.0000 - inflam_mse: 0.0166 - nephriti_acc: 1.0000 - nephriti_mse: 0.0105 - val_loss: 0.1288 - val_inflam_loss: 0.1103 - val_nephriti_loss: 0.0922 - val_inflam_acc: 1.0000 - val_inflam_mse: 0.0193 - val_nephriti_acc: 1.0000 - val_nephriti_mse: 0.0107\n",
            "Epoch 690/1000\n",
            "1/1 - 0s - loss: 0.1185 - inflam_loss: 0.1011 - nephriti_loss: 0.0867 - inflam_acc: 1.0000 - inflam_mse: 0.0165 - nephriti_acc: 1.0000 - nephriti_mse: 0.0104 - val_loss: 0.1298 - val_inflam_loss: 0.1113 - val_nephriti_loss: 0.0922 - val_inflam_acc: 1.0000 - val_inflam_mse: 0.0198 - val_nephriti_acc: 1.0000 - val_nephriti_mse: 0.0108\n",
            "Epoch 691/1000\n",
            "1/1 - 0s - loss: 0.1184 - inflam_loss: 0.1011 - nephriti_loss: 0.0867 - inflam_acc: 1.0000 - inflam_mse: 0.0166 - nephriti_acc: 1.0000 - nephriti_mse: 0.0105 - val_loss: 0.1286 - val_inflam_loss: 0.1102 - val_nephriti_loss: 0.0921 - val_inflam_acc: 1.0000 - val_inflam_mse: 0.0192 - val_nephriti_acc: 1.0000 - val_nephriti_mse: 0.0107\n",
            "Epoch 692/1000\n",
            "1/1 - 0s - loss: 0.1183 - inflam_loss: 0.1010 - nephriti_loss: 0.0866 - inflam_acc: 1.0000 - inflam_mse: 0.0165 - nephriti_acc: 1.0000 - nephriti_mse: 0.0104 - val_loss: 0.1296 - val_inflam_loss: 0.1112 - val_nephriti_loss: 0.0921 - val_inflam_acc: 1.0000 - val_inflam_mse: 0.0198 - val_nephriti_acc: 1.0000 - val_nephriti_mse: 0.0107\n",
            "Epoch 693/1000\n",
            "1/1 - 0s - loss: 0.1183 - inflam_loss: 0.1010 - nephriti_loss: 0.0866 - inflam_acc: 1.0000 - inflam_mse: 0.0165 - nephriti_acc: 1.0000 - nephriti_mse: 0.0104 - val_loss: 0.1285 - val_inflam_loss: 0.1101 - val_nephriti_loss: 0.0920 - val_inflam_acc: 1.0000 - val_inflam_mse: 0.0192 - val_nephriti_acc: 1.0000 - val_nephriti_mse: 0.0107\n",
            "Epoch 694/1000\n",
            "1/1 - 0s - loss: 0.1182 - inflam_loss: 0.1009 - nephriti_loss: 0.0866 - inflam_acc: 1.0000 - inflam_mse: 0.0164 - nephriti_acc: 1.0000 - nephriti_mse: 0.0104 - val_loss: 0.1295 - val_inflam_loss: 0.1111 - val_nephriti_loss: 0.0920 - val_inflam_acc: 1.0000 - val_inflam_mse: 0.0197 - val_nephriti_acc: 1.0000 - val_nephriti_mse: 0.0107\n",
            "Epoch 695/1000\n",
            "1/1 - 0s - loss: 0.1182 - inflam_loss: 0.1009 - nephriti_loss: 0.0865 - inflam_acc: 1.0000 - inflam_mse: 0.0165 - nephriti_acc: 1.0000 - nephriti_mse: 0.0104 - val_loss: 0.1284 - val_inflam_loss: 0.1100 - val_nephriti_loss: 0.0919 - val_inflam_acc: 1.0000 - val_inflam_mse: 0.0192 - val_nephriti_acc: 1.0000 - val_nephriti_mse: 0.0107\n",
            "Epoch 696/1000\n",
            "1/1 - 0s - loss: 0.1181 - inflam_loss: 0.1008 - nephriti_loss: 0.0865 - inflam_acc: 1.0000 - inflam_mse: 0.0164 - nephriti_acc: 1.0000 - nephriti_mse: 0.0104 - val_loss: 0.1294 - val_inflam_loss: 0.1110 - val_nephriti_loss: 0.0919 - val_inflam_acc: 1.0000 - val_inflam_mse: 0.0197 - val_nephriti_acc: 1.0000 - val_nephriti_mse: 0.0107\n",
            "Epoch 697/1000\n",
            "1/1 - 0s - loss: 0.1180 - inflam_loss: 0.1007 - nephriti_loss: 0.0864 - inflam_acc: 1.0000 - inflam_mse: 0.0165 - nephriti_acc: 1.0000 - nephriti_mse: 0.0104 - val_loss: 0.1283 - val_inflam_loss: 0.1099 - val_nephriti_loss: 0.0918 - val_inflam_acc: 1.0000 - val_inflam_mse: 0.0191 - val_nephriti_acc: 1.0000 - val_nephriti_mse: 0.0106\n",
            "Epoch 698/1000\n",
            "1/1 - 0s - loss: 0.1180 - inflam_loss: 0.1007 - nephriti_loss: 0.0864 - inflam_acc: 1.0000 - inflam_mse: 0.0164 - nephriti_acc: 1.0000 - nephriti_mse: 0.0103 - val_loss: 0.1292 - val_inflam_loss: 0.1109 - val_nephriti_loss: 0.0918 - val_inflam_acc: 1.0000 - val_inflam_mse: 0.0197 - val_nephriti_acc: 1.0000 - val_nephriti_mse: 0.0107\n",
            "Epoch 699/1000\n",
            "1/1 - 0s - loss: 0.1179 - inflam_loss: 0.1006 - nephriti_loss: 0.0863 - inflam_acc: 1.0000 - inflam_mse: 0.0165 - nephriti_acc: 1.0000 - nephriti_mse: 0.0104 - val_loss: 0.1281 - val_inflam_loss: 0.1098 - val_nephriti_loss: 0.0917 - val_inflam_acc: 1.0000 - val_inflam_mse: 0.0191 - val_nephriti_acc: 1.0000 - val_nephriti_mse: 0.0106\n",
            "Epoch 700/1000\n",
            "1/1 - 0s - loss: 0.1179 - inflam_loss: 0.1006 - nephriti_loss: 0.0863 - inflam_acc: 1.0000 - inflam_mse: 0.0164 - nephriti_acc: 1.0000 - nephriti_mse: 0.0103 - val_loss: 0.1291 - val_inflam_loss: 0.1108 - val_nephriti_loss: 0.0917 - val_inflam_acc: 1.0000 - val_inflam_mse: 0.0196 - val_nephriti_acc: 1.0000 - val_nephriti_mse: 0.0107\n",
            "Epoch 701/1000\n",
            "1/1 - 0s - loss: 0.1178 - inflam_loss: 0.1005 - nephriti_loss: 0.0863 - inflam_acc: 1.0000 - inflam_mse: 0.0164 - nephriti_acc: 1.0000 - nephriti_mse: 0.0104 - val_loss: 0.1280 - val_inflam_loss: 0.1097 - val_nephriti_loss: 0.0917 - val_inflam_acc: 1.0000 - val_inflam_mse: 0.0191 - val_nephriti_acc: 1.0000 - val_nephriti_mse: 0.0106\n",
            "Epoch 702/1000\n",
            "1/1 - 0s - loss: 0.1177 - inflam_loss: 0.1005 - nephriti_loss: 0.0862 - inflam_acc: 1.0000 - inflam_mse: 0.0163 - nephriti_acc: 1.0000 - nephriti_mse: 0.0103 - val_loss: 0.1290 - val_inflam_loss: 0.1107 - val_nephriti_loss: 0.0916 - val_inflam_acc: 1.0000 - val_inflam_mse: 0.0196 - val_nephriti_acc: 1.0000 - val_nephriti_mse: 0.0107\n",
            "Epoch 703/1000\n",
            "1/1 - 0s - loss: 0.1177 - inflam_loss: 0.1004 - nephriti_loss: 0.0862 - inflam_acc: 1.0000 - inflam_mse: 0.0164 - nephriti_acc: 1.0000 - nephriti_mse: 0.0104 - val_loss: 0.1279 - val_inflam_loss: 0.1096 - val_nephriti_loss: 0.0916 - val_inflam_acc: 1.0000 - val_inflam_mse: 0.0190 - val_nephriti_acc: 1.0000 - val_nephriti_mse: 0.0106\n",
            "Epoch 704/1000\n",
            "1/1 - 0s - loss: 0.1176 - inflam_loss: 0.1004 - nephriti_loss: 0.0861 - inflam_acc: 1.0000 - inflam_mse: 0.0163 - nephriti_acc: 1.0000 - nephriti_mse: 0.0103 - val_loss: 0.1289 - val_inflam_loss: 0.1105 - val_nephriti_loss: 0.0916 - val_inflam_acc: 1.0000 - val_inflam_mse: 0.0196 - val_nephriti_acc: 1.0000 - val_nephriti_mse: 0.0106\n",
            "Epoch 705/1000\n",
            "1/1 - 0s - loss: 0.1176 - inflam_loss: 0.1003 - nephriti_loss: 0.0861 - inflam_acc: 1.0000 - inflam_mse: 0.0164 - nephriti_acc: 1.0000 - nephriti_mse: 0.0103 - val_loss: 0.1277 - val_inflam_loss: 0.1094 - val_nephriti_loss: 0.0915 - val_inflam_acc: 1.0000 - val_inflam_mse: 0.0190 - val_nephriti_acc: 1.0000 - val_nephriti_mse: 0.0106\n",
            "Epoch 706/1000\n",
            "1/1 - 0s - loss: 0.1175 - inflam_loss: 0.1003 - nephriti_loss: 0.0861 - inflam_acc: 1.0000 - inflam_mse: 0.0163 - nephriti_acc: 1.0000 - nephriti_mse: 0.0103 - val_loss: 0.1287 - val_inflam_loss: 0.1104 - val_nephriti_loss: 0.0915 - val_inflam_acc: 1.0000 - val_inflam_mse: 0.0195 - val_nephriti_acc: 1.0000 - val_nephriti_mse: 0.0106\n",
            "Epoch 707/1000\n",
            "1/1 - 0s - loss: 0.1174 - inflam_loss: 0.1002 - nephriti_loss: 0.0860 - inflam_acc: 1.0000 - inflam_mse: 0.0163 - nephriti_acc: 1.0000 - nephriti_mse: 0.0103 - val_loss: 0.1276 - val_inflam_loss: 0.1093 - val_nephriti_loss: 0.0914 - val_inflam_acc: 1.0000 - val_inflam_mse: 0.0190 - val_nephriti_acc: 1.0000 - val_nephriti_mse: 0.0106\n",
            "Epoch 708/1000\n",
            "1/1 - 0s - loss: 0.1174 - inflam_loss: 0.1002 - nephriti_loss: 0.0860 - inflam_acc: 1.0000 - inflam_mse: 0.0163 - nephriti_acc: 1.0000 - nephriti_mse: 0.0103 - val_loss: 0.1286 - val_inflam_loss: 0.1103 - val_nephriti_loss: 0.0914 - val_inflam_acc: 1.0000 - val_inflam_mse: 0.0195 - val_nephriti_acc: 1.0000 - val_nephriti_mse: 0.0106\n",
            "Epoch 709/1000\n",
            "1/1 - 0s - loss: 0.1173 - inflam_loss: 0.1001 - nephriti_loss: 0.0859 - inflam_acc: 1.0000 - inflam_mse: 0.0163 - nephriti_acc: 1.0000 - nephriti_mse: 0.0103 - val_loss: 0.1275 - val_inflam_loss: 0.1092 - val_nephriti_loss: 0.0913 - val_inflam_acc: 1.0000 - val_inflam_mse: 0.0190 - val_nephriti_acc: 1.0000 - val_nephriti_mse: 0.0105\n",
            "Epoch 710/1000\n",
            "1/1 - 0s - loss: 0.1173 - inflam_loss: 0.1001 - nephriti_loss: 0.0859 - inflam_acc: 1.0000 - inflam_mse: 0.0162 - nephriti_acc: 1.0000 - nephriti_mse: 0.0102 - val_loss: 0.1285 - val_inflam_loss: 0.1102 - val_nephriti_loss: 0.0913 - val_inflam_acc: 1.0000 - val_inflam_mse: 0.0195 - val_nephriti_acc: 1.0000 - val_nephriti_mse: 0.0106\n",
            "Epoch 711/1000\n",
            "1/1 - 0s - loss: 0.1172 - inflam_loss: 0.1000 - nephriti_loss: 0.0859 - inflam_acc: 1.0000 - inflam_mse: 0.0163 - nephriti_acc: 1.0000 - nephriti_mse: 0.0103 - val_loss: 0.1273 - val_inflam_loss: 0.1091 - val_nephriti_loss: 0.0912 - val_inflam_acc: 1.0000 - val_inflam_mse: 0.0189 - val_nephriti_acc: 1.0000 - val_nephriti_mse: 0.0105\n",
            "Epoch 712/1000\n",
            "1/1 - 0s - loss: 0.1171 - inflam_loss: 0.1000 - nephriti_loss: 0.0858 - inflam_acc: 1.0000 - inflam_mse: 0.0162 - nephriti_acc: 1.0000 - nephriti_mse: 0.0102 - val_loss: 0.1283 - val_inflam_loss: 0.1101 - val_nephriti_loss: 0.0912 - val_inflam_acc: 1.0000 - val_inflam_mse: 0.0194 - val_nephriti_acc: 1.0000 - val_nephriti_mse: 0.0106\n",
            "Epoch 713/1000\n",
            "1/1 - 0s - loss: 0.1171 - inflam_loss: 0.0999 - nephriti_loss: 0.0858 - inflam_acc: 1.0000 - inflam_mse: 0.0163 - nephriti_acc: 1.0000 - nephriti_mse: 0.0103 - val_loss: 0.1272 - val_inflam_loss: 0.1090 - val_nephriti_loss: 0.0911 - val_inflam_acc: 1.0000 - val_inflam_mse: 0.0189 - val_nephriti_acc: 1.0000 - val_nephriti_mse: 0.0105\n",
            "Epoch 714/1000\n",
            "1/1 - 0s - loss: 0.1170 - inflam_loss: 0.0999 - nephriti_loss: 0.0857 - inflam_acc: 1.0000 - inflam_mse: 0.0162 - nephriti_acc: 1.0000 - nephriti_mse: 0.0102 - val_loss: 0.1282 - val_inflam_loss: 0.1100 - val_nephriti_loss: 0.0911 - val_inflam_acc: 1.0000 - val_inflam_mse: 0.0194 - val_nephriti_acc: 1.0000 - val_nephriti_mse: 0.0106\n",
            "Epoch 715/1000\n",
            "1/1 - 0s - loss: 0.1170 - inflam_loss: 0.0998 - nephriti_loss: 0.0857 - inflam_acc: 1.0000 - inflam_mse: 0.0162 - nephriti_acc: 1.0000 - nephriti_mse: 0.0103 - val_loss: 0.1271 - val_inflam_loss: 0.1089 - val_nephriti_loss: 0.0910 - val_inflam_acc: 1.0000 - val_inflam_mse: 0.0189 - val_nephriti_acc: 1.0000 - val_nephriti_mse: 0.0105\n",
            "Epoch 716/1000\n",
            "1/1 - 0s - loss: 0.1169 - inflam_loss: 0.0998 - nephriti_loss: 0.0857 - inflam_acc: 1.0000 - inflam_mse: 0.0161 - nephriti_acc: 1.0000 - nephriti_mse: 0.0102 - val_loss: 0.1281 - val_inflam_loss: 0.1099 - val_nephriti_loss: 0.0910 - val_inflam_acc: 1.0000 - val_inflam_mse: 0.0194 - val_nephriti_acc: 1.0000 - val_nephriti_mse: 0.0105\n",
            "Epoch 717/1000\n",
            "1/1 - 0s - loss: 0.1169 - inflam_loss: 0.0997 - nephriti_loss: 0.0856 - inflam_acc: 1.0000 - inflam_mse: 0.0162 - nephriti_acc: 1.0000 - nephriti_mse: 0.0102 - val_loss: 0.1270 - val_inflam_loss: 0.1088 - val_nephriti_loss: 0.0910 - val_inflam_acc: 1.0000 - val_inflam_mse: 0.0188 - val_nephriti_acc: 1.0000 - val_nephriti_mse: 0.0105\n",
            "Epoch 718/1000\n",
            "1/1 - 0s - loss: 0.1168 - inflam_loss: 0.0997 - nephriti_loss: 0.0856 - inflam_acc: 1.0000 - inflam_mse: 0.0161 - nephriti_acc: 1.0000 - nephriti_mse: 0.0102 - val_loss: 0.1279 - val_inflam_loss: 0.1097 - val_nephriti_loss: 0.0910 - val_inflam_acc: 1.0000 - val_inflam_mse: 0.0193 - val_nephriti_acc: 1.0000 - val_nephriti_mse: 0.0105\n",
            "Epoch 719/1000\n",
            "1/1 - 0s - loss: 0.1167 - inflam_loss: 0.0996 - nephriti_loss: 0.0855 - inflam_acc: 1.0000 - inflam_mse: 0.0162 - nephriti_acc: 1.0000 - nephriti_mse: 0.0102 - val_loss: 0.1268 - val_inflam_loss: 0.1087 - val_nephriti_loss: 0.0909 - val_inflam_acc: 1.0000 - val_inflam_mse: 0.0188 - val_nephriti_acc: 1.0000 - val_nephriti_mse: 0.0105\n",
            "Epoch 720/1000\n",
            "1/1 - 0s - loss: 0.1167 - inflam_loss: 0.0996 - nephriti_loss: 0.0855 - inflam_acc: 1.0000 - inflam_mse: 0.0161 - nephriti_acc: 1.0000 - nephriti_mse: 0.0102 - val_loss: 0.1278 - val_inflam_loss: 0.1096 - val_nephriti_loss: 0.0909 - val_inflam_acc: 1.0000 - val_inflam_mse: 0.0193 - val_nephriti_acc: 1.0000 - val_nephriti_mse: 0.0105\n",
            "Epoch 721/1000\n",
            "1/1 - 0s - loss: 0.1166 - inflam_loss: 0.0995 - nephriti_loss: 0.0855 - inflam_acc: 1.0000 - inflam_mse: 0.0162 - nephriti_acc: 1.0000 - nephriti_mse: 0.0102 - val_loss: 0.1267 - val_inflam_loss: 0.1085 - val_nephriti_loss: 0.0908 - val_inflam_acc: 1.0000 - val_inflam_mse: 0.0188 - val_nephriti_acc: 1.0000 - val_nephriti_mse: 0.0104\n",
            "Epoch 722/1000\n",
            "1/1 - 0s - loss: 0.1166 - inflam_loss: 0.0995 - nephriti_loss: 0.0854 - inflam_acc: 1.0000 - inflam_mse: 0.0161 - nephriti_acc: 1.0000 - nephriti_mse: 0.0101 - val_loss: 0.1277 - val_inflam_loss: 0.1095 - val_nephriti_loss: 0.0908 - val_inflam_acc: 1.0000 - val_inflam_mse: 0.0193 - val_nephriti_acc: 1.0000 - val_nephriti_mse: 0.0105\n",
            "Epoch 723/1000\n",
            "1/1 - 0s - loss: 0.1165 - inflam_loss: 0.0994 - nephriti_loss: 0.0854 - inflam_acc: 1.0000 - inflam_mse: 0.0161 - nephriti_acc: 1.0000 - nephriti_mse: 0.0102 - val_loss: 0.1266 - val_inflam_loss: 0.1084 - val_nephriti_loss: 0.0907 - val_inflam_acc: 1.0000 - val_inflam_mse: 0.0187 - val_nephriti_acc: 1.0000 - val_nephriti_mse: 0.0104\n",
            "Epoch 724/1000\n",
            "1/1 - 0s - loss: 0.1164 - inflam_loss: 0.0994 - nephriti_loss: 0.0853 - inflam_acc: 1.0000 - inflam_mse: 0.0160 - nephriti_acc: 1.0000 - nephriti_mse: 0.0101 - val_loss: 0.1276 - val_inflam_loss: 0.1094 - val_nephriti_loss: 0.0907 - val_inflam_acc: 1.0000 - val_inflam_mse: 0.0193 - val_nephriti_acc: 1.0000 - val_nephriti_mse: 0.0105\n",
            "Epoch 725/1000\n",
            "1/1 - 0s - loss: 0.1164 - inflam_loss: 0.0993 - nephriti_loss: 0.0853 - inflam_acc: 1.0000 - inflam_mse: 0.0161 - nephriti_acc: 1.0000 - nephriti_mse: 0.0102 - val_loss: 0.1264 - val_inflam_loss: 0.1083 - val_nephriti_loss: 0.0906 - val_inflam_acc: 1.0000 - val_inflam_mse: 0.0187 - val_nephriti_acc: 1.0000 - val_nephriti_mse: 0.0104\n",
            "Epoch 726/1000\n",
            "1/1 - 0s - loss: 0.1163 - inflam_loss: 0.0993 - nephriti_loss: 0.0853 - inflam_acc: 1.0000 - inflam_mse: 0.0160 - nephriti_acc: 1.0000 - nephriti_mse: 0.0101 - val_loss: 0.1274 - val_inflam_loss: 0.1093 - val_nephriti_loss: 0.0906 - val_inflam_acc: 1.0000 - val_inflam_mse: 0.0192 - val_nephriti_acc: 1.0000 - val_nephriti_mse: 0.0104\n",
            "Epoch 727/1000\n",
            "1/1 - 0s - loss: 0.1163 - inflam_loss: 0.0992 - nephriti_loss: 0.0852 - inflam_acc: 1.0000 - inflam_mse: 0.0161 - nephriti_acc: 1.0000 - nephriti_mse: 0.0102 - val_loss: 0.1263 - val_inflam_loss: 0.1082 - val_nephriti_loss: 0.0905 - val_inflam_acc: 1.0000 - val_inflam_mse: 0.0187 - val_nephriti_acc: 1.0000 - val_nephriti_mse: 0.0104\n",
            "Epoch 728/1000\n",
            "1/1 - 0s - loss: 0.1162 - inflam_loss: 0.0992 - nephriti_loss: 0.0852 - inflam_acc: 1.0000 - inflam_mse: 0.0160 - nephriti_acc: 1.0000 - nephriti_mse: 0.0101 - val_loss: 0.1273 - val_inflam_loss: 0.1092 - val_nephriti_loss: 0.0905 - val_inflam_acc: 1.0000 - val_inflam_mse: 0.0192 - val_nephriti_acc: 1.0000 - val_nephriti_mse: 0.0104\n",
            "Epoch 729/1000\n",
            "1/1 - 0s - loss: 0.1161 - inflam_loss: 0.0991 - nephriti_loss: 0.0851 - inflam_acc: 1.0000 - inflam_mse: 0.0161 - nephriti_acc: 1.0000 - nephriti_mse: 0.0101 - val_loss: 0.1262 - val_inflam_loss: 0.1081 - val_nephriti_loss: 0.0904 - val_inflam_acc: 1.0000 - val_inflam_mse: 0.0186 - val_nephriti_acc: 1.0000 - val_nephriti_mse: 0.0104\n",
            "Epoch 730/1000\n",
            "1/1 - 0s - loss: 0.1161 - inflam_loss: 0.0991 - nephriti_loss: 0.0851 - inflam_acc: 1.0000 - inflam_mse: 0.0160 - nephriti_acc: 1.0000 - nephriti_mse: 0.0101 - val_loss: 0.1272 - val_inflam_loss: 0.1091 - val_nephriti_loss: 0.0904 - val_inflam_acc: 1.0000 - val_inflam_mse: 0.0192 - val_nephriti_acc: 1.0000 - val_nephriti_mse: 0.0104\n",
            "Epoch 731/1000\n",
            "1/1 - 0s - loss: 0.1160 - inflam_loss: 0.0990 - nephriti_loss: 0.0851 - inflam_acc: 1.0000 - inflam_mse: 0.0160 - nephriti_acc: 1.0000 - nephriti_mse: 0.0101 - val_loss: 0.1261 - val_inflam_loss: 0.1080 - val_nephriti_loss: 0.0904 - val_inflam_acc: 1.0000 - val_inflam_mse: 0.0186 - val_nephriti_acc: 1.0000 - val_nephriti_mse: 0.0103\n",
            "Epoch 732/1000\n",
            "1/1 - 0s - loss: 0.1160 - inflam_loss: 0.0990 - nephriti_loss: 0.0850 - inflam_acc: 1.0000 - inflam_mse: 0.0159 - nephriti_acc: 1.0000 - nephriti_mse: 0.0101 - val_loss: 0.1270 - val_inflam_loss: 0.1090 - val_nephriti_loss: 0.0904 - val_inflam_acc: 1.0000 - val_inflam_mse: 0.0191 - val_nephriti_acc: 1.0000 - val_nephriti_mse: 0.0104\n",
            "Epoch 733/1000\n",
            "1/1 - 0s - loss: 0.1159 - inflam_loss: 0.0989 - nephriti_loss: 0.0850 - inflam_acc: 1.0000 - inflam_mse: 0.0160 - nephriti_acc: 1.0000 - nephriti_mse: 0.0101 - val_loss: 0.1259 - val_inflam_loss: 0.1079 - val_nephriti_loss: 0.0903 - val_inflam_acc: 1.0000 - val_inflam_mse: 0.0186 - val_nephriti_acc: 1.0000 - val_nephriti_mse: 0.0103\n",
            "Epoch 734/1000\n",
            "1/1 - 0s - loss: 0.1159 - inflam_loss: 0.0989 - nephriti_loss: 0.0849 - inflam_acc: 1.0000 - inflam_mse: 0.0159 - nephriti_acc: 1.0000 - nephriti_mse: 0.0100 - val_loss: 0.1269 - val_inflam_loss: 0.1089 - val_nephriti_loss: 0.0903 - val_inflam_acc: 1.0000 - val_inflam_mse: 0.0191 - val_nephriti_acc: 1.0000 - val_nephriti_mse: 0.0104\n",
            "Epoch 735/1000\n",
            "1/1 - 0s - loss: 0.1158 - inflam_loss: 0.0988 - nephriti_loss: 0.0849 - inflam_acc: 1.0000 - inflam_mse: 0.0160 - nephriti_acc: 1.0000 - nephriti_mse: 0.0101 - val_loss: 0.1258 - val_inflam_loss: 0.1078 - val_nephriti_loss: 0.0902 - val_inflam_acc: 1.0000 - val_inflam_mse: 0.0186 - val_nephriti_acc: 1.0000 - val_nephriti_mse: 0.0103\n",
            "Epoch 736/1000\n",
            "1/1 - 0s - loss: 0.1157 - inflam_loss: 0.0988 - nephriti_loss: 0.0849 - inflam_acc: 1.0000 - inflam_mse: 0.0159 - nephriti_acc: 1.0000 - nephriti_mse: 0.0100 - val_loss: 0.1268 - val_inflam_loss: 0.1087 - val_nephriti_loss: 0.0902 - val_inflam_acc: 1.0000 - val_inflam_mse: 0.0191 - val_nephriti_acc: 1.0000 - val_nephriti_mse: 0.0104\n",
            "Epoch 737/1000\n",
            "1/1 - 0s - loss: 0.1157 - inflam_loss: 0.0987 - nephriti_loss: 0.0848 - inflam_acc: 1.0000 - inflam_mse: 0.0160 - nephriti_acc: 1.0000 - nephriti_mse: 0.0101 - val_loss: 0.1257 - val_inflam_loss: 0.1076 - val_nephriti_loss: 0.0901 - val_inflam_acc: 1.0000 - val_inflam_mse: 0.0185 - val_nephriti_acc: 1.0000 - val_nephriti_mse: 0.0103\n",
            "Epoch 738/1000\n",
            "1/1 - 0s - loss: 0.1156 - inflam_loss: 0.0987 - nephriti_loss: 0.0848 - inflam_acc: 1.0000 - inflam_mse: 0.0159 - nephriti_acc: 1.0000 - nephriti_mse: 0.0100 - val_loss: 0.1266 - val_inflam_loss: 0.1086 - val_nephriti_loss: 0.0901 - val_inflam_acc: 1.0000 - val_inflam_mse: 0.0190 - val_nephriti_acc: 1.0000 - val_nephriti_mse: 0.0103\n",
            "Epoch 739/1000\n",
            "1/1 - 0s - loss: 0.1156 - inflam_loss: 0.0986 - nephriti_loss: 0.0847 - inflam_acc: 1.0000 - inflam_mse: 0.0159 - nephriti_acc: 1.0000 - nephriti_mse: 0.0101 - val_loss: 0.1255 - val_inflam_loss: 0.1075 - val_nephriti_loss: 0.0900 - val_inflam_acc: 1.0000 - val_inflam_mse: 0.0185 - val_nephriti_acc: 1.0000 - val_nephriti_mse: 0.0103\n",
            "Epoch 740/1000\n",
            "1/1 - 0s - loss: 0.1155 - inflam_loss: 0.0986 - nephriti_loss: 0.0847 - inflam_acc: 1.0000 - inflam_mse: 0.0158 - nephriti_acc: 1.0000 - nephriti_mse: 0.0100 - val_loss: 0.1265 - val_inflam_loss: 0.1085 - val_nephriti_loss: 0.0900 - val_inflam_acc: 1.0000 - val_inflam_mse: 0.0190 - val_nephriti_acc: 1.0000 - val_nephriti_mse: 0.0103\n",
            "Epoch 741/1000\n",
            "1/1 - 0s - loss: 0.1154 - inflam_loss: 0.0985 - nephriti_loss: 0.0847 - inflam_acc: 1.0000 - inflam_mse: 0.0159 - nephriti_acc: 1.0000 - nephriti_mse: 0.0100 - val_loss: 0.1254 - val_inflam_loss: 0.1074 - val_nephriti_loss: 0.0899 - val_inflam_acc: 1.0000 - val_inflam_mse: 0.0185 - val_nephriti_acc: 1.0000 - val_nephriti_mse: 0.0103\n",
            "Epoch 742/1000\n",
            "1/1 - 0s - loss: 0.1154 - inflam_loss: 0.0985 - nephriti_loss: 0.0846 - inflam_acc: 1.0000 - inflam_mse: 0.0158 - nephriti_acc: 1.0000 - nephriti_mse: 0.0100 - val_loss: 0.1264 - val_inflam_loss: 0.1084 - val_nephriti_loss: 0.0899 - val_inflam_acc: 1.0000 - val_inflam_mse: 0.0190 - val_nephriti_acc: 1.0000 - val_nephriti_mse: 0.0103\n",
            "Epoch 743/1000\n",
            "1/1 - 0s - loss: 0.1153 - inflam_loss: 0.0984 - nephriti_loss: 0.0846 - inflam_acc: 1.0000 - inflam_mse: 0.0159 - nephriti_acc: 1.0000 - nephriti_mse: 0.0100 - val_loss: 0.1253 - val_inflam_loss: 0.1073 - val_nephriti_loss: 0.0898 - val_inflam_acc: 1.0000 - val_inflam_mse: 0.0184 - val_nephriti_acc: 1.0000 - val_nephriti_mse: 0.0102\n",
            "Epoch 744/1000\n",
            "1/1 - 0s - loss: 0.1153 - inflam_loss: 0.0984 - nephriti_loss: 0.0845 - inflam_acc: 1.0000 - inflam_mse: 0.0158 - nephriti_acc: 1.0000 - nephriti_mse: 0.0100 - val_loss: 0.1263 - val_inflam_loss: 0.1083 - val_nephriti_loss: 0.0898 - val_inflam_acc: 1.0000 - val_inflam_mse: 0.0189 - val_nephriti_acc: 1.0000 - val_nephriti_mse: 0.0103\n",
            "Epoch 745/1000\n",
            "1/1 - 0s - loss: 0.1152 - inflam_loss: 0.0983 - nephriti_loss: 0.0845 - inflam_acc: 1.0000 - inflam_mse: 0.0159 - nephriti_acc: 1.0000 - nephriti_mse: 0.0100 - val_loss: 0.1252 - val_inflam_loss: 0.1072 - val_nephriti_loss: 0.0898 - val_inflam_acc: 1.0000 - val_inflam_mse: 0.0184 - val_nephriti_acc: 1.0000 - val_nephriti_mse: 0.0102\n",
            "Epoch 746/1000\n",
            "1/1 - 0s - loss: 0.1152 - inflam_loss: 0.0983 - nephriti_loss: 0.0845 - inflam_acc: 1.0000 - inflam_mse: 0.0158 - nephriti_acc: 1.0000 - nephriti_mse: 0.0099 - val_loss: 0.1261 - val_inflam_loss: 0.1082 - val_nephriti_loss: 0.0898 - val_inflam_acc: 1.0000 - val_inflam_mse: 0.0189 - val_nephriti_acc: 1.0000 - val_nephriti_mse: 0.0103\n",
            "Epoch 747/1000\n",
            "1/1 - 0s - loss: 0.1151 - inflam_loss: 0.0982 - nephriti_loss: 0.0844 - inflam_acc: 1.0000 - inflam_mse: 0.0158 - nephriti_acc: 1.0000 - nephriti_mse: 0.0100 - val_loss: 0.1250 - val_inflam_loss: 0.1071 - val_nephriti_loss: 0.0897 - val_inflam_acc: 1.0000 - val_inflam_mse: 0.0184 - val_nephriti_acc: 1.0000 - val_nephriti_mse: 0.0102\n",
            "Epoch 748/1000\n",
            "1/1 - 0s - loss: 0.1150 - inflam_loss: 0.0982 - nephriti_loss: 0.0844 - inflam_acc: 1.0000 - inflam_mse: 0.0157 - nephriti_acc: 1.0000 - nephriti_mse: 0.0099 - val_loss: 0.1260 - val_inflam_loss: 0.1081 - val_nephriti_loss: 0.0897 - val_inflam_acc: 1.0000 - val_inflam_mse: 0.0189 - val_nephriti_acc: 1.0000 - val_nephriti_mse: 0.0103\n",
            "Epoch 749/1000\n",
            "1/1 - 0s - loss: 0.1150 - inflam_loss: 0.0981 - nephriti_loss: 0.0843 - inflam_acc: 1.0000 - inflam_mse: 0.0158 - nephriti_acc: 1.0000 - nephriti_mse: 0.0100 - val_loss: 0.1249 - val_inflam_loss: 0.1070 - val_nephriti_loss: 0.0896 - val_inflam_acc: 1.0000 - val_inflam_mse: 0.0183 - val_nephriti_acc: 1.0000 - val_nephriti_mse: 0.0102\n",
            "Epoch 750/1000\n",
            "1/1 - 0s - loss: 0.1149 - inflam_loss: 0.0981 - nephriti_loss: 0.0843 - inflam_acc: 1.0000 - inflam_mse: 0.0157 - nephriti_acc: 1.0000 - nephriti_mse: 0.0099 - val_loss: 0.1259 - val_inflam_loss: 0.1080 - val_nephriti_loss: 0.0896 - val_inflam_acc: 1.0000 - val_inflam_mse: 0.0189 - val_nephriti_acc: 1.0000 - val_nephriti_mse: 0.0102\n",
            "Epoch 751/1000\n",
            "1/1 - 0s - loss: 0.1149 - inflam_loss: 0.0980 - nephriti_loss: 0.0843 - inflam_acc: 1.0000 - inflam_mse: 0.0158 - nephriti_acc: 1.0000 - nephriti_mse: 0.0100 - val_loss: 0.1248 - val_inflam_loss: 0.1069 - val_nephriti_loss: 0.0895 - val_inflam_acc: 1.0000 - val_inflam_mse: 0.0183 - val_nephriti_acc: 1.0000 - val_nephriti_mse: 0.0102\n",
            "Epoch 752/1000\n",
            "1/1 - 0s - loss: 0.1148 - inflam_loss: 0.0980 - nephriti_loss: 0.0842 - inflam_acc: 1.0000 - inflam_mse: 0.0157 - nephriti_acc: 1.0000 - nephriti_mse: 0.0099 - val_loss: 0.1258 - val_inflam_loss: 0.1079 - val_nephriti_loss: 0.0895 - val_inflam_acc: 1.0000 - val_inflam_mse: 0.0188 - val_nephriti_acc: 1.0000 - val_nephriti_mse: 0.0102\n",
            "Epoch 753/1000\n",
            "1/1 - 0s - loss: 0.1148 - inflam_loss: 0.0979 - nephriti_loss: 0.0842 - inflam_acc: 1.0000 - inflam_mse: 0.0158 - nephriti_acc: 1.0000 - nephriti_mse: 0.0099 - val_loss: 0.1247 - val_inflam_loss: 0.1068 - val_nephriti_loss: 0.0894 - val_inflam_acc: 1.0000 - val_inflam_mse: 0.0183 - val_nephriti_acc: 1.0000 - val_nephriti_mse: 0.0102\n",
            "Epoch 754/1000\n",
            "1/1 - 0s - loss: 0.1147 - inflam_loss: 0.0979 - nephriti_loss: 0.0841 - inflam_acc: 1.0000 - inflam_mse: 0.0157 - nephriti_acc: 1.0000 - nephriti_mse: 0.0099 - val_loss: 0.1256 - val_inflam_loss: 0.1077 - val_nephriti_loss: 0.0894 - val_inflam_acc: 1.0000 - val_inflam_mse: 0.0188 - val_nephriti_acc: 1.0000 - val_nephriti_mse: 0.0102\n",
            "Epoch 755/1000\n",
            "1/1 - 0s - loss: 0.1146 - inflam_loss: 0.0978 - nephriti_loss: 0.0841 - inflam_acc: 1.0000 - inflam_mse: 0.0157 - nephriti_acc: 1.0000 - nephriti_mse: 0.0099 - val_loss: 0.1245 - val_inflam_loss: 0.1067 - val_nephriti_loss: 0.0893 - val_inflam_acc: 1.0000 - val_inflam_mse: 0.0182 - val_nephriti_acc: 1.0000 - val_nephriti_mse: 0.0101\n",
            "Epoch 756/1000\n",
            "1/1 - 0s - loss: 0.1146 - inflam_loss: 0.0978 - nephriti_loss: 0.0841 - inflam_acc: 1.0000 - inflam_mse: 0.0156 - nephriti_acc: 1.0000 - nephriti_mse: 0.0099 - val_loss: 0.1255 - val_inflam_loss: 0.1076 - val_nephriti_loss: 0.0893 - val_inflam_acc: 1.0000 - val_inflam_mse: 0.0188 - val_nephriti_acc: 1.0000 - val_nephriti_mse: 0.0102\n",
            "Epoch 757/1000\n",
            "1/1 - 0s - loss: 0.1145 - inflam_loss: 0.0977 - nephriti_loss: 0.0840 - inflam_acc: 1.0000 - inflam_mse: 0.0157 - nephriti_acc: 1.0000 - nephriti_mse: 0.0099 - val_loss: 0.1244 - val_inflam_loss: 0.1065 - val_nephriti_loss: 0.0893 - val_inflam_acc: 1.0000 - val_inflam_mse: 0.0182 - val_nephriti_acc: 1.0000 - val_nephriti_mse: 0.0101\n",
            "Epoch 758/1000\n",
            "1/1 - 0s - loss: 0.1145 - inflam_loss: 0.0977 - nephriti_loss: 0.0840 - inflam_acc: 1.0000 - inflam_mse: 0.0156 - nephriti_acc: 1.0000 - nephriti_mse: 0.0098 - val_loss: 0.1254 - val_inflam_loss: 0.1075 - val_nephriti_loss: 0.0892 - val_inflam_acc: 1.0000 - val_inflam_mse: 0.0187 - val_nephriti_acc: 1.0000 - val_nephriti_mse: 0.0102\n",
            "Epoch 759/1000\n",
            "1/1 - 0s - loss: 0.1144 - inflam_loss: 0.0976 - nephriti_loss: 0.0839 - inflam_acc: 1.0000 - inflam_mse: 0.0157 - nephriti_acc: 1.0000 - nephriti_mse: 0.0099 - val_loss: 0.1243 - val_inflam_loss: 0.1064 - val_nephriti_loss: 0.0892 - val_inflam_acc: 1.0000 - val_inflam_mse: 0.0182 - val_nephriti_acc: 1.0000 - val_nephriti_mse: 0.0101\n",
            "Epoch 760/1000\n",
            "1/1 - 0s - loss: 0.1144 - inflam_loss: 0.0976 - nephriti_loss: 0.0839 - inflam_acc: 1.0000 - inflam_mse: 0.0156 - nephriti_acc: 1.0000 - nephriti_mse: 0.0098 - val_loss: 0.1252 - val_inflam_loss: 0.1074 - val_nephriti_loss: 0.0892 - val_inflam_acc: 1.0000 - val_inflam_mse: 0.0187 - val_nephriti_acc: 1.0000 - val_nephriti_mse: 0.0102\n",
            "Epoch 761/1000\n",
            "1/1 - 0s - loss: 0.1143 - inflam_loss: 0.0975 - nephriti_loss: 0.0839 - inflam_acc: 1.0000 - inflam_mse: 0.0157 - nephriti_acc: 1.0000 - nephriti_mse: 0.0099 - val_loss: 0.1241 - val_inflam_loss: 0.1063 - val_nephriti_loss: 0.0891 - val_inflam_acc: 1.0000 - val_inflam_mse: 0.0182 - val_nephriti_acc: 1.0000 - val_nephriti_mse: 0.0101\n",
            "Epoch 762/1000\n",
            "1/1 - 0s - loss: 0.1142 - inflam_loss: 0.0975 - nephriti_loss: 0.0838 - inflam_acc: 1.0000 - inflam_mse: 0.0156 - nephriti_acc: 1.0000 - nephriti_mse: 0.0098 - val_loss: 0.1251 - val_inflam_loss: 0.1073 - val_nephriti_loss: 0.0891 - val_inflam_acc: 1.0000 - val_inflam_mse: 0.0187 - val_nephriti_acc: 1.0000 - val_nephriti_mse: 0.0101\n",
            "Epoch 763/1000\n",
            "1/1 - 0s - loss: 0.1142 - inflam_loss: 0.0974 - nephriti_loss: 0.0838 - inflam_acc: 1.0000 - inflam_mse: 0.0156 - nephriti_acc: 1.0000 - nephriti_mse: 0.0099 - val_loss: 0.1240 - val_inflam_loss: 0.1062 - val_nephriti_loss: 0.0890 - val_inflam_acc: 1.0000 - val_inflam_mse: 0.0181 - val_nephriti_acc: 1.0000 - val_nephriti_mse: 0.0101\n",
            "Epoch 764/1000\n",
            "1/1 - 0s - loss: 0.1141 - inflam_loss: 0.0974 - nephriti_loss: 0.0837 - inflam_acc: 1.0000 - inflam_mse: 0.0155 - nephriti_acc: 1.0000 - nephriti_mse: 0.0098 - val_loss: 0.1250 - val_inflam_loss: 0.1072 - val_nephriti_loss: 0.0890 - val_inflam_acc: 1.0000 - val_inflam_mse: 0.0186 - val_nephriti_acc: 1.0000 - val_nephriti_mse: 0.0101\n",
            "Epoch 765/1000\n",
            "1/1 - 0s - loss: 0.1141 - inflam_loss: 0.0973 - nephriti_loss: 0.0837 - inflam_acc: 1.0000 - inflam_mse: 0.0156 - nephriti_acc: 1.0000 - nephriti_mse: 0.0098 - val_loss: 0.1239 - val_inflam_loss: 0.1061 - val_nephriti_loss: 0.0889 - val_inflam_acc: 1.0000 - val_inflam_mse: 0.0181 - val_nephriti_acc: 1.0000 - val_nephriti_mse: 0.0101\n",
            "Epoch 766/1000\n",
            "1/1 - 0s - loss: 0.1140 - inflam_loss: 0.0973 - nephriti_loss: 0.0837 - inflam_acc: 1.0000 - inflam_mse: 0.0155 - nephriti_acc: 1.0000 - nephriti_mse: 0.0098 - val_loss: 0.1249 - val_inflam_loss: 0.1071 - val_nephriti_loss: 0.0889 - val_inflam_acc: 1.0000 - val_inflam_mse: 0.0186 - val_nephriti_acc: 1.0000 - val_nephriti_mse: 0.0101\n",
            "Epoch 767/1000\n",
            "1/1 - 0s - loss: 0.1139 - inflam_loss: 0.0972 - nephriti_loss: 0.0836 - inflam_acc: 1.0000 - inflam_mse: 0.0156 - nephriti_acc: 1.0000 - nephriti_mse: 0.0098 - val_loss: 0.1238 - val_inflam_loss: 0.1060 - val_nephriti_loss: 0.0888 - val_inflam_acc: 1.0000 - val_inflam_mse: 0.0181 - val_nephriti_acc: 1.0000 - val_nephriti_mse: 0.0100\n",
            "Epoch 768/1000\n",
            "1/1 - 0s - loss: 0.1139 - inflam_loss: 0.0972 - nephriti_loss: 0.0836 - inflam_acc: 1.0000 - inflam_mse: 0.0155 - nephriti_acc: 1.0000 - nephriti_mse: 0.0098 - val_loss: 0.1247 - val_inflam_loss: 0.1070 - val_nephriti_loss: 0.0888 - val_inflam_acc: 1.0000 - val_inflam_mse: 0.0186 - val_nephriti_acc: 1.0000 - val_nephriti_mse: 0.0101\n",
            "Epoch 769/1000\n",
            "1/1 - 0s - loss: 0.1138 - inflam_loss: 0.0971 - nephriti_loss: 0.0835 - inflam_acc: 1.0000 - inflam_mse: 0.0156 - nephriti_acc: 1.0000 - nephriti_mse: 0.0098 - val_loss: 0.1236 - val_inflam_loss: 0.1059 - val_nephriti_loss: 0.0887 - val_inflam_acc: 1.0000 - val_inflam_mse: 0.0180 - val_nephriti_acc: 1.0000 - val_nephriti_mse: 0.0100\n",
            "Epoch 770/1000\n",
            "1/1 - 0s - loss: 0.1138 - inflam_loss: 0.0971 - nephriti_loss: 0.0835 - inflam_acc: 1.0000 - inflam_mse: 0.0155 - nephriti_acc: 1.0000 - nephriti_mse: 0.0097 - val_loss: 0.1246 - val_inflam_loss: 0.1069 - val_nephriti_loss: 0.0887 - val_inflam_acc: 1.0000 - val_inflam_mse: 0.0185 - val_nephriti_acc: 1.0000 - val_nephriti_mse: 0.0101\n",
            "Epoch 771/1000\n",
            "1/1 - 0s - loss: 0.1137 - inflam_loss: 0.0970 - nephriti_loss: 0.0835 - inflam_acc: 1.0000 - inflam_mse: 0.0155 - nephriti_acc: 1.0000 - nephriti_mse: 0.0098 - val_loss: 0.1235 - val_inflam_loss: 0.1058 - val_nephriti_loss: 0.0887 - val_inflam_acc: 1.0000 - val_inflam_mse: 0.0180 - val_nephriti_acc: 1.0000 - val_nephriti_mse: 0.0100\n",
            "Epoch 772/1000\n",
            "1/1 - 0s - loss: 0.1137 - inflam_loss: 0.0970 - nephriti_loss: 0.0834 - inflam_acc: 1.0000 - inflam_mse: 0.0154 - nephriti_acc: 1.0000 - nephriti_mse: 0.0097 - val_loss: 0.1245 - val_inflam_loss: 0.1068 - val_nephriti_loss: 0.0887 - val_inflam_acc: 1.0000 - val_inflam_mse: 0.0185 - val_nephriti_acc: 1.0000 - val_nephriti_mse: 0.0101\n",
            "Epoch 773/1000\n",
            "1/1 - 0s - loss: 0.1136 - inflam_loss: 0.0969 - nephriti_loss: 0.0834 - inflam_acc: 1.0000 - inflam_mse: 0.0155 - nephriti_acc: 1.0000 - nephriti_mse: 0.0098 - val_loss: 0.1234 - val_inflam_loss: 0.1057 - val_nephriti_loss: 0.0886 - val_inflam_acc: 1.0000 - val_inflam_mse: 0.0180 - val_nephriti_acc: 1.0000 - val_nephriti_mse: 0.0100\n",
            "Epoch 774/1000\n",
            "1/1 - 0s - loss: 0.1135 - inflam_loss: 0.0969 - nephriti_loss: 0.0833 - inflam_acc: 1.0000 - inflam_mse: 0.0154 - nephriti_acc: 1.0000 - nephriti_mse: 0.0097 - val_loss: 0.1244 - val_inflam_loss: 0.1066 - val_nephriti_loss: 0.0886 - val_inflam_acc: 1.0000 - val_inflam_mse: 0.0185 - val_nephriti_acc: 1.0000 - val_nephriti_mse: 0.0100\n",
            "Epoch 775/1000\n",
            "1/1 - 0s - loss: 0.1135 - inflam_loss: 0.0968 - nephriti_loss: 0.0833 - inflam_acc: 1.0000 - inflam_mse: 0.0155 - nephriti_acc: 1.0000 - nephriti_mse: 0.0098 - val_loss: 0.1233 - val_inflam_loss: 0.1056 - val_nephriti_loss: 0.0885 - val_inflam_acc: 1.0000 - val_inflam_mse: 0.0179 - val_nephriti_acc: 1.0000 - val_nephriti_mse: 0.0100\n",
            "Epoch 776/1000\n",
            "1/1 - 0s - loss: 0.1134 - inflam_loss: 0.0968 - nephriti_loss: 0.0833 - inflam_acc: 1.0000 - inflam_mse: 0.0154 - nephriti_acc: 1.0000 - nephriti_mse: 0.0097 - val_loss: 0.1242 - val_inflam_loss: 0.1065 - val_nephriti_loss: 0.0885 - val_inflam_acc: 1.0000 - val_inflam_mse: 0.0185 - val_nephriti_acc: 1.0000 - val_nephriti_mse: 0.0100\n",
            "Epoch 777/1000\n",
            "1/1 - 0s - loss: 0.1134 - inflam_loss: 0.0967 - nephriti_loss: 0.0832 - inflam_acc: 1.0000 - inflam_mse: 0.0155 - nephriti_acc: 1.0000 - nephriti_mse: 0.0097 - val_loss: 0.1231 - val_inflam_loss: 0.1055 - val_nephriti_loss: 0.0884 - val_inflam_acc: 1.0000 - val_inflam_mse: 0.0179 - val_nephriti_acc: 1.0000 - val_nephriti_mse: 0.0100\n",
            "Epoch 778/1000\n",
            "1/1 - 0s - loss: 0.1133 - inflam_loss: 0.0967 - nephriti_loss: 0.0832 - inflam_acc: 1.0000 - inflam_mse: 0.0154 - nephriti_acc: 1.0000 - nephriti_mse: 0.0097 - val_loss: 0.1241 - val_inflam_loss: 0.1064 - val_nephriti_loss: 0.0884 - val_inflam_acc: 1.0000 - val_inflam_mse: 0.0184 - val_nephriti_acc: 1.0000 - val_nephriti_mse: 0.0100\n",
            "Epoch 779/1000\n",
            "1/1 - 0s - loss: 0.1133 - inflam_loss: 0.0966 - nephriti_loss: 0.0832 - inflam_acc: 1.0000 - inflam_mse: 0.0154 - nephriti_acc: 1.0000 - nephriti_mse: 0.0097 - val_loss: 0.1230 - val_inflam_loss: 0.1053 - val_nephriti_loss: 0.0883 - val_inflam_acc: 1.0000 - val_inflam_mse: 0.0179 - val_nephriti_acc: 1.0000 - val_nephriti_mse: 0.0099\n",
            "Epoch 780/1000\n",
            "1/1 - 0s - loss: 0.1132 - inflam_loss: 0.0966 - nephriti_loss: 0.0831 - inflam_acc: 1.0000 - inflam_mse: 0.0153 - nephriti_acc: 1.0000 - nephriti_mse: 0.0097 - val_loss: 0.1240 - val_inflam_loss: 0.1063 - val_nephriti_loss: 0.0883 - val_inflam_acc: 1.0000 - val_inflam_mse: 0.0184 - val_nephriti_acc: 1.0000 - val_nephriti_mse: 0.0100\n",
            "Epoch 781/1000\n",
            "1/1 - 0s - loss: 0.1132 - inflam_loss: 0.0965 - nephriti_loss: 0.0831 - inflam_acc: 1.0000 - inflam_mse: 0.0154 - nephriti_acc: 1.0000 - nephriti_mse: 0.0097 - val_loss: 0.1229 - val_inflam_loss: 0.1052 - val_nephriti_loss: 0.0882 - val_inflam_acc: 1.0000 - val_inflam_mse: 0.0179 - val_nephriti_acc: 1.0000 - val_nephriti_mse: 0.0099\n",
            "Epoch 782/1000\n",
            "1/1 - 0s - loss: 0.1131 - inflam_loss: 0.0965 - nephriti_loss: 0.0830 - inflam_acc: 1.0000 - inflam_mse: 0.0153 - nephriti_acc: 1.0000 - nephriti_mse: 0.0097 - val_loss: 0.1239 - val_inflam_loss: 0.1062 - val_nephriti_loss: 0.0882 - val_inflam_acc: 1.0000 - val_inflam_mse: 0.0184 - val_nephriti_acc: 1.0000 - val_nephriti_mse: 0.0100\n",
            "Epoch 783/1000\n",
            "1/1 - 0s - loss: 0.1130 - inflam_loss: 0.0964 - nephriti_loss: 0.0830 - inflam_acc: 1.0000 - inflam_mse: 0.0154 - nephriti_acc: 1.0000 - nephriti_mse: 0.0097 - val_loss: 0.1228 - val_inflam_loss: 0.1051 - val_nephriti_loss: 0.0882 - val_inflam_acc: 1.0000 - val_inflam_mse: 0.0178 - val_nephriti_acc: 1.0000 - val_nephriti_mse: 0.0099\n",
            "Epoch 784/1000\n",
            "1/1 - 0s - loss: 0.1130 - inflam_loss: 0.0964 - nephriti_loss: 0.0830 - inflam_acc: 1.0000 - inflam_mse: 0.0153 - nephriti_acc: 1.0000 - nephriti_mse: 0.0096 - val_loss: 0.1237 - val_inflam_loss: 0.1061 - val_nephriti_loss: 0.0882 - val_inflam_acc: 1.0000 - val_inflam_mse: 0.0183 - val_nephriti_acc: 1.0000 - val_nephriti_mse: 0.0100\n",
            "Epoch 785/1000\n",
            "1/1 - 0s - loss: 0.1129 - inflam_loss: 0.0963 - nephriti_loss: 0.0829 - inflam_acc: 1.0000 - inflam_mse: 0.0154 - nephriti_acc: 1.0000 - nephriti_mse: 0.0097 - val_loss: 0.1226 - val_inflam_loss: 0.1050 - val_nephriti_loss: 0.0881 - val_inflam_acc: 1.0000 - val_inflam_mse: 0.0178 - val_nephriti_acc: 1.0000 - val_nephriti_mse: 0.0099\n",
            "Epoch 786/1000\n",
            "1/1 - 0s - loss: 0.1129 - inflam_loss: 0.0963 - nephriti_loss: 0.0829 - inflam_acc: 1.0000 - inflam_mse: 0.0153 - nephriti_acc: 1.0000 - nephriti_mse: 0.0096 - val_loss: 0.1236 - val_inflam_loss: 0.1060 - val_nephriti_loss: 0.0881 - val_inflam_acc: 1.0000 - val_inflam_mse: 0.0183 - val_nephriti_acc: 1.0000 - val_nephriti_mse: 0.0099\n",
            "Epoch 787/1000\n",
            "1/1 - 0s - loss: 0.1128 - inflam_loss: 0.0962 - nephriti_loss: 0.0828 - inflam_acc: 1.0000 - inflam_mse: 0.0153 - nephriti_acc: 1.0000 - nephriti_mse: 0.0097 - val_loss: 0.1225 - val_inflam_loss: 0.1049 - val_nephriti_loss: 0.0880 - val_inflam_acc: 1.0000 - val_inflam_mse: 0.0178 - val_nephriti_acc: 1.0000 - val_nephriti_mse: 0.0099\n",
            "Epoch 788/1000\n",
            "1/1 - 0s - loss: 0.1128 - inflam_loss: 0.0962 - nephriti_loss: 0.0828 - inflam_acc: 1.0000 - inflam_mse: 0.0152 - nephriti_acc: 1.0000 - nephriti_mse: 0.0096 - val_loss: 0.1235 - val_inflam_loss: 0.1059 - val_nephriti_loss: 0.0880 - val_inflam_acc: 1.0000 - val_inflam_mse: 0.0183 - val_nephriti_acc: 1.0000 - val_nephriti_mse: 0.0099\n",
            "Epoch 789/1000\n",
            "1/1 - 0s - loss: 0.1127 - inflam_loss: 0.0961 - nephriti_loss: 0.0828 - inflam_acc: 1.0000 - inflam_mse: 0.0153 - nephriti_acc: 1.0000 - nephriti_mse: 0.0096 - val_loss: 0.1224 - val_inflam_loss: 0.1048 - val_nephriti_loss: 0.0879 - val_inflam_acc: 1.0000 - val_inflam_mse: 0.0177 - val_nephriti_acc: 1.0000 - val_nephriti_mse: 0.0099\n",
            "Epoch 790/1000\n",
            "1/1 - 0s - loss: 0.1126 - inflam_loss: 0.0961 - nephriti_loss: 0.0827 - inflam_acc: 1.0000 - inflam_mse: 0.0152 - nephriti_acc: 1.0000 - nephriti_mse: 0.0096 - val_loss: 0.1234 - val_inflam_loss: 0.1058 - val_nephriti_loss: 0.0879 - val_inflam_acc: 1.0000 - val_inflam_mse: 0.0182 - val_nephriti_acc: 1.0000 - val_nephriti_mse: 0.0099\n",
            "Epoch 791/1000\n",
            "1/1 - 0s - loss: 0.1126 - inflam_loss: 0.0960 - nephriti_loss: 0.0827 - inflam_acc: 1.0000 - inflam_mse: 0.0153 - nephriti_acc: 1.0000 - nephriti_mse: 0.0096 - val_loss: 0.1223 - val_inflam_loss: 0.1047 - val_nephriti_loss: 0.0878 - val_inflam_acc: 1.0000 - val_inflam_mse: 0.0177 - val_nephriti_acc: 1.0000 - val_nephriti_mse: 0.0098\n",
            "Epoch 792/1000\n",
            "1/1 - 0s - loss: 0.1125 - inflam_loss: 0.0960 - nephriti_loss: 0.0826 - inflam_acc: 1.0000 - inflam_mse: 0.0152 - nephriti_acc: 1.0000 - nephriti_mse: 0.0096 - val_loss: 0.1232 - val_inflam_loss: 0.1057 - val_nephriti_loss: 0.0878 - val_inflam_acc: 1.0000 - val_inflam_mse: 0.0182 - val_nephriti_acc: 1.0000 - val_nephriti_mse: 0.0099\n",
            "Epoch 793/1000\n",
            "1/1 - 0s - loss: 0.1125 - inflam_loss: 0.0960 - nephriti_loss: 0.0826 - inflam_acc: 1.0000 - inflam_mse: 0.0153 - nephriti_acc: 1.0000 - nephriti_mse: 0.0096 - val_loss: 0.1221 - val_inflam_loss: 0.1046 - val_nephriti_loss: 0.0877 - val_inflam_acc: 1.0000 - val_inflam_mse: 0.0177 - val_nephriti_acc: 1.0000 - val_nephriti_mse: 0.0098\n",
            "Epoch 794/1000\n",
            "1/1 - 0s - loss: 0.1124 - inflam_loss: 0.0959 - nephriti_loss: 0.0826 - inflam_acc: 1.0000 - inflam_mse: 0.0152 - nephriti_acc: 1.0000 - nephriti_mse: 0.0096 - val_loss: 0.1231 - val_inflam_loss: 0.1056 - val_nephriti_loss: 0.0877 - val_inflam_acc: 1.0000 - val_inflam_mse: 0.0182 - val_nephriti_acc: 1.0000 - val_nephriti_mse: 0.0099\n",
            "Epoch 795/1000\n",
            "1/1 - 0s - loss: 0.1124 - inflam_loss: 0.0959 - nephriti_loss: 0.0825 - inflam_acc: 1.0000 - inflam_mse: 0.0152 - nephriti_acc: 1.0000 - nephriti_mse: 0.0096 - val_loss: 0.1220 - val_inflam_loss: 0.1045 - val_nephriti_loss: 0.0877 - val_inflam_acc: 1.0000 - val_inflam_mse: 0.0177 - val_nephriti_acc: 1.0000 - val_nephriti_mse: 0.0098\n",
            "Epoch 796/1000\n",
            "1/1 - 0s - loss: 0.1123 - inflam_loss: 0.0958 - nephriti_loss: 0.0825 - inflam_acc: 1.0000 - inflam_mse: 0.0151 - nephriti_acc: 1.0000 - nephriti_mse: 0.0095 - val_loss: 0.1230 - val_inflam_loss: 0.1054 - val_nephriti_loss: 0.0877 - val_inflam_acc: 1.0000 - val_inflam_mse: 0.0182 - val_nephriti_acc: 1.0000 - val_nephriti_mse: 0.0099\n",
            "Epoch 797/1000\n",
            "1/1 - 0s - loss: 0.1122 - inflam_loss: 0.0958 - nephriti_loss: 0.0825 - inflam_acc: 1.0000 - inflam_mse: 0.0152 - nephriti_acc: 1.0000 - nephriti_mse: 0.0096 - val_loss: 0.1219 - val_inflam_loss: 0.1044 - val_nephriti_loss: 0.0876 - val_inflam_acc: 1.0000 - val_inflam_mse: 0.0176 - val_nephriti_acc: 1.0000 - val_nephriti_mse: 0.0098\n",
            "Epoch 798/1000\n",
            "1/1 - 0s - loss: 0.1122 - inflam_loss: 0.0957 - nephriti_loss: 0.0824 - inflam_acc: 1.0000 - inflam_mse: 0.0151 - nephriti_acc: 1.0000 - nephriti_mse: 0.0095 - val_loss: 0.1229 - val_inflam_loss: 0.1053 - val_nephriti_loss: 0.0876 - val_inflam_acc: 1.0000 - val_inflam_mse: 0.0181 - val_nephriti_acc: 1.0000 - val_nephriti_mse: 0.0098\n",
            "Epoch 799/1000\n",
            "1/1 - 0s - loss: 0.1121 - inflam_loss: 0.0957 - nephriti_loss: 0.0824 - inflam_acc: 1.0000 - inflam_mse: 0.0152 - nephriti_acc: 1.0000 - nephriti_mse: 0.0096 - val_loss: 0.1218 - val_inflam_loss: 0.1043 - val_nephriti_loss: 0.0875 - val_inflam_acc: 1.0000 - val_inflam_mse: 0.0176 - val_nephriti_acc: 1.0000 - val_nephriti_mse: 0.0098\n",
            "Epoch 800/1000\n",
            "1/1 - 0s - loss: 0.1121 - inflam_loss: 0.0956 - nephriti_loss: 0.0823 - inflam_acc: 1.0000 - inflam_mse: 0.0151 - nephriti_acc: 1.0000 - nephriti_mse: 0.0095 - val_loss: 0.1227 - val_inflam_loss: 0.1052 - val_nephriti_loss: 0.0875 - val_inflam_acc: 1.0000 - val_inflam_mse: 0.0181 - val_nephriti_acc: 1.0000 - val_nephriti_mse: 0.0098\n",
            "Epoch 801/1000\n",
            "1/1 - 0s - loss: 0.1120 - inflam_loss: 0.0956 - nephriti_loss: 0.0823 - inflam_acc: 1.0000 - inflam_mse: 0.0152 - nephriti_acc: 1.0000 - nephriti_mse: 0.0096 - val_loss: 0.1216 - val_inflam_loss: 0.1042 - val_nephriti_loss: 0.0874 - val_inflam_acc: 1.0000 - val_inflam_mse: 0.0176 - val_nephriti_acc: 1.0000 - val_nephriti_mse: 0.0098\n",
            "Epoch 802/1000\n",
            "1/1 - 0s - loss: 0.1120 - inflam_loss: 0.0955 - nephriti_loss: 0.0823 - inflam_acc: 1.0000 - inflam_mse: 0.0151 - nephriti_acc: 1.0000 - nephriti_mse: 0.0095 - val_loss: 0.1226 - val_inflam_loss: 0.1051 - val_nephriti_loss: 0.0874 - val_inflam_acc: 1.0000 - val_inflam_mse: 0.0181 - val_nephriti_acc: 1.0000 - val_nephriti_mse: 0.0098\n",
            "Epoch 803/1000\n",
            "1/1 - 0s - loss: 0.1119 - inflam_loss: 0.0955 - nephriti_loss: 0.0822 - inflam_acc: 1.0000 - inflam_mse: 0.0151 - nephriti_acc: 1.0000 - nephriti_mse: 0.0095 - val_loss: 0.1215 - val_inflam_loss: 0.1041 - val_nephriti_loss: 0.0873 - val_inflam_acc: 1.0000 - val_inflam_mse: 0.0175 - val_nephriti_acc: 1.0000 - val_nephriti_mse: 0.0097\n",
            "Epoch 804/1000\n",
            "1/1 - 0s - loss: 0.1119 - inflam_loss: 0.0954 - nephriti_loss: 0.0822 - inflam_acc: 1.0000 - inflam_mse: 0.0150 - nephriti_acc: 1.0000 - nephriti_mse: 0.0095 - val_loss: 0.1225 - val_inflam_loss: 0.1050 - val_nephriti_loss: 0.0873 - val_inflam_acc: 1.0000 - val_inflam_mse: 0.0180 - val_nephriti_acc: 1.0000 - val_nephriti_mse: 0.0098\n",
            "Epoch 805/1000\n",
            "1/1 - 0s - loss: 0.1118 - inflam_loss: 0.0954 - nephriti_loss: 0.0821 - inflam_acc: 1.0000 - inflam_mse: 0.0151 - nephriti_acc: 1.0000 - nephriti_mse: 0.0095 - val_loss: 0.1214 - val_inflam_loss: 0.1040 - val_nephriti_loss: 0.0873 - val_inflam_acc: 1.0000 - val_inflam_mse: 0.0175 - val_nephriti_acc: 1.0000 - val_nephriti_mse: 0.0097\n",
            "Epoch 806/1000\n",
            "1/1 - 0s - loss: 0.1117 - inflam_loss: 0.0953 - nephriti_loss: 0.0821 - inflam_acc: 1.0000 - inflam_mse: 0.0150 - nephriti_acc: 1.0000 - nephriti_mse: 0.0095 - val_loss: 0.1224 - val_inflam_loss: 0.1049 - val_nephriti_loss: 0.0872 - val_inflam_acc: 1.0000 - val_inflam_mse: 0.0180 - val_nephriti_acc: 1.0000 - val_nephriti_mse: 0.0098\n",
            "Epoch 807/1000\n",
            "1/1 - 0s - loss: 0.1117 - inflam_loss: 0.0953 - nephriti_loss: 0.0821 - inflam_acc: 1.0000 - inflam_mse: 0.0151 - nephriti_acc: 1.0000 - nephriti_mse: 0.0095 - val_loss: 0.1213 - val_inflam_loss: 0.1038 - val_nephriti_loss: 0.0872 - val_inflam_acc: 1.0000 - val_inflam_mse: 0.0175 - val_nephriti_acc: 1.0000 - val_nephriti_mse: 0.0097\n",
            "Epoch 808/1000\n",
            "1/1 - 0s - loss: 0.1116 - inflam_loss: 0.0952 - nephriti_loss: 0.0820 - inflam_acc: 1.0000 - inflam_mse: 0.0150 - nephriti_acc: 1.0000 - nephriti_mse: 0.0094 - val_loss: 0.1222 - val_inflam_loss: 0.1048 - val_nephriti_loss: 0.0872 - val_inflam_acc: 1.0000 - val_inflam_mse: 0.0180 - val_nephriti_acc: 1.0000 - val_nephriti_mse: 0.0098\n",
            "Epoch 809/1000\n",
            "1/1 - 0s - loss: 0.1116 - inflam_loss: 0.0952 - nephriti_loss: 0.0820 - inflam_acc: 1.0000 - inflam_mse: 0.0151 - nephriti_acc: 1.0000 - nephriti_mse: 0.0095 - val_loss: 0.1212 - val_inflam_loss: 0.1037 - val_nephriti_loss: 0.0871 - val_inflam_acc: 1.0000 - val_inflam_mse: 0.0174 - val_nephriti_acc: 1.0000 - val_nephriti_mse: 0.0097\n",
            "Epoch 810/1000\n",
            "1/1 - 0s - loss: 0.1115 - inflam_loss: 0.0951 - nephriti_loss: 0.0819 - inflam_acc: 1.0000 - inflam_mse: 0.0150 - nephriti_acc: 1.0000 - nephriti_mse: 0.0094 - val_loss: 0.1221 - val_inflam_loss: 0.1047 - val_nephriti_loss: 0.0871 - val_inflam_acc: 1.0000 - val_inflam_mse: 0.0179 - val_nephriti_acc: 1.0000 - val_nephriti_mse: 0.0097\n",
            "Epoch 811/1000\n",
            "1/1 - 0s - loss: 0.1115 - inflam_loss: 0.0951 - nephriti_loss: 0.0819 - inflam_acc: 1.0000 - inflam_mse: 0.0150 - nephriti_acc: 1.0000 - nephriti_mse: 0.0095 - val_loss: 0.1210 - val_inflam_loss: 0.1036 - val_nephriti_loss: 0.0870 - val_inflam_acc: 1.0000 - val_inflam_mse: 0.0174 - val_nephriti_acc: 1.0000 - val_nephriti_mse: 0.0097\n",
            "Epoch 812/1000\n",
            "1/1 - 0s - loss: 0.1114 - inflam_loss: 0.0950 - nephriti_loss: 0.0819 - inflam_acc: 1.0000 - inflam_mse: 0.0149 - nephriti_acc: 1.0000 - nephriti_mse: 0.0094 - val_loss: 0.1220 - val_inflam_loss: 0.1046 - val_nephriti_loss: 0.0870 - val_inflam_acc: 1.0000 - val_inflam_mse: 0.0179 - val_nephriti_acc: 1.0000 - val_nephriti_mse: 0.0097\n",
            "Epoch 813/1000\n",
            "1/1 - 0s - loss: 0.1114 - inflam_loss: 0.0950 - nephriti_loss: 0.0818 - inflam_acc: 1.0000 - inflam_mse: 0.0150 - nephriti_acc: 1.0000 - nephriti_mse: 0.0095 - val_loss: 0.1209 - val_inflam_loss: 0.1035 - val_nephriti_loss: 0.0869 - val_inflam_acc: 1.0000 - val_inflam_mse: 0.0174 - val_nephriti_acc: 1.0000 - val_nephriti_mse: 0.0097\n",
            "Epoch 814/1000\n",
            "1/1 - 0s - loss: 0.1113 - inflam_loss: 0.0949 - nephriti_loss: 0.0818 - inflam_acc: 1.0000 - inflam_mse: 0.0149 - nephriti_acc: 1.0000 - nephriti_mse: 0.0094 - val_loss: 0.1219 - val_inflam_loss: 0.1045 - val_nephriti_loss: 0.0869 - val_inflam_acc: 1.0000 - val_inflam_mse: 0.0179 - val_nephriti_acc: 1.0000 - val_nephriti_mse: 0.0097\n",
            "Epoch 815/1000\n",
            "1/1 - 0s - loss: 0.1112 - inflam_loss: 0.0949 - nephriti_loss: 0.0818 - inflam_acc: 1.0000 - inflam_mse: 0.0150 - nephriti_acc: 1.0000 - nephriti_mse: 0.0094 - val_loss: 0.1208 - val_inflam_loss: 0.1034 - val_nephriti_loss: 0.0868 - val_inflam_acc: 1.0000 - val_inflam_mse: 0.0174 - val_nephriti_acc: 1.0000 - val_nephriti_mse: 0.0097\n",
            "Epoch 816/1000\n",
            "1/1 - 0s - loss: 0.1112 - inflam_loss: 0.0948 - nephriti_loss: 0.0817 - inflam_acc: 1.0000 - inflam_mse: 0.0149 - nephriti_acc: 1.0000 - nephriti_mse: 0.0094 - val_loss: 0.1217 - val_inflam_loss: 0.1044 - val_nephriti_loss: 0.0868 - val_inflam_acc: 1.0000 - val_inflam_mse: 0.0179 - val_nephriti_acc: 1.0000 - val_nephriti_mse: 0.0097\n",
            "Epoch 817/1000\n",
            "1/1 - 0s - loss: 0.1111 - inflam_loss: 0.0948 - nephriti_loss: 0.0817 - inflam_acc: 1.0000 - inflam_mse: 0.0150 - nephriti_acc: 1.0000 - nephriti_mse: 0.0094 - val_loss: 0.1207 - val_inflam_loss: 0.1033 - val_nephriti_loss: 0.0868 - val_inflam_acc: 1.0000 - val_inflam_mse: 0.0173 - val_nephriti_acc: 1.0000 - val_nephriti_mse: 0.0096\n",
            "Epoch 818/1000\n",
            "1/1 - 0s - loss: 0.1111 - inflam_loss: 0.0947 - nephriti_loss: 0.0816 - inflam_acc: 1.0000 - inflam_mse: 0.0149 - nephriti_acc: 1.0000 - nephriti_mse: 0.0094 - val_loss: 0.1216 - val_inflam_loss: 0.1043 - val_nephriti_loss: 0.0868 - val_inflam_acc: 1.0000 - val_inflam_mse: 0.0178 - val_nephriti_acc: 1.0000 - val_nephriti_mse: 0.0097\n",
            "Epoch 819/1000\n",
            "1/1 - 0s - loss: 0.1110 - inflam_loss: 0.0947 - nephriti_loss: 0.0816 - inflam_acc: 1.0000 - inflam_mse: 0.0149 - nephriti_acc: 1.0000 - nephriti_mse: 0.0094 - val_loss: 0.1205 - val_inflam_loss: 0.1032 - val_nephriti_loss: 0.0867 - val_inflam_acc: 1.0000 - val_inflam_mse: 0.0173 - val_nephriti_acc: 1.0000 - val_nephriti_mse: 0.0096\n",
            "Epoch 820/1000\n",
            "1/1 - 0s - loss: 0.1110 - inflam_loss: 0.0946 - nephriti_loss: 0.0816 - inflam_acc: 1.0000 - inflam_mse: 0.0148 - nephriti_acc: 1.0000 - nephriti_mse: 0.0094 - val_loss: 0.1215 - val_inflam_loss: 0.1042 - val_nephriti_loss: 0.0867 - val_inflam_acc: 1.0000 - val_inflam_mse: 0.0178 - val_nephriti_acc: 1.0000 - val_nephriti_mse: 0.0097\n",
            "Epoch 821/1000\n",
            "1/1 - 0s - loss: 0.1109 - inflam_loss: 0.0946 - nephriti_loss: 0.0815 - inflam_acc: 1.0000 - inflam_mse: 0.0149 - nephriti_acc: 1.0000 - nephriti_mse: 0.0094 - val_loss: 0.1204 - val_inflam_loss: 0.1031 - val_nephriti_loss: 0.0866 - val_inflam_acc: 1.0000 - val_inflam_mse: 0.0173 - val_nephriti_acc: 1.0000 - val_nephriti_mse: 0.0096\n",
            "Epoch 822/1000\n",
            "1/1 - 0s - loss: 0.1108 - inflam_loss: 0.0946 - nephriti_loss: 0.0815 - inflam_acc: 1.0000 - inflam_mse: 0.0148 - nephriti_acc: 1.0000 - nephriti_mse: 0.0093 - val_loss: 0.1214 - val_inflam_loss: 0.1041 - val_nephriti_loss: 0.0866 - val_inflam_acc: 1.0000 - val_inflam_mse: 0.0178 - val_nephriti_acc: 1.0000 - val_nephriti_mse: 0.0096\n",
            "Epoch 823/1000\n",
            "1/1 - 0s - loss: 0.1108 - inflam_loss: 0.0945 - nephriti_loss: 0.0814 - inflam_acc: 1.0000 - inflam_mse: 0.0149 - nephriti_acc: 1.0000 - nephriti_mse: 0.0094 - val_loss: 0.1203 - val_inflam_loss: 0.1030 - val_nephriti_loss: 0.0865 - val_inflam_acc: 1.0000 - val_inflam_mse: 0.0172 - val_nephriti_acc: 1.0000 - val_nephriti_mse: 0.0096\n",
            "Epoch 824/1000\n",
            "1/1 - 0s - loss: 0.1107 - inflam_loss: 0.0945 - nephriti_loss: 0.0814 - inflam_acc: 1.0000 - inflam_mse: 0.0148 - nephriti_acc: 1.0000 - nephriti_mse: 0.0093 - val_loss: 0.1212 - val_inflam_loss: 0.1039 - val_nephriti_loss: 0.0865 - val_inflam_acc: 1.0000 - val_inflam_mse: 0.0177 - val_nephriti_acc: 1.0000 - val_nephriti_mse: 0.0096\n",
            "Epoch 825/1000\n",
            "1/1 - 0s - loss: 0.1107 - inflam_loss: 0.0944 - nephriti_loss: 0.0814 - inflam_acc: 1.0000 - inflam_mse: 0.0149 - nephriti_acc: 1.0000 - nephriti_mse: 0.0094 - val_loss: 0.1202 - val_inflam_loss: 0.1029 - val_nephriti_loss: 0.0864 - val_inflam_acc: 1.0000 - val_inflam_mse: 0.0172 - val_nephriti_acc: 1.0000 - val_nephriti_mse: 0.0096\n",
            "Epoch 826/1000\n",
            "1/1 - 0s - loss: 0.1106 - inflam_loss: 0.0944 - nephriti_loss: 0.0813 - inflam_acc: 1.0000 - inflam_mse: 0.0148 - nephriti_acc: 1.0000 - nephriti_mse: 0.0093 - val_loss: 0.1211 - val_inflam_loss: 0.1038 - val_nephriti_loss: 0.0864 - val_inflam_acc: 1.0000 - val_inflam_mse: 0.0177 - val_nephriti_acc: 1.0000 - val_nephriti_mse: 0.0096\n",
            "Epoch 827/1000\n",
            "1/1 - 0s - loss: 0.1106 - inflam_loss: 0.0943 - nephriti_loss: 0.0813 - inflam_acc: 1.0000 - inflam_mse: 0.0148 - nephriti_acc: 1.0000 - nephriti_mse: 0.0094 - val_loss: 0.1201 - val_inflam_loss: 0.1028 - val_nephriti_loss: 0.0863 - val_inflam_acc: 1.0000 - val_inflam_mse: 0.0172 - val_nephriti_acc: 1.0000 - val_nephriti_mse: 0.0096\n",
            "Epoch 828/1000\n",
            "1/1 - 0s - loss: 0.1105 - inflam_loss: 0.0943 - nephriti_loss: 0.0813 - inflam_acc: 1.0000 - inflam_mse: 0.0147 - nephriti_acc: 1.0000 - nephriti_mse: 0.0093 - val_loss: 0.1210 - val_inflam_loss: 0.1037 - val_nephriti_loss: 0.0863 - val_inflam_acc: 1.0000 - val_inflam_mse: 0.0177 - val_nephriti_acc: 1.0000 - val_nephriti_mse: 0.0096\n",
            "Epoch 829/1000\n",
            "1/1 - 0s - loss: 0.1105 - inflam_loss: 0.0942 - nephriti_loss: 0.0812 - inflam_acc: 1.0000 - inflam_mse: 0.0148 - nephriti_acc: 1.0000 - nephriti_mse: 0.0093 - val_loss: 0.1199 - val_inflam_loss: 0.1027 - val_nephriti_loss: 0.0863 - val_inflam_acc: 1.0000 - val_inflam_mse: 0.0172 - val_nephriti_acc: 1.0000 - val_nephriti_mse: 0.0095\n",
            "Epoch 830/1000\n",
            "1/1 - 0s - loss: 0.1104 - inflam_loss: 0.0942 - nephriti_loss: 0.0812 - inflam_acc: 1.0000 - inflam_mse: 0.0147 - nephriti_acc: 1.0000 - nephriti_mse: 0.0093 - val_loss: 0.1209 - val_inflam_loss: 0.1036 - val_nephriti_loss: 0.0863 - val_inflam_acc: 1.0000 - val_inflam_mse: 0.0177 - val_nephriti_acc: 1.0000 - val_nephriti_mse: 0.0096\n",
            "Epoch 831/1000\n",
            "1/1 - 0s - loss: 0.1104 - inflam_loss: 0.0941 - nephriti_loss: 0.0811 - inflam_acc: 1.0000 - inflam_mse: 0.0148 - nephriti_acc: 1.0000 - nephriti_mse: 0.0093 - val_loss: 0.1198 - val_inflam_loss: 0.1026 - val_nephriti_loss: 0.0862 - val_inflam_acc: 1.0000 - val_inflam_mse: 0.0171 - val_nephriti_acc: 1.0000 - val_nephriti_mse: 0.0095\n",
            "Epoch 832/1000\n",
            "1/1 - 0s - loss: 0.1103 - inflam_loss: 0.0941 - nephriti_loss: 0.0811 - inflam_acc: 1.0000 - inflam_mse: 0.0147 - nephriti_acc: 1.0000 - nephriti_mse: 0.0093 - val_loss: 0.1208 - val_inflam_loss: 0.1035 - val_nephriti_loss: 0.0862 - val_inflam_acc: 1.0000 - val_inflam_mse: 0.0176 - val_nephriti_acc: 1.0000 - val_nephriti_mse: 0.0096\n",
            "Epoch 833/1000\n",
            "1/1 - 0s - loss: 0.1102 - inflam_loss: 0.0940 - nephriti_loss: 0.0811 - inflam_acc: 1.0000 - inflam_mse: 0.0148 - nephriti_acc: 1.0000 - nephriti_mse: 0.0093 - val_loss: 0.1197 - val_inflam_loss: 0.1025 - val_nephriti_loss: 0.0861 - val_inflam_acc: 1.0000 - val_inflam_mse: 0.0171 - val_nephriti_acc: 1.0000 - val_nephriti_mse: 0.0095\n",
            "Epoch 834/1000\n",
            "1/1 - 0s - loss: 0.1102 - inflam_loss: 0.0940 - nephriti_loss: 0.0810 - inflam_acc: 1.0000 - inflam_mse: 0.0147 - nephriti_acc: 1.0000 - nephriti_mse: 0.0092 - val_loss: 0.1206 - val_inflam_loss: 0.1034 - val_nephriti_loss: 0.0861 - val_inflam_acc: 1.0000 - val_inflam_mse: 0.0176 - val_nephriti_acc: 1.0000 - val_nephriti_mse: 0.0096\n",
            "Epoch 835/1000\n",
            "1/1 - 0s - loss: 0.1101 - inflam_loss: 0.0939 - nephriti_loss: 0.0810 - inflam_acc: 1.0000 - inflam_mse: 0.0147 - nephriti_acc: 1.0000 - nephriti_mse: 0.0093 - val_loss: 0.1196 - val_inflam_loss: 0.1024 - val_nephriti_loss: 0.0860 - val_inflam_acc: 1.0000 - val_inflam_mse: 0.0171 - val_nephriti_acc: 1.0000 - val_nephriti_mse: 0.0095\n",
            "Epoch 836/1000\n",
            "1/1 - 0s - loss: 0.1101 - inflam_loss: 0.0939 - nephriti_loss: 0.0810 - inflam_acc: 1.0000 - inflam_mse: 0.0146 - nephriti_acc: 1.0000 - nephriti_mse: 0.0092 - val_loss: 0.1205 - val_inflam_loss: 0.1033 - val_nephriti_loss: 0.0860 - val_inflam_acc: 1.0000 - val_inflam_mse: 0.0176 - val_nephriti_acc: 1.0000 - val_nephriti_mse: 0.0095\n",
            "Epoch 837/1000\n",
            "1/1 - 0s - loss: 0.1100 - inflam_loss: 0.0938 - nephriti_loss: 0.0809 - inflam_acc: 1.0000 - inflam_mse: 0.0147 - nephriti_acc: 1.0000 - nephriti_mse: 0.0093 - val_loss: 0.1194 - val_inflam_loss: 0.1023 - val_nephriti_loss: 0.0859 - val_inflam_acc: 1.0000 - val_inflam_mse: 0.0170 - val_nephriti_acc: 1.0000 - val_nephriti_mse: 0.0095\n",
            "Epoch 838/1000\n",
            "1/1 - 0s - loss: 0.1100 - inflam_loss: 0.0938 - nephriti_loss: 0.0809 - inflam_acc: 1.0000 - inflam_mse: 0.0146 - nephriti_acc: 1.0000 - nephriti_mse: 0.0092 - val_loss: 0.1204 - val_inflam_loss: 0.1032 - val_nephriti_loss: 0.0859 - val_inflam_acc: 1.0000 - val_inflam_mse: 0.0175 - val_nephriti_acc: 1.0000 - val_nephriti_mse: 0.0095\n",
            "Epoch 839/1000\n",
            "1/1 - 0s - loss: 0.1099 - inflam_loss: 0.0937 - nephriti_loss: 0.0808 - inflam_acc: 1.0000 - inflam_mse: 0.0147 - nephriti_acc: 1.0000 - nephriti_mse: 0.0093 - val_loss: 0.1193 - val_inflam_loss: 0.1022 - val_nephriti_loss: 0.0859 - val_inflam_acc: 1.0000 - val_inflam_mse: 0.0170 - val_nephriti_acc: 1.0000 - val_nephriti_mse: 0.0095\n",
            "Epoch 840/1000\n",
            "1/1 - 0s - loss: 0.1099 - inflam_loss: 0.0937 - nephriti_loss: 0.0808 - inflam_acc: 1.0000 - inflam_mse: 0.0146 - nephriti_acc: 1.0000 - nephriti_mse: 0.0092 - val_loss: 0.1203 - val_inflam_loss: 0.1031 - val_nephriti_loss: 0.0859 - val_inflam_acc: 1.0000 - val_inflam_mse: 0.0175 - val_nephriti_acc: 1.0000 - val_nephriti_mse: 0.0095\n",
            "Epoch 841/1000\n",
            "1/1 - 0s - loss: 0.1098 - inflam_loss: 0.0936 - nephriti_loss: 0.0808 - inflam_acc: 1.0000 - inflam_mse: 0.0147 - nephriti_acc: 1.0000 - nephriti_mse: 0.0092 - val_loss: 0.1192 - val_inflam_loss: 0.1020 - val_nephriti_loss: 0.0858 - val_inflam_acc: 1.0000 - val_inflam_mse: 0.0170 - val_nephriti_acc: 1.0000 - val_nephriti_mse: 0.0094\n",
            "Epoch 842/1000\n",
            "1/1 - 0s - loss: 0.1097 - inflam_loss: 0.0936 - nephriti_loss: 0.0807 - inflam_acc: 1.0000 - inflam_mse: 0.0146 - nephriti_acc: 1.0000 - nephriti_mse: 0.0092 - val_loss: 0.1201 - val_inflam_loss: 0.1030 - val_nephriti_loss: 0.0858 - val_inflam_acc: 1.0000 - val_inflam_mse: 0.0175 - val_nephriti_acc: 1.0000 - val_nephriti_mse: 0.0095\n",
            "Epoch 843/1000\n",
            "1/1 - 0s - loss: 0.1097 - inflam_loss: 0.0936 - nephriti_loss: 0.0807 - inflam_acc: 1.0000 - inflam_mse: 0.0146 - nephriti_acc: 1.0000 - nephriti_mse: 0.0092 - val_loss: 0.1191 - val_inflam_loss: 0.1019 - val_nephriti_loss: 0.0857 - val_inflam_acc: 1.0000 - val_inflam_mse: 0.0170 - val_nephriti_acc: 1.0000 - val_nephriti_mse: 0.0094\n",
            "Epoch 844/1000\n",
            "1/1 - 0s - loss: 0.1096 - inflam_loss: 0.0935 - nephriti_loss: 0.0806 - inflam_acc: 1.0000 - inflam_mse: 0.0146 - nephriti_acc: 1.0000 - nephriti_mse: 0.0092 - val_loss: 0.1200 - val_inflam_loss: 0.1029 - val_nephriti_loss: 0.0857 - val_inflam_acc: 1.0000 - val_inflam_mse: 0.0174 - val_nephriti_acc: 1.0000 - val_nephriti_mse: 0.0095\n",
            "Epoch 845/1000\n",
            "1/1 - 0s - loss: 0.1096 - inflam_loss: 0.0935 - nephriti_loss: 0.0806 - inflam_acc: 1.0000 - inflam_mse: 0.0146 - nephriti_acc: 1.0000 - nephriti_mse: 0.0092 - val_loss: 0.1190 - val_inflam_loss: 0.1018 - val_nephriti_loss: 0.0856 - val_inflam_acc: 1.0000 - val_inflam_mse: 0.0169 - val_nephriti_acc: 1.0000 - val_nephriti_mse: 0.0094\n",
            "Epoch 846/1000\n",
            "1/1 - 0s - loss: 0.1095 - inflam_loss: 0.0934 - nephriti_loss: 0.0806 - inflam_acc: 1.0000 - inflam_mse: 0.0145 - nephriti_acc: 1.0000 - nephriti_mse: 0.0092 - val_loss: 0.1199 - val_inflam_loss: 0.1028 - val_nephriti_loss: 0.0856 - val_inflam_acc: 1.0000 - val_inflam_mse: 0.0174 - val_nephriti_acc: 1.0000 - val_nephriti_mse: 0.0095\n",
            "Epoch 847/1000\n",
            "1/1 - 0s - loss: 0.1095 - inflam_loss: 0.0934 - nephriti_loss: 0.0805 - inflam_acc: 1.0000 - inflam_mse: 0.0146 - nephriti_acc: 1.0000 - nephriti_mse: 0.0092 - val_loss: 0.1188 - val_inflam_loss: 0.1017 - val_nephriti_loss: 0.0855 - val_inflam_acc: 1.0000 - val_inflam_mse: 0.0169 - val_nephriti_acc: 1.0000 - val_nephriti_mse: 0.0094\n",
            "Epoch 848/1000\n",
            "1/1 - 0s - loss: 0.1094 - inflam_loss: 0.0933 - nephriti_loss: 0.0805 - inflam_acc: 1.0000 - inflam_mse: 0.0145 - nephriti_acc: 1.0000 - nephriti_mse: 0.0091 - val_loss: 0.1198 - val_inflam_loss: 0.1027 - val_nephriti_loss: 0.0855 - val_inflam_acc: 1.0000 - val_inflam_mse: 0.0174 - val_nephriti_acc: 1.0000 - val_nephriti_mse: 0.0094\n",
            "Epoch 849/1000\n",
            "1/1 - 0s - loss: 0.1094 - inflam_loss: 0.0933 - nephriti_loss: 0.0805 - inflam_acc: 1.0000 - inflam_mse: 0.0146 - nephriti_acc: 1.0000 - nephriti_mse: 0.0092 - val_loss: 0.1187 - val_inflam_loss: 0.1016 - val_nephriti_loss: 0.0855 - val_inflam_acc: 1.0000 - val_inflam_mse: 0.0169 - val_nephriti_acc: 1.0000 - val_nephriti_mse: 0.0094\n",
            "Epoch 850/1000\n",
            "1/1 - 0s - loss: 0.1093 - inflam_loss: 0.0932 - nephriti_loss: 0.0804 - inflam_acc: 1.0000 - inflam_mse: 0.0145 - nephriti_acc: 1.0000 - nephriti_mse: 0.0091 - val_loss: 0.1197 - val_inflam_loss: 0.1026 - val_nephriti_loss: 0.0855 - val_inflam_acc: 1.0000 - val_inflam_mse: 0.0174 - val_nephriti_acc: 1.0000 - val_nephriti_mse: 0.0094\n",
            "Epoch 851/1000\n",
            "1/1 - 0s - loss: 0.1093 - inflam_loss: 0.0932 - nephriti_loss: 0.0804 - inflam_acc: 1.0000 - inflam_mse: 0.0145 - nephriti_acc: 1.0000 - nephriti_mse: 0.0092 - val_loss: 0.1186 - val_inflam_loss: 0.1015 - val_nephriti_loss: 0.0854 - val_inflam_acc: 1.0000 - val_inflam_mse: 0.0168 - val_nephriti_acc: 1.0000 - val_nephriti_mse: 0.0094\n",
            "Epoch 852/1000\n",
            "1/1 - 0s - loss: 0.1092 - inflam_loss: 0.0931 - nephriti_loss: 0.0803 - inflam_acc: 1.0000 - inflam_mse: 0.0145 - nephriti_acc: 1.0000 - nephriti_mse: 0.0091 - val_loss: 0.1195 - val_inflam_loss: 0.1025 - val_nephriti_loss: 0.0854 - val_inflam_acc: 1.0000 - val_inflam_mse: 0.0173 - val_nephriti_acc: 1.0000 - val_nephriti_mse: 0.0094\n",
            "Epoch 853/1000\n",
            "1/1 - 0s - loss: 0.1091 - inflam_loss: 0.0931 - nephriti_loss: 0.0803 - inflam_acc: 1.0000 - inflam_mse: 0.0145 - nephriti_acc: 1.0000 - nephriti_mse: 0.0092 - val_loss: 0.1185 - val_inflam_loss: 0.1014 - val_nephriti_loss: 0.0853 - val_inflam_acc: 1.0000 - val_inflam_mse: 0.0168 - val_nephriti_acc: 1.0000 - val_nephriti_mse: 0.0094\n",
            "Epoch 854/1000\n",
            "1/1 - 0s - loss: 0.1091 - inflam_loss: 0.0930 - nephriti_loss: 0.0803 - inflam_acc: 1.0000 - inflam_mse: 0.0144 - nephriti_acc: 1.0000 - nephriti_mse: 0.0091 - val_loss: 0.1194 - val_inflam_loss: 0.1024 - val_nephriti_loss: 0.0853 - val_inflam_acc: 1.0000 - val_inflam_mse: 0.0173 - val_nephriti_acc: 1.0000 - val_nephriti_mse: 0.0094\n",
            "Epoch 855/1000\n",
            "1/1 - 0s - loss: 0.1090 - inflam_loss: 0.0930 - nephriti_loss: 0.0802 - inflam_acc: 1.0000 - inflam_mse: 0.0145 - nephriti_acc: 1.0000 - nephriti_mse: 0.0091 - val_loss: 0.1184 - val_inflam_loss: 0.1013 - val_nephriti_loss: 0.0852 - val_inflam_acc: 1.0000 - val_inflam_mse: 0.0168 - val_nephriti_acc: 1.0000 - val_nephriti_mse: 0.0093\n",
            "Epoch 856/1000\n",
            "1/1 - 0s - loss: 0.1090 - inflam_loss: 0.0929 - nephriti_loss: 0.0802 - inflam_acc: 1.0000 - inflam_mse: 0.0144 - nephriti_acc: 1.0000 - nephriti_mse: 0.0091 - val_loss: 0.1193 - val_inflam_loss: 0.1023 - val_nephriti_loss: 0.0852 - val_inflam_acc: 1.0000 - val_inflam_mse: 0.0173 - val_nephriti_acc: 1.0000 - val_nephriti_mse: 0.0094\n",
            "Epoch 857/1000\n",
            "1/1 - 0s - loss: 0.1089 - inflam_loss: 0.0929 - nephriti_loss: 0.0802 - inflam_acc: 1.0000 - inflam_mse: 0.0145 - nephriti_acc: 1.0000 - nephriti_mse: 0.0091 - val_loss: 0.1182 - val_inflam_loss: 0.1012 - val_nephriti_loss: 0.0851 - val_inflam_acc: 1.0000 - val_inflam_mse: 0.0168 - val_nephriti_acc: 1.0000 - val_nephriti_mse: 0.0093\n",
            "Epoch 858/1000\n",
            "1/1 - 0s - loss: 0.1089 - inflam_loss: 0.0928 - nephriti_loss: 0.0801 - inflam_acc: 1.0000 - inflam_mse: 0.0144 - nephriti_acc: 1.0000 - nephriti_mse: 0.0091 - val_loss: 0.1192 - val_inflam_loss: 0.1022 - val_nephriti_loss: 0.0851 - val_inflam_acc: 1.0000 - val_inflam_mse: 0.0172 - val_nephriti_acc: 1.0000 - val_nephriti_mse: 0.0094\n",
            "Epoch 859/1000\n",
            "1/1 - 0s - loss: 0.1088 - inflam_loss: 0.0928 - nephriti_loss: 0.0801 - inflam_acc: 1.0000 - inflam_mse: 0.0145 - nephriti_acc: 1.0000 - nephriti_mse: 0.0091 - val_loss: 0.1181 - val_inflam_loss: 0.1011 - val_nephriti_loss: 0.0851 - val_inflam_acc: 1.0000 - val_inflam_mse: 0.0167 - val_nephriti_acc: 1.0000 - val_nephriti_mse: 0.0093\n",
            "Epoch 860/1000\n",
            "1/1 - 0s - loss: 0.1088 - inflam_loss: 0.0928 - nephriti_loss: 0.0800 - inflam_acc: 1.0000 - inflam_mse: 0.0144 - nephriti_acc: 1.0000 - nephriti_mse: 0.0090 - val_loss: 0.1191 - val_inflam_loss: 0.1021 - val_nephriti_loss: 0.0850 - val_inflam_acc: 1.0000 - val_inflam_mse: 0.0172 - val_nephriti_acc: 1.0000 - val_nephriti_mse: 0.0093\n",
            "Epoch 861/1000\n",
            "1/1 - 0s - loss: 0.1087 - inflam_loss: 0.0927 - nephriti_loss: 0.0800 - inflam_acc: 1.0000 - inflam_mse: 0.0144 - nephriti_acc: 1.0000 - nephriti_mse: 0.0091 - val_loss: 0.1180 - val_inflam_loss: 0.1010 - val_nephriti_loss: 0.0850 - val_inflam_acc: 1.0000 - val_inflam_mse: 0.0167 - val_nephriti_acc: 1.0000 - val_nephriti_mse: 0.0093\n",
            "Epoch 862/1000\n",
            "1/1 - 0s - loss: 0.1087 - inflam_loss: 0.0927 - nephriti_loss: 0.0800 - inflam_acc: 1.0000 - inflam_mse: 0.0143 - nephriti_acc: 1.0000 - nephriti_mse: 0.0090 - val_loss: 0.1189 - val_inflam_loss: 0.1019 - val_nephriti_loss: 0.0850 - val_inflam_acc: 1.0000 - val_inflam_mse: 0.0172 - val_nephriti_acc: 1.0000 - val_nephriti_mse: 0.0093\n",
            "Epoch 863/1000\n",
            "1/1 - 0s - loss: 0.1086 - inflam_loss: 0.0926 - nephriti_loss: 0.0799 - inflam_acc: 1.0000 - inflam_mse: 0.0144 - nephriti_acc: 1.0000 - nephriti_mse: 0.0091 - val_loss: 0.1179 - val_inflam_loss: 0.1009 - val_nephriti_loss: 0.0849 - val_inflam_acc: 1.0000 - val_inflam_mse: 0.0167 - val_nephriti_acc: 1.0000 - val_nephriti_mse: 0.0093\n",
            "Epoch 864/1000\n",
            "1/1 - 0s - loss: 0.1085 - inflam_loss: 0.0926 - nephriti_loss: 0.0799 - inflam_acc: 1.0000 - inflam_mse: 0.0143 - nephriti_acc: 1.0000 - nephriti_mse: 0.0090 - val_loss: 0.1188 - val_inflam_loss: 0.1018 - val_nephriti_loss: 0.0849 - val_inflam_acc: 1.0000 - val_inflam_mse: 0.0172 - val_nephriti_acc: 1.0000 - val_nephriti_mse: 0.0093\n",
            "Epoch 865/1000\n",
            "1/1 - 0s - loss: 0.1085 - inflam_loss: 0.0925 - nephriti_loss: 0.0799 - inflam_acc: 1.0000 - inflam_mse: 0.0144 - nephriti_acc: 1.0000 - nephriti_mse: 0.0091 - val_loss: 0.1178 - val_inflam_loss: 0.1008 - val_nephriti_loss: 0.0848 - val_inflam_acc: 1.0000 - val_inflam_mse: 0.0167 - val_nephriti_acc: 1.0000 - val_nephriti_mse: 0.0093\n",
            "Epoch 866/1000\n",
            "1/1 - 0s - loss: 0.1084 - inflam_loss: 0.0925 - nephriti_loss: 0.0798 - inflam_acc: 1.0000 - inflam_mse: 0.0143 - nephriti_acc: 1.0000 - nephriti_mse: 0.0090 - val_loss: 0.1187 - val_inflam_loss: 0.1017 - val_nephriti_loss: 0.0848 - val_inflam_acc: 1.0000 - val_inflam_mse: 0.0171 - val_nephriti_acc: 1.0000 - val_nephriti_mse: 0.0093\n",
            "Epoch 867/1000\n",
            "1/1 - 0s - loss: 0.1084 - inflam_loss: 0.0924 - nephriti_loss: 0.0798 - inflam_acc: 1.0000 - inflam_mse: 0.0144 - nephriti_acc: 1.0000 - nephriti_mse: 0.0090 - val_loss: 0.1176 - val_inflam_loss: 0.1007 - val_nephriti_loss: 0.0847 - val_inflam_acc: 1.0000 - val_inflam_mse: 0.0166 - val_nephriti_acc: 1.0000 - val_nephriti_mse: 0.0092\n",
            "Epoch 868/1000\n",
            "1/1 - 0s - loss: 0.1083 - inflam_loss: 0.0924 - nephriti_loss: 0.0797 - inflam_acc: 1.0000 - inflam_mse: 0.0143 - nephriti_acc: 1.0000 - nephriti_mse: 0.0090 - val_loss: 0.1186 - val_inflam_loss: 0.1016 - val_nephriti_loss: 0.0847 - val_inflam_acc: 1.0000 - val_inflam_mse: 0.0171 - val_nephriti_acc: 1.0000 - val_nephriti_mse: 0.0093\n",
            "Epoch 869/1000\n",
            "1/1 - 0s - loss: 0.1083 - inflam_loss: 0.0923 - nephriti_loss: 0.0797 - inflam_acc: 1.0000 - inflam_mse: 0.0143 - nephriti_acc: 1.0000 - nephriti_mse: 0.0090 - val_loss: 0.1175 - val_inflam_loss: 0.1006 - val_nephriti_loss: 0.0847 - val_inflam_acc: 1.0000 - val_inflam_mse: 0.0166 - val_nephriti_acc: 1.0000 - val_nephriti_mse: 0.0092\n",
            "Epoch 870/1000\n",
            "1/1 - 0s - loss: 0.1082 - inflam_loss: 0.0923 - nephriti_loss: 0.0797 - inflam_acc: 1.0000 - inflam_mse: 0.0142 - nephriti_acc: 1.0000 - nephriti_mse: 0.0090 - val_loss: 0.1185 - val_inflam_loss: 0.1015 - val_nephriti_loss: 0.0846 - val_inflam_acc: 1.0000 - val_inflam_mse: 0.0171 - val_nephriti_acc: 1.0000 - val_nephriti_mse: 0.0093\n",
            "Epoch 871/1000\n",
            "1/1 - 0s - loss: 0.1082 - inflam_loss: 0.0922 - nephriti_loss: 0.0796 - inflam_acc: 1.0000 - inflam_mse: 0.0143 - nephriti_acc: 1.0000 - nephriti_mse: 0.0090 - val_loss: 0.1174 - val_inflam_loss: 0.1005 - val_nephriti_loss: 0.0846 - val_inflam_acc: 1.0000 - val_inflam_mse: 0.0166 - val_nephriti_acc: 1.0000 - val_nephriti_mse: 0.0092\n",
            "Epoch 872/1000\n",
            "1/1 - 0s - loss: 0.1081 - inflam_loss: 0.0922 - nephriti_loss: 0.0796 - inflam_acc: 1.0000 - inflam_mse: 0.0142 - nephriti_acc: 1.0000 - nephriti_mse: 0.0090 - val_loss: 0.1183 - val_inflam_loss: 0.1014 - val_nephriti_loss: 0.0846 - val_inflam_acc: 1.0000 - val_inflam_mse: 0.0170 - val_nephriti_acc: 1.0000 - val_nephriti_mse: 0.0093\n",
            "Epoch 873/1000\n",
            "1/1 - 0s - loss: 0.1081 - inflam_loss: 0.0921 - nephriti_loss: 0.0796 - inflam_acc: 1.0000 - inflam_mse: 0.0143 - nephriti_acc: 1.0000 - nephriti_mse: 0.0090 - val_loss: 0.1173 - val_inflam_loss: 0.1004 - val_nephriti_loss: 0.0845 - val_inflam_acc: 1.0000 - val_inflam_mse: 0.0165 - val_nephriti_acc: 1.0000 - val_nephriti_mse: 0.0092\n",
            "Epoch 874/1000\n",
            "1/1 - 0s - loss: 0.1080 - inflam_loss: 0.0921 - nephriti_loss: 0.0795 - inflam_acc: 1.0000 - inflam_mse: 0.0142 - nephriti_acc: 1.0000 - nephriti_mse: 0.0089 - val_loss: 0.1182 - val_inflam_loss: 0.1013 - val_nephriti_loss: 0.0845 - val_inflam_acc: 1.0000 - val_inflam_mse: 0.0170 - val_nephriti_acc: 1.0000 - val_nephriti_mse: 0.0092\n",
            "Epoch 875/1000\n",
            "1/1 - 0s - loss: 0.1079 - inflam_loss: 0.0921 - nephriti_loss: 0.0795 - inflam_acc: 1.0000 - inflam_mse: 0.0143 - nephriti_acc: 1.0000 - nephriti_mse: 0.0090 - val_loss: 0.1172 - val_inflam_loss: 0.1003 - val_nephriti_loss: 0.0844 - val_inflam_acc: 1.0000 - val_inflam_mse: 0.0165 - val_nephriti_acc: 1.0000 - val_nephriti_mse: 0.0092\n",
            "Epoch 876/1000\n",
            "1/1 - 0s - loss: 0.1079 - inflam_loss: 0.0920 - nephriti_loss: 0.0794 - inflam_acc: 1.0000 - inflam_mse: 0.0142 - nephriti_acc: 1.0000 - nephriti_mse: 0.0089 - val_loss: 0.1181 - val_inflam_loss: 0.1012 - val_nephriti_loss: 0.0844 - val_inflam_acc: 1.0000 - val_inflam_mse: 0.0170 - val_nephriti_acc: 1.0000 - val_nephriti_mse: 0.0092\n",
            "Epoch 877/1000\n",
            "1/1 - 0s - loss: 0.1078 - inflam_loss: 0.0920 - nephriti_loss: 0.0794 - inflam_acc: 1.0000 - inflam_mse: 0.0142 - nephriti_acc: 1.0000 - nephriti_mse: 0.0090 - val_loss: 0.1170 - val_inflam_loss: 0.1002 - val_nephriti_loss: 0.0843 - val_inflam_acc: 1.0000 - val_inflam_mse: 0.0165 - val_nephriti_acc: 1.0000 - val_nephriti_mse: 0.0092\n",
            "Epoch 878/1000\n",
            "1/1 - 0s - loss: 0.1078 - inflam_loss: 0.0919 - nephriti_loss: 0.0794 - inflam_acc: 1.0000 - inflam_mse: 0.0142 - nephriti_acc: 1.0000 - nephriti_mse: 0.0089 - val_loss: 0.1180 - val_inflam_loss: 0.1011 - val_nephriti_loss: 0.0843 - val_inflam_acc: 1.0000 - val_inflam_mse: 0.0170 - val_nephriti_acc: 1.0000 - val_nephriti_mse: 0.0092\n",
            "Epoch 879/1000\n",
            "1/1 - 0s - loss: 0.1077 - inflam_loss: 0.0919 - nephriti_loss: 0.0793 - inflam_acc: 1.0000 - inflam_mse: 0.0142 - nephriti_acc: 1.0000 - nephriti_mse: 0.0090 - val_loss: 0.1169 - val_inflam_loss: 0.1001 - val_nephriti_loss: 0.0843 - val_inflam_acc: 1.0000 - val_inflam_mse: 0.0165 - val_nephriti_acc: 1.0000 - val_nephriti_mse: 0.0092\n",
            "Epoch 880/1000\n",
            "1/1 - 0s - loss: 0.1077 - inflam_loss: 0.0918 - nephriti_loss: 0.0793 - inflam_acc: 1.0000 - inflam_mse: 0.0141 - nephriti_acc: 1.0000 - nephriti_mse: 0.0089 - val_loss: 0.1179 - val_inflam_loss: 0.1010 - val_nephriti_loss: 0.0842 - val_inflam_acc: 1.0000 - val_inflam_mse: 0.0169 - val_nephriti_acc: 1.0000 - val_nephriti_mse: 0.0092\n",
            "Epoch 881/1000\n",
            "1/1 - 0s - loss: 0.1076 - inflam_loss: 0.0918 - nephriti_loss: 0.0793 - inflam_acc: 1.0000 - inflam_mse: 0.0142 - nephriti_acc: 1.0000 - nephriti_mse: 0.0089 - val_loss: 0.1168 - val_inflam_loss: 0.1000 - val_nephriti_loss: 0.0842 - val_inflam_acc: 1.0000 - val_inflam_mse: 0.0164 - val_nephriti_acc: 1.0000 - val_nephriti_mse: 0.0091\n",
            "Epoch 882/1000\n",
            "1/1 - 0s - loss: 0.1076 - inflam_loss: 0.0917 - nephriti_loss: 0.0792 - inflam_acc: 1.0000 - inflam_mse: 0.0141 - nephriti_acc: 1.0000 - nephriti_mse: 0.0089 - val_loss: 0.1177 - val_inflam_loss: 0.1009 - val_nephriti_loss: 0.0842 - val_inflam_acc: 1.0000 - val_inflam_mse: 0.0169 - val_nephriti_acc: 1.0000 - val_nephriti_mse: 0.0092\n",
            "Epoch 883/1000\n",
            "1/1 - 0s - loss: 0.1075 - inflam_loss: 0.0917 - nephriti_loss: 0.0792 - inflam_acc: 1.0000 - inflam_mse: 0.0142 - nephriti_acc: 1.0000 - nephriti_mse: 0.0089 - val_loss: 0.1167 - val_inflam_loss: 0.0999 - val_nephriti_loss: 0.0841 - val_inflam_acc: 1.0000 - val_inflam_mse: 0.0164 - val_nephriti_acc: 1.0000 - val_nephriti_mse: 0.0091\n",
            "Epoch 884/1000\n",
            "1/1 - 0s - loss: 0.1075 - inflam_loss: 0.0916 - nephriti_loss: 0.0791 - inflam_acc: 1.0000 - inflam_mse: 0.0141 - nephriti_acc: 1.0000 - nephriti_mse: 0.0089 - val_loss: 0.1176 - val_inflam_loss: 0.1008 - val_nephriti_loss: 0.0841 - val_inflam_acc: 1.0000 - val_inflam_mse: 0.0169 - val_nephriti_acc: 1.0000 - val_nephriti_mse: 0.0092\n",
            "Epoch 885/1000\n",
            "1/1 - 0s - loss: 0.1074 - inflam_loss: 0.0916 - nephriti_loss: 0.0791 - inflam_acc: 1.0000 - inflam_mse: 0.0142 - nephriti_acc: 1.0000 - nephriti_mse: 0.0089 - val_loss: 0.1166 - val_inflam_loss: 0.0998 - val_nephriti_loss: 0.0840 - val_inflam_acc: 1.0000 - val_inflam_mse: 0.0164 - val_nephriti_acc: 1.0000 - val_nephriti_mse: 0.0091\n",
            "Epoch 886/1000\n",
            "1/1 - 0s - loss: 0.1074 - inflam_loss: 0.0915 - nephriti_loss: 0.0791 - inflam_acc: 1.0000 - inflam_mse: 0.0141 - nephriti_acc: 1.0000 - nephriti_mse: 0.0089 - val_loss: 0.1175 - val_inflam_loss: 0.1007 - val_nephriti_loss: 0.0840 - val_inflam_acc: 1.0000 - val_inflam_mse: 0.0169 - val_nephriti_acc: 1.0000 - val_nephriti_mse: 0.0091\n",
            "Epoch 887/1000\n",
            "1/1 - 0s - loss: 0.1073 - inflam_loss: 0.0915 - nephriti_loss: 0.0790 - inflam_acc: 1.0000 - inflam_mse: 0.0141 - nephriti_acc: 1.0000 - nephriti_mse: 0.0089 - val_loss: 0.1165 - val_inflam_loss: 0.0997 - val_nephriti_loss: 0.0839 - val_inflam_acc: 1.0000 - val_inflam_mse: 0.0163 - val_nephriti_acc: 1.0000 - val_nephriti_mse: 0.0091\n",
            "Epoch 888/1000\n",
            "1/1 - 0s - loss: 0.1072 - inflam_loss: 0.0914 - nephriti_loss: 0.0790 - inflam_acc: 1.0000 - inflam_mse: 0.0140 - nephriti_acc: 1.0000 - nephriti_mse: 0.0088 - val_loss: 0.1174 - val_inflam_loss: 0.1006 - val_nephriti_loss: 0.0839 - val_inflam_acc: 1.0000 - val_inflam_mse: 0.0168 - val_nephriti_acc: 1.0000 - val_nephriti_mse: 0.0091\n",
            "Epoch 889/1000\n",
            "1/1 - 0s - loss: 0.1072 - inflam_loss: 0.0914 - nephriti_loss: 0.0790 - inflam_acc: 1.0000 - inflam_mse: 0.0141 - nephriti_acc: 1.0000 - nephriti_mse: 0.0089 - val_loss: 0.1163 - val_inflam_loss: 0.0996 - val_nephriti_loss: 0.0839 - val_inflam_acc: 1.0000 - val_inflam_mse: 0.0163 - val_nephriti_acc: 1.0000 - val_nephriti_mse: 0.0091\n",
            "Epoch 890/1000\n",
            "1/1 - 0s - loss: 0.1071 - inflam_loss: 0.0914 - nephriti_loss: 0.0789 - inflam_acc: 1.0000 - inflam_mse: 0.0140 - nephriti_acc: 1.0000 - nephriti_mse: 0.0088 - val_loss: 0.1173 - val_inflam_loss: 0.1005 - val_nephriti_loss: 0.0839 - val_inflam_acc: 1.0000 - val_inflam_mse: 0.0168 - val_nephriti_acc: 1.0000 - val_nephriti_mse: 0.0091\n",
            "Epoch 891/1000\n",
            "1/1 - 0s - loss: 0.1071 - inflam_loss: 0.0913 - nephriti_loss: 0.0789 - inflam_acc: 1.0000 - inflam_mse: 0.0141 - nephriti_acc: 1.0000 - nephriti_mse: 0.0089 - val_loss: 0.1162 - val_inflam_loss: 0.0995 - val_nephriti_loss: 0.0838 - val_inflam_acc: 1.0000 - val_inflam_mse: 0.0163 - val_nephriti_acc: 1.0000 - val_nephriti_mse: 0.0091\n",
            "Epoch 892/1000\n",
            "1/1 - 0s - loss: 0.1070 - inflam_loss: 0.0913 - nephriti_loss: 0.0788 - inflam_acc: 1.0000 - inflam_mse: 0.0140 - nephriti_acc: 1.0000 - nephriti_mse: 0.0088 - val_loss: 0.1172 - val_inflam_loss: 0.1004 - val_nephriti_loss: 0.0838 - val_inflam_acc: 1.0000 - val_inflam_mse: 0.0168 - val_nephriti_acc: 1.0000 - val_nephriti_mse: 0.0091\n",
            "Epoch 893/1000\n",
            "1/1 - 0s - loss: 0.1070 - inflam_loss: 0.0912 - nephriti_loss: 0.0788 - inflam_acc: 1.0000 - inflam_mse: 0.0141 - nephriti_acc: 1.0000 - nephriti_mse: 0.0089 - val_loss: 0.1161 - val_inflam_loss: 0.0994 - val_nephriti_loss: 0.0837 - val_inflam_acc: 1.0000 - val_inflam_mse: 0.0163 - val_nephriti_acc: 1.0000 - val_nephriti_mse: 0.0090\n",
            "Epoch 894/1000\n",
            "1/1 - 0s - loss: 0.1069 - inflam_loss: 0.0912 - nephriti_loss: 0.0788 - inflam_acc: 1.0000 - inflam_mse: 0.0140 - nephriti_acc: 1.0000 - nephriti_mse: 0.0088 - val_loss: 0.1170 - val_inflam_loss: 0.1003 - val_nephriti_loss: 0.0837 - val_inflam_acc: 1.0000 - val_inflam_mse: 0.0167 - val_nephriti_acc: 1.0000 - val_nephriti_mse: 0.0091\n",
            "Epoch 895/1000\n",
            "1/1 - 0s - loss: 0.1069 - inflam_loss: 0.0911 - nephriti_loss: 0.0787 - inflam_acc: 1.0000 - inflam_mse: 0.0140 - nephriti_acc: 1.0000 - nephriti_mse: 0.0088 - val_loss: 0.1160 - val_inflam_loss: 0.0993 - val_nephriti_loss: 0.0836 - val_inflam_acc: 1.0000 - val_inflam_mse: 0.0162 - val_nephriti_acc: 1.0000 - val_nephriti_mse: 0.0090\n",
            "Epoch 896/1000\n",
            "1/1 - 0s - loss: 0.1068 - inflam_loss: 0.0911 - nephriti_loss: 0.0787 - inflam_acc: 1.0000 - inflam_mse: 0.0139 - nephriti_acc: 1.0000 - nephriti_mse: 0.0088 - val_loss: 0.1169 - val_inflam_loss: 0.1002 - val_nephriti_loss: 0.0836 - val_inflam_acc: 1.0000 - val_inflam_mse: 0.0167 - val_nephriti_acc: 1.0000 - val_nephriti_mse: 0.0091\n",
            "Epoch 897/1000\n",
            "1/1 - 0s - loss: 0.1068 - inflam_loss: 0.0910 - nephriti_loss: 0.0787 - inflam_acc: 1.0000 - inflam_mse: 0.0140 - nephriti_acc: 1.0000 - nephriti_mse: 0.0088 - val_loss: 0.1159 - val_inflam_loss: 0.0992 - val_nephriti_loss: 0.0835 - val_inflam_acc: 1.0000 - val_inflam_mse: 0.0162 - val_nephriti_acc: 1.0000 - val_nephriti_mse: 0.0090\n",
            "Epoch 898/1000\n",
            "1/1 - 0s - loss: 0.1067 - inflam_loss: 0.0910 - nephriti_loss: 0.0786 - inflam_acc: 1.0000 - inflam_mse: 0.0139 - nephriti_acc: 1.0000 - nephriti_mse: 0.0088 - val_loss: 0.1168 - val_inflam_loss: 0.1001 - val_nephriti_loss: 0.0835 - val_inflam_acc: 1.0000 - val_inflam_mse: 0.0167 - val_nephriti_acc: 1.0000 - val_nephriti_mse: 0.0091\n",
            "Epoch 899/1000\n",
            "1/1 - 0s - loss: 0.1067 - inflam_loss: 0.0909 - nephriti_loss: 0.0786 - inflam_acc: 1.0000 - inflam_mse: 0.0140 - nephriti_acc: 1.0000 - nephriti_mse: 0.0088 - val_loss: 0.1158 - val_inflam_loss: 0.0991 - val_nephriti_loss: 0.0835 - val_inflam_acc: 1.0000 - val_inflam_mse: 0.0162 - val_nephriti_acc: 1.0000 - val_nephriti_mse: 0.0090\n",
            "Epoch 900/1000\n",
            "1/1 - 0s - loss: 0.1066 - inflam_loss: 0.0909 - nephriti_loss: 0.0786 - inflam_acc: 1.0000 - inflam_mse: 0.0139 - nephriti_acc: 1.0000 - nephriti_mse: 0.0088 - val_loss: 0.1167 - val_inflam_loss: 0.1000 - val_nephriti_loss: 0.0835 - val_inflam_acc: 1.0000 - val_inflam_mse: 0.0167 - val_nephriti_acc: 1.0000 - val_nephriti_mse: 0.0090\n",
            "Epoch 901/1000\n",
            "1/1 - 0s - loss: 0.1066 - inflam_loss: 0.0909 - nephriti_loss: 0.0785 - inflam_acc: 1.0000 - inflam_mse: 0.0140 - nephriti_acc: 1.0000 - nephriti_mse: 0.0088 - val_loss: 0.1156 - val_inflam_loss: 0.0990 - val_nephriti_loss: 0.0834 - val_inflam_acc: 1.0000 - val_inflam_mse: 0.0162 - val_nephriti_acc: 1.0000 - val_nephriti_mse: 0.0090\n",
            "Epoch 902/1000\n",
            "1/1 - 0s - loss: 0.1065 - inflam_loss: 0.0908 - nephriti_loss: 0.0785 - inflam_acc: 1.0000 - inflam_mse: 0.0139 - nephriti_acc: 1.0000 - nephriti_mse: 0.0087 - val_loss: 0.1166 - val_inflam_loss: 0.0999 - val_nephriti_loss: 0.0834 - val_inflam_acc: 1.0000 - val_inflam_mse: 0.0166 - val_nephriti_acc: 1.0000 - val_nephriti_mse: 0.0090\n",
            "Epoch 903/1000\n",
            "1/1 - 0s - loss: 0.1064 - inflam_loss: 0.0908 - nephriti_loss: 0.0784 - inflam_acc: 1.0000 - inflam_mse: 0.0139 - nephriti_acc: 1.0000 - nephriti_mse: 0.0088 - val_loss: 0.1155 - val_inflam_loss: 0.0989 - val_nephriti_loss: 0.0833 - val_inflam_acc: 1.0000 - val_inflam_mse: 0.0161 - val_nephriti_acc: 1.0000 - val_nephriti_mse: 0.0090\n",
            "Epoch 904/1000\n",
            "1/1 - 0s - loss: 0.1064 - inflam_loss: 0.0907 - nephriti_loss: 0.0784 - inflam_acc: 1.0000 - inflam_mse: 0.0139 - nephriti_acc: 1.0000 - nephriti_mse: 0.0087 - val_loss: 0.1164 - val_inflam_loss: 0.0998 - val_nephriti_loss: 0.0833 - val_inflam_acc: 1.0000 - val_inflam_mse: 0.0166 - val_nephriti_acc: 1.0000 - val_nephriti_mse: 0.0090\n",
            "Epoch 905/1000\n",
            "1/1 - 0s - loss: 0.1063 - inflam_loss: 0.0907 - nephriti_loss: 0.0784 - inflam_acc: 1.0000 - inflam_mse: 0.0139 - nephriti_acc: 1.0000 - nephriti_mse: 0.0088 - val_loss: 0.1154 - val_inflam_loss: 0.0988 - val_nephriti_loss: 0.0832 - val_inflam_acc: 1.0000 - val_inflam_mse: 0.0161 - val_nephriti_acc: 1.0000 - val_nephriti_mse: 0.0090\n",
            "Epoch 906/1000\n",
            "1/1 - 0s - loss: 0.1063 - inflam_loss: 0.0906 - nephriti_loss: 0.0783 - inflam_acc: 1.0000 - inflam_mse: 0.0138 - nephriti_acc: 1.0000 - nephriti_mse: 0.0087 - val_loss: 0.1163 - val_inflam_loss: 0.0997 - val_nephriti_loss: 0.0832 - val_inflam_acc: 1.0000 - val_inflam_mse: 0.0166 - val_nephriti_acc: 1.0000 - val_nephriti_mse: 0.0090\n",
            "Epoch 907/1000\n",
            "1/1 - 0s - loss: 0.1062 - inflam_loss: 0.0906 - nephriti_loss: 0.0783 - inflam_acc: 1.0000 - inflam_mse: 0.0139 - nephriti_acc: 1.0000 - nephriti_mse: 0.0088 - val_loss: 0.1153 - val_inflam_loss: 0.0987 - val_nephriti_loss: 0.0831 - val_inflam_acc: 1.0000 - val_inflam_mse: 0.0161 - val_nephriti_acc: 1.0000 - val_nephriti_mse: 0.0089\n",
            "Epoch 908/1000\n",
            "1/1 - 0s - loss: 0.1062 - inflam_loss: 0.0905 - nephriti_loss: 0.0783 - inflam_acc: 1.0000 - inflam_mse: 0.0138 - nephriti_acc: 1.0000 - nephriti_mse: 0.0087 - val_loss: 0.1162 - val_inflam_loss: 0.0996 - val_nephriti_loss: 0.0831 - val_inflam_acc: 1.0000 - val_inflam_mse: 0.0165 - val_nephriti_acc: 1.0000 - val_nephriti_mse: 0.0090\n",
            "Epoch 909/1000\n",
            "1/1 - 0s - loss: 0.1061 - inflam_loss: 0.0905 - nephriti_loss: 0.0782 - inflam_acc: 1.0000 - inflam_mse: 0.0139 - nephriti_acc: 1.0000 - nephriti_mse: 0.0087 - val_loss: 0.1152 - val_inflam_loss: 0.0986 - val_nephriti_loss: 0.0831 - val_inflam_acc: 1.0000 - val_inflam_mse: 0.0161 - val_nephriti_acc: 1.0000 - val_nephriti_mse: 0.0089\n",
            "Epoch 910/1000\n",
            "1/1 - 0s - loss: 0.1061 - inflam_loss: 0.0904 - nephriti_loss: 0.0782 - inflam_acc: 1.0000 - inflam_mse: 0.0138 - nephriti_acc: 1.0000 - nephriti_mse: 0.0087 - val_loss: 0.1161 - val_inflam_loss: 0.0995 - val_nephriti_loss: 0.0831 - val_inflam_acc: 1.0000 - val_inflam_mse: 0.0165 - val_nephriti_acc: 1.0000 - val_nephriti_mse: 0.0090\n",
            "Epoch 911/1000\n",
            "1/1 - 0s - loss: 0.1060 - inflam_loss: 0.0904 - nephriti_loss: 0.0781 - inflam_acc: 1.0000 - inflam_mse: 0.0139 - nephriti_acc: 1.0000 - nephriti_mse: 0.0087 - val_loss: 0.1151 - val_inflam_loss: 0.0985 - val_nephriti_loss: 0.0830 - val_inflam_acc: 1.0000 - val_inflam_mse: 0.0160 - val_nephriti_acc: 1.0000 - val_nephriti_mse: 0.0089\n",
            "Epoch 912/1000\n",
            "1/1 - 0s - loss: 0.1060 - inflam_loss: 0.0903 - nephriti_loss: 0.0781 - inflam_acc: 1.0000 - inflam_mse: 0.0138 - nephriti_acc: 1.0000 - nephriti_mse: 0.0087 - val_loss: 0.1160 - val_inflam_loss: 0.0994 - val_nephriti_loss: 0.0830 - val_inflam_acc: 1.0000 - val_inflam_mse: 0.0165 - val_nephriti_acc: 1.0000 - val_nephriti_mse: 0.0090\n",
            "Epoch 913/1000\n",
            "1/1 - 0s - loss: 0.1059 - inflam_loss: 0.0903 - nephriti_loss: 0.0781 - inflam_acc: 1.0000 - inflam_mse: 0.0138 - nephriti_acc: 1.0000 - nephriti_mse: 0.0087 - val_loss: 0.1149 - val_inflam_loss: 0.0984 - val_nephriti_loss: 0.0829 - val_inflam_acc: 1.0000 - val_inflam_mse: 0.0160 - val_nephriti_acc: 1.0000 - val_nephriti_mse: 0.0089\n",
            "Epoch 914/1000\n",
            "1/1 - 0s - loss: 0.1059 - inflam_loss: 0.0903 - nephriti_loss: 0.0780 - inflam_acc: 1.0000 - inflam_mse: 0.0137 - nephriti_acc: 1.0000 - nephriti_mse: 0.0087 - val_loss: 0.1159 - val_inflam_loss: 0.0993 - val_nephriti_loss: 0.0829 - val_inflam_acc: 1.0000 - val_inflam_mse: 0.0165 - val_nephriti_acc: 1.0000 - val_nephriti_mse: 0.0089\n",
            "Epoch 915/1000\n",
            "1/1 - 0s - loss: 0.1058 - inflam_loss: 0.0902 - nephriti_loss: 0.0780 - inflam_acc: 1.0000 - inflam_mse: 0.0138 - nephriti_acc: 1.0000 - nephriti_mse: 0.0087 - val_loss: 0.1148 - val_inflam_loss: 0.0983 - val_nephriti_loss: 0.0828 - val_inflam_acc: 1.0000 - val_inflam_mse: 0.0160 - val_nephriti_acc: 1.0000 - val_nephriti_mse: 0.0089\n",
            "Epoch 916/1000\n",
            "1/1 - 0s - loss: 0.1058 - inflam_loss: 0.0902 - nephriti_loss: 0.0780 - inflam_acc: 1.0000 - inflam_mse: 0.0137 - nephriti_acc: 1.0000 - nephriti_mse: 0.0086 - val_loss: 0.1157 - val_inflam_loss: 0.0992 - val_nephriti_loss: 0.0828 - val_inflam_acc: 1.0000 - val_inflam_mse: 0.0164 - val_nephriti_acc: 1.0000 - val_nephriti_mse: 0.0089\n",
            "Epoch 917/1000\n",
            "1/1 - 0s - loss: 0.1057 - inflam_loss: 0.0901 - nephriti_loss: 0.0779 - inflam_acc: 1.0000 - inflam_mse: 0.0138 - nephriti_acc: 1.0000 - nephriti_mse: 0.0087 - val_loss: 0.1147 - val_inflam_loss: 0.0982 - val_nephriti_loss: 0.0828 - val_inflam_acc: 1.0000 - val_inflam_mse: 0.0159 - val_nephriti_acc: 1.0000 - val_nephriti_mse: 0.0089\n",
            "Epoch 918/1000\n",
            "1/1 - 0s - loss: 0.1057 - inflam_loss: 0.0901 - nephriti_loss: 0.0779 - inflam_acc: 1.0000 - inflam_mse: 0.0137 - nephriti_acc: 1.0000 - nephriti_mse: 0.0086 - val_loss: 0.1156 - val_inflam_loss: 0.0991 - val_nephriti_loss: 0.0827 - val_inflam_acc: 1.0000 - val_inflam_mse: 0.0164 - val_nephriti_acc: 1.0000 - val_nephriti_mse: 0.0089\n",
            "Epoch 919/1000\n",
            "1/1 - 0s - loss: 0.1056 - inflam_loss: 0.0900 - nephriti_loss: 0.0779 - inflam_acc: 1.0000 - inflam_mse: 0.0138 - nephriti_acc: 1.0000 - nephriti_mse: 0.0087 - val_loss: 0.1146 - val_inflam_loss: 0.0981 - val_nephriti_loss: 0.0827 - val_inflam_acc: 1.0000 - val_inflam_mse: 0.0159 - val_nephriti_acc: 1.0000 - val_nephriti_mse: 0.0089\n",
            "Epoch 920/1000\n",
            "1/1 - 0s - loss: 0.1055 - inflam_loss: 0.0900 - nephriti_loss: 0.0778 - inflam_acc: 1.0000 - inflam_mse: 0.0137 - nephriti_acc: 1.0000 - nephriti_mse: 0.0086 - val_loss: 0.1155 - val_inflam_loss: 0.0990 - val_nephriti_loss: 0.0827 - val_inflam_acc: 1.0000 - val_inflam_mse: 0.0164 - val_nephriti_acc: 1.0000 - val_nephriti_mse: 0.0089\n",
            "Epoch 921/1000\n",
            "1/1 - 0s - loss: 0.1055 - inflam_loss: 0.0899 - nephriti_loss: 0.0778 - inflam_acc: 1.0000 - inflam_mse: 0.0137 - nephriti_acc: 1.0000 - nephriti_mse: 0.0087 - val_loss: 0.1145 - val_inflam_loss: 0.0980 - val_nephriti_loss: 0.0826 - val_inflam_acc: 1.0000 - val_inflam_mse: 0.0159 - val_nephriti_acc: 1.0000 - val_nephriti_mse: 0.0088\n",
            "Epoch 922/1000\n",
            "1/1 - 0s - loss: 0.1054 - inflam_loss: 0.0899 - nephriti_loss: 0.0777 - inflam_acc: 1.0000 - inflam_mse: 0.0136 - nephriti_acc: 1.0000 - nephriti_mse: 0.0086 - val_loss: 0.1154 - val_inflam_loss: 0.0989 - val_nephriti_loss: 0.0826 - val_inflam_acc: 1.0000 - val_inflam_mse: 0.0164 - val_nephriti_acc: 1.0000 - val_nephriti_mse: 0.0089\n",
            "Epoch 923/1000\n",
            "1/1 - 0s - loss: 0.1054 - inflam_loss: 0.0898 - nephriti_loss: 0.0777 - inflam_acc: 1.0000 - inflam_mse: 0.0137 - nephriti_acc: 1.0000 - nephriti_mse: 0.0086 - val_loss: 0.1144 - val_inflam_loss: 0.0979 - val_nephriti_loss: 0.0825 - val_inflam_acc: 1.0000 - val_inflam_mse: 0.0159 - val_nephriti_acc: 1.0000 - val_nephriti_mse: 0.0088\n",
            "Epoch 924/1000\n",
            "1/1 - 0s - loss: 0.1053 - inflam_loss: 0.0898 - nephriti_loss: 0.0777 - inflam_acc: 1.0000 - inflam_mse: 0.0136 - nephriti_acc: 1.0000 - nephriti_mse: 0.0086 - val_loss: 0.1153 - val_inflam_loss: 0.0988 - val_nephriti_loss: 0.0825 - val_inflam_acc: 1.0000 - val_inflam_mse: 0.0163 - val_nephriti_acc: 1.0000 - val_nephriti_mse: 0.0089\n",
            "Epoch 925/1000\n",
            "1/1 - 0s - loss: 0.1053 - inflam_loss: 0.0898 - nephriti_loss: 0.0776 - inflam_acc: 1.0000 - inflam_mse: 0.0137 - nephriti_acc: 1.0000 - nephriti_mse: 0.0086 - val_loss: 0.1142 - val_inflam_loss: 0.0978 - val_nephriti_loss: 0.0824 - val_inflam_acc: 1.0000 - val_inflam_mse: 0.0158 - val_nephriti_acc: 1.0000 - val_nephriti_mse: 0.0088\n",
            "Epoch 926/1000\n",
            "1/1 - 0s - loss: 0.1052 - inflam_loss: 0.0897 - nephriti_loss: 0.0776 - inflam_acc: 1.0000 - inflam_mse: 0.0136 - nephriti_acc: 1.0000 - nephriti_mse: 0.0086 - val_loss: 0.1152 - val_inflam_loss: 0.0987 - val_nephriti_loss: 0.0824 - val_inflam_acc: 1.0000 - val_inflam_mse: 0.0163 - val_nephriti_acc: 1.0000 - val_nephriti_mse: 0.0088\n",
            "Epoch 927/1000\n",
            "1/1 - 0s - loss: 0.1052 - inflam_loss: 0.0897 - nephriti_loss: 0.0776 - inflam_acc: 1.0000 - inflam_mse: 0.0137 - nephriti_acc: 1.0000 - nephriti_mse: 0.0086 - val_loss: 0.1141 - val_inflam_loss: 0.0977 - val_nephriti_loss: 0.0824 - val_inflam_acc: 1.0000 - val_inflam_mse: 0.0158 - val_nephriti_acc: 1.0000 - val_nephriti_mse: 0.0088\n",
            "Epoch 928/1000\n",
            "1/1 - 0s - loss: 0.1051 - inflam_loss: 0.0896 - nephriti_loss: 0.0775 - inflam_acc: 1.0000 - inflam_mse: 0.0136 - nephriti_acc: 1.0000 - nephriti_mse: 0.0086 - val_loss: 0.1150 - val_inflam_loss: 0.0986 - val_nephriti_loss: 0.0824 - val_inflam_acc: 1.0000 - val_inflam_mse: 0.0163 - val_nephriti_acc: 1.0000 - val_nephriti_mse: 0.0088\n",
            "Epoch 929/1000\n",
            "1/1 - 0s - loss: 0.1051 - inflam_loss: 0.0896 - nephriti_loss: 0.0775 - inflam_acc: 1.0000 - inflam_mse: 0.0136 - nephriti_acc: 1.0000 - nephriti_mse: 0.0086 - val_loss: 0.1140 - val_inflam_loss: 0.0976 - val_nephriti_loss: 0.0823 - val_inflam_acc: 1.0000 - val_inflam_mse: 0.0158 - val_nephriti_acc: 1.0000 - val_nephriti_mse: 0.0088\n",
            "Epoch 930/1000\n",
            "1/1 - 0s - loss: 0.1050 - inflam_loss: 0.0895 - nephriti_loss: 0.0775 - inflam_acc: 1.0000 - inflam_mse: 0.0136 - nephriti_acc: 1.0000 - nephriti_mse: 0.0085 - val_loss: 0.1149 - val_inflam_loss: 0.0985 - val_nephriti_loss: 0.0823 - val_inflam_acc: 1.0000 - val_inflam_mse: 0.0162 - val_nephriti_acc: 1.0000 - val_nephriti_mse: 0.0088\n",
            "Epoch 931/1000\n",
            "1/1 - 0s - loss: 0.1050 - inflam_loss: 0.0895 - nephriti_loss: 0.0774 - inflam_acc: 1.0000 - inflam_mse: 0.0136 - nephriti_acc: 1.0000 - nephriti_mse: 0.0086 - val_loss: 0.1139 - val_inflam_loss: 0.0975 - val_nephriti_loss: 0.0822 - val_inflam_acc: 1.0000 - val_inflam_mse: 0.0158 - val_nephriti_acc: 1.0000 - val_nephriti_mse: 0.0088\n",
            "Epoch 932/1000\n",
            "1/1 - 0s - loss: 0.1049 - inflam_loss: 0.0894 - nephriti_loss: 0.0774 - inflam_acc: 1.0000 - inflam_mse: 0.0135 - nephriti_acc: 1.0000 - nephriti_mse: 0.0085 - val_loss: 0.1148 - val_inflam_loss: 0.0984 - val_nephriti_loss: 0.0822 - val_inflam_acc: 1.0000 - val_inflam_mse: 0.0162 - val_nephriti_acc: 1.0000 - val_nephriti_mse: 0.0088\n",
            "Epoch 933/1000\n",
            "1/1 - 0s - loss: 0.1049 - inflam_loss: 0.0894 - nephriti_loss: 0.0773 - inflam_acc: 1.0000 - inflam_mse: 0.0136 - nephriti_acc: 1.0000 - nephriti_mse: 0.0086 - val_loss: 0.1138 - val_inflam_loss: 0.0974 - val_nephriti_loss: 0.0821 - val_inflam_acc: 1.0000 - val_inflam_mse: 0.0157 - val_nephriti_acc: 1.0000 - val_nephriti_mse: 0.0087\n",
            "Epoch 934/1000\n",
            "1/1 - 0s - loss: 0.1048 - inflam_loss: 0.0894 - nephriti_loss: 0.0773 - inflam_acc: 1.0000 - inflam_mse: 0.0135 - nephriti_acc: 1.0000 - nephriti_mse: 0.0085 - val_loss: 0.1147 - val_inflam_loss: 0.0983 - val_nephriti_loss: 0.0821 - val_inflam_acc: 1.0000 - val_inflam_mse: 0.0162 - val_nephriti_acc: 1.0000 - val_nephriti_mse: 0.0088\n",
            "Epoch 935/1000\n",
            "1/1 - 0s - loss: 0.1048 - inflam_loss: 0.0893 - nephriti_loss: 0.0773 - inflam_acc: 1.0000 - inflam_mse: 0.0136 - nephriti_acc: 1.0000 - nephriti_mse: 0.0086 - val_loss: 0.1137 - val_inflam_loss: 0.0973 - val_nephriti_loss: 0.0821 - val_inflam_acc: 1.0000 - val_inflam_mse: 0.0157 - val_nephriti_acc: 1.0000 - val_nephriti_mse: 0.0087\n",
            "Epoch 936/1000\n",
            "1/1 - 0s - loss: 0.1047 - inflam_loss: 0.0893 - nephriti_loss: 0.0772 - inflam_acc: 1.0000 - inflam_mse: 0.0135 - nephriti_acc: 1.0000 - nephriti_mse: 0.0085 - val_loss: 0.1146 - val_inflam_loss: 0.0982 - val_nephriti_loss: 0.0820 - val_inflam_acc: 1.0000 - val_inflam_mse: 0.0162 - val_nephriti_acc: 1.0000 - val_nephriti_mse: 0.0088\n",
            "Epoch 937/1000\n",
            "1/1 - 0s - loss: 0.1047 - inflam_loss: 0.0892 - nephriti_loss: 0.0772 - inflam_acc: 1.0000 - inflam_mse: 0.0136 - nephriti_acc: 1.0000 - nephriti_mse: 0.0085 - val_loss: 0.1135 - val_inflam_loss: 0.0972 - val_nephriti_loss: 0.0820 - val_inflam_acc: 1.0000 - val_inflam_mse: 0.0157 - val_nephriti_acc: 1.0000 - val_nephriti_mse: 0.0087\n",
            "Epoch 938/1000\n",
            "1/1 - 0s - loss: 0.1046 - inflam_loss: 0.0892 - nephriti_loss: 0.0772 - inflam_acc: 1.0000 - inflam_mse: 0.0135 - nephriti_acc: 1.0000 - nephriti_mse: 0.0085 - val_loss: 0.1145 - val_inflam_loss: 0.0981 - val_nephriti_loss: 0.0820 - val_inflam_acc: 1.0000 - val_inflam_mse: 0.0161 - val_nephriti_acc: 1.0000 - val_nephriti_mse: 0.0088\n",
            "Epoch 939/1000\n",
            "1/1 - 0s - loss: 0.1046 - inflam_loss: 0.0891 - nephriti_loss: 0.0771 - inflam_acc: 1.0000 - inflam_mse: 0.0135 - nephriti_acc: 1.0000 - nephriti_mse: 0.0085 - val_loss: 0.1134 - val_inflam_loss: 0.0971 - val_nephriti_loss: 0.0819 - val_inflam_acc: 1.0000 - val_inflam_mse: 0.0157 - val_nephriti_acc: 1.0000 - val_nephriti_mse: 0.0087\n",
            "Epoch 940/1000\n",
            "1/1 - 0s - loss: 0.1045 - inflam_loss: 0.0891 - nephriti_loss: 0.0771 - inflam_acc: 1.0000 - inflam_mse: 0.0134 - nephriti_acc: 1.0000 - nephriti_mse: 0.0085 - val_loss: 0.1143 - val_inflam_loss: 0.0980 - val_nephriti_loss: 0.0819 - val_inflam_acc: 1.0000 - val_inflam_mse: 0.0161 - val_nephriti_acc: 1.0000 - val_nephriti_mse: 0.0087\n",
            "Epoch 941/1000\n",
            "1/1 - 0s - loss: 0.1044 - inflam_loss: 0.0890 - nephriti_loss: 0.0771 - inflam_acc: 1.0000 - inflam_mse: 0.0135 - nephriti_acc: 1.0000 - nephriti_mse: 0.0085 - val_loss: 0.1133 - val_inflam_loss: 0.0970 - val_nephriti_loss: 0.0818 - val_inflam_acc: 1.0000 - val_inflam_mse: 0.0156 - val_nephriti_acc: 1.0000 - val_nephriti_mse: 0.0087\n",
            "Epoch 942/1000\n",
            "1/1 - 0s - loss: 0.1044 - inflam_loss: 0.0890 - nephriti_loss: 0.0770 - inflam_acc: 1.0000 - inflam_mse: 0.0134 - nephriti_acc: 1.0000 - nephriti_mse: 0.0085 - val_loss: 0.1142 - val_inflam_loss: 0.0979 - val_nephriti_loss: 0.0818 - val_inflam_acc: 1.0000 - val_inflam_mse: 0.0161 - val_nephriti_acc: 1.0000 - val_nephriti_mse: 0.0087\n",
            "Epoch 943/1000\n",
            "1/1 - 0s - loss: 0.1043 - inflam_loss: 0.0889 - nephriti_loss: 0.0770 - inflam_acc: 1.0000 - inflam_mse: 0.0135 - nephriti_acc: 1.0000 - nephriti_mse: 0.0085 - val_loss: 0.1132 - val_inflam_loss: 0.0969 - val_nephriti_loss: 0.0817 - val_inflam_acc: 1.0000 - val_inflam_mse: 0.0156 - val_nephriti_acc: 1.0000 - val_nephriti_mse: 0.0087\n",
            "Epoch 944/1000\n",
            "1/1 - 0s - loss: 0.1043 - inflam_loss: 0.0889 - nephriti_loss: 0.0769 - inflam_acc: 1.0000 - inflam_mse: 0.0134 - nephriti_acc: 1.0000 - nephriti_mse: 0.0084 - val_loss: 0.1141 - val_inflam_loss: 0.0978 - val_nephriti_loss: 0.0817 - val_inflam_acc: 1.0000 - val_inflam_mse: 0.0161 - val_nephriti_acc: 1.0000 - val_nephriti_mse: 0.0087\n",
            "Epoch 945/1000\n",
            "1/1 - 0s - loss: 0.1042 - inflam_loss: 0.0889 - nephriti_loss: 0.0769 - inflam_acc: 1.0000 - inflam_mse: 0.0135 - nephriti_acc: 1.0000 - nephriti_mse: 0.0085 - val_loss: 0.1131 - val_inflam_loss: 0.0968 - val_nephriti_loss: 0.0817 - val_inflam_acc: 1.0000 - val_inflam_mse: 0.0156 - val_nephriti_acc: 1.0000 - val_nephriti_mse: 0.0087\n",
            "Epoch 946/1000\n",
            "1/1 - 0s - loss: 0.1042 - inflam_loss: 0.0888 - nephriti_loss: 0.0769 - inflam_acc: 1.0000 - inflam_mse: 0.0134 - nephriti_acc: 1.0000 - nephriti_mse: 0.0084 - val_loss: 0.1140 - val_inflam_loss: 0.0977 - val_nephriti_loss: 0.0817 - val_inflam_acc: 1.0000 - val_inflam_mse: 0.0160 - val_nephriti_acc: 1.0000 - val_nephriti_mse: 0.0087\n",
            "Epoch 947/1000\n",
            "1/1 - 0s - loss: 0.1041 - inflam_loss: 0.0888 - nephriti_loss: 0.0768 - inflam_acc: 1.0000 - inflam_mse: 0.0134 - nephriti_acc: 1.0000 - nephriti_mse: 0.0085 - val_loss: 0.1130 - val_inflam_loss: 0.0967 - val_nephriti_loss: 0.0816 - val_inflam_acc: 1.0000 - val_inflam_mse: 0.0155 - val_nephriti_acc: 1.0000 - val_nephriti_mse: 0.0086\n",
            "Epoch 948/1000\n",
            "1/1 - 0s - loss: 0.1041 - inflam_loss: 0.0887 - nephriti_loss: 0.0768 - inflam_acc: 1.0000 - inflam_mse: 0.0134 - nephriti_acc: 1.0000 - nephriti_mse: 0.0084 - val_loss: 0.1139 - val_inflam_loss: 0.0976 - val_nephriti_loss: 0.0816 - val_inflam_acc: 1.0000 - val_inflam_mse: 0.0160 - val_nephriti_acc: 1.0000 - val_nephriti_mse: 0.0087\n",
            "Epoch 949/1000\n",
            "1/1 - 0s - loss: 0.1040 - inflam_loss: 0.0887 - nephriti_loss: 0.0768 - inflam_acc: 1.0000 - inflam_mse: 0.0134 - nephriti_acc: 1.0000 - nephriti_mse: 0.0085 - val_loss: 0.1129 - val_inflam_loss: 0.0966 - val_nephriti_loss: 0.0815 - val_inflam_acc: 1.0000 - val_inflam_mse: 0.0155 - val_nephriti_acc: 1.0000 - val_nephriti_mse: 0.0086\n",
            "Epoch 950/1000\n",
            "1/1 - 0s - loss: 0.1040 - inflam_loss: 0.0886 - nephriti_loss: 0.0767 - inflam_acc: 1.0000 - inflam_mse: 0.0133 - nephriti_acc: 1.0000 - nephriti_mse: 0.0084 - val_loss: 0.1138 - val_inflam_loss: 0.0975 - val_nephriti_loss: 0.0815 - val_inflam_acc: 1.0000 - val_inflam_mse: 0.0160 - val_nephriti_acc: 1.0000 - val_nephriti_mse: 0.0087\n",
            "Epoch 951/1000\n",
            "1/1 - 0s - loss: 0.1039 - inflam_loss: 0.0886 - nephriti_loss: 0.0767 - inflam_acc: 1.0000 - inflam_mse: 0.0134 - nephriti_acc: 1.0000 - nephriti_mse: 0.0084 - val_loss: 0.1127 - val_inflam_loss: 0.0965 - val_nephriti_loss: 0.0814 - val_inflam_acc: 1.0000 - val_inflam_mse: 0.0155 - val_nephriti_acc: 1.0000 - val_nephriti_mse: 0.0086\n",
            "Epoch 952/1000\n",
            "1/1 - 0s - loss: 0.1039 - inflam_loss: 0.0885 - nephriti_loss: 0.0767 - inflam_acc: 1.0000 - inflam_mse: 0.0133 - nephriti_acc: 1.0000 - nephriti_mse: 0.0084 - val_loss: 0.1137 - val_inflam_loss: 0.0974 - val_nephriti_loss: 0.0814 - val_inflam_acc: 1.0000 - val_inflam_mse: 0.0159 - val_nephriti_acc: 1.0000 - val_nephriti_mse: 0.0087\n",
            "Epoch 953/1000\n",
            "1/1 - 0s - loss: 0.1038 - inflam_loss: 0.0885 - nephriti_loss: 0.0766 - inflam_acc: 1.0000 - inflam_mse: 0.0134 - nephriti_acc: 1.0000 - nephriti_mse: 0.0084 - val_loss: 0.1126 - val_inflam_loss: 0.0964 - val_nephriti_loss: 0.0814 - val_inflam_acc: 1.0000 - val_inflam_mse: 0.0155 - val_nephriti_acc: 1.0000 - val_nephriti_mse: 0.0086\n",
            "Epoch 954/1000\n",
            "1/1 - 0s - loss: 0.1038 - inflam_loss: 0.0885 - nephriti_loss: 0.0766 - inflam_acc: 1.0000 - inflam_mse: 0.0133 - nephriti_acc: 1.0000 - nephriti_mse: 0.0084 - val_loss: 0.1135 - val_inflam_loss: 0.0973 - val_nephriti_loss: 0.0814 - val_inflam_acc: 1.0000 - val_inflam_mse: 0.0159 - val_nephriti_acc: 1.0000 - val_nephriti_mse: 0.0086\n",
            "Epoch 955/1000\n",
            "1/1 - 0s - loss: 0.1037 - inflam_loss: 0.0884 - nephriti_loss: 0.0765 - inflam_acc: 1.0000 - inflam_mse: 0.0134 - nephriti_acc: 1.0000 - nephriti_mse: 0.0084 - val_loss: 0.1125 - val_inflam_loss: 0.0963 - val_nephriti_loss: 0.0813 - val_inflam_acc: 1.0000 - val_inflam_mse: 0.0154 - val_nephriti_acc: 1.0000 - val_nephriti_mse: 0.0086\n",
            "Epoch 956/1000\n",
            "1/1 - 0s - loss: 0.1037 - inflam_loss: 0.0884 - nephriti_loss: 0.0765 - inflam_acc: 1.0000 - inflam_mse: 0.0133 - nephriti_acc: 1.0000 - nephriti_mse: 0.0084 - val_loss: 0.1134 - val_inflam_loss: 0.0972 - val_nephriti_loss: 0.0813 - val_inflam_acc: 1.0000 - val_inflam_mse: 0.0159 - val_nephriti_acc: 1.0000 - val_nephriti_mse: 0.0086\n",
            "Epoch 957/1000\n",
            "1/1 - 0s - loss: 0.1036 - inflam_loss: 0.0883 - nephriti_loss: 0.0765 - inflam_acc: 1.0000 - inflam_mse: 0.0133 - nephriti_acc: 1.0000 - nephriti_mse: 0.0084 - val_loss: 0.1124 - val_inflam_loss: 0.0962 - val_nephriti_loss: 0.0812 - val_inflam_acc: 1.0000 - val_inflam_mse: 0.0154 - val_nephriti_acc: 1.0000 - val_nephriti_mse: 0.0086\n",
            "Epoch 958/1000\n",
            "1/1 - 0s - loss: 0.1036 - inflam_loss: 0.0883 - nephriti_loss: 0.0764 - inflam_acc: 1.0000 - inflam_mse: 0.0132 - nephriti_acc: 1.0000 - nephriti_mse: 0.0083 - val_loss: 0.1133 - val_inflam_loss: 0.0971 - val_nephriti_loss: 0.0812 - val_inflam_acc: 1.0000 - val_inflam_mse: 0.0159 - val_nephriti_acc: 1.0000 - val_nephriti_mse: 0.0086\n",
            "Epoch 959/1000\n",
            "1/1 - 0s - loss: 0.1035 - inflam_loss: 0.0882 - nephriti_loss: 0.0764 - inflam_acc: 1.0000 - inflam_mse: 0.0133 - nephriti_acc: 1.0000 - nephriti_mse: 0.0084 - val_loss: 0.1123 - val_inflam_loss: 0.0961 - val_nephriti_loss: 0.0811 - val_inflam_acc: 1.0000 - val_inflam_mse: 0.0154 - val_nephriti_acc: 1.0000 - val_nephriti_mse: 0.0086\n",
            "Epoch 960/1000\n",
            "1/1 - 0s - loss: 0.1035 - inflam_loss: 0.0882 - nephriti_loss: 0.0764 - inflam_acc: 1.0000 - inflam_mse: 0.0132 - nephriti_acc: 1.0000 - nephriti_mse: 0.0083 - val_loss: 0.1132 - val_inflam_loss: 0.0970 - val_nephriti_loss: 0.0811 - val_inflam_acc: 1.0000 - val_inflam_mse: 0.0158 - val_nephriti_acc: 1.0000 - val_nephriti_mse: 0.0086\n",
            "Epoch 961/1000\n",
            "1/1 - 0s - loss: 0.1034 - inflam_loss: 0.0881 - nephriti_loss: 0.0763 - inflam_acc: 1.0000 - inflam_mse: 0.0133 - nephriti_acc: 1.0000 - nephriti_mse: 0.0084 - val_loss: 0.1122 - val_inflam_loss: 0.0960 - val_nephriti_loss: 0.0811 - val_inflam_acc: 1.0000 - val_inflam_mse: 0.0154 - val_nephriti_acc: 1.0000 - val_nephriti_mse: 0.0085\n",
            "Epoch 962/1000\n",
            "1/1 - 0s - loss: 0.1034 - inflam_loss: 0.0881 - nephriti_loss: 0.0763 - inflam_acc: 1.0000 - inflam_mse: 0.0132 - nephriti_acc: 1.0000 - nephriti_mse: 0.0083 - val_loss: 0.1131 - val_inflam_loss: 0.0969 - val_nephriti_loss: 0.0810 - val_inflam_acc: 1.0000 - val_inflam_mse: 0.0158 - val_nephriti_acc: 1.0000 - val_nephriti_mse: 0.0086\n",
            "Epoch 963/1000\n",
            "1/1 - 0s - loss: 0.1033 - inflam_loss: 0.0881 - nephriti_loss: 0.0763 - inflam_acc: 1.0000 - inflam_mse: 0.0133 - nephriti_acc: 1.0000 - nephriti_mse: 0.0084 - val_loss: 0.1121 - val_inflam_loss: 0.0959 - val_nephriti_loss: 0.0810 - val_inflam_acc: 1.0000 - val_inflam_mse: 0.0153 - val_nephriti_acc: 1.0000 - val_nephriti_mse: 0.0085\n",
            "Epoch 964/1000\n",
            "1/1 - 0s - loss: 0.1033 - inflam_loss: 0.0880 - nephriti_loss: 0.0762 - inflam_acc: 1.0000 - inflam_mse: 0.0132 - nephriti_acc: 1.0000 - nephriti_mse: 0.0083 - val_loss: 0.1130 - val_inflam_loss: 0.0968 - val_nephriti_loss: 0.0810 - val_inflam_acc: 1.0000 - val_inflam_mse: 0.0158 - val_nephriti_acc: 1.0000 - val_nephriti_mse: 0.0086\n",
            "Epoch 965/1000\n",
            "1/1 - 0s - loss: 0.1032 - inflam_loss: 0.0880 - nephriti_loss: 0.0762 - inflam_acc: 1.0000 - inflam_mse: 0.0133 - nephriti_acc: 1.0000 - nephriti_mse: 0.0083 - val_loss: 0.1120 - val_inflam_loss: 0.0958 - val_nephriti_loss: 0.0809 - val_inflam_acc: 1.0000 - val_inflam_mse: 0.0153 - val_nephriti_acc: 1.0000 - val_nephriti_mse: 0.0085\n",
            "Epoch 966/1000\n",
            "1/1 - 0s - loss: 0.1032 - inflam_loss: 0.0879 - nephriti_loss: 0.0762 - inflam_acc: 1.0000 - inflam_mse: 0.0132 - nephriti_acc: 1.0000 - nephriti_mse: 0.0083 - val_loss: 0.1129 - val_inflam_loss: 0.0967 - val_nephriti_loss: 0.0809 - val_inflam_acc: 1.0000 - val_inflam_mse: 0.0158 - val_nephriti_acc: 1.0000 - val_nephriti_mse: 0.0086\n",
            "Epoch 967/1000\n",
            "1/1 - 0s - loss: 0.1031 - inflam_loss: 0.0879 - nephriti_loss: 0.0761 - inflam_acc: 1.0000 - inflam_mse: 0.0132 - nephriti_acc: 1.0000 - nephriti_mse: 0.0083 - val_loss: 0.1118 - val_inflam_loss: 0.0957 - val_nephriti_loss: 0.0808 - val_inflam_acc: 1.0000 - val_inflam_mse: 0.0153 - val_nephriti_acc: 1.0000 - val_nephriti_mse: 0.0085\n",
            "Epoch 968/1000\n",
            "1/1 - 0s - loss: 0.1031 - inflam_loss: 0.0878 - nephriti_loss: 0.0761 - inflam_acc: 1.0000 - inflam_mse: 0.0131 - nephriti_acc: 1.0000 - nephriti_mse: 0.0083 - val_loss: 0.1127 - val_inflam_loss: 0.0966 - val_nephriti_loss: 0.0808 - val_inflam_acc: 1.0000 - val_inflam_mse: 0.0157 - val_nephriti_acc: 1.0000 - val_nephriti_mse: 0.0085\n",
            "Epoch 969/1000\n",
            "1/1 - 0s - loss: 0.1030 - inflam_loss: 0.0878 - nephriti_loss: 0.0760 - inflam_acc: 1.0000 - inflam_mse: 0.0132 - nephriti_acc: 1.0000 - nephriti_mse: 0.0083 - val_loss: 0.1117 - val_inflam_loss: 0.0956 - val_nephriti_loss: 0.0807 - val_inflam_acc: 1.0000 - val_inflam_mse: 0.0153 - val_nephriti_acc: 1.0000 - val_nephriti_mse: 0.0085\n",
            "Epoch 970/1000\n",
            "1/1 - 0s - loss: 0.1030 - inflam_loss: 0.0877 - nephriti_loss: 0.0760 - inflam_acc: 1.0000 - inflam_mse: 0.0131 - nephriti_acc: 1.0000 - nephriti_mse: 0.0083 - val_loss: 0.1126 - val_inflam_loss: 0.0965 - val_nephriti_loss: 0.0807 - val_inflam_acc: 1.0000 - val_inflam_mse: 0.0157 - val_nephriti_acc: 1.0000 - val_nephriti_mse: 0.0085\n",
            "Epoch 971/1000\n",
            "1/1 - 0s - loss: 0.1029 - inflam_loss: 0.0877 - nephriti_loss: 0.0760 - inflam_acc: 1.0000 - inflam_mse: 0.0132 - nephriti_acc: 1.0000 - nephriti_mse: 0.0083 - val_loss: 0.1116 - val_inflam_loss: 0.0955 - val_nephriti_loss: 0.0807 - val_inflam_acc: 1.0000 - val_inflam_mse: 0.0152 - val_nephriti_acc: 1.0000 - val_nephriti_mse: 0.0085\n",
            "Epoch 972/1000\n",
            "1/1 - 0s - loss: 0.1028 - inflam_loss: 0.0877 - nephriti_loss: 0.0759 - inflam_acc: 1.0000 - inflam_mse: 0.0131 - nephriti_acc: 1.0000 - nephriti_mse: 0.0082 - val_loss: 0.1125 - val_inflam_loss: 0.0964 - val_nephriti_loss: 0.0807 - val_inflam_acc: 1.0000 - val_inflam_mse: 0.0157 - val_nephriti_acc: 1.0000 - val_nephriti_mse: 0.0085\n",
            "Epoch 973/1000\n",
            "1/1 - 0s - loss: 0.1028 - inflam_loss: 0.0876 - nephriti_loss: 0.0759 - inflam_acc: 1.0000 - inflam_mse: 0.0132 - nephriti_acc: 1.0000 - nephriti_mse: 0.0083 - val_loss: 0.1115 - val_inflam_loss: 0.0954 - val_nephriti_loss: 0.0806 - val_inflam_acc: 1.0000 - val_inflam_mse: 0.0152 - val_nephriti_acc: 1.0000 - val_nephriti_mse: 0.0085\n",
            "Epoch 974/1000\n",
            "1/1 - 0s - loss: 0.1027 - inflam_loss: 0.0876 - nephriti_loss: 0.0759 - inflam_acc: 1.0000 - inflam_mse: 0.0131 - nephriti_acc: 1.0000 - nephriti_mse: 0.0082 - val_loss: 0.1124 - val_inflam_loss: 0.0963 - val_nephriti_loss: 0.0806 - val_inflam_acc: 1.0000 - val_inflam_mse: 0.0157 - val_nephriti_acc: 1.0000 - val_nephriti_mse: 0.0085\n",
            "Epoch 975/1000\n",
            "1/1 - 0s - loss: 0.1027 - inflam_loss: 0.0875 - nephriti_loss: 0.0758 - inflam_acc: 1.0000 - inflam_mse: 0.0131 - nephriti_acc: 1.0000 - nephriti_mse: 0.0083 - val_loss: 0.1114 - val_inflam_loss: 0.0953 - val_nephriti_loss: 0.0805 - val_inflam_acc: 1.0000 - val_inflam_mse: 0.0152 - val_nephriti_acc: 1.0000 - val_nephriti_mse: 0.0084\n",
            "Epoch 976/1000\n",
            "1/1 - 0s - loss: 0.1026 - inflam_loss: 0.0875 - nephriti_loss: 0.0758 - inflam_acc: 1.0000 - inflam_mse: 0.0131 - nephriti_acc: 1.0000 - nephriti_mse: 0.0082 - val_loss: 0.1123 - val_inflam_loss: 0.0962 - val_nephriti_loss: 0.0805 - val_inflam_acc: 1.0000 - val_inflam_mse: 0.0156 - val_nephriti_acc: 1.0000 - val_nephriti_mse: 0.0085\n",
            "Epoch 977/1000\n",
            "1/1 - 0s - loss: 0.1026 - inflam_loss: 0.0874 - nephriti_loss: 0.0758 - inflam_acc: 1.0000 - inflam_mse: 0.0131 - nephriti_acc: 1.0000 - nephriti_mse: 0.0083 - val_loss: 0.1113 - val_inflam_loss: 0.0952 - val_nephriti_loss: 0.0804 - val_inflam_acc: 1.0000 - val_inflam_mse: 0.0152 - val_nephriti_acc: 1.0000 - val_nephriti_mse: 0.0084\n",
            "Epoch 978/1000\n",
            "1/1 - 0s - loss: 0.1025 - inflam_loss: 0.0874 - nephriti_loss: 0.0757 - inflam_acc: 1.0000 - inflam_mse: 0.0130 - nephriti_acc: 1.0000 - nephriti_mse: 0.0082 - val_loss: 0.1122 - val_inflam_loss: 0.0961 - val_nephriti_loss: 0.0804 - val_inflam_acc: 1.0000 - val_inflam_mse: 0.0156 - val_nephriti_acc: 1.0000 - val_nephriti_mse: 0.0085\n",
            "Epoch 979/1000\n",
            "1/1 - 0s - loss: 0.1025 - inflam_loss: 0.0874 - nephriti_loss: 0.0757 - inflam_acc: 1.0000 - inflam_mse: 0.0131 - nephriti_acc: 1.0000 - nephriti_mse: 0.0082 - val_loss: 0.1112 - val_inflam_loss: 0.0951 - val_nephriti_loss: 0.0804 - val_inflam_acc: 1.0000 - val_inflam_mse: 0.0151 - val_nephriti_acc: 1.0000 - val_nephriti_mse: 0.0084\n",
            "Epoch 980/1000\n",
            "1/1 - 0s - loss: 0.1024 - inflam_loss: 0.0873 - nephriti_loss: 0.0757 - inflam_acc: 1.0000 - inflam_mse: 0.0130 - nephriti_acc: 1.0000 - nephriti_mse: 0.0082 - val_loss: 0.1121 - val_inflam_loss: 0.0960 - val_nephriti_loss: 0.0804 - val_inflam_acc: 1.0000 - val_inflam_mse: 0.0156 - val_nephriti_acc: 1.0000 - val_nephriti_mse: 0.0085\n",
            "Epoch 981/1000\n",
            "1/1 - 0s - loss: 0.1024 - inflam_loss: 0.0873 - nephriti_loss: 0.0756 - inflam_acc: 1.0000 - inflam_mse: 0.0131 - nephriti_acc: 1.0000 - nephriti_mse: 0.0082 - val_loss: 0.1111 - val_inflam_loss: 0.0950 - val_nephriti_loss: 0.0803 - val_inflam_acc: 1.0000 - val_inflam_mse: 0.0151 - val_nephriti_acc: 1.0000 - val_nephriti_mse: 0.0084\n",
            "Epoch 982/1000\n",
            "1/1 - 0s - loss: 0.1023 - inflam_loss: 0.0872 - nephriti_loss: 0.0756 - inflam_acc: 1.0000 - inflam_mse: 0.0130 - nephriti_acc: 1.0000 - nephriti_mse: 0.0082 - val_loss: 0.1119 - val_inflam_loss: 0.0959 - val_nephriti_loss: 0.0803 - val_inflam_acc: 1.0000 - val_inflam_mse: 0.0156 - val_nephriti_acc: 1.0000 - val_nephriti_mse: 0.0084\n",
            "Epoch 983/1000\n",
            "1/1 - 0s - loss: 0.1023 - inflam_loss: 0.0872 - nephriti_loss: 0.0755 - inflam_acc: 1.0000 - inflam_mse: 0.0131 - nephriti_acc: 1.0000 - nephriti_mse: 0.0082 - val_loss: 0.1109 - val_inflam_loss: 0.0949 - val_nephriti_loss: 0.0802 - val_inflam_acc: 1.0000 - val_inflam_mse: 0.0151 - val_nephriti_acc: 1.0000 - val_nephriti_mse: 0.0084\n",
            "Epoch 984/1000\n",
            "1/1 - 0s - loss: 0.1022 - inflam_loss: 0.0871 - nephriti_loss: 0.0755 - inflam_acc: 1.0000 - inflam_mse: 0.0130 - nephriti_acc: 1.0000 - nephriti_mse: 0.0082 - val_loss: 0.1118 - val_inflam_loss: 0.0958 - val_nephriti_loss: 0.0802 - val_inflam_acc: 1.0000 - val_inflam_mse: 0.0155 - val_nephriti_acc: 1.0000 - val_nephriti_mse: 0.0084\n",
            "Epoch 985/1000\n",
            "1/1 - 0s - loss: 0.1022 - inflam_loss: 0.0871 - nephriti_loss: 0.0755 - inflam_acc: 1.0000 - inflam_mse: 0.0130 - nephriti_acc: 1.0000 - nephriti_mse: 0.0082 - val_loss: 0.1108 - val_inflam_loss: 0.0948 - val_nephriti_loss: 0.0801 - val_inflam_acc: 1.0000 - val_inflam_mse: 0.0151 - val_nephriti_acc: 1.0000 - val_nephriti_mse: 0.0084\n",
            "Epoch 986/1000\n",
            "1/1 - 0s - loss: 0.1021 - inflam_loss: 0.0870 - nephriti_loss: 0.0754 - inflam_acc: 1.0000 - inflam_mse: 0.0129 - nephriti_acc: 1.0000 - nephriti_mse: 0.0081 - val_loss: 0.1117 - val_inflam_loss: 0.0957 - val_nephriti_loss: 0.0801 - val_inflam_acc: 1.0000 - val_inflam_mse: 0.0155 - val_nephriti_acc: 1.0000 - val_nephriti_mse: 0.0084\n",
            "Epoch 987/1000\n",
            "1/1 - 0s - loss: 0.1021 - inflam_loss: 0.0870 - nephriti_loss: 0.0754 - inflam_acc: 1.0000 - inflam_mse: 0.0130 - nephriti_acc: 1.0000 - nephriti_mse: 0.0082 - val_loss: 0.1107 - val_inflam_loss: 0.0947 - val_nephriti_loss: 0.0801 - val_inflam_acc: 1.0000 - val_inflam_mse: 0.0150 - val_nephriti_acc: 1.0000 - val_nephriti_mse: 0.0084\n",
            "Epoch 988/1000\n",
            "1/1 - 0s - loss: 0.1020 - inflam_loss: 0.0870 - nephriti_loss: 0.0754 - inflam_acc: 1.0000 - inflam_mse: 0.0129 - nephriti_acc: 1.0000 - nephriti_mse: 0.0081 - val_loss: 0.1116 - val_inflam_loss: 0.0956 - val_nephriti_loss: 0.0801 - val_inflam_acc: 1.0000 - val_inflam_mse: 0.0155 - val_nephriti_acc: 1.0000 - val_nephriti_mse: 0.0084\n",
            "Epoch 989/1000\n",
            "1/1 - 0s - loss: 0.1020 - inflam_loss: 0.0869 - nephriti_loss: 0.0753 - inflam_acc: 1.0000 - inflam_mse: 0.0130 - nephriti_acc: 1.0000 - nephriti_mse: 0.0082 - val_loss: 0.1106 - val_inflam_loss: 0.0946 - val_nephriti_loss: 0.0800 - val_inflam_acc: 1.0000 - val_inflam_mse: 0.0150 - val_nephriti_acc: 1.0000 - val_nephriti_mse: 0.0083\n",
            "Epoch 990/1000\n",
            "1/1 - 0s - loss: 0.1019 - inflam_loss: 0.0869 - nephriti_loss: 0.0753 - inflam_acc: 1.0000 - inflam_mse: 0.0129 - nephriti_acc: 1.0000 - nephriti_mse: 0.0081 - val_loss: 0.1115 - val_inflam_loss: 0.0955 - val_nephriti_loss: 0.0800 - val_inflam_acc: 1.0000 - val_inflam_mse: 0.0154 - val_nephriti_acc: 1.0000 - val_nephriti_mse: 0.0084\n",
            "Epoch 991/1000\n",
            "1/1 - 0s - loss: 0.1019 - inflam_loss: 0.0868 - nephriti_loss: 0.0753 - inflam_acc: 1.0000 - inflam_mse: 0.0130 - nephriti_acc: 1.0000 - nephriti_mse: 0.0082 - val_loss: 0.1105 - val_inflam_loss: 0.0945 - val_nephriti_loss: 0.0799 - val_inflam_acc: 1.0000 - val_inflam_mse: 0.0150 - val_nephriti_acc: 1.0000 - val_nephriti_mse: 0.0083\n",
            "Epoch 992/1000\n",
            "1/1 - 0s - loss: 0.1018 - inflam_loss: 0.0868 - nephriti_loss: 0.0752 - inflam_acc: 1.0000 - inflam_mse: 0.0129 - nephriti_acc: 1.0000 - nephriti_mse: 0.0081 - val_loss: 0.1114 - val_inflam_loss: 0.0954 - val_nephriti_loss: 0.0799 - val_inflam_acc: 1.0000 - val_inflam_mse: 0.0154 - val_nephriti_acc: 1.0000 - val_nephriti_mse: 0.0084\n",
            "Epoch 993/1000\n",
            "1/1 - 0s - loss: 0.1018 - inflam_loss: 0.0867 - nephriti_loss: 0.0752 - inflam_acc: 1.0000 - inflam_mse: 0.0129 - nephriti_acc: 1.0000 - nephriti_mse: 0.0081 - val_loss: 0.1104 - val_inflam_loss: 0.0944 - val_nephriti_loss: 0.0798 - val_inflam_acc: 1.0000 - val_inflam_mse: 0.0150 - val_nephriti_acc: 1.0000 - val_nephriti_mse: 0.0083\n",
            "Epoch 994/1000\n",
            "1/1 - 0s - loss: 0.1017 - inflam_loss: 0.0867 - nephriti_loss: 0.0752 - inflam_acc: 1.0000 - inflam_mse: 0.0129 - nephriti_acc: 1.0000 - nephriti_mse: 0.0081 - val_loss: 0.1113 - val_inflam_loss: 0.0953 - val_nephriti_loss: 0.0798 - val_inflam_acc: 1.0000 - val_inflam_mse: 0.0154 - val_nephriti_acc: 1.0000 - val_nephriti_mse: 0.0084\n",
            "Epoch 995/1000\n",
            "1/1 - 0s - loss: 0.1017 - inflam_loss: 0.0867 - nephriti_loss: 0.0751 - inflam_acc: 1.0000 - inflam_mse: 0.0129 - nephriti_acc: 1.0000 - nephriti_mse: 0.0081 - val_loss: 0.1103 - val_inflam_loss: 0.0943 - val_nephriti_loss: 0.0798 - val_inflam_acc: 1.0000 - val_inflam_mse: 0.0149 - val_nephriti_acc: 1.0000 - val_nephriti_mse: 0.0083\n",
            "Epoch 996/1000\n",
            "1/1 - 0s - loss: 0.1016 - inflam_loss: 0.0866 - nephriti_loss: 0.0751 - inflam_acc: 1.0000 - inflam_mse: 0.0128 - nephriti_acc: 1.0000 - nephriti_mse: 0.0081 - val_loss: 0.1112 - val_inflam_loss: 0.0952 - val_nephriti_loss: 0.0798 - val_inflam_acc: 1.0000 - val_inflam_mse: 0.0154 - val_nephriti_acc: 1.0000 - val_nephriti_mse: 0.0083\n",
            "Epoch 997/1000\n",
            "1/1 - 0s - loss: 0.1016 - inflam_loss: 0.0866 - nephriti_loss: 0.0750 - inflam_acc: 1.0000 - inflam_mse: 0.0129 - nephriti_acc: 1.0000 - nephriti_mse: 0.0081 - val_loss: 0.1102 - val_inflam_loss: 0.0942 - val_nephriti_loss: 0.0797 - val_inflam_acc: 1.0000 - val_inflam_mse: 0.0149 - val_nephriti_acc: 1.0000 - val_nephriti_mse: 0.0083\n",
            "Epoch 998/1000\n",
            "1/1 - 0s - loss: 0.1015 - inflam_loss: 0.0865 - nephriti_loss: 0.0750 - inflam_acc: 1.0000 - inflam_mse: 0.0128 - nephriti_acc: 1.0000 - nephriti_mse: 0.0081 - val_loss: 0.1111 - val_inflam_loss: 0.0951 - val_nephriti_loss: 0.0797 - val_inflam_acc: 1.0000 - val_inflam_mse: 0.0153 - val_nephriti_acc: 1.0000 - val_nephriti_mse: 0.0083\n",
            "Epoch 999/1000\n",
            "1/1 - 0s - loss: 0.1015 - inflam_loss: 0.0865 - nephriti_loss: 0.0750 - inflam_acc: 1.0000 - inflam_mse: 0.0129 - nephriti_acc: 1.0000 - nephriti_mse: 0.0081 - val_loss: 0.1100 - val_inflam_loss: 0.0941 - val_nephriti_loss: 0.0796 - val_inflam_acc: 1.0000 - val_inflam_mse: 0.0149 - val_nephriti_acc: 1.0000 - val_nephriti_mse: 0.0083\n",
            "Epoch 1000/1000\n",
            "1/1 - 0s - loss: 0.1014 - inflam_loss: 0.0864 - nephriti_loss: 0.0749 - inflam_acc: 1.0000 - inflam_mse: 0.0128 - nephriti_acc: 1.0000 - nephriti_mse: 0.0081 - val_loss: 0.1109 - val_inflam_loss: 0.0950 - val_nephriti_loss: 0.0796 - val_inflam_acc: 1.0000 - val_inflam_mse: 0.0153 - val_nephriti_acc: 1.0000 - val_nephriti_mse: 0.0083\n"
          ],
          "name": "stdout"
        }
      ]
    },
    {
      "cell_type": "markdown",
      "metadata": {
        "id": "2D5WmZvkKURz"
      },
      "source": [
        "#### Plot the learning curves"
      ]
    },
    {
      "cell_type": "code",
      "metadata": {
        "scrolled": false,
        "id": "6GgUOXPPKUR0",
        "colab": {
          "base_uri": "https://localhost:8080/",
          "height": 573
        },
        "outputId": "39eabc1f-2811-447e-a461-c3d8d844fefc"
      },
      "source": [
        "# Plot the training accuracy\n",
        "\n",
        "acc_keys = [k for k in history.history.keys() if k in ('inflam_acc', 'nephr_acc')] \n",
        "loss_keys = [k for k in history.history.keys() if not k in acc_keys]\n",
        "\n",
        "for k, v in history.history.items():\n",
        "    if k in acc_keys:\n",
        "        plt.figure(1)\n",
        "        plt.plot(v)\n",
        "    else:\n",
        "        plt.figure(2)\n",
        "        plt.plot(v)\n",
        "\n",
        "plt.figure(1)\n",
        "plt.title('Accuracy vs. epochs')\n",
        "plt.ylabel('Accuracy')\n",
        "plt.xlabel('Epoch')\n",
        "plt.legend(acc_keys, loc='upper right')\n",
        "\n",
        "plt.figure(2)\n",
        "plt.title('Loss vs. epochs')\n",
        "plt.ylabel('Loss')\n",
        "plt.xlabel('Epoch')\n",
        "plt.legend(loss_keys, loc='upper right')\n",
        "\n",
        "plt.show()"
      ],
      "execution_count": 72,
      "outputs": [
        {
          "output_type": "display_data",
          "data": {
            "image/png": "[encoded data removed]",
            "text/plain": [
              "<Figure size 432x288 with 1 Axes>"
            ]
          },
          "metadata": {
            "tags": [],
            "needs_background": "light"
          }
        },
        {
          "output_type": "display_data",
          "data": {
            "image/png": "[encoded data removed]",
            "text/plain": [
              "<Figure size 432x288 with 1 Axes>"
            ]
          },
          "metadata": {
            "tags": [],
            "needs_background": "light"
          }
        }
      ]
    },
    {
      "cell_type": "code",
      "metadata": {
        "scrolled": false,
        "id": "gGnXQLRyKUR4",
        "colab": {
          "base_uri": "https://localhost:8080/"
        },
        "outputId": "fdfd65e7-556f-4b10-8183-761892faaf16"
      },
      "source": [
        "# Evaluate the model\n",
        "\n",
        "model.evaluate(vx,vy)"
      ],
      "execution_count": 73,
      "outputs": [
        {
          "output_type": "stream",
          "text": [
            "2/2 [==============================] - 0s 6ms/step - loss: 0.1109 - inflam_loss: 0.0950 - nephriti_loss: 0.0796 - inflam_acc: 1.0000 - inflam_mse: 0.0153 - nephriti_acc: 1.0000 - nephriti_mse: 0.0083\n"
          ],
          "name": "stdout"
        },
        {
          "output_type": "execute_result",
          "data": {
            "text/plain": [
              "[0.11093851178884506,\n",
              " 0.0950167328119278,\n",
              " 0.07960887998342514,\n",
              " 1.0,\n",
              " 0.015318358317017555,\n",
              " 1.0,\n",
              " 0.008319803513586521]"
            ]
          },
          "metadata": {
            "tags": []
          },
          "execution_count": 73
        }
      ]
    },
    {
      "cell_type": "markdown",
      "metadata": {
        "id": "G5xxvVY3KUR8"
      },
      "source": [
        "***\n",
        "<a id=\"coding_tutorial_2\"></a>\n",
        "## Tensors and Variables"
      ]
    },
    {
      "cell_type": "code",
      "metadata": {
        "scrolled": false,
        "id": "fTIe7EbMKUR9"
      },
      "source": [
        "import numpy as np"
      ],
      "execution_count": null,
      "outputs": []
    },
    {
      "cell_type": "markdown",
      "metadata": {
        "id": "XEKAybugKUSD"
      },
      "source": [
        "#### Create Variable objects"
      ]
    },
    {
      "cell_type": "code",
      "metadata": {
        "scrolled": false,
        "id": "PQnCI7UPKUSF"
      },
      "source": [
        "# Create Variable objects of different type with tf.Variable\n",
        "\n",
        "strings = tf.Variable([\"Hello world!\"], tf.string)\n",
        "floats  = tf.Variable([3.14159, 2.71828], tf.float64)\n",
        "ints = tf.Variable([1, 2, 3], tf.int32)\n",
        "complexs = tf.Variable([25.9 - 7.39j, 1.23 - 4.91j], tf.complex128)"
      ],
      "execution_count": null,
      "outputs": []
    },
    {
      "cell_type": "code",
      "metadata": {
        "scrolled": false,
        "id": "8st30T0kKUSJ"
      },
      "source": [
        "# Initialise a Variable value\n",
        "\n"
      ],
      "execution_count": null,
      "outputs": []
    },
    {
      "cell_type": "markdown",
      "metadata": {
        "id": "9rOpqQVNKUSO"
      },
      "source": [
        "#### Use and modify Variable values"
      ]
    },
    {
      "cell_type": "code",
      "metadata": {
        "scrolled": false,
        "id": "BM_P9WM1KUSP"
      },
      "source": [
        "# Use the value of a Variable\n",
        "\n",
        "v = tf.Variable(0.0)\n",
        "w = v + 1  # w is a tf.Tensor which is computed based on the value of v.\n",
        "\n",
        "print(type(w))"
      ],
      "execution_count": null,
      "outputs": []
    },
    {
      "cell_type": "code",
      "metadata": {
        "scrolled": false,
        "id": "ZphqbA9bKUSV"
      },
      "source": [
        "# Increment the value of a Variable\n",
        "\n"
      ],
      "execution_count": null,
      "outputs": []
    },
    {
      "cell_type": "code",
      "metadata": {
        "scrolled": false,
        "id": "bUTr5IMKKUSc"
      },
      "source": [
        "# Decrement the value of a Variable\n",
        "\n"
      ],
      "execution_count": null,
      "outputs": []
    },
    {
      "cell_type": "markdown",
      "metadata": {
        "id": "1fn43vXfKUSj"
      },
      "source": [
        "#### Create Tensor objects"
      ]
    },
    {
      "cell_type": "markdown",
      "metadata": {
        "id": "ydXIlRLVKUSk"
      },
      "source": [
        "Create a constant tensor and print its type as well as its shape:"
      ]
    },
    {
      "cell_type": "code",
      "metadata": {
        "scrolled": false,
        "id": "ynmKF5WBKUSn"
      },
      "source": [
        "# Create a constant Tensor\n",
        "\n",
        "x = tf.constant([[1, 2, 3], [4, 5, 6], [7, 8, 9]])\n",
        "print(x)\n",
        "print(\"dtype:\", x.dtype)\n",
        "print(\"shape:\", x.shape)"
      ],
      "execution_count": null,
      "outputs": []
    },
    {
      "cell_type": "code",
      "metadata": {
        "scrolled": false,
        "id": "ONzNFdvBKUSw"
      },
      "source": [
        "# Obtain the value as a numpy array\n",
        "\n"
      ],
      "execution_count": null,
      "outputs": []
    },
    {
      "cell_type": "code",
      "metadata": {
        "scrolled": false,
        "id": "Z_coR5e_KUS1"
      },
      "source": [
        "# Create a Tensor of type float32\n",
        "\n"
      ],
      "execution_count": null,
      "outputs": []
    },
    {
      "cell_type": "code",
      "metadata": {
        "scrolled": false,
        "id": "66vsJ2nDKUS6"
      },
      "source": [
        "# Create coefficients\n",
        "\n",
        "coeffs = np.arange(16)"
      ],
      "execution_count": null,
      "outputs": []
    },
    {
      "cell_type": "code",
      "metadata": {
        "id": "oklUSgBkKUS_"
      },
      "source": [
        "# Initialise shapes\n",
        "\n"
      ],
      "execution_count": null,
      "outputs": []
    },
    {
      "cell_type": "code",
      "metadata": {
        "id": "xDueGPOZKUTE"
      },
      "source": [
        "# Create Tensors of different shape\n",
        "\n",
        "a = tf.constant(coeffs, shape=shape1)\n",
        "print(\"\\n a:\\n \", a)\n",
        "\n",
        "b = tf.constant(coeffs, shape=shape2)\n",
        "print(\"\\n b:\\n \", b)\n",
        "\n",
        "c = tf.constant(coeffs, shape=shape3)\n",
        "print(\"\\n c:\\n \", c)"
      ],
      "execution_count": null,
      "outputs": []
    },
    {
      "cell_type": "markdown",
      "metadata": {
        "id": "wQunv2imKUTH"
      },
      "source": [
        "#### Useful Tensor operations"
      ]
    },
    {
      "cell_type": "code",
      "metadata": {
        "scrolled": false,
        "id": "ckoPBCdeKUTI"
      },
      "source": [
        "# Create a constant Tensor\n",
        "\n",
        "t = tf.constant(np.arange(80), shape=[5,2,8])"
      ],
      "execution_count": null,
      "outputs": []
    },
    {
      "cell_type": "code",
      "metadata": {
        "id": "QIgKN6x_KUTN"
      },
      "source": [
        "# Get the rank of a Tensor\n",
        "\n"
      ],
      "execution_count": null,
      "outputs": []
    },
    {
      "cell_type": "code",
      "metadata": {
        "id": "w1lcPqXbKUTU"
      },
      "source": [
        "# Display the rank\n",
        "\n",
        "print(\"rank: \", rank)"
      ],
      "execution_count": null,
      "outputs": []
    },
    {
      "cell_type": "code",
      "metadata": {
        "scrolled": false,
        "id": "bDZTFUpKKUTY"
      },
      "source": [
        "# Reshape a Tensor\n",
        "\n"
      ],
      "execution_count": null,
      "outputs": []
    },
    {
      "cell_type": "code",
      "metadata": {
        "id": "-Jh0xAmhKUTb"
      },
      "source": [
        "# Display the new shape\n",
        "\n",
        "print(\"t2.shape: \", t2.shape)"
      ],
      "execution_count": null,
      "outputs": []
    },
    {
      "cell_type": "code",
      "metadata": {
        "scrolled": false,
        "id": "LLGauT00KUTd"
      },
      "source": [
        "# Create ones, zeros, identity and constant Tensors\n",
        "\n"
      ],
      "execution_count": null,
      "outputs": []
    },
    {
      "cell_type": "code",
      "metadata": {
        "id": "rqVS1qx7KUTf"
      },
      "source": [
        "# Display the created tensors\n",
        "\n",
        "print(\"\\n Ones:\\n \", ones)\n",
        "print(\"\\n Zeros:\\n \", zeros)\n",
        "print(\"\\n Identity:\\n \", eye)\n",
        "print(\"\\n Tensor filled with 7: \", tensor7)"
      ],
      "execution_count": null,
      "outputs": []
    },
    {
      "cell_type": "code",
      "metadata": {
        "scrolled": false,
        "id": "HWrvSDxNKUTl"
      },
      "source": [
        "# Create a ones Tensor and a zeros Tensor\n",
        "\n",
        "t1 = tf.ones(shape=(2, 2))\n",
        "t2 = tf.zeros(shape=(2, 2))"
      ],
      "execution_count": null,
      "outputs": []
    },
    {
      "cell_type": "code",
      "metadata": {
        "scrolled": false,
        "id": "1j_bYOrhKUTq"
      },
      "source": [
        "# Concatentate two Tensors\n",
        "\n"
      ],
      "execution_count": null,
      "outputs": []
    },
    {
      "cell_type": "code",
      "metadata": {
        "id": "FtbFujr7KUTt"
      },
      "source": [
        "# Display the concatenated tensors\n",
        "\n",
        "print(concat0)\n",
        "print(concat1)"
      ],
      "execution_count": null,
      "outputs": []
    },
    {
      "cell_type": "code",
      "metadata": {
        "scrolled": false,
        "id": "M-WVtu8DKUTw"
      },
      "source": [
        "# Create a constant Tensor\n",
        "\n",
        "t = tf.constant(np.arange(24), shape=(3, 2, 4))\n",
        "print(\"\\n t shape: \", t.shape)"
      ],
      "execution_count": null,
      "outputs": []
    },
    {
      "cell_type": "code",
      "metadata": {
        "scrolled": false,
        "id": "RrN4aMQWKUT2"
      },
      "source": [
        "# Expanding the rank of Tensors\n",
        "\n"
      ],
      "execution_count": null,
      "outputs": []
    },
    {
      "cell_type": "code",
      "metadata": {
        "scrolled": false,
        "id": "kB-r55xiKUT5"
      },
      "source": [
        "# Display the shapes after tf.expand_dims\n",
        "\n",
        "print(\"\\n After expanding dims:\\n t1 shape: \", t1.shape, \"\\n t2 shape: \", t2.shape, \"\\n t3 shape: \", t3.shape)"
      ],
      "execution_count": null,
      "outputs": []
    },
    {
      "cell_type": "code",
      "metadata": {
        "scrolled": false,
        "id": "q1zKORaAKUT9"
      },
      "source": [
        "# Squeezing redundant dimensions\n",
        "\n"
      ],
      "execution_count": null,
      "outputs": []
    },
    {
      "cell_type": "code",
      "metadata": {
        "scrolled": false,
        "id": "94Uy3Y5GKUUB"
      },
      "source": [
        "# Display the shapes after tf.squeeze\n",
        "\n",
        "print(\"\\n After squeezing:\\n t1 shape: \", t1.shape, \"\\n t2 shape: \", t2.shape, \"\\n t3 shape: \", t3.shape)"
      ],
      "execution_count": null,
      "outputs": []
    },
    {
      "cell_type": "code",
      "metadata": {
        "scrolled": false,
        "id": "bSnXwk3YKUUE"
      },
      "source": [
        "# Slicing a Tensor\n",
        "\n"
      ],
      "execution_count": null,
      "outputs": []
    },
    {
      "cell_type": "markdown",
      "metadata": {
        "id": "lLnXno5vKUUH"
      },
      "source": [
        "#### Doing maths with Tensors"
      ]
    },
    {
      "cell_type": "code",
      "metadata": {
        "id": "8cvyLI90KUUH"
      },
      "source": [
        "# Create two constant Tensors\n",
        "\n",
        "c = tf.constant([[1.0, 2.0], [3.0, 4.0]])\n",
        "d = tf.constant([[1.0, 1.0], [0.0, 1.0]])"
      ],
      "execution_count": null,
      "outputs": []
    },
    {
      "cell_type": "code",
      "metadata": {
        "scrolled": false,
        "id": "zOr2CRcYKUUM"
      },
      "source": [
        "# Matrix multiplication\n",
        "\n"
      ],
      "execution_count": null,
      "outputs": []
    },
    {
      "cell_type": "code",
      "metadata": {
        "id": "MlBvG6UxKUUP"
      },
      "source": [
        "# Display the result\n",
        "\n",
        "print(\"\\n tf.matmul(c,d):\\n\", matmul_cd)"
      ],
      "execution_count": null,
      "outputs": []
    },
    {
      "cell_type": "code",
      "metadata": {
        "scrolled": false,
        "id": "lMJMXHoMKUUR"
      },
      "source": [
        "# Elementwise operations\n",
        "\n"
      ],
      "execution_count": null,
      "outputs": []
    },
    {
      "cell_type": "code",
      "metadata": {
        "id": "_eoHiulOKUUT"
      },
      "source": [
        "# Display the results\n",
        "\n",
        "print(\"\\n c*d:\\n\", c_times_d)\n",
        "print(\"\\n c+d:\\n\", c_plus_d)\n",
        "print(\"\\n c-d:\\n\", c_minus_d)\n",
        "print(\"\\n c/c:\\n\", c_div_c)"
      ],
      "execution_count": null,
      "outputs": []
    },
    {
      "cell_type": "code",
      "metadata": {
        "scrolled": false,
        "id": "UTjk8RmQKUUV"
      },
      "source": [
        "# Create Tensors\n",
        "\n",
        "a = tf.constant([[2, 3], [3, 3]])\n",
        "b = tf.constant([[8, 7], [2, 3]])\n",
        "x = tf.constant([[-6.89 + 1.78j], [-2.54 + 2.15j]])"
      ],
      "execution_count": null,
      "outputs": []
    },
    {
      "cell_type": "code",
      "metadata": {
        "id": "5fKpXUAWKUUY"
      },
      "source": [
        "# Absolute value of a Tensor\n",
        "\n"
      ],
      "execution_count": null,
      "outputs": []
    },
    {
      "cell_type": "code",
      "metadata": {
        "id": "8_slSXaBKUUa"
      },
      "source": [
        "# Power of a Tensor\n",
        "\n"
      ],
      "execution_count": null,
      "outputs": []
    },
    {
      "cell_type": "code",
      "metadata": {
        "scrolled": false,
        "id": "-XlewNGEKUUc"
      },
      "source": [
        "# Display the results\n",
        "\n",
        "print(\"\\n \", absx)\n",
        "print(\"\\n \", powab)"
      ],
      "execution_count": null,
      "outputs": []
    },
    {
      "cell_type": "markdown",
      "metadata": {
        "id": "hT_nP5czKUUe"
      },
      "source": [
        "#### Randomly sampled constant tensors"
      ]
    },
    {
      "cell_type": "code",
      "metadata": {
        "scrolled": false,
        "id": "BCYaFEZpKUUe"
      },
      "source": [
        "# Create a Tensor with samples from a Normal distribution\n",
        "\n"
      ],
      "execution_count": null,
      "outputs": []
    },
    {
      "cell_type": "code",
      "metadata": {
        "scrolled": false,
        "id": "TQuZhEUjKUUi"
      },
      "source": [
        "# Create a Tensor with samples from a Uniform distribution\n",
        "\n"
      ],
      "execution_count": null,
      "outputs": []
    },
    {
      "cell_type": "code",
      "metadata": {
        "scrolled": false,
        "id": "XJfvSj97KUUo"
      },
      "source": [
        "# Create a Tensor with samples from a Poisson distribution\n",
        "\n"
      ],
      "execution_count": null,
      "outputs": []
    },
    {
      "cell_type": "code",
      "metadata": {
        "scrolled": false,
        "id": "CdHl0f_AKUUq"
      },
      "source": [
        "# More maths operations\n",
        "\n",
        "d = tf.square(tn)\n",
        "e = tf.exp(d)\n",
        "f = tf.cos(c)"
      ],
      "execution_count": null,
      "outputs": []
    },
    {
      "cell_type": "markdown",
      "metadata": {
        "id": "P_y5iM-XKUUs"
      },
      "source": [
        "***\n",
        "<a id=\"coding_tutorial_3\"></a>\n",
        "## Accessing model layers"
      ]
    },
    {
      "cell_type": "code",
      "metadata": {
        "scrolled": false,
        "id": "x-XwASmfKUUt"
      },
      "source": [
        "import numpy as np\n",
        "import matplotlib.pyplot as plt\n",
        "%matplotlib inline"
      ],
      "execution_count": null,
      "outputs": []
    },
    {
      "cell_type": "markdown",
      "metadata": {
        "id": "gZ615uKaKUUv"
      },
      "source": [
        "#### Load the pre-trained model"
      ]
    },
    {
      "cell_type": "markdown",
      "metadata": {
        "id": "ZEnVLPANKUUv"
      },
      "source": [
        "In this section, we aim to demonstrate accessing layer attributes within a model.\n",
        "\n",
        "Let's get started by loading the `VGG19` pre-trained model from the `keras.applications` library, which is a very deep network trained on more than a million images from the ImageNet database. The network is trained to classify images into 1000 object categories."
      ]
    },
    {
      "cell_type": "code",
      "metadata": {
        "scrolled": false,
        "id": "_4qCBLtSKUUw"
      },
      "source": [
        "# Load the VGG19 model\n",
        "\n"
      ],
      "execution_count": null,
      "outputs": []
    },
    {
      "cell_type": "code",
      "metadata": {
        "id": "zFI6-6oJKUUy"
      },
      "source": [
        "# Get the inputs, layers and display the summary\n",
        "\n",
        "vgg_input = vgg_model.input\n",
        "vgg_layers = vgg_model.layers\n",
        "vgg_model.summary()"
      ],
      "execution_count": null,
      "outputs": []
    },
    {
      "cell_type": "markdown",
      "metadata": {
        "id": "yclV6KiFKUU3"
      },
      "source": [
        "#### Build a model to access the layer outputs"
      ]
    },
    {
      "cell_type": "code",
      "metadata": {
        "id": "Cov4lXwdKUU4"
      },
      "source": [
        "from tensorflow.keras.models import Model"
      ],
      "execution_count": null,
      "outputs": []
    },
    {
      "cell_type": "code",
      "metadata": {
        "scrolled": false,
        "id": "aQsJZr1YKUU6"
      },
      "source": [
        "# Build a model that returns the layer outputs\n",
        "\n"
      ],
      "execution_count": null,
      "outputs": []
    },
    {
      "cell_type": "code",
      "metadata": {
        "scrolled": true,
        "id": "78R_lcAwKUU7"
      },
      "source": [
        "# Plot the model\n",
        "\n"
      ],
      "execution_count": null,
      "outputs": []
    },
    {
      "cell_type": "code",
      "metadata": {
        "scrolled": false,
        "id": "j35hgDZZKUU9"
      },
      "source": [
        "# Test the model on a random input\n",
        "\n"
      ],
      "execution_count": null,
      "outputs": []
    },
    {
      "cell_type": "markdown",
      "metadata": {
        "id": "Ogh9UxE8KUU_"
      },
      "source": [
        "#### Load the 'cool cat' picture"
      ]
    },
    {
      "cell_type": "markdown",
      "metadata": {
        "id": "BUxx2lk0KUU_"
      },
      "source": [
        "In Zambia’s South Luangwa National Park, a photographer had been watching a pride of lions while they slept off a feast from a buffalo kill. When this female walked away, he anticipated that she might be going for a drink and so he positioned his vehicle on the opposite side of the waterhole. The `cool cat` picture is one of the highly commended 2018 Image from Wildlife Photographer of the Year."
      ]
    },
    {
      "cell_type": "markdown",
      "metadata": {
        "id": "rWLD97iOK5ut"
      },
      "source": [
        "#### Import the picture\n",
        "\n",
        "The dataset required for this tutorial can be downloaded from the following link:\n",
        "\n",
        "https://drive.google.com/open?id=1myXpP8QFvhATqg0bPYhCpVS48_OgAC0L\n",
        "\n",
        "You should store this file in Drive for use in this Colab notebook."
      ]
    },
    {
      "cell_type": "code",
      "metadata": {
        "scrolled": false,
        "id": "ylT-Kt65KUVA"
      },
      "source": [
        "# Display the original image\n",
        "\n",
        "import IPython.display as display\n",
        "from PIL import Image\n",
        "\n",
        "display.display(Image.open('path/to/cool_cat.jpg'))"
      ],
      "execution_count": null,
      "outputs": []
    },
    {
      "cell_type": "markdown",
      "metadata": {
        "id": "cMYjnJDIKUVC"
      },
      "source": [
        "#### Visualise network features from the input image"
      ]
    },
    {
      "cell_type": "code",
      "metadata": {
        "scrolled": false,
        "id": "96Z1V9XsKUVD"
      },
      "source": [
        "# Preprocess the image\n",
        "\n",
        "from tensorflow.keras.applications.vgg19 import preprocess_input\n",
        "from tensorflow.keras.preprocessing import image\n",
        "\n",
        "img_path = 'path/to/cool_cat.jpg'\n",
        "img = image.load_img(img_path, target_size=(224, 224))\n",
        "x = image.img_to_array(img)\n",
        "x = np.expand_dims(x, axis=0)\n",
        "x = preprocess_input(x)"
      ],
      "execution_count": null,
      "outputs": []
    },
    {
      "cell_type": "code",
      "metadata": {
        "scrolled": false,
        "id": "Bg74WXDCKUVF"
      },
      "source": [
        "# Extract the features\n",
        "\n"
      ],
      "execution_count": null,
      "outputs": []
    },
    {
      "cell_type": "code",
      "metadata": {
        "scrolled": false,
        "id": "eR_e_HmmKUVH"
      },
      "source": [
        "# Visualise the input channels\n",
        "\n"
      ],
      "execution_count": null,
      "outputs": []
    },
    {
      "cell_type": "code",
      "metadata": {
        "scrolled": false,
        "id": "Ke-6Vpj3KUVI"
      },
      "source": [
        "# Visualise some features in the first hidden layer\n",
        "\n"
      ],
      "execution_count": null,
      "outputs": []
    },
    {
      "cell_type": "code",
      "metadata": {
        "scrolled": false,
        "id": "eTV70KvoKUVK"
      },
      "source": [
        "# Build a model to extract features by layer name\n",
        "\n"
      ],
      "execution_count": null,
      "outputs": []
    },
    {
      "cell_type": "code",
      "metadata": {
        "scrolled": false,
        "id": "WQvb0OuUKUVM"
      },
      "source": [
        "# Visualise some features from the extracted layer output\n",
        "\n"
      ],
      "execution_count": null,
      "outputs": []
    },
    {
      "cell_type": "code",
      "metadata": {
        "scrolled": false,
        "id": "We6poZ7dKUVP"
      },
      "source": [
        "# Extract features from a layer deeper in the network\n",
        "\n"
      ],
      "execution_count": null,
      "outputs": []
    },
    {
      "cell_type": "code",
      "metadata": {
        "scrolled": false,
        "id": "8hOJSdVQKUVR"
      },
      "source": [
        "# Visualise some features from the extracted layer output\n",
        "\n"
      ],
      "execution_count": null,
      "outputs": []
    },
    {
      "cell_type": "markdown",
      "metadata": {
        "id": "0FV766ybKUVS"
      },
      "source": [
        "***\n",
        "<a id=\"coding_tutorial_4\"></a>\n",
        "## Freezing layers"
      ]
    },
    {
      "cell_type": "code",
      "metadata": {
        "scrolled": false,
        "id": "qvMmt0s5KUVS"
      },
      "source": [
        "import numpy as np\n",
        "import matplotlib.pyplot as plt\n",
        "%matplotlib inline"
      ],
      "execution_count": null,
      "outputs": []
    },
    {
      "cell_type": "markdown",
      "metadata": {
        "id": "muJ3y73wKUVU"
      },
      "source": [
        "#### Build the model"
      ]
    },
    {
      "cell_type": "code",
      "metadata": {
        "scrolled": false,
        "id": "a7XUKYHpKUVU"
      },
      "source": [
        "# Build a small Sequential model\n",
        "\n",
        "from tensorflow.keras.models import Sequential\n",
        "from tensorflow.keras import layers\n",
        "\n",
        "model = Sequential([\n",
        "    layers.Dense(4, input_shape=(4,), activation='relu', kernel_initializer='random_uniform',\n",
        "                 bias_initializer='ones'),\n",
        "    layers.Dense(2, activation='relu', kernel_initializer='lecun_normal', bias_initializer='ones'),\n",
        "    layers.Dense(4, activation='softmax'),\n",
        "])"
      ],
      "execution_count": null,
      "outputs": []
    },
    {
      "cell_type": "code",
      "metadata": {
        "scrolled": false,
        "id": "cl9gvwc_KUVV"
      },
      "source": [
        "# Display the model summary\n",
        "\n",
        "model.summary()"
      ],
      "execution_count": null,
      "outputs": []
    },
    {
      "cell_type": "markdown",
      "metadata": {
        "id": "oLZVUklBKUVX"
      },
      "source": [
        "#### Examine the weight matrix variation over training"
      ]
    },
    {
      "cell_type": "code",
      "metadata": {
        "scrolled": false,
        "id": "kLSwnr6IKUVX"
      },
      "source": [
        "# Retrieve the weights and biases\n",
        "\n"
      ],
      "execution_count": null,
      "outputs": []
    },
    {
      "cell_type": "code",
      "metadata": {
        "scrolled": false,
        "id": "vpxvNkMnKUVa"
      },
      "source": [
        "# Construct a synthetic dataset\n",
        "\n",
        "x_train = np.random.random((100, 4))\n",
        "y_train = x_train\n",
        "\n",
        "x_test = np.random.random((20, 4))\n",
        "y_test = x_test"
      ],
      "execution_count": null,
      "outputs": []
    },
    {
      "cell_type": "code",
      "metadata": {
        "scrolled": false,
        "id": "ZTNGzE9-KUVc"
      },
      "source": [
        "# Compile and fit the model\n",
        "\n",
        "model.compile(optimizer='adam',\n",
        "              loss='mse',\n",
        "              metrics=['acc'])\n",
        "\n",
        "model.fit(x_train, y_train, epochs=50, verbose=False);"
      ],
      "execution_count": null,
      "outputs": []
    },
    {
      "cell_type": "code",
      "metadata": {
        "scrolled": false,
        "id": "jjY6rOOkKUVd"
      },
      "source": [
        "# Retrieve weights and biases\n",
        "\n"
      ],
      "execution_count": null,
      "outputs": []
    },
    {
      "cell_type": "code",
      "metadata": {
        "scrolled": false,
        "id": "1ZDHstynKUVe"
      },
      "source": [
        "# Plot the variation\n",
        "\n",
        "plt.figure(figsize=(8,8))\n",
        "for n in range(3):\n",
        "    delta_l = W1_layers[n] - W0_layers[n]\n",
        "    print('Layer '+str(n)+': bias variation: ', np.linalg.norm(b1_layers[n] - b0_layers[n]))\n",
        "    ax = plt.subplot(1,3,n+1)\n",
        "    plt.imshow(delta_l)\n",
        "    plt.title('Layer '+str(n))\n",
        "    plt.axis('off')\n",
        "plt.colorbar()\n",
        "plt.suptitle('Weight matrices variation');"
      ],
      "execution_count": null,
      "outputs": []
    },
    {
      "cell_type": "markdown",
      "metadata": {
        "id": "hrhsfqdwKUVg"
      },
      "source": [
        "#### Freeze layers at build time"
      ]
    },
    {
      "cell_type": "code",
      "metadata": {
        "scrolled": false,
        "id": "xlxrMUF5KUVg"
      },
      "source": [
        "# Count the trainable and non trainable variables before the freezing\n",
        "\n"
      ],
      "execution_count": null,
      "outputs": []
    },
    {
      "cell_type": "code",
      "metadata": {
        "id": "dNpfvfSXKUVi"
      },
      "source": [
        "# Display the number of trainable and non trainable variables before the freezing\n",
        "\n",
        "print(\"\\n Before freezing:\\n\\t Number of trainable variables: \", n_trainable_variables,\n",
        "                         \"\\n\\t Number of non trainable variables: \", n_non_trainable_variables)"
      ],
      "execution_count": null,
      "outputs": []
    },
    {
      "cell_type": "code",
      "metadata": {
        "scrolled": false,
        "id": "AGpSC4ZAKUVn"
      },
      "source": [
        "# Build the model\n",
        "\n"
      ],
      "execution_count": null,
      "outputs": []
    },
    {
      "cell_type": "code",
      "metadata": {
        "scrolled": false,
        "id": "lWmPkL-pKUVo"
      },
      "source": [
        "# Count the trainable and non trainable variables after the freezing\n",
        "\n"
      ],
      "execution_count": null,
      "outputs": []
    },
    {
      "cell_type": "code",
      "metadata": {
        "id": "_Bzhnsr7KUVp"
      },
      "source": [
        "# Display the number of trainable and non trainable variables after the freezing\n",
        "\n",
        "print(\"\\n After freezing:\\n\\t Number of trainable variables: \", n_trainable_variables,\n",
        "                         \"\\n\\t Number of non trainable variables: \", n_non_trainable_variables)"
      ],
      "execution_count": null,
      "outputs": []
    },
    {
      "cell_type": "code",
      "metadata": {
        "scrolled": false,
        "id": "Kl6-nIeYKUVr"
      },
      "source": [
        "# Retrieve weights and biases\n",
        "\n"
      ],
      "execution_count": null,
      "outputs": []
    },
    {
      "cell_type": "code",
      "metadata": {
        "scrolled": false,
        "id": "aoOhSvdCKUVs"
      },
      "source": [
        "# Compile and fit the model\n",
        "\n",
        "model.compile(optimizer='adam',\n",
        "              loss='mse',\n",
        "              metrics=['acc'])\n",
        "\n",
        "model.fit(x_train, y_train, epochs=50, verbose=False);"
      ],
      "execution_count": null,
      "outputs": []
    },
    {
      "cell_type": "code",
      "metadata": {
        "scrolled": false,
        "id": "VW2Ij7rGKUVt"
      },
      "source": [
        "# Retrieve weights and biases\n",
        "\n"
      ],
      "execution_count": null,
      "outputs": []
    },
    {
      "cell_type": "code",
      "metadata": {
        "scrolled": false,
        "id": "SJv_yc34KUVv"
      },
      "source": [
        "# Plot the variation\n",
        "\n"
      ],
      "execution_count": null,
      "outputs": []
    },
    {
      "cell_type": "markdown",
      "metadata": {
        "id": "FkbrhuxUKUVw"
      },
      "source": [
        "#### Freeze layers of a pre-built model"
      ]
    },
    {
      "cell_type": "code",
      "metadata": {
        "scrolled": false,
        "id": "1EuSNnI1KUVx"
      },
      "source": [
        "# Count the trainable and non trainable variables before the freezing\n",
        "\n",
        "print(\"\\n Before freezing:\\n\\t Number of trainable variables: \", len(model.trainable_variables),\n",
        "                         \"\\n\\t Number of non trainable variables: \", len(model.non_trainable_variables))"
      ],
      "execution_count": null,
      "outputs": []
    },
    {
      "cell_type": "code",
      "metadata": {
        "scrolled": false,
        "id": "xKISfPTaKUVz"
      },
      "source": [
        "# Freeze the second layer\n",
        "\n"
      ],
      "execution_count": null,
      "outputs": []
    },
    {
      "cell_type": "code",
      "metadata": {
        "scrolled": false,
        "id": "lS1xI65tKUV0"
      },
      "source": [
        "# Count the trainable and non trainable variables after the freezing\n",
        "\n",
        "print(\"\\n After freezing:\\n\\t Number of trainable variables: \", len(model.trainable_variables),\n",
        "                        \"\\n\\t Number of non trainable variables: \", len(model.non_trainable_variables))"
      ],
      "execution_count": null,
      "outputs": []
    },
    {
      "cell_type": "code",
      "metadata": {
        "scrolled": false,
        "id": "e0yk7ZZoKUV3"
      },
      "source": [
        "# Compile and fit the model\n",
        "\n",
        "model.compile(optimizer='adam',\n",
        "              loss='mse',\n",
        "              metrics=['acc'])\n",
        "\n",
        "model.fit(x_train, y_train, epochs=50, verbose=False);"
      ],
      "execution_count": null,
      "outputs": []
    },
    {
      "cell_type": "code",
      "metadata": {
        "scrolled": false,
        "id": "2nlvj0k-KUV4"
      },
      "source": [
        "# Retrieve weights and biases\n",
        "\n"
      ],
      "execution_count": null,
      "outputs": []
    },
    {
      "cell_type": "code",
      "metadata": {
        "scrolled": false,
        "id": "O7LO4ZWvKUV5"
      },
      "source": [
        "# Plot the variation\n",
        "\n"
      ],
      "execution_count": null,
      "outputs": []
    }
  ]
}